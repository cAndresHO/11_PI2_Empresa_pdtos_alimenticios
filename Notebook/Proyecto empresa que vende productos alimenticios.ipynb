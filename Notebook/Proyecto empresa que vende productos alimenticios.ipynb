{
 "cells": [
  {
   "cell_type": "markdown",
   "metadata": {
    "toc": true
   },
   "source": [
    "<h1>Table of Contents<span class=\"tocSkip\"></span></h1>\n",
    "<div class=\"toc\"><ul class=\"toc-item\"><li><span><a href=\"#Librerías\" data-toc-modified-id=\"Librerías-0\">Librerías</a></span></li><li><span><a href=\"#Paso-1.-Abrir-el-archivo-de-datos-y-leer-la-información-general\" data-toc-modified-id=\"Paso-1.-Abrir-el-archivo-de-datos-y-leer-la-información-general-1\">Paso 1. Abrir el archivo de datos y leer la información general</a></span></li><li><span><a href=\"#Paso-2.-Preparar-los-datos-para-el-análisis\" data-toc-modified-id=\"Paso-2.-Preparar-los-datos-para-el-análisis-2\">Paso 2. Preparar los datos para el análisis</a></span><ul class=\"toc-item\"><li><ul class=\"toc-item\"><li><span><a href=\"#--Cambia-el-nombre-de-las-columnas-de-manera-que-sea-conveniente-para-ti\" data-toc-modified-id=\"--Cambia-el-nombre-de-las-columnas-de-manera-que-sea-conveniente-para-ti-2.0.1\">- Cambia el nombre de las columnas de manera que sea conveniente para ti</a></span></li><li><span><a href=\"#--Comprueba-si-hay-tipos-de-datos-y-valores-ausentes.-Corrige-los-datos-si-es-necesario\" data-toc-modified-id=\"--Comprueba-si-hay-tipos-de-datos-y-valores-ausentes.-Corrige-los-datos-si-es-necesario-2.0.2\">- Comprueba si hay tipos de datos y valores ausentes. Corrige los datos si es necesario</a></span></li><li><span><a href=\"#-Agrega-una-columna-de-fecha-y-hora-y-una-columna-separada-para-las-fechas\" data-toc-modified-id=\"-Agrega-una-columna-de-fecha-y-hora-y-una-columna-separada-para-las-fechas-2.0.3\">-Agrega una columna de fecha y hora y una columna separada para las fechas</a></span></li></ul></li><li><span><a href=\"#Conclusiones-del-Paso-2-(procesamiento-del-DF-data):\" data-toc-modified-id=\"Conclusiones-del-Paso-2-(procesamiento-del-DF-data):-2.1\">Conclusiones del Paso 2 (procesamiento del DF data):</a></span></li></ul></li><li><span><a href=\"#Paso-3.-Estudiar-y-comprobar-los-datos\" data-toc-modified-id=\"Paso-3.-Estudiar-y-comprobar-los-datos-3\">Paso 3. Estudiar y comprobar los datos</a></span><ul class=\"toc-item\"><li><ul class=\"toc-item\"><li><span><a href=\"#--¿Cuántos-eventos-hay-en-los-registros?\" data-toc-modified-id=\"--¿Cuántos-eventos-hay-en-los-registros?-3.0.1\">- ¿Cuántos eventos hay en los registros?</a></span></li><li><span><a href=\"#--¿Cuántos-usuarios-y-usuarias-hay-en-los-registros?\" data-toc-modified-id=\"--¿Cuántos-usuarios-y-usuarias-hay-en-los-registros?-3.0.2\">- ¿Cuántos usuarios y usuarias hay en los registros?</a></span></li><li><span><a href=\"#--¿Cuál-es-el-promedio-de-eventos-por-usuario?\" data-toc-modified-id=\"--¿Cuál-es-el-promedio-de-eventos-por-usuario?-3.0.3\">- ¿Cuál es el promedio de eventos por usuario?</a></span><ul class=\"toc-item\"><li><span><a href=\"#Gráfico-1.\" data-toc-modified-id=\"Gráfico-1.-3.0.3.1\"><strong>Gráfico 1.</strong></a></span></li></ul></li><li><span><a href=\"#--¿Qué-periodo-de-tiempo-cubren-los-datos?-Encuentra-la-fecha-máxima-y-mínima.-Traza-un-histograma-por-fecha-y-hora.-¿Puedes-tener-seguridad-de-que-tienes-datos-igualmente-completos-para-todo-el-periodo?-Los-eventos-más-antiguos-podrían-terminar-en-los-registros-de-algunos-usuarios-o-usuarias-por-razones-técnicas-y-esto-podría-sesgar-el-panorama-general.-Encuentra-el-momento-en-el-que-los-datos-comienzan-a-estar-completos-e-ignora-la-sección-anterior.-¿Qué-periodo-representan-realmente-los-datos?\" data-toc-modified-id=\"--¿Qué-periodo-de-tiempo-cubren-los-datos?-Encuentra-la-fecha-máxima-y-mínima.-Traza-un-histograma-por-fecha-y-hora.-¿Puedes-tener-seguridad-de-que-tienes-datos-igualmente-completos-para-todo-el-periodo?-Los-eventos-más-antiguos-podrían-terminar-en-los-registros-de-algunos-usuarios-o-usuarias-por-razones-técnicas-y-esto-podría-sesgar-el-panorama-general.-Encuentra-el-momento-en-el-que-los-datos-comienzan-a-estar-completos-e-ignora-la-sección-anterior.-¿Qué-periodo-representan-realmente-los-datos?-3.0.4\">- ¿Qué periodo de tiempo cubren los datos? Encuentra la fecha máxima y mínima. Traza un histograma por fecha y hora. ¿Puedes tener seguridad de que tienes datos igualmente completos para todo el periodo? Los eventos más antiguos podrían terminar en los registros de algunos usuarios o usuarias por razones técnicas y esto podría sesgar el panorama general. Encuentra el momento en el que los datos comienzan a estar completos e ignora la sección anterior. ¿Qué periodo representan realmente los datos?</a></span><ul class=\"toc-item\"><li><span><a href=\"#Periodo-de-tiempo:\" data-toc-modified-id=\"Periodo-de-tiempo:-3.0.4.1\">Periodo de tiempo:</a></span></li><li><span><a href=\"#Traza-un-histograma-por-fecha-y-hora:\" data-toc-modified-id=\"Traza-un-histograma-por-fecha-y-hora:-3.0.4.2\">Traza un histograma por fecha y hora:</a></span></li><li><span><a href=\"#Gráfico-2.\" data-toc-modified-id=\"Gráfico-2.-3.0.4.3\"><strong>Gráfico 2.</strong></a></span></li><li><span><a href=\"#¿Puedes-tener-seguridad-de-que-tienes-datos-igualmente-completos-para-todo-el-periodo?\" data-toc-modified-id=\"¿Puedes-tener-seguridad-de-que-tienes-datos-igualmente-completos-para-todo-el-periodo?-3.0.4.4\">¿Puedes tener seguridad de que tienes datos igualmente completos para todo el periodo?</a></span></li><li><span><a href=\"#Los-eventos-más-antiguos-podrían-terminar-en-los-registros-de-algunos-usuarios-o-usuarias-por-razones-técnicas-y-esto-podría-sesgar-el-panorama-general.-Encuentra-el-momento-en-el-que-los-datos-comienzan-a-estar-completos-e-ignora-la-sección-anterior.-¿Qué-periodo-representan-realmente-los-datos?\" data-toc-modified-id=\"Los-eventos-más-antiguos-podrían-terminar-en-los-registros-de-algunos-usuarios-o-usuarias-por-razones-técnicas-y-esto-podría-sesgar-el-panorama-general.-Encuentra-el-momento-en-el-que-los-datos-comienzan-a-estar-completos-e-ignora-la-sección-anterior.-¿Qué-periodo-representan-realmente-los-datos?-3.0.4.5\">Los eventos más antiguos podrían terminar en los registros de algunos usuarios o usuarias por razones técnicas y esto podría sesgar el panorama general. Encuentra el momento en el que los datos comienzan a estar completos e ignora la sección anterior. ¿Qué periodo representan realmente los datos?</a></span></li><li><span><a href=\"#¿Qué-periodo-representan-realmente-los-datos?\" data-toc-modified-id=\"¿Qué-periodo-representan-realmente-los-datos?-3.0.4.6\">¿Qué periodo representan realmente los datos?</a></span></li></ul></li><li><span><a href=\"#--¿Perdiste-muchos-eventos-y-usuarios-al-excluir-los-datos-más-antiguos?\" data-toc-modified-id=\"--¿Perdiste-muchos-eventos-y-usuarios-al-excluir-los-datos-más-antiguos?-3.0.5\">- ¿Perdiste muchos eventos y usuarios al excluir los datos más antiguos?</a></span></li><li><span><a href=\"#--Asegúrate-de-tener-usuarios-y-usuarias-de-los-tres-grupos-experimentales.\" data-toc-modified-id=\"--Asegúrate-de-tener-usuarios-y-usuarias-de-los-tres-grupos-experimentales.-3.0.6\">- Asegúrate de tener usuarios y usuarias de los tres grupos experimentales.</a></span></li></ul></li></ul></li><li><span><a href=\"#Paso-4.-Estudiar-el-embudo-de-eventos\" data-toc-modified-id=\"Paso-4.-Estudiar-el-embudo-de-eventos-4\">Paso 4. Estudiar el embudo de eventos</a></span><ul class=\"toc-item\"><li><ul class=\"toc-item\"><li><span><a href=\"#--Observa-qué-eventos-hay-en-los-registros-y-su-frecuencia-de-suceso.-Ordénalos-por-frecuencia.\" data-toc-modified-id=\"--Observa-qué-eventos-hay-en-los-registros-y-su-frecuencia-de-suceso.-Ordénalos-por-frecuencia.-4.0.1\">- Observa qué eventos hay en los registros y su frecuencia de suceso. Ordénalos por frecuencia.</a></span><ul class=\"toc-item\"><li><span><a href=\"#Gráfico-3.\" data-toc-modified-id=\"Gráfico-3.-4.0.1.1\"><strong>Gráfico 3.</strong></a></span></li></ul></li><li><span><a href=\"#--Encuentra-la-cantidad-de-usuarios-y-usuarias-que-realizaron-cada-una-de-estas-acciones.-Ordena-los-eventos-por-el-número-de-usuarios-y-usuarias.-Calcula-la-proporción-de-usuarios-y-usuarias-que-realizaron-la-acción-al-menos-una-vez.\" data-toc-modified-id=\"--Encuentra-la-cantidad-de-usuarios-y-usuarias-que-realizaron-cada-una-de-estas-acciones.-Ordena-los-eventos-por-el-número-de-usuarios-y-usuarias.-Calcula-la-proporción-de-usuarios-y-usuarias-que-realizaron-la-acción-al-menos-una-vez.-4.0.2\">- Encuentra la cantidad de usuarios y usuarias que realizaron cada una de estas acciones. Ordena los eventos por el número de usuarios y usuarias. Calcula la proporción de usuarios y usuarias que realizaron la acción al menos una vez.</a></span></li><li><span><a href=\"#--¿En-qué-orden-crees-que-ocurrieron-las-acciones?-¿Todas-son-parte-de-una-sola-secuencia?-No-es-necesario-tenerlas-en-cuenta-al-calcular-el-embudo.\" data-toc-modified-id=\"--¿En-qué-orden-crees-que-ocurrieron-las-acciones?-¿Todas-son-parte-de-una-sola-secuencia?-No-es-necesario-tenerlas-en-cuenta-al-calcular-el-embudo.-4.0.3\">- ¿En qué orden crees que ocurrieron las acciones? ¿Todas son parte de una sola secuencia? No es necesario tenerlas en cuenta al calcular el embudo.</a></span></li><li><span><a href=\"#--Utiliza-el-embudo-de-eventos-para-encontrar-la-proporción-de-usuarios-y-usuarias-que-pasan-de-una-etapa-a-la-siguiente.-(Por-ejemplo,-para-la-secuencia-de-eventos-A-→-B-→-C,-calcula-la-proporción-de-usuarios-en-la-etapa-B-a-la-cantidad-de-usuarios-en-la-etapa-A-y-la-proporción-de-usuarios-en-la-etapa-C-a-la-cantidad-en-la-etapa-B).\" data-toc-modified-id=\"--Utiliza-el-embudo-de-eventos-para-encontrar-la-proporción-de-usuarios-y-usuarias-que-pasan-de-una-etapa-a-la-siguiente.-(Por-ejemplo,-para-la-secuencia-de-eventos-A-→-B-→-C,-calcula-la-proporción-de-usuarios-en-la-etapa-B-a-la-cantidad-de-usuarios-en-la-etapa-A-y-la-proporción-de-usuarios-en-la-etapa-C-a-la-cantidad-en-la-etapa-B).-4.0.4\">- Utiliza el embudo de eventos para encontrar la proporción de usuarios y usuarias que pasan de una etapa a la siguiente. (Por ejemplo, para la secuencia de eventos A → B → C, calcula la proporción de usuarios en la etapa B a la cantidad de usuarios en la etapa A y la proporción de usuarios en la etapa C a la cantidad en la etapa B).</a></span><ul class=\"toc-item\"><li><span><a href=\"#Comparando-el-embudo-simple-con-el-embudo-con-secuencia-de-eventos:\" data-toc-modified-id=\"Comparando-el-embudo-simple-con-el-embudo-con-secuencia-de-eventos:-4.0.4.1\"><strong>Comparando el embudo simple con el embudo con secuencia de eventos:</strong></a></span></li><li><span><a href=\"#Gráfico-4.\" data-toc-modified-id=\"Gráfico-4.-4.0.4.2\"><strong>Gráfico 4.</strong></a></span></li></ul></li><li><span><a href=\"#--¿En-qué-etapa-pierdes-más-usuarios-y-usuarias?\" data-toc-modified-id=\"--¿En-qué-etapa-pierdes-más-usuarios-y-usuarias?-4.0.5\">- ¿En qué etapa pierdes más usuarios y usuarias?</a></span></li><li><span><a href=\"#--¿Qué-porcentaje-de-usuarios-y-usuarias-hace-todo-el-viaje-desde-su-primer-evento-hasta-el-pago?\" data-toc-modified-id=\"--¿Qué-porcentaje-de-usuarios-y-usuarias-hace-todo-el-viaje-desde-su-primer-evento-hasta-el-pago?-4.0.6\">- ¿Qué porcentaje de usuarios y usuarias hace todo el viaje desde su primer evento hasta el pago?</a></span></li></ul></li></ul></li><li><span><a href=\"#Paso-5.-Estudiar-los-resultados-del-experimento\" data-toc-modified-id=\"Paso-5.-Estudiar-los-resultados-del-experimento-5\">Paso 5. Estudiar los resultados del experimento</a></span><ul class=\"toc-item\"><li><ul class=\"toc-item\"><li><span><a href=\"#--¿Cuántos-usuarios-y-usuarias-hay-en-cada-grupo?\" data-toc-modified-id=\"--¿Cuántos-usuarios-y-usuarias-hay-en-cada-grupo?-5.0.1\">- ¿Cuántos usuarios y usuarias hay en cada grupo?</a></span></li><li><span><a href=\"#--Tenemos-dos-grupos-de-control-en-el-test-A/A,-donde-comprobamos-nuestros-mecanismos-y-cálculos.-Observa-si-hay-una-diferencia-estadísticamente-significativa-entre-las-muestras-246-y-247.\" data-toc-modified-id=\"--Tenemos-dos-grupos-de-control-en-el-test-A/A,-donde-comprobamos-nuestros-mecanismos-y-cálculos.-Observa-si-hay-una-diferencia-estadísticamente-significativa-entre-las-muestras-246-y-247.-5.0.2\">- Tenemos dos grupos de control en el test A/A, donde comprobamos nuestros mecanismos y cálculos. Observa si hay una diferencia estadísticamente significativa entre las muestras 246 y 247.</a></span></li><li><span><a href=\"#--Selecciona-el-evento-más-popular.-En-cada-uno-de-los-grupos-de-control,-encuentra-la-cantidad-de-usuarios-y-usuarias-que-realizaron-esta-acción.-Encuentra-su-proporción.-Comprueba-si-la-diferencia-entre-los-grupos-es-estadísticamente-significativa.-Repite-el-procedimiento-para-todos-los-demás-eventos-(ahorrarás-tiempo-si-creas-una-función-especial-para-esta-prueba).-¿Puedes-confirmar-que-los-grupos-se-dividieron-correctamente?\" data-toc-modified-id=\"--Selecciona-el-evento-más-popular.-En-cada-uno-de-los-grupos-de-control,-encuentra-la-cantidad-de-usuarios-y-usuarias-que-realizaron-esta-acción.-Encuentra-su-proporción.-Comprueba-si-la-diferencia-entre-los-grupos-es-estadísticamente-significativa.-Repite-el-procedimiento-para-todos-los-demás-eventos-(ahorrarás-tiempo-si-creas-una-función-especial-para-esta-prueba).-¿Puedes-confirmar-que-los-grupos-se-dividieron-correctamente?-5.0.3\">- Selecciona el evento más popular. En cada uno de los grupos de control, encuentra la cantidad de usuarios y usuarias que realizaron esta acción. Encuentra su proporción. Comprueba si la diferencia entre los grupos es estadísticamente significativa. Repite el procedimiento para todos los demás eventos (ahorrarás tiempo si creas una función especial para esta prueba). ¿Puedes confirmar que los grupos se dividieron correctamente?</a></span><ul class=\"toc-item\"><li><span><a href=\"#Prueba-para-los-grupos-246-Y-247\" data-toc-modified-id=\"Prueba-para-los-grupos-246-Y-247-5.0.3.1\"><strong>Prueba para los grupos 246 Y 247</strong></a></span></li></ul></li><li><span><a href=\"#--Haz-lo-mismo-para-el-grupo-con-fuentes-alteradas.-Compara-los-resultados-con-los-de-cada-uno-de-los-grupos-de-control-para-cada-evento-de-forma-aislada.-Compara-los-resultados-con-los-resultados-combinados-de-los-grupos-de-control.-¿Qué-conclusiones-puedes-sacar-del-experimento?\" data-toc-modified-id=\"--Haz-lo-mismo-para-el-grupo-con-fuentes-alteradas.-Compara-los-resultados-con-los-de-cada-uno-de-los-grupos-de-control-para-cada-evento-de-forma-aislada.-Compara-los-resultados-con-los-resultados-combinados-de-los-grupos-de-control.-¿Qué-conclusiones-puedes-sacar-del-experimento?-5.0.4\">- Haz lo mismo para el grupo con fuentes alteradas. Compara los resultados con los de cada uno de los grupos de control para cada evento de forma aislada. Compara los resultados con los resultados combinados de los grupos de control. ¿Qué conclusiones puedes sacar del experimento?</a></span><ul class=\"toc-item\"><li><span><a href=\"#Prueba-para-los-grupos-246-Y-248\" data-toc-modified-id=\"Prueba-para-los-grupos-246-Y-248-5.0.4.1\"><strong>Prueba para los grupos 246 Y 248</strong></a></span></li><li><span><a href=\"#Prueba-para-los-grupos-247-Y-248\" data-toc-modified-id=\"Prueba-para-los-grupos-247-Y-248-5.0.4.2\"><strong>Prueba para los grupos 247 Y 248</strong></a></span></li><li><span><a href=\"#Prueba-para-los-grupos-246-y-247-combinados-y-el-grupo-248\" data-toc-modified-id=\"Prueba-para-los-grupos-246-y-247-combinados-y-el-grupo-248-5.0.4.3\"><strong>Prueba para los grupos 246 y 247 combinados y el grupo 248</strong></a></span></li></ul></li><li><span><a href=\"#Conclusiones\" data-toc-modified-id=\"Conclusiones-5.0.5\"><strong>Conclusiones</strong></a></span></li><li><span><a href=\"#--¿Qué-nivel-de-significación-has-establecido-para-probar-las-hipótesis-estadísticas-mencionadas-anteriormente?-Calcula-cuántas-pruebas-de-hipótesis-estadísticas-has-realizado.-Con-un-nivel-de-significancia-estadística-de-0.1,-uno-de-cada-10-resultados-podría-ser-falso.-¿Cuál-debería-ser-el-nivel-de-significación?-Si-deseas-cambiarlo,-vuelve-a-ejecutar-los-pasos-anteriores-y-comprueba-tus-conclusiones.\" data-toc-modified-id=\"--¿Qué-nivel-de-significación-has-establecido-para-probar-las-hipótesis-estadísticas-mencionadas-anteriormente?-Calcula-cuántas-pruebas-de-hipótesis-estadísticas-has-realizado.-Con-un-nivel-de-significancia-estadística-de-0.1,-uno-de-cada-10-resultados-podría-ser-falso.-¿Cuál-debería-ser-el-nivel-de-significación?-Si-deseas-cambiarlo,-vuelve-a-ejecutar-los-pasos-anteriores-y-comprueba-tus-conclusiones.-5.0.6\">- ¿Qué nivel de significación has establecido para probar las hipótesis estadísticas mencionadas anteriormente? Calcula cuántas pruebas de hipótesis estadísticas has realizado. Con un nivel de significancia estadística de 0.1, uno de cada 10 resultados podría ser falso. ¿Cuál debería ser el nivel de significación? Si deseas cambiarlo, vuelve a ejecutar los pasos anteriores y comprueba tus conclusiones.</a></span><ul class=\"toc-item\"><li><span><a href=\"#Corrección-de-Bonferroni:\" data-toc-modified-id=\"Corrección-de-Bonferroni:-5.0.6.1\">Corrección de Bonferroni:</a></span></li></ul></li></ul></li></ul></li></ul></div>"
   ]
  },
  {
   "cell_type": "markdown",
   "metadata": {},
   "source": [
    "# Librerías"
   ]
  },
  {
   "cell_type": "code",
   "execution_count": 5,
   "metadata": {},
   "outputs": [],
   "source": [
    "#Importanto librerías:\n",
    "import pandas as pd\n",
    "import plotly.express as px\n",
    "import numpy as np\n",
    "import seaborn as sns\n",
    "from matplotlib import pyplot as plt\n",
    "import plotly.graph_objects as go\n",
    "from plotly.subplots import make_subplots\n",
    "import re\n",
    "from scipy import stats as st\n",
    "import math as mth"
   ]
  },
  {
   "cell_type": "code",
   "execution_count": 6,
   "metadata": {},
   "outputs": [],
   "source": [
    "# Para las gráficas de plotly en github\n",
    "import plotly.io as pio\n",
    "pio.renderers.default = \"svg\""
   ]
  },
  {
   "cell_type": "markdown",
   "metadata": {},
   "source": [
    "# Paso 1. Abrir el archivo de datos y leer la información general"
   ]
  },
  {
   "cell_type": "code",
   "execution_count": 7,
   "metadata": {},
   "outputs": [],
   "source": [
    "#Importando archivos\n",
    "path= 'D:\\\\TripleTen\\\\Sprint 11_Proyecto integrado 2\\\\Repositorio\\\\Data\\\\'\n",
    "data = pd.read_csv(path + 'logs_exp_us.csv', sep='\\t')"
   ]
  },
  {
   "cell_type": "code",
   "execution_count": 8,
   "metadata": {},
   "outputs": [
    {
     "data": {
      "text/html": [
       "<div>\n",
       "<style scoped>\n",
       "    .dataframe tbody tr th:only-of-type {\n",
       "        vertical-align: middle;\n",
       "    }\n",
       "\n",
       "    .dataframe tbody tr th {\n",
       "        vertical-align: top;\n",
       "    }\n",
       "\n",
       "    .dataframe thead th {\n",
       "        text-align: right;\n",
       "    }\n",
       "</style>\n",
       "<table border=\"1\" class=\"dataframe\">\n",
       "  <thead>\n",
       "    <tr style=\"text-align: right;\">\n",
       "      <th></th>\n",
       "      <th>EventName</th>\n",
       "      <th>DeviceIDHash</th>\n",
       "      <th>EventTimestamp</th>\n",
       "      <th>ExpId</th>\n",
       "    </tr>\n",
       "  </thead>\n",
       "  <tbody>\n",
       "    <tr>\n",
       "      <th>0</th>\n",
       "      <td>MainScreenAppear</td>\n",
       "      <td>4575588528974610257</td>\n",
       "      <td>1564029816</td>\n",
       "      <td>246</td>\n",
       "    </tr>\n",
       "    <tr>\n",
       "      <th>1</th>\n",
       "      <td>MainScreenAppear</td>\n",
       "      <td>7416695313311560658</td>\n",
       "      <td>1564053102</td>\n",
       "      <td>246</td>\n",
       "    </tr>\n",
       "    <tr>\n",
       "      <th>2</th>\n",
       "      <td>PaymentScreenSuccessful</td>\n",
       "      <td>3518123091307005509</td>\n",
       "      <td>1564054127</td>\n",
       "      <td>248</td>\n",
       "    </tr>\n",
       "    <tr>\n",
       "      <th>3</th>\n",
       "      <td>CartScreenAppear</td>\n",
       "      <td>3518123091307005509</td>\n",
       "      <td>1564054127</td>\n",
       "      <td>248</td>\n",
       "    </tr>\n",
       "    <tr>\n",
       "      <th>4</th>\n",
       "      <td>PaymentScreenSuccessful</td>\n",
       "      <td>6217807653094995999</td>\n",
       "      <td>1564055322</td>\n",
       "      <td>248</td>\n",
       "    </tr>\n",
       "  </tbody>\n",
       "</table>\n",
       "</div>"
      ],
      "text/plain": [
       "                 EventName         DeviceIDHash  EventTimestamp  ExpId\n",
       "0         MainScreenAppear  4575588528974610257      1564029816    246\n",
       "1         MainScreenAppear  7416695313311560658      1564053102    246\n",
       "2  PaymentScreenSuccessful  3518123091307005509      1564054127    248\n",
       "3         CartScreenAppear  3518123091307005509      1564054127    248\n",
       "4  PaymentScreenSuccessful  6217807653094995999      1564055322    248"
      ]
     },
     "execution_count": 8,
     "metadata": {},
     "output_type": "execute_result"
    }
   ],
   "source": [
    "data.head()"
   ]
  },
  {
   "cell_type": "code",
   "execution_count": 9,
   "metadata": {},
   "outputs": [
    {
     "name": "stdout",
     "output_type": "stream",
     "text": [
      "<class 'pandas.core.frame.DataFrame'>\n",
      "RangeIndex: 244126 entries, 0 to 244125\n",
      "Data columns (total 4 columns):\n",
      " #   Column          Non-Null Count   Dtype \n",
      "---  ------          --------------   ----- \n",
      " 0   EventName       244126 non-null  object\n",
      " 1   DeviceIDHash    244126 non-null  int64 \n",
      " 2   EventTimestamp  244126 non-null  int64 \n",
      " 3   ExpId           244126 non-null  int64 \n",
      "dtypes: int64(3), object(1)\n",
      "memory usage: 7.5+ MB\n"
     ]
    }
   ],
   "source": [
    "data.info()"
   ]
  },
  {
   "cell_type": "markdown",
   "metadata": {},
   "source": [
    "# Paso 2. Preparar los datos para el análisis"
   ]
  },
  {
   "cell_type": "markdown",
   "metadata": {},
   "source": [
    "### - Cambiando el nombre de las columnas"
   ]
  },
  {
   "cell_type": "code",
   "execution_count": 10,
   "metadata": {},
   "outputs": [],
   "source": [
    "# Cambiado el nombre de las columnas:\n",
    "new_col_names=[]\n",
    "for old_name in data.columns:\n",
    "    name_lowered= old_name.lower()\n",
    "    new_col_names.append(name_lowered)\n",
    "    \n",
    "data.columns= new_col_names\n",
    "\n",
    "columns_new = {\n",
    "    'eventname': 'event_name',\n",
    "    'deviceidhash': 'device_id_hash',\n",
    "    'eventtimestamp': 'event_time_stamp',\n",
    "    'expid': 'exp_id'\n",
    "}\n",
    "\n",
    "data.rename(columns=columns_new, inplace=True)"
   ]
  },
  {
   "cell_type": "code",
   "execution_count": 11,
   "metadata": {},
   "outputs": [
    {
     "data": {
      "text/html": [
       "<div>\n",
       "<style scoped>\n",
       "    .dataframe tbody tr th:only-of-type {\n",
       "        vertical-align: middle;\n",
       "    }\n",
       "\n",
       "    .dataframe tbody tr th {\n",
       "        vertical-align: top;\n",
       "    }\n",
       "\n",
       "    .dataframe thead th {\n",
       "        text-align: right;\n",
       "    }\n",
       "</style>\n",
       "<table border=\"1\" class=\"dataframe\">\n",
       "  <thead>\n",
       "    <tr style=\"text-align: right;\">\n",
       "      <th></th>\n",
       "      <th>event_name</th>\n",
       "      <th>device_id_hash</th>\n",
       "      <th>event_time_stamp</th>\n",
       "      <th>exp_id</th>\n",
       "    </tr>\n",
       "  </thead>\n",
       "  <tbody>\n",
       "    <tr>\n",
       "      <th>0</th>\n",
       "      <td>MainScreenAppear</td>\n",
       "      <td>4575588528974610257</td>\n",
       "      <td>1564029816</td>\n",
       "      <td>246</td>\n",
       "    </tr>\n",
       "    <tr>\n",
       "      <th>1</th>\n",
       "      <td>MainScreenAppear</td>\n",
       "      <td>7416695313311560658</td>\n",
       "      <td>1564053102</td>\n",
       "      <td>246</td>\n",
       "    </tr>\n",
       "    <tr>\n",
       "      <th>2</th>\n",
       "      <td>PaymentScreenSuccessful</td>\n",
       "      <td>3518123091307005509</td>\n",
       "      <td>1564054127</td>\n",
       "      <td>248</td>\n",
       "    </tr>\n",
       "    <tr>\n",
       "      <th>3</th>\n",
       "      <td>CartScreenAppear</td>\n",
       "      <td>3518123091307005509</td>\n",
       "      <td>1564054127</td>\n",
       "      <td>248</td>\n",
       "    </tr>\n",
       "    <tr>\n",
       "      <th>4</th>\n",
       "      <td>PaymentScreenSuccessful</td>\n",
       "      <td>6217807653094995999</td>\n",
       "      <td>1564055322</td>\n",
       "      <td>248</td>\n",
       "    </tr>\n",
       "  </tbody>\n",
       "</table>\n",
       "</div>"
      ],
      "text/plain": [
       "                event_name       device_id_hash  event_time_stamp  exp_id\n",
       "0         MainScreenAppear  4575588528974610257        1564029816     246\n",
       "1         MainScreenAppear  7416695313311560658        1564053102     246\n",
       "2  PaymentScreenSuccessful  3518123091307005509        1564054127     248\n",
       "3         CartScreenAppear  3518123091307005509        1564054127     248\n",
       "4  PaymentScreenSuccessful  6217807653094995999        1564055322     248"
      ]
     },
     "execution_count": 11,
     "metadata": {},
     "output_type": "execute_result"
    }
   ],
   "source": [
    "data.head()"
   ]
  },
  {
   "cell_type": "markdown",
   "metadata": {},
   "source": [
    "### - Comprueba si hay tipos de datos y valores ausentes. "
   ]
  },
  {
   "cell_type": "code",
   "execution_count": 12,
   "metadata": {},
   "outputs": [
    {
     "data": {
      "text/plain": [
       "event_name          0\n",
       "device_id_hash      0\n",
       "event_time_stamp    0\n",
       "exp_id              0\n",
       "dtype: int64"
      ]
     },
     "execution_count": 12,
     "metadata": {},
     "output_type": "execute_result"
    }
   ],
   "source": [
    "# Verificando valores ausentes:\n",
    "data.isnull().sum()"
   ]
  },
  {
   "cell_type": "markdown",
   "metadata": {},
   "source": [
    "    No existen valores ausentes en el DF"
   ]
  },
  {
   "cell_type": "code",
   "execution_count": 13,
   "metadata": {},
   "outputs": [
    {
     "data": {
      "text/plain": [
       "413"
      ]
     },
     "execution_count": 13,
     "metadata": {},
     "output_type": "execute_result"
    }
   ],
   "source": [
    "# Verificanco duplicados:\n",
    "data.duplicated().sum()"
   ]
  },
  {
   "cell_type": "markdown",
   "metadata": {},
   "source": [
    "    Existen valores duplicados en el DF"
   ]
  },
  {
   "cell_type": "code",
   "execution_count": 14,
   "metadata": {},
   "outputs": [
    {
     "data": {
      "text/html": [
       "<div>\n",
       "<style scoped>\n",
       "    .dataframe tbody tr th:only-of-type {\n",
       "        vertical-align: middle;\n",
       "    }\n",
       "\n",
       "    .dataframe tbody tr th {\n",
       "        vertical-align: top;\n",
       "    }\n",
       "\n",
       "    .dataframe thead th {\n",
       "        text-align: right;\n",
       "    }\n",
       "</style>\n",
       "<table border=\"1\" class=\"dataframe\">\n",
       "  <thead>\n",
       "    <tr style=\"text-align: right;\">\n",
       "      <th></th>\n",
       "      <th>event_name</th>\n",
       "      <th>device_id_hash</th>\n",
       "      <th>event_time_stamp</th>\n",
       "      <th>exp_id</th>\n",
       "    </tr>\n",
       "  </thead>\n",
       "  <tbody>\n",
       "    <tr>\n",
       "      <th>453</th>\n",
       "      <td>MainScreenAppear</td>\n",
       "      <td>5613408041324010552</td>\n",
       "      <td>1564474784</td>\n",
       "      <td>248</td>\n",
       "    </tr>\n",
       "    <tr>\n",
       "      <th>2350</th>\n",
       "      <td>CartScreenAppear</td>\n",
       "      <td>1694940645335807244</td>\n",
       "      <td>1564609899</td>\n",
       "      <td>248</td>\n",
       "    </tr>\n",
       "    <tr>\n",
       "      <th>3573</th>\n",
       "      <td>MainScreenAppear</td>\n",
       "      <td>434103746454591587</td>\n",
       "      <td>1564628377</td>\n",
       "      <td>248</td>\n",
       "    </tr>\n",
       "    <tr>\n",
       "      <th>4076</th>\n",
       "      <td>MainScreenAppear</td>\n",
       "      <td>3761373764179762633</td>\n",
       "      <td>1564631266</td>\n",
       "      <td>247</td>\n",
       "    </tr>\n",
       "    <tr>\n",
       "      <th>4803</th>\n",
       "      <td>MainScreenAppear</td>\n",
       "      <td>2835328739789306622</td>\n",
       "      <td>1564634641</td>\n",
       "      <td>248</td>\n",
       "    </tr>\n",
       "    <tr>\n",
       "      <th>...</th>\n",
       "      <td>...</td>\n",
       "      <td>...</td>\n",
       "      <td>...</td>\n",
       "      <td>...</td>\n",
       "    </tr>\n",
       "    <tr>\n",
       "      <th>242329</th>\n",
       "      <td>MainScreenAppear</td>\n",
       "      <td>8870358373313968633</td>\n",
       "      <td>1565206004</td>\n",
       "      <td>247</td>\n",
       "    </tr>\n",
       "    <tr>\n",
       "      <th>242332</th>\n",
       "      <td>PaymentScreenSuccessful</td>\n",
       "      <td>4718002964983105693</td>\n",
       "      <td>1565206005</td>\n",
       "      <td>247</td>\n",
       "    </tr>\n",
       "    <tr>\n",
       "      <th>242360</th>\n",
       "      <td>PaymentScreenSuccessful</td>\n",
       "      <td>2382591782303281935</td>\n",
       "      <td>1565206049</td>\n",
       "      <td>246</td>\n",
       "    </tr>\n",
       "    <tr>\n",
       "      <th>242362</th>\n",
       "      <td>CartScreenAppear</td>\n",
       "      <td>2382591782303281935</td>\n",
       "      <td>1565206049</td>\n",
       "      <td>246</td>\n",
       "    </tr>\n",
       "    <tr>\n",
       "      <th>242635</th>\n",
       "      <td>MainScreenAppear</td>\n",
       "      <td>4097782667445790512</td>\n",
       "      <td>1565206618</td>\n",
       "      <td>246</td>\n",
       "    </tr>\n",
       "  </tbody>\n",
       "</table>\n",
       "<p>413 rows × 4 columns</p>\n",
       "</div>"
      ],
      "text/plain": [
       "                     event_name       device_id_hash  event_time_stamp  exp_id\n",
       "453            MainScreenAppear  5613408041324010552        1564474784     248\n",
       "2350           CartScreenAppear  1694940645335807244        1564609899     248\n",
       "3573           MainScreenAppear   434103746454591587        1564628377     248\n",
       "4076           MainScreenAppear  3761373764179762633        1564631266     247\n",
       "4803           MainScreenAppear  2835328739789306622        1564634641     248\n",
       "...                         ...                  ...               ...     ...\n",
       "242329         MainScreenAppear  8870358373313968633        1565206004     247\n",
       "242332  PaymentScreenSuccessful  4718002964983105693        1565206005     247\n",
       "242360  PaymentScreenSuccessful  2382591782303281935        1565206049     246\n",
       "242362         CartScreenAppear  2382591782303281935        1565206049     246\n",
       "242635         MainScreenAppear  4097782667445790512        1565206618     246\n",
       "\n",
       "[413 rows x 4 columns]"
      ]
     },
     "execution_count": 14,
     "metadata": {},
     "output_type": "execute_result"
    }
   ],
   "source": [
    "data[data.duplicated()]"
   ]
  },
  {
   "cell_type": "code",
   "execution_count": 15,
   "metadata": {},
   "outputs": [
    {
     "data": {
      "text/html": [
       "<div>\n",
       "<style scoped>\n",
       "    .dataframe tbody tr th:only-of-type {\n",
       "        vertical-align: middle;\n",
       "    }\n",
       "\n",
       "    .dataframe tbody tr th {\n",
       "        vertical-align: top;\n",
       "    }\n",
       "\n",
       "    .dataframe thead th {\n",
       "        text-align: right;\n",
       "    }\n",
       "</style>\n",
       "<table border=\"1\" class=\"dataframe\">\n",
       "  <thead>\n",
       "    <tr style=\"text-align: right;\">\n",
       "      <th></th>\n",
       "      <th>event_name</th>\n",
       "      <th>device_id_hash</th>\n",
       "      <th>event_time_stamp</th>\n",
       "      <th>exp_id</th>\n",
       "    </tr>\n",
       "  </thead>\n",
       "  <tbody>\n",
       "    <tr>\n",
       "      <th>3</th>\n",
       "      <td>CartScreenAppear</td>\n",
       "      <td>3518123091307005509</td>\n",
       "      <td>1564054127</td>\n",
       "      <td>248</td>\n",
       "    </tr>\n",
       "    <tr>\n",
       "      <th>5</th>\n",
       "      <td>CartScreenAppear</td>\n",
       "      <td>6217807653094995999</td>\n",
       "      <td>1564055323</td>\n",
       "      <td>248</td>\n",
       "    </tr>\n",
       "    <tr>\n",
       "      <th>20</th>\n",
       "      <td>OffersScreenAppear</td>\n",
       "      <td>4651149533106703820</td>\n",
       "      <td>1564149871</td>\n",
       "      <td>246</td>\n",
       "    </tr>\n",
       "    <tr>\n",
       "      <th>21</th>\n",
       "      <td>CartScreenAppear</td>\n",
       "      <td>4651149533106703820</td>\n",
       "      <td>1564149877</td>\n",
       "      <td>246</td>\n",
       "    </tr>\n",
       "    <tr>\n",
       "      <th>22</th>\n",
       "      <td>OffersScreenAppear</td>\n",
       "      <td>4651149533106703820</td>\n",
       "      <td>1564149894</td>\n",
       "      <td>246</td>\n",
       "    </tr>\n",
       "    <tr>\n",
       "      <th>...</th>\n",
       "      <td>...</td>\n",
       "      <td>...</td>\n",
       "      <td>...</td>\n",
       "      <td>...</td>\n",
       "    </tr>\n",
       "    <tr>\n",
       "      <th>244121</th>\n",
       "      <td>MainScreenAppear</td>\n",
       "      <td>4599628364049201812</td>\n",
       "      <td>1565212345</td>\n",
       "      <td>247</td>\n",
       "    </tr>\n",
       "    <tr>\n",
       "      <th>244122</th>\n",
       "      <td>MainScreenAppear</td>\n",
       "      <td>5849806612437486590</td>\n",
       "      <td>1565212439</td>\n",
       "      <td>246</td>\n",
       "    </tr>\n",
       "    <tr>\n",
       "      <th>244123</th>\n",
       "      <td>MainScreenAppear</td>\n",
       "      <td>5746969938801999050</td>\n",
       "      <td>1565212483</td>\n",
       "      <td>246</td>\n",
       "    </tr>\n",
       "    <tr>\n",
       "      <th>244124</th>\n",
       "      <td>MainScreenAppear</td>\n",
       "      <td>5746969938801999050</td>\n",
       "      <td>1565212498</td>\n",
       "      <td>246</td>\n",
       "    </tr>\n",
       "    <tr>\n",
       "      <th>244125</th>\n",
       "      <td>OffersScreenAppear</td>\n",
       "      <td>5746969938801999050</td>\n",
       "      <td>1565212517</td>\n",
       "      <td>246</td>\n",
       "    </tr>\n",
       "  </tbody>\n",
       "</table>\n",
       "<p>236575 rows × 4 columns</p>\n",
       "</div>"
      ],
      "text/plain": [
       "                event_name       device_id_hash  event_time_stamp  exp_id\n",
       "3         CartScreenAppear  3518123091307005509        1564054127     248\n",
       "5         CartScreenAppear  6217807653094995999        1564055323     248\n",
       "20      OffersScreenAppear  4651149533106703820        1564149871     246\n",
       "21        CartScreenAppear  4651149533106703820        1564149877     246\n",
       "22      OffersScreenAppear  4651149533106703820        1564149894     246\n",
       "...                    ...                  ...               ...     ...\n",
       "244121    MainScreenAppear  4599628364049201812        1565212345     247\n",
       "244122    MainScreenAppear  5849806612437486590        1565212439     246\n",
       "244123    MainScreenAppear  5746969938801999050        1565212483     246\n",
       "244124    MainScreenAppear  5746969938801999050        1565212498     246\n",
       "244125  OffersScreenAppear  5746969938801999050        1565212517     246\n",
       "\n",
       "[236575 rows x 4 columns]"
      ]
     },
     "execution_count": 15,
     "metadata": {},
     "output_type": "execute_result"
    }
   ],
   "source": [
    "data[data['device_id_hash'].duplicated()]"
   ]
  },
  {
   "cell_type": "code",
   "execution_count": 16,
   "metadata": {},
   "outputs": [
    {
     "data": {
      "text/plain": [
       "event_name          object\n",
       "device_id_hash       int64\n",
       "event_time_stamp     int64\n",
       "exp_id               int64\n",
       "dtype: object"
      ]
     },
     "execution_count": 16,
     "metadata": {},
     "output_type": "execute_result"
    }
   ],
   "source": [
    "# Verificanco el tipo de datos:\n",
    "data.dtypes"
   ]
  },
  {
   "cell_type": "markdown",
   "metadata": {},
   "source": [
    "    Se debe cambiar los tipos de datos:\n",
    "    - device_id_hash está como tipo entero, sería más comveniente tenerlo como string.\n",
    "    - event_time_stamp está como tipo entero, sería más comveniente tenerlo como timestamp. Adicionalmente, la columna event_time_stamp, no está en timestamp, está en formato unix. Por lo tanto usar la unidad=s:\n",
    "    - exp_id está como tipo entero, sería más comveniente tenerlo como string."
   ]
  },
  {
   "cell_type": "code",
   "execution_count": 17,
   "metadata": {},
   "outputs": [
    {
     "data": {
      "text/plain": [
       "event_name                  object\n",
       "device_id_hash              object\n",
       "event_time_stamp    datetime64[ns]\n",
       "exp_id                      object\n",
       "dtype: object"
      ]
     },
     "execution_count": 17,
     "metadata": {},
     "output_type": "execute_result"
    }
   ],
   "source": [
    "# Cambiando los tipo de datos\n",
    "data['device_id_hash'] = data['device_id_hash'].astype('str') \n",
    "data['event_time_stamp'] = pd.to_datetime(data['event_time_stamp'], unit='s')\n",
    "data['exp_id'] = data['exp_id'].astype('str')\n",
    "data.dtypes"
   ]
  },
  {
   "cell_type": "code",
   "execution_count": 18,
   "metadata": {},
   "outputs": [
    {
     "data": {
      "text/html": [
       "<div>\n",
       "<style scoped>\n",
       "    .dataframe tbody tr th:only-of-type {\n",
       "        vertical-align: middle;\n",
       "    }\n",
       "\n",
       "    .dataframe tbody tr th {\n",
       "        vertical-align: top;\n",
       "    }\n",
       "\n",
       "    .dataframe thead th {\n",
       "        text-align: right;\n",
       "    }\n",
       "</style>\n",
       "<table border=\"1\" class=\"dataframe\">\n",
       "  <thead>\n",
       "    <tr style=\"text-align: right;\">\n",
       "      <th></th>\n",
       "      <th>event_name</th>\n",
       "      <th>device_id_hash</th>\n",
       "      <th>event_time_stamp</th>\n",
       "      <th>exp_id</th>\n",
       "    </tr>\n",
       "  </thead>\n",
       "  <tbody>\n",
       "    <tr>\n",
       "      <th>0</th>\n",
       "      <td>MainScreenAppear</td>\n",
       "      <td>4575588528974610257</td>\n",
       "      <td>2019-07-25 04:43:36</td>\n",
       "      <td>246</td>\n",
       "    </tr>\n",
       "    <tr>\n",
       "      <th>1</th>\n",
       "      <td>MainScreenAppear</td>\n",
       "      <td>7416695313311560658</td>\n",
       "      <td>2019-07-25 11:11:42</td>\n",
       "      <td>246</td>\n",
       "    </tr>\n",
       "    <tr>\n",
       "      <th>2</th>\n",
       "      <td>PaymentScreenSuccessful</td>\n",
       "      <td>3518123091307005509</td>\n",
       "      <td>2019-07-25 11:28:47</td>\n",
       "      <td>248</td>\n",
       "    </tr>\n",
       "    <tr>\n",
       "      <th>3</th>\n",
       "      <td>CartScreenAppear</td>\n",
       "      <td>3518123091307005509</td>\n",
       "      <td>2019-07-25 11:28:47</td>\n",
       "      <td>248</td>\n",
       "    </tr>\n",
       "    <tr>\n",
       "      <th>4</th>\n",
       "      <td>PaymentScreenSuccessful</td>\n",
       "      <td>6217807653094995999</td>\n",
       "      <td>2019-07-25 11:48:42</td>\n",
       "      <td>248</td>\n",
       "    </tr>\n",
       "  </tbody>\n",
       "</table>\n",
       "</div>"
      ],
      "text/plain": [
       "                event_name       device_id_hash    event_time_stamp exp_id\n",
       "0         MainScreenAppear  4575588528974610257 2019-07-25 04:43:36    246\n",
       "1         MainScreenAppear  7416695313311560658 2019-07-25 11:11:42    246\n",
       "2  PaymentScreenSuccessful  3518123091307005509 2019-07-25 11:28:47    248\n",
       "3         CartScreenAppear  3518123091307005509 2019-07-25 11:28:47    248\n",
       "4  PaymentScreenSuccessful  6217807653094995999 2019-07-25 11:48:42    248"
      ]
     },
     "execution_count": 18,
     "metadata": {},
     "output_type": "execute_result"
    }
   ],
   "source": [
    "data.head()"
   ]
  },
  {
   "cell_type": "markdown",
   "metadata": {},
   "source": [
    "### -Agregando una columna de fecha y hora y una columna separada para las fechas"
   ]
  },
  {
   "cell_type": "code",
   "execution_count": 19,
   "metadata": {},
   "outputs": [
    {
     "name": "stderr",
     "output_type": "stream",
     "text": [
      "C:\\Users\\Win10Pro\\AppData\\Local\\Temp\\ipykernel_60520\\1899085228.py:2: FutureWarning:\n",
      "\n",
      "'H' is deprecated and will be removed in a future version, please use 'h' instead.\n",
      "\n"
     ]
    }
   ],
   "source": [
    "# Creando una columna separada de fecha y hora:\n",
    "data['date_hour'] = data['event_time_stamp'].dt.to_period('H').dt.start_time \n",
    "# Creando una columna separada para las fechas:\n",
    "data['date'] = data['event_time_stamp'].dt.date"
   ]
  },
  {
   "cell_type": "code",
   "execution_count": 20,
   "metadata": {},
   "outputs": [
    {
     "data": {
      "text/html": [
       "<div>\n",
       "<style scoped>\n",
       "    .dataframe tbody tr th:only-of-type {\n",
       "        vertical-align: middle;\n",
       "    }\n",
       "\n",
       "    .dataframe tbody tr th {\n",
       "        vertical-align: top;\n",
       "    }\n",
       "\n",
       "    .dataframe thead th {\n",
       "        text-align: right;\n",
       "    }\n",
       "</style>\n",
       "<table border=\"1\" class=\"dataframe\">\n",
       "  <thead>\n",
       "    <tr style=\"text-align: right;\">\n",
       "      <th></th>\n",
       "      <th>event_name</th>\n",
       "      <th>device_id_hash</th>\n",
       "      <th>event_time_stamp</th>\n",
       "      <th>exp_id</th>\n",
       "      <th>date_hour</th>\n",
       "      <th>date</th>\n",
       "    </tr>\n",
       "  </thead>\n",
       "  <tbody>\n",
       "    <tr>\n",
       "      <th>0</th>\n",
       "      <td>MainScreenAppear</td>\n",
       "      <td>4575588528974610257</td>\n",
       "      <td>2019-07-25 04:43:36</td>\n",
       "      <td>246</td>\n",
       "      <td>2019-07-25 04:00:00</td>\n",
       "      <td>2019-07-25</td>\n",
       "    </tr>\n",
       "    <tr>\n",
       "      <th>1</th>\n",
       "      <td>MainScreenAppear</td>\n",
       "      <td>7416695313311560658</td>\n",
       "      <td>2019-07-25 11:11:42</td>\n",
       "      <td>246</td>\n",
       "      <td>2019-07-25 11:00:00</td>\n",
       "      <td>2019-07-25</td>\n",
       "    </tr>\n",
       "    <tr>\n",
       "      <th>2</th>\n",
       "      <td>PaymentScreenSuccessful</td>\n",
       "      <td>3518123091307005509</td>\n",
       "      <td>2019-07-25 11:28:47</td>\n",
       "      <td>248</td>\n",
       "      <td>2019-07-25 11:00:00</td>\n",
       "      <td>2019-07-25</td>\n",
       "    </tr>\n",
       "    <tr>\n",
       "      <th>3</th>\n",
       "      <td>CartScreenAppear</td>\n",
       "      <td>3518123091307005509</td>\n",
       "      <td>2019-07-25 11:28:47</td>\n",
       "      <td>248</td>\n",
       "      <td>2019-07-25 11:00:00</td>\n",
       "      <td>2019-07-25</td>\n",
       "    </tr>\n",
       "    <tr>\n",
       "      <th>4</th>\n",
       "      <td>PaymentScreenSuccessful</td>\n",
       "      <td>6217807653094995999</td>\n",
       "      <td>2019-07-25 11:48:42</td>\n",
       "      <td>248</td>\n",
       "      <td>2019-07-25 11:00:00</td>\n",
       "      <td>2019-07-25</td>\n",
       "    </tr>\n",
       "    <tr>\n",
       "      <th>...</th>\n",
       "      <td>...</td>\n",
       "      <td>...</td>\n",
       "      <td>...</td>\n",
       "      <td>...</td>\n",
       "      <td>...</td>\n",
       "      <td>...</td>\n",
       "    </tr>\n",
       "    <tr>\n",
       "      <th>244121</th>\n",
       "      <td>MainScreenAppear</td>\n",
       "      <td>4599628364049201812</td>\n",
       "      <td>2019-08-07 21:12:25</td>\n",
       "      <td>247</td>\n",
       "      <td>2019-08-07 21:00:00</td>\n",
       "      <td>2019-08-07</td>\n",
       "    </tr>\n",
       "    <tr>\n",
       "      <th>244122</th>\n",
       "      <td>MainScreenAppear</td>\n",
       "      <td>5849806612437486590</td>\n",
       "      <td>2019-08-07 21:13:59</td>\n",
       "      <td>246</td>\n",
       "      <td>2019-08-07 21:00:00</td>\n",
       "      <td>2019-08-07</td>\n",
       "    </tr>\n",
       "    <tr>\n",
       "      <th>244123</th>\n",
       "      <td>MainScreenAppear</td>\n",
       "      <td>5746969938801999050</td>\n",
       "      <td>2019-08-07 21:14:43</td>\n",
       "      <td>246</td>\n",
       "      <td>2019-08-07 21:00:00</td>\n",
       "      <td>2019-08-07</td>\n",
       "    </tr>\n",
       "    <tr>\n",
       "      <th>244124</th>\n",
       "      <td>MainScreenAppear</td>\n",
       "      <td>5746969938801999050</td>\n",
       "      <td>2019-08-07 21:14:58</td>\n",
       "      <td>246</td>\n",
       "      <td>2019-08-07 21:00:00</td>\n",
       "      <td>2019-08-07</td>\n",
       "    </tr>\n",
       "    <tr>\n",
       "      <th>244125</th>\n",
       "      <td>OffersScreenAppear</td>\n",
       "      <td>5746969938801999050</td>\n",
       "      <td>2019-08-07 21:15:17</td>\n",
       "      <td>246</td>\n",
       "      <td>2019-08-07 21:00:00</td>\n",
       "      <td>2019-08-07</td>\n",
       "    </tr>\n",
       "  </tbody>\n",
       "</table>\n",
       "<p>244126 rows × 6 columns</p>\n",
       "</div>"
      ],
      "text/plain": [
       "                     event_name       device_id_hash    event_time_stamp  \\\n",
       "0              MainScreenAppear  4575588528974610257 2019-07-25 04:43:36   \n",
       "1              MainScreenAppear  7416695313311560658 2019-07-25 11:11:42   \n",
       "2       PaymentScreenSuccessful  3518123091307005509 2019-07-25 11:28:47   \n",
       "3              CartScreenAppear  3518123091307005509 2019-07-25 11:28:47   \n",
       "4       PaymentScreenSuccessful  6217807653094995999 2019-07-25 11:48:42   \n",
       "...                         ...                  ...                 ...   \n",
       "244121         MainScreenAppear  4599628364049201812 2019-08-07 21:12:25   \n",
       "244122         MainScreenAppear  5849806612437486590 2019-08-07 21:13:59   \n",
       "244123         MainScreenAppear  5746969938801999050 2019-08-07 21:14:43   \n",
       "244124         MainScreenAppear  5746969938801999050 2019-08-07 21:14:58   \n",
       "244125       OffersScreenAppear  5746969938801999050 2019-08-07 21:15:17   \n",
       "\n",
       "       exp_id           date_hour        date  \n",
       "0         246 2019-07-25 04:00:00  2019-07-25  \n",
       "1         246 2019-07-25 11:00:00  2019-07-25  \n",
       "2         248 2019-07-25 11:00:00  2019-07-25  \n",
       "3         248 2019-07-25 11:00:00  2019-07-25  \n",
       "4         248 2019-07-25 11:00:00  2019-07-25  \n",
       "...       ...                 ...         ...  \n",
       "244121    247 2019-08-07 21:00:00  2019-08-07  \n",
       "244122    246 2019-08-07 21:00:00  2019-08-07  \n",
       "244123    246 2019-08-07 21:00:00  2019-08-07  \n",
       "244124    246 2019-08-07 21:00:00  2019-08-07  \n",
       "244125    246 2019-08-07 21:00:00  2019-08-07  \n",
       "\n",
       "[244126 rows x 6 columns]"
      ]
     },
     "execution_count": 20,
     "metadata": {},
     "output_type": "execute_result"
    }
   ],
   "source": [
    "data"
   ]
  },
  {
   "cell_type": "markdown",
   "metadata": {},
   "source": [
    "## Conclusiones del Paso 2 (procesamiento del DF data):\n",
    "\n",
    "1. Se cambió el nombre de las columnas: Se puso todo en minúsculas y se aplicó el snake_case.\n",
    "2. El DF NO tiene valores ausentes.\n",
    "3. El DF tiene 413 valores duplicados.\n",
    "4. Se cambió los tipos de datos, todas las columnas son strings y la columna event_time_stamp a timestamp.\n",
    "5. Se creó una columna (date_hour) para la fecha y hora.\n",
    "6. Se creó una columna (date) para la fecha."
   ]
  },
  {
   "cell_type": "markdown",
   "metadata": {},
   "source": [
    "# Paso 3. Estudiar y comprobar los datos"
   ]
  },
  {
   "cell_type": "markdown",
   "metadata": {},
   "source": [
    "### - ¿Cuántos eventos hay en los registros?"
   ]
  },
  {
   "cell_type": "code",
   "execution_count": 21,
   "metadata": {},
   "outputs": [
    {
     "name": "stdout",
     "output_type": "stream",
     "text": [
      "Hay 5 eventos en los registros, que son:\n",
      "['MainScreenAppear', 'PaymentScreenSuccessful', 'CartScreenAppear', 'OffersScreenAppear', 'Tutorial']\n"
     ]
    }
   ],
   "source": [
    "print('Hay', data['event_name'].nunique(), 'eventos en los registros, que son:')\n",
    "print(data['event_name'].unique().tolist())"
   ]
  },
  {
   "cell_type": "code",
   "execution_count": 22,
   "metadata": {},
   "outputs": [],
   "source": [
    "# Los eventos son:\n",
    "#data.groupby('event_name')['device_id_hash'].agg([\n",
    "#    ('total_events', 'count'),\n",
    "#    ('unique_users', 'nunique')\n",
    "#]).reset_index().sort_values(by='unique_users', ascending=False)    "
   ]
  },
  {
   "cell_type": "code",
   "execution_count": 23,
   "metadata": {},
   "outputs": [],
   "source": [
    "#data[data['event_name'] == 'MainScreenAppear']"
   ]
  },
  {
   "cell_type": "code",
   "execution_count": 24,
   "metadata": {},
   "outputs": [
    {
     "data": {
      "text/html": [
       "<div>\n",
       "<style scoped>\n",
       "    .dataframe tbody tr th:only-of-type {\n",
       "        vertical-align: middle;\n",
       "    }\n",
       "\n",
       "    .dataframe tbody tr th {\n",
       "        vertical-align: top;\n",
       "    }\n",
       "\n",
       "    .dataframe thead th {\n",
       "        text-align: right;\n",
       "    }\n",
       "</style>\n",
       "<table border=\"1\" class=\"dataframe\">\n",
       "  <thead>\n",
       "    <tr style=\"text-align: right;\">\n",
       "      <th></th>\n",
       "      <th>event_name</th>\n",
       "      <th>device_id_hash</th>\n",
       "      <th>event_time_stamp</th>\n",
       "      <th>exp_id</th>\n",
       "      <th>date_hour</th>\n",
       "      <th>date</th>\n",
       "    </tr>\n",
       "  </thead>\n",
       "  <tbody>\n",
       "    <tr>\n",
       "      <th>0</th>\n",
       "      <td>CartScreenAppear</td>\n",
       "      <td>42731</td>\n",
       "      <td>42731</td>\n",
       "      <td>42731</td>\n",
       "      <td>42731</td>\n",
       "      <td>42731</td>\n",
       "    </tr>\n",
       "    <tr>\n",
       "      <th>1</th>\n",
       "      <td>MainScreenAppear</td>\n",
       "      <td>119205</td>\n",
       "      <td>119205</td>\n",
       "      <td>119205</td>\n",
       "      <td>119205</td>\n",
       "      <td>119205</td>\n",
       "    </tr>\n",
       "    <tr>\n",
       "      <th>2</th>\n",
       "      <td>OffersScreenAppear</td>\n",
       "      <td>46825</td>\n",
       "      <td>46825</td>\n",
       "      <td>46825</td>\n",
       "      <td>46825</td>\n",
       "      <td>46825</td>\n",
       "    </tr>\n",
       "    <tr>\n",
       "      <th>3</th>\n",
       "      <td>PaymentScreenSuccessful</td>\n",
       "      <td>34313</td>\n",
       "      <td>34313</td>\n",
       "      <td>34313</td>\n",
       "      <td>34313</td>\n",
       "      <td>34313</td>\n",
       "    </tr>\n",
       "    <tr>\n",
       "      <th>4</th>\n",
       "      <td>Tutorial</td>\n",
       "      <td>1052</td>\n",
       "      <td>1052</td>\n",
       "      <td>1052</td>\n",
       "      <td>1052</td>\n",
       "      <td>1052</td>\n",
       "    </tr>\n",
       "  </tbody>\n",
       "</table>\n",
       "</div>"
      ],
      "text/plain": [
       "                event_name  device_id_hash  event_time_stamp  exp_id  \\\n",
       "0         CartScreenAppear           42731             42731   42731   \n",
       "1         MainScreenAppear          119205            119205  119205   \n",
       "2       OffersScreenAppear           46825             46825   46825   \n",
       "3  PaymentScreenSuccessful           34313             34313   34313   \n",
       "4                 Tutorial            1052              1052    1052   \n",
       "\n",
       "   date_hour    date  \n",
       "0      42731   42731  \n",
       "1     119205  119205  \n",
       "2      46825   46825  \n",
       "3      34313   34313  \n",
       "4       1052    1052  "
      ]
     },
     "execution_count": 24,
     "metadata": {},
     "output_type": "execute_result"
    }
   ],
   "source": [
    "data.groupby('event_name').count().reset_index()"
   ]
  },
  {
   "cell_type": "markdown",
   "metadata": {},
   "source": [
    "### - ¿Cuántos usuarios y usuarias hay en los registros?"
   ]
  },
  {
   "cell_type": "code",
   "execution_count": 25,
   "metadata": {},
   "outputs": [
    {
     "name": "stdout",
     "output_type": "stream",
     "text": [
      "Hay 7551 usuarios y usuarias en los registros.\n"
     ]
    }
   ],
   "source": [
    "print('Hay', data['device_id_hash'].nunique(), 'usuarios y usuarias en los registros.')"
   ]
  },
  {
   "cell_type": "code",
   "execution_count": 26,
   "metadata": {
    "scrolled": true
   },
   "outputs": [
    {
     "data": {
      "text/html": [
       "<div>\n",
       "<style scoped>\n",
       "    .dataframe tbody tr th:only-of-type {\n",
       "        vertical-align: middle;\n",
       "    }\n",
       "\n",
       "    .dataframe tbody tr th {\n",
       "        vertical-align: top;\n",
       "    }\n",
       "\n",
       "    .dataframe thead th {\n",
       "        text-align: right;\n",
       "    }\n",
       "</style>\n",
       "<table border=\"1\" class=\"dataframe\">\n",
       "  <thead>\n",
       "    <tr style=\"text-align: right;\">\n",
       "      <th></th>\n",
       "      <th>event_name</th>\n",
       "      <th>device_id_hash</th>\n",
       "    </tr>\n",
       "  </thead>\n",
       "  <tbody>\n",
       "    <tr>\n",
       "      <th>0</th>\n",
       "      <td>CartScreenAppear</td>\n",
       "      <td>3749</td>\n",
       "    </tr>\n",
       "    <tr>\n",
       "      <th>1</th>\n",
       "      <td>MainScreenAppear</td>\n",
       "      <td>7439</td>\n",
       "    </tr>\n",
       "    <tr>\n",
       "      <th>2</th>\n",
       "      <td>OffersScreenAppear</td>\n",
       "      <td>4613</td>\n",
       "    </tr>\n",
       "    <tr>\n",
       "      <th>3</th>\n",
       "      <td>PaymentScreenSuccessful</td>\n",
       "      <td>3547</td>\n",
       "    </tr>\n",
       "    <tr>\n",
       "      <th>4</th>\n",
       "      <td>Tutorial</td>\n",
       "      <td>847</td>\n",
       "    </tr>\n",
       "  </tbody>\n",
       "</table>\n",
       "</div>"
      ],
      "text/plain": [
       "                event_name  device_id_hash\n",
       "0         CartScreenAppear            3749\n",
       "1         MainScreenAppear            7439\n",
       "2       OffersScreenAppear            4613\n",
       "3  PaymentScreenSuccessful            3547\n",
       "4                 Tutorial             847"
      ]
     },
     "execution_count": 26,
     "metadata": {},
     "output_type": "execute_result"
    }
   ],
   "source": [
    "# Cantidad de usuarios en cada evento:\n",
    "data.groupby('event_name')['device_id_hash'].nunique().reset_index()"
   ]
  },
  {
   "cell_type": "code",
   "execution_count": 27,
   "metadata": {},
   "outputs": [],
   "source": [
    "#data['device_id_hash'].nunique()#.tolist()"
   ]
  },
  {
   "cell_type": "markdown",
   "metadata": {},
   "source": [
    "### - ¿Cuál es el promedio de eventos por usuario?"
   ]
  },
  {
   "cell_type": "code",
   "execution_count": 28,
   "metadata": {},
   "outputs": [],
   "source": [
    "# Cantidad de eventos (totales) por usuario:\n",
    "#data.groupby('device_id_hash')['event_name'].count().reset_index()"
   ]
  },
  {
   "cell_type": "code",
   "execution_count": 29,
   "metadata": {},
   "outputs": [
    {
     "data": {
      "text/plain": [
       "32.33028737915508"
      ]
     },
     "execution_count": 29,
     "metadata": {},
     "output_type": "execute_result"
    }
   ],
   "source": [
    "# Promedio de ventos por usuario:\n",
    "data.groupby('device_id_hash')['event_name'].count().mean()"
   ]
  },
  {
   "cell_type": "code",
   "execution_count": 30,
   "metadata": {},
   "outputs": [
    {
     "name": "stdout",
     "output_type": "stream",
     "text": [
      "El promedio de eventos por usuario es de 32 eventos.\n"
     ]
    }
   ],
   "source": [
    "print('El promedio de eventos por usuario es de', \n",
    "      data.groupby('device_id_hash')['event_name'].count().mean().round().astype('int'), \n",
    "      'eventos.')"
   ]
  },
  {
   "cell_type": "code",
   "execution_count": 31,
   "metadata": {},
   "outputs": [
    {
     "data": {
      "image/svg+xml": [
       "<svg class=\"main-svg\" xmlns=\"http://www.w3.org/2000/svg\" xmlns:xlink=\"http://www.w3.org/1999/xlink\" width=\"700\" height=\"500\" style=\"\" viewBox=\"0 0 700 500\"><rect x=\"0\" y=\"0\" width=\"700\" height=\"500\" style=\"fill: rgb(255, 255, 255); fill-opacity: 1;\"/><defs id=\"defs-cfd6b2\"><g class=\"clips\"><clipPath id=\"clipcfd6b2xyplot\" class=\"plotclip\"><rect width=\"540\" height=\"320\"/></clipPath><clipPath class=\"axesclip\" id=\"clipcfd6b2x\"><rect x=\"80\" y=\"0\" width=\"540\" height=\"500\"/></clipPath><clipPath class=\"axesclip\" id=\"clipcfd6b2y\"><rect x=\"0\" y=\"100\" width=\"700\" height=\"320\"/></clipPath><clipPath class=\"axesclip\" id=\"clipcfd6b2xy\"><rect x=\"80\" y=\"100\" width=\"540\" height=\"320\"/></clipPath></g><g class=\"gradients\"/><g class=\"patterns\"/></defs><g class=\"bglayer\"><rect class=\"bg\" x=\"80\" y=\"100\" width=\"540\" height=\"320\" style=\"fill: rgb(229, 236, 246); fill-opacity: 1; stroke-width: 0;\"/></g><g class=\"layer-below\"><g class=\"imagelayer\"/><g class=\"shapelayer\"/></g><g class=\"cartesianlayer\"><g class=\"subplot xy\"><g class=\"layer-subplot\"><g class=\"shapelayer\"/><g class=\"imagelayer\"/></g><g class=\"minor-gridlayer\"><g class=\"x\"/><g class=\"y\"/></g><g class=\"gridlayer\"><g class=\"x\"/><g class=\"y\"><path class=\"ygrid crisp\" transform=\"translate(0,372.23)\" d=\"M80,0h540\" style=\"stroke: rgb(255, 255, 255); stroke-opacity: 1; stroke-width: 1px;\"/><path class=\"ygrid crisp\" transform=\"translate(0,324.46000000000004)\" d=\"M80,0h540\" style=\"stroke: rgb(255, 255, 255); stroke-opacity: 1; stroke-width: 1px;\"/><path class=\"ygrid crisp\" transform=\"translate(0,276.69)\" d=\"M80,0h540\" style=\"stroke: rgb(255, 255, 255); stroke-opacity: 1; stroke-width: 1px;\"/><path class=\"ygrid crisp\" transform=\"translate(0,228.92)\" d=\"M80,0h540\" style=\"stroke: rgb(255, 255, 255); stroke-opacity: 1; stroke-width: 1px;\"/><path class=\"ygrid crisp\" transform=\"translate(0,181.15)\" d=\"M80,0h540\" style=\"stroke: rgb(255, 255, 255); stroke-opacity: 1; stroke-width: 1px;\"/><path class=\"ygrid crisp\" transform=\"translate(0,133.38)\" d=\"M80,0h540\" style=\"stroke: rgb(255, 255, 255); stroke-opacity: 1; stroke-width: 1px;\"/></g></g><g class=\"zerolinelayer\"><path class=\"yzl zl crisp\" transform=\"translate(0,420)\" d=\"M80,0h540\" style=\"stroke: rgb(255, 255, 255); stroke-opacity: 1; stroke-width: 2px;\"/></g><g class=\"layer-between\"><g class=\"shapelayer\"/><g class=\"imagelayer\"/></g><path class=\"xlines-below\"/><path class=\"ylines-below\"/><g class=\"overlines-below\"/><g class=\"xaxislayer-below\"/><g class=\"yaxislayer-below\"/><g class=\"overaxes-below\"/><g class=\"plot\" transform=\"translate(80,100)\" clip-path=\"url(#clipcfd6b2xyplot)\"><g class=\"barlayer mlayer\"><g class=\"trace bars\" shape-rendering=\"crispEdges\" style=\"opacity: 1;\"><g class=\"points\"><g class=\"point\"><path d=\"M2.05,320V18.86H13.49V320Z\" style=\"vector-effect: none; opacity: 1; stroke-width: 0px; fill: rgb(99, 110, 250); fill-opacity: 1;\"/></g><g class=\"point\"><path d=\"M13.49,320V274.95H24.94V320Z\" style=\"vector-effect: none; opacity: 1; stroke-width: 0px; fill: rgb(99, 110, 250); fill-opacity: 1;\"/></g><g class=\"point\"><path d=\"M24.94,320V311.97H36.39V320Z\" style=\"vector-effect: none; opacity: 1; stroke-width: 0px; fill: rgb(99, 110, 250); fill-opacity: 1;\"/></g><g class=\"point\"><path d=\"M36.39,320V317.13H47.83V320Z\" style=\"vector-effect: none; opacity: 1; stroke-width: 0px; fill: rgb(99, 110, 250); fill-opacity: 1;\"/></g><g class=\"point\"><path d=\"M47.83,320V318.57H59.28V320Z\" style=\"vector-effect: none; opacity: 1; stroke-width: 0px; fill: rgb(99, 110, 250); fill-opacity: 1;\"/></g><g class=\"point\"><path d=\"M59.28,320V319.33H70.72V320Z\" style=\"vector-effect: none; opacity: 1; stroke-width: 0px; fill: rgb(99, 110, 250); fill-opacity: 1;\"/></g><g class=\"point\"><path d=\"M70.72,320V319.81H82.17V320Z\" style=\"vector-effect: none; opacity: 1; stroke-width: 0px; fill: rgb(99, 110, 250); fill-opacity: 1;\"/></g><g class=\"point\"><path d=\"M82.17,320V319.81H93.61V320Z\" style=\"vector-effect: none; opacity: 1; stroke-width: 0px; fill: rgb(99, 110, 250); fill-opacity: 1;\"/></g><g class=\"point\"><path d=\"M93.61,320V319.9H105.06V320Z\" style=\"vector-effect: none; opacity: 1; stroke-width: 0px; fill: rgb(99, 110, 250); fill-opacity: 1;\"/></g><g class=\"point\"><path d=\"M105.06,320V319.86H116.51V320Z\" style=\"vector-effect: none; opacity: 1; stroke-width: 0px; fill: rgb(99, 110, 250); fill-opacity: 1;\"/></g><g class=\"point\"><path d=\"M116.51,320V319.95H127.95V320Z\" style=\"vector-effect: none; opacity: 1; stroke-width: 0px; fill: rgb(99, 110, 250); fill-opacity: 1;\"/></g><g class=\"point\"><path d=\"M127.95,320V319.86H139.4V320Z\" style=\"vector-effect: none; opacity: 1; stroke-width: 0px; fill: rgb(99, 110, 250); fill-opacity: 1;\"/></g><g class=\"point\"><path d=\"M0,0Z\" style=\"vector-effect: none; opacity: 1; stroke-width: 0px; fill: rgb(99, 110, 250); fill-opacity: 1;\"/></g><g class=\"point\"><path d=\"M150.84,320V319.9H162.29V320Z\" style=\"vector-effect: none; opacity: 1; stroke-width: 0px; fill: rgb(99, 110, 250); fill-opacity: 1;\"/></g><g class=\"point\"><path d=\"M162.29,320V319.86H173.73V320Z\" style=\"vector-effect: none; opacity: 1; stroke-width: 0px; fill: rgb(99, 110, 250); fill-opacity: 1;\"/></g><g class=\"point\"><path d=\"M173.73,320V319.95H185.18V320Z\" style=\"vector-effect: none; opacity: 1; stroke-width: 0px; fill: rgb(99, 110, 250); fill-opacity: 1;\"/></g><g class=\"point\"><path d=\"M185.18,320V319.95H196.63V320Z\" style=\"vector-effect: none; opacity: 1; stroke-width: 0px; fill: rgb(99, 110, 250); fill-opacity: 1;\"/></g><g class=\"point\"><path d=\"M196.63,320V319.9H208.07V320Z\" style=\"vector-effect: none; opacity: 1; stroke-width: 0px; fill: rgb(99, 110, 250); fill-opacity: 1;\"/></g><g class=\"point\"><path d=\"M0,0Z\" style=\"vector-effect: none; opacity: 1; stroke-width: 0px; fill: rgb(99, 110, 250); fill-opacity: 1;\"/></g><g class=\"point\"><path d=\"M0,0Z\" style=\"vector-effect: none; opacity: 1; stroke-width: 0px; fill: rgb(99, 110, 250); fill-opacity: 1;\"/></g><g class=\"point\"><path d=\"M0,0Z\" style=\"vector-effect: none; opacity: 1; stroke-width: 0px; fill: rgb(99, 110, 250); fill-opacity: 1;\"/></g><g class=\"point\"><path d=\"M0,0Z\" style=\"vector-effect: none; opacity: 1; stroke-width: 0px; fill: rgb(99, 110, 250); fill-opacity: 1;\"/></g><g class=\"point\"><path d=\"M0,0Z\" style=\"vector-effect: none; opacity: 1; stroke-width: 0px; fill: rgb(99, 110, 250); fill-opacity: 1;\"/></g><g class=\"point\"><path d=\"M265.3,320V319.95H276.75V320Z\" style=\"vector-effect: none; opacity: 1; stroke-width: 0px; fill: rgb(99, 110, 250); fill-opacity: 1;\"/></g><g class=\"point\"><path d=\"M276.75,320V319.95H288.19V320Z\" style=\"vector-effect: none; opacity: 1; stroke-width: 0px; fill: rgb(99, 110, 250); fill-opacity: 1;\"/></g><g class=\"point\"><path d=\"M0,0Z\" style=\"vector-effect: none; opacity: 1; stroke-width: 0px; fill: rgb(99, 110, 250); fill-opacity: 1;\"/></g><g class=\"point\"><path d=\"M0,0Z\" style=\"vector-effect: none; opacity: 1; stroke-width: 0px; fill: rgb(99, 110, 250); fill-opacity: 1;\"/></g><g class=\"point\"><path d=\"M0,0Z\" style=\"vector-effect: none; opacity: 1; stroke-width: 0px; fill: rgb(99, 110, 250); fill-opacity: 1;\"/></g><g class=\"point\"><path d=\"M322.53,320V319.95H333.98V320Z\" style=\"vector-effect: none; opacity: 1; stroke-width: 0px; fill: rgb(99, 110, 250); fill-opacity: 1;\"/></g><g class=\"point\"><path d=\"M0,0Z\" style=\"vector-effect: none; opacity: 1; stroke-width: 0px; fill: rgb(99, 110, 250); fill-opacity: 1;\"/></g><g class=\"point\"><path d=\"M0,0Z\" style=\"vector-effect: none; opacity: 1; stroke-width: 0px; fill: rgb(99, 110, 250); fill-opacity: 1;\"/></g><g class=\"point\"><path d=\"M0,0Z\" style=\"vector-effect: none; opacity: 1; stroke-width: 0px; fill: rgb(99, 110, 250); fill-opacity: 1;\"/></g><g class=\"point\"><path d=\"M0,0Z\" style=\"vector-effect: none; opacity: 1; stroke-width: 0px; fill: rgb(99, 110, 250); fill-opacity: 1;\"/></g><g class=\"point\"><path d=\"M0,0Z\" style=\"vector-effect: none; opacity: 1; stroke-width: 0px; fill: rgb(99, 110, 250); fill-opacity: 1;\"/></g><g class=\"point\"><path d=\"M0,0Z\" style=\"vector-effect: none; opacity: 1; stroke-width: 0px; fill: rgb(99, 110, 250); fill-opacity: 1;\"/></g><g class=\"point\"><path d=\"M402.65,320V319.95H414.1V320Z\" style=\"vector-effect: none; opacity: 1; stroke-width: 0px; fill: rgb(99, 110, 250); fill-opacity: 1;\"/></g><g class=\"point\"><path d=\"M0,0Z\" style=\"vector-effect: none; opacity: 1; stroke-width: 0px; fill: rgb(99, 110, 250); fill-opacity: 1;\"/></g><g class=\"point\"><path d=\"M0,0Z\" style=\"vector-effect: none; opacity: 1; stroke-width: 0px; fill: rgb(99, 110, 250); fill-opacity: 1;\"/></g><g class=\"point\"><path d=\"M0,0Z\" style=\"vector-effect: none; opacity: 1; stroke-width: 0px; fill: rgb(99, 110, 250); fill-opacity: 1;\"/></g><g class=\"point\"><path d=\"M0,0Z\" style=\"vector-effect: none; opacity: 1; stroke-width: 0px; fill: rgb(99, 110, 250); fill-opacity: 1;\"/></g><g class=\"point\"><path d=\"M459.88,320V319.95H471.33V320Z\" style=\"vector-effect: none; opacity: 1; stroke-width: 0px; fill: rgb(99, 110, 250); fill-opacity: 1;\"/></g><g class=\"point\"><path d=\"M0,0Z\" style=\"vector-effect: none; opacity: 1; stroke-width: 0px; fill: rgb(99, 110, 250); fill-opacity: 1;\"/></g><g class=\"point\"><path d=\"M0,0Z\" style=\"vector-effect: none; opacity: 1; stroke-width: 0px; fill: rgb(99, 110, 250); fill-opacity: 1;\"/></g><g class=\"point\"><path d=\"M0,0Z\" style=\"vector-effect: none; opacity: 1; stroke-width: 0px; fill: rgb(99, 110, 250); fill-opacity: 1;\"/></g><g class=\"point\"><path d=\"M0,0Z\" style=\"vector-effect: none; opacity: 1; stroke-width: 0px; fill: rgb(99, 110, 250); fill-opacity: 1;\"/></g><g class=\"point\"><path d=\"M0,0Z\" style=\"vector-effect: none; opacity: 1; stroke-width: 0px; fill: rgb(99, 110, 250); fill-opacity: 1;\"/></g><g class=\"point\"><path d=\"M528.55,320V319.95H540V320Z\" style=\"vector-effect: none; opacity: 1; stroke-width: 0px; fill: rgb(99, 110, 250); fill-opacity: 1;\"/></g></g></g></g></g><g class=\"overplot\"/><path class=\"xlines-above crisp\" d=\"M0,0\" style=\"fill: none;\"/><path class=\"ylines-above crisp\" d=\"M0,0\" style=\"fill: none;\"/><g class=\"overlines-above\"/><g class=\"xaxislayer-above\"><g class=\"xtick\"><text text-anchor=\"middle\" x=\"0\" y=\"433\" transform=\"translate(82.16,0)\" style=\"font-family: 'Open Sans', verdana, arial, sans-serif; font-size: 12px; fill: rgb(42, 63, 95); fill-opacity: 1; white-space: pre; opacity: 1;\">0</text></g><g class=\"xtick\"><text text-anchor=\"middle\" x=\"0\" y=\"433\" style=\"font-family: 'Open Sans', verdana, arial, sans-serif; font-size: 12px; fill: rgb(42, 63, 95); fill-opacity: 1; white-space: pre; opacity: 1;\" transform=\"translate(196.62,0)\">500</text></g><g class=\"xtick\"><text text-anchor=\"middle\" x=\"0\" y=\"433\" style=\"font-family: 'Open Sans', verdana, arial, sans-serif; font-size: 12px; fill: rgb(42, 63, 95); fill-opacity: 1; white-space: pre; opacity: 1;\" transform=\"translate(311.08000000000004,0)\">1000</text></g><g class=\"xtick\"><text text-anchor=\"middle\" x=\"0\" y=\"433\" style=\"font-family: 'Open Sans', verdana, arial, sans-serif; font-size: 12px; fill: rgb(42, 63, 95); fill-opacity: 1; white-space: pre; opacity: 1;\" transform=\"translate(425.54,0)\">1500</text></g><g class=\"xtick\"><text text-anchor=\"middle\" x=\"0\" y=\"433\" style=\"font-family: 'Open Sans', verdana, arial, sans-serif; font-size: 12px; fill: rgb(42, 63, 95); fill-opacity: 1; white-space: pre; opacity: 1;\" transform=\"translate(539.99,0)\">2000</text></g></g><g class=\"yaxislayer-above\"><g class=\"ytick\"><text text-anchor=\"end\" x=\"79\" y=\"4.199999999999999\" transform=\"translate(0,420)\" style=\"font-family: 'Open Sans', verdana, arial, sans-serif; font-size: 12px; fill: rgb(42, 63, 95); fill-opacity: 1; white-space: pre; opacity: 1;\">0</text></g><g class=\"ytick\"><text text-anchor=\"end\" x=\"79\" y=\"4.199999999999999\" style=\"font-family: 'Open Sans', verdana, arial, sans-serif; font-size: 12px; fill: rgb(42, 63, 95); fill-opacity: 1; white-space: pre; opacity: 1;\" transform=\"translate(0,372.23)\">1000</text></g><g class=\"ytick\"><text text-anchor=\"end\" x=\"79\" y=\"4.199999999999999\" style=\"font-family: 'Open Sans', verdana, arial, sans-serif; font-size: 12px; fill: rgb(42, 63, 95); fill-opacity: 1; white-space: pre; opacity: 1;\" transform=\"translate(0,324.46000000000004)\">2000</text></g><g class=\"ytick\"><text text-anchor=\"end\" x=\"79\" y=\"4.199999999999999\" style=\"font-family: 'Open Sans', verdana, arial, sans-serif; font-size: 12px; fill: rgb(42, 63, 95); fill-opacity: 1; white-space: pre; opacity: 1;\" transform=\"translate(0,276.69)\">3000</text></g><g class=\"ytick\"><text text-anchor=\"end\" x=\"79\" y=\"4.199999999999999\" style=\"font-family: 'Open Sans', verdana, arial, sans-serif; font-size: 12px; fill: rgb(42, 63, 95); fill-opacity: 1; white-space: pre; opacity: 1;\" transform=\"translate(0,228.92)\">4000</text></g><g class=\"ytick\"><text text-anchor=\"end\" x=\"79\" y=\"4.199999999999999\" style=\"font-family: 'Open Sans', verdana, arial, sans-serif; font-size: 12px; fill: rgb(42, 63, 95); fill-opacity: 1; white-space: pre; opacity: 1;\" transform=\"translate(0,181.15)\">5000</text></g><g class=\"ytick\"><text text-anchor=\"end\" x=\"79\" y=\"4.199999999999999\" style=\"font-family: 'Open Sans', verdana, arial, sans-serif; font-size: 12px; fill: rgb(42, 63, 95); fill-opacity: 1; white-space: pre; opacity: 1;\" transform=\"translate(0,133.38)\">6000</text></g></g><g class=\"overaxes-above\"/></g></g><g class=\"polarlayer\"/><g class=\"smithlayer\"/><g class=\"ternarylayer\"/><g class=\"geolayer\"/><g class=\"funnelarealayer\"/><g class=\"pielayer\"/><g class=\"iciclelayer\"/><g class=\"treemaplayer\"/><g class=\"sunburstlayer\"/><g class=\"glimages\"/><defs id=\"topdefs-cfd6b2\"><g class=\"clips\"/></defs><g class=\"layer-above\"><g class=\"imagelayer\"/><g class=\"shapelayer\"><g class=\"shape-group\" data-index=\"0\" clip-path=\"url(#clipcfd6b2x)\"><path data-index=\"0\" fill-rule=\"evenodd\" d=\"M89.49,420L89.49,100\" style=\"opacity: 1; stroke: rgb(255, 0, 0); stroke-opacity: 1; fill: rgb(0, 0, 0); fill-opacity: 0; stroke-dasharray: 9px, 9px; stroke-width: 0.7px;\"/></g></g></g><g class=\"infolayer\"><g class=\"g-gtitle\"><text class=\"gtitle\" x=\"35\" y=\"50\" text-anchor=\"start\" dy=\"0em\" style=\"font-family: 'Open Sans', verdana, arial, sans-serif; font-size: 17px; fill: rgb(42, 63, 95); opacity: 1; white-space: pre;\">Cantidad de eventos por usuario</text></g><g class=\"g-xtitle\"><text class=\"xtitle\" x=\"350\" y=\"460.3\" text-anchor=\"middle\" style=\"font-family: 'Open Sans', verdana, arial, sans-serif; font-size: 14px; fill: rgb(42, 63, 95); opacity: 1; white-space: pre;\">Cantidad de Eventos</text></g><g class=\"g-ytitle\"><text class=\"ytitle\" transform=\"rotate(-90,29.084375,260)\" x=\"29.084375\" y=\"260\" text-anchor=\"middle\" style=\"font-family: 'Open Sans', verdana, arial, sans-serif; font-size: 14px; fill: rgb(42, 63, 95); opacity: 1; white-space: pre;\">count</text></g><g class=\"annotation\" data-index=\"0\" style=\"opacity: 1;\"><g class=\"annotation-text-g\" transform=\"rotate(0,116.5,109.5)\"><g class=\"cursor-pointer\" transform=\"translate(80,100)\"><rect class=\"bg\" x=\"0.5\" y=\"0.5\" width=\"72\" height=\"18\" style=\"stroke-width: 1px; stroke: rgb(0, 0, 0); stroke-opacity: 0; fill: rgb(0, 0, 0); fill-opacity: 0;\"/><text class=\"annotation-text\" text-anchor=\"start\" x=\"2\" y=\"14\" style=\"font-family: 'Open Sans', verdana, arial, sans-serif; font-size: 12px; fill: rgb(255, 0, 0); fill-opacity: 1; white-space: pre;\">Media = 32</text></g></g></g></g></svg>"
      ]
     },
     "metadata": {},
     "output_type": "display_data"
    }
   ],
   "source": [
    "fig1= px.histogram(data.groupby('device_id_hash')['event_name'].count().reset_index(), x='event_name', \n",
    "                   title='Cantidad de eventos por usuario',\n",
    "                   labels= {'event_name': 'Cantidad de Eventos'},\n",
    "                   nbins=50)\n",
    "\n",
    "fig1.add_vline(x=32, line_width=0.7, line_dash='dash', line_color='red')\n",
    "fig1.add_annotation( \n",
    "                    y=6500,\n",
    "                    x=150,\n",
    "                    text='Media = 32',\n",
    "                    showarrow=False,\n",
    "                    align=\"left\",\n",
    "                    font=dict(\n",
    "                        color='red'\n",
    "                    )\n",
    ")\n",
    "fig1.show()"
   ]
  },
  {
   "cell_type": "markdown",
   "metadata": {},
   "source": [
    "#### **Gráfico 1.** \n",
    "Muestra la cantidad de eventos a los que asisten los usuarios.\n",
    "\n",
    "Podemos observar que, del total de usuarios (7.551) la mayor cantidad de usuarios (6.304) asiste de 0 a 49 eventos. La media es de 32 eventos.\n"
   ]
  },
  {
   "cell_type": "markdown",
   "metadata": {},
   "source": [
    "### - ¿Qué periodo de tiempo cubren los datos? Encuentra la fecha máxima y mínima. Traza un histograma por fecha y hora. ¿Puedes tener seguridad de que tienes datos igualmente completos para todo el periodo? Los eventos más antiguos podrían terminar en los registros de algunos usuarios o usuarias por razones técnicas y esto podría sesgar el panorama general. Encuentra el momento en el que los datos comienzan a estar completos e ignora la sección anterior. ¿Qué periodo representan realmente los datos?"
   ]
  },
  {
   "cell_type": "markdown",
   "metadata": {},
   "source": [
    "#### Periodo de tiempo:"
   ]
  },
  {
   "cell_type": "code",
   "execution_count": 32,
   "metadata": {},
   "outputs": [
    {
     "name": "stdout",
     "output_type": "stream",
     "text": [
      "2019-07-25 04:43:36\n",
      "2019-08-07 21:15:17\n"
     ]
    }
   ],
   "source": [
    "# Fechas mínimas y máximas:\n",
    "print(data['event_time_stamp'].min())\n",
    "print(data['event_time_stamp'].max())"
   ]
  },
  {
   "cell_type": "code",
   "execution_count": 33,
   "metadata": {},
   "outputs": [
    {
     "data": {
      "text/plain": [
       "Timedelta('13 days 16:31:41')"
      ]
     },
     "execution_count": 33,
     "metadata": {},
     "output_type": "execute_result"
    }
   ],
   "source": [
    "# Periodo que cubren los datos:\n",
    "data['event_time_stamp'].max() - data['event_time_stamp'].min()"
   ]
  },
  {
   "cell_type": "markdown",
   "metadata": {},
   "source": [
    "> El periodo de tiempo que cubren los datos es de 13 días y 16:31:41 horas. Desde 2019-07-25 04:43:36, hasta 2019-08-07 21:15:17"
   ]
  },
  {
   "cell_type": "markdown",
   "metadata": {},
   "source": [
    "#### Traza un histograma por fecha y hora:"
   ]
  },
  {
   "cell_type": "code",
   "execution_count": 34,
   "metadata": {},
   "outputs": [
    {
     "data": {
      "image/svg+xml": [
       "<svg class=\"main-svg\" xmlns=\"http://www.w3.org/2000/svg\" xmlns:xlink=\"http://www.w3.org/1999/xlink\" width=\"700\" height=\"500\" style=\"\" viewBox=\"0 0 700 500\"><rect x=\"0\" y=\"0\" width=\"700\" height=\"500\" style=\"fill: rgb(255, 255, 255); fill-opacity: 1;\"/><defs id=\"defs-e07562\"><g class=\"clips\"><clipPath id=\"clipe07562xyplot\" class=\"plotclip\"><rect width=\"540\" height=\"320\"/></clipPath><clipPath class=\"axesclip\" id=\"clipe07562x\"><rect x=\"80\" y=\"0\" width=\"540\" height=\"500\"/></clipPath><clipPath class=\"axesclip\" id=\"clipe07562y\"><rect x=\"0\" y=\"100\" width=\"700\" height=\"320\"/></clipPath><clipPath class=\"axesclip\" id=\"clipe07562xy\"><rect x=\"80\" y=\"100\" width=\"540\" height=\"320\"/></clipPath></g><g class=\"gradients\"/><g class=\"patterns\"/></defs><g class=\"bglayer\"><rect class=\"bg\" x=\"80\" y=\"100\" width=\"540\" height=\"320\" style=\"fill: rgb(229, 236, 246); fill-opacity: 1; stroke-width: 0;\"/></g><g class=\"layer-below\"><g class=\"imagelayer\"/><g class=\"shapelayer\"/></g><g class=\"cartesianlayer\"><g class=\"subplot xy\"><g class=\"layer-subplot\"><g class=\"shapelayer\"/><g class=\"imagelayer\"/></g><g class=\"minor-gridlayer\"><g class=\"x\"/><g class=\"y\"/></g><g class=\"gridlayer\"><g class=\"x\"/><g class=\"y\"><path class=\"ygrid crisp\" transform=\"translate(0,368.4)\" d=\"M80,0h540\" style=\"stroke: rgb(255, 255, 255); stroke-opacity: 1; stroke-width: 1px;\"/><path class=\"ygrid crisp\" transform=\"translate(0,316.81)\" d=\"M80,0h540\" style=\"stroke: rgb(255, 255, 255); stroke-opacity: 1; stroke-width: 1px;\"/><path class=\"ygrid crisp\" transform=\"translate(0,265.21000000000004)\" d=\"M80,0h540\" style=\"stroke: rgb(255, 255, 255); stroke-opacity: 1; stroke-width: 1px;\"/><path class=\"ygrid crisp\" transform=\"translate(0,213.62)\" d=\"M80,0h540\" style=\"stroke: rgb(255, 255, 255); stroke-opacity: 1; stroke-width: 1px;\"/><path class=\"ygrid crisp\" transform=\"translate(0,162.02)\" d=\"M80,0h540\" style=\"stroke: rgb(255, 255, 255); stroke-opacity: 1; stroke-width: 1px;\"/><path class=\"ygrid crisp\" transform=\"translate(0,110.43)\" d=\"M80,0h540\" style=\"stroke: rgb(255, 255, 255); stroke-opacity: 1; stroke-width: 1px;\"/></g></g><g class=\"zerolinelayer\"><path class=\"yzl zl crisp\" transform=\"translate(0,420)\" d=\"M80,0h540\" style=\"stroke: rgb(255, 255, 255); stroke-opacity: 1; stroke-width: 2px;\"/></g><g class=\"layer-between\"><g class=\"shapelayer\"/><g class=\"imagelayer\"/></g><path class=\"xlines-below\"/><path class=\"ylines-below\"/><g class=\"overlines-below\"/><g class=\"xaxislayer-below\"/><g class=\"yaxislayer-below\"/><g class=\"overaxes-below\"/><g class=\"plot\" transform=\"translate(80,100)\" clip-path=\"url(#clipe07562xyplot)\"><g class=\"barlayer mlayer\"><g class=\"trace bars\" shape-rendering=\"crispEdges\" style=\"opacity: 1;\"><g class=\"points\"><g class=\"point\"><path d=\"M0,320V319.9H1.64V320Z\" style=\"vector-effect: none; opacity: 1; stroke-width: 0px; fill: rgb(99, 110, 250); fill-opacity: 1;\"/></g><g class=\"point\"><path d=\"M0,0Z\" style=\"vector-effect: none; opacity: 1; stroke-width: 0px; fill: rgb(99, 110, 250); fill-opacity: 1;\"/></g><g class=\"point\"><path d=\"M0,0Z\" style=\"vector-effect: none; opacity: 1; stroke-width: 0px; fill: rgb(99, 110, 250); fill-opacity: 1;\"/></g><g class=\"point\"><path d=\"M0,0Z\" style=\"vector-effect: none; opacity: 1; stroke-width: 0px; fill: rgb(99, 110, 250); fill-opacity: 1;\"/></g><g class=\"point\"><path d=\"M0,0Z\" style=\"vector-effect: none; opacity: 1; stroke-width: 0px; fill: rgb(99, 110, 250); fill-opacity: 1;\"/></g><g class=\"point\"><path d=\"M0,0Z\" style=\"vector-effect: none; opacity: 1; stroke-width: 0px; fill: rgb(99, 110, 250); fill-opacity: 1;\"/></g><g class=\"point\"><path d=\"M0,0Z\" style=\"vector-effect: none; opacity: 1; stroke-width: 0px; fill: rgb(99, 110, 250); fill-opacity: 1;\"/></g><g class=\"point\"><path d=\"M11.45,320V319.48H13.09V320Z\" style=\"vector-effect: none; opacity: 1; stroke-width: 0px; fill: rgb(99, 110, 250); fill-opacity: 1;\"/></g><g class=\"point\"><path d=\"M0,0Z\" style=\"vector-effect: none; opacity: 1; stroke-width: 0px; fill: rgb(99, 110, 250); fill-opacity: 1;\"/></g><g class=\"point\"><path d=\"M0,0Z\" style=\"vector-effect: none; opacity: 1; stroke-width: 0px; fill: rgb(99, 110, 250); fill-opacity: 1;\"/></g><g class=\"point\"><path d=\"M16.36,320V319.9H18V320Z\" style=\"vector-effect: none; opacity: 1; stroke-width: 0px; fill: rgb(99, 110, 250); fill-opacity: 1;\"/></g><g class=\"point\"><path d=\"M0,0Z\" style=\"vector-effect: none; opacity: 1; stroke-width: 0px; fill: rgb(99, 110, 250); fill-opacity: 1;\"/></g><g class=\"point\"><path d=\"M0,0Z\" style=\"vector-effect: none; opacity: 1; stroke-width: 0px; fill: rgb(99, 110, 250); fill-opacity: 1;\"/></g><g class=\"point\"><path d=\"M0,0Z\" style=\"vector-effect: none; opacity: 1; stroke-width: 0px; fill: rgb(99, 110, 250); fill-opacity: 1;\"/></g><g class=\"point\"><path d=\"M0,0Z\" style=\"vector-effect: none; opacity: 1; stroke-width: 0px; fill: rgb(99, 110, 250); fill-opacity: 1;\"/></g><g class=\"point\"><path d=\"M0,0Z\" style=\"vector-effect: none; opacity: 1; stroke-width: 0px; fill: rgb(99, 110, 250); fill-opacity: 1;\"/></g><g class=\"point\"><path d=\"M26.18,320V319.79H27.82V320Z\" style=\"vector-effect: none; opacity: 1; stroke-width: 0px; fill: rgb(99, 110, 250); fill-opacity: 1;\"/></g><g class=\"point\"><path d=\"M0,0Z\" style=\"vector-effect: none; opacity: 1; stroke-width: 0px; fill: rgb(99, 110, 250); fill-opacity: 1;\"/></g><g class=\"point\"><path d=\"M0,0Z\" style=\"vector-effect: none; opacity: 1; stroke-width: 0px; fill: rgb(99, 110, 250); fill-opacity: 1;\"/></g><g class=\"point\"><path d=\"M0,0Z\" style=\"vector-effect: none; opacity: 1; stroke-width: 0px; fill: rgb(99, 110, 250); fill-opacity: 1;\"/></g><g class=\"point\"><path d=\"M0,0Z\" style=\"vector-effect: none; opacity: 1; stroke-width: 0px; fill: rgb(99, 110, 250); fill-opacity: 1;\"/></g><g class=\"point\"><path d=\"M0,0Z\" style=\"vector-effect: none; opacity: 1; stroke-width: 0px; fill: rgb(99, 110, 250); fill-opacity: 1;\"/></g><g class=\"point\"><path d=\"M0,0Z\" style=\"vector-effect: none; opacity: 1; stroke-width: 0px; fill: rgb(99, 110, 250); fill-opacity: 1;\"/></g><g class=\"point\"><path d=\"M37.64,320V319.9H39.27V320Z\" style=\"vector-effect: none; opacity: 1; stroke-width: 0px; fill: rgb(99, 110, 250); fill-opacity: 1;\"/></g><g class=\"point\"><path d=\"M0,0Z\" style=\"vector-effect: none; opacity: 1; stroke-width: 0px; fill: rgb(99, 110, 250); fill-opacity: 1;\"/></g><g class=\"point\"><path d=\"M40.91,320V319.9H42.55V320Z\" style=\"vector-effect: none; opacity: 1; stroke-width: 0px; fill: rgb(99, 110, 250); fill-opacity: 1;\"/></g><g class=\"point\"><path d=\"M42.55,320V319.79H44.18V320Z\" style=\"vector-effect: none; opacity: 1; stroke-width: 0px; fill: rgb(99, 110, 250); fill-opacity: 1;\"/></g><g class=\"point\"><path d=\"M44.18,320V319.9H45.82V320Z\" style=\"vector-effect: none; opacity: 1; stroke-width: 0px; fill: rgb(99, 110, 250); fill-opacity: 1;\"/></g><g class=\"point\"><path d=\"M0,0Z\" style=\"vector-effect: none; opacity: 1; stroke-width: 0px; fill: rgb(99, 110, 250); fill-opacity: 1;\"/></g><g class=\"point\"><path d=\"M0,0Z\" style=\"vector-effect: none; opacity: 1; stroke-width: 0px; fill: rgb(99, 110, 250); fill-opacity: 1;\"/></g><g class=\"point\"><path d=\"M49.09,320V319.9H50.73V320Z\" style=\"vector-effect: none; opacity: 1; stroke-width: 0px; fill: rgb(99, 110, 250); fill-opacity: 1;\"/></g><g class=\"point\"><path d=\"M50.73,320V319.79H52.36V320Z\" style=\"vector-effect: none; opacity: 1; stroke-width: 0px; fill: rgb(99, 110, 250); fill-opacity: 1;\"/></g><g class=\"point\"><path d=\"M52.36,320V319.9H54V320Z\" style=\"vector-effect: none; opacity: 1; stroke-width: 0px; fill: rgb(99, 110, 250); fill-opacity: 1;\"/></g><g class=\"point\"><path d=\"M54,320V319.9H55.64V320Z\" style=\"vector-effect: none; opacity: 1; stroke-width: 0px; fill: rgb(99, 110, 250); fill-opacity: 1;\"/></g><g class=\"point\"><path d=\"M55.64,320V319.48H57.27V320Z\" style=\"vector-effect: none; opacity: 1; stroke-width: 0px; fill: rgb(99, 110, 250); fill-opacity: 1;\"/></g><g class=\"point\"><path d=\"M57.27,320V319.9H58.91V320Z\" style=\"vector-effect: none; opacity: 1; stroke-width: 0px; fill: rgb(99, 110, 250); fill-opacity: 1;\"/></g><g class=\"point\"><path d=\"M58.91,320V319.9H60.55V320Z\" style=\"vector-effect: none; opacity: 1; stroke-width: 0px; fill: rgb(99, 110, 250); fill-opacity: 1;\"/></g><g class=\"point\"><path d=\"M60.55,320V319.69H62.18V320Z\" style=\"vector-effect: none; opacity: 1; stroke-width: 0px; fill: rgb(99, 110, 250); fill-opacity: 1;\"/></g><g class=\"point\"><path d=\"M62.18,320V319.38H63.82V320Z\" style=\"vector-effect: none; opacity: 1; stroke-width: 0px; fill: rgb(99, 110, 250); fill-opacity: 1;\"/></g><g class=\"point\"><path d=\"M63.82,320V319.59H65.45V320Z\" style=\"vector-effect: none; opacity: 1; stroke-width: 0px; fill: rgb(99, 110, 250); fill-opacity: 1;\"/></g><g class=\"point\"><path d=\"M0,0Z\" style=\"vector-effect: none; opacity: 1; stroke-width: 0px; fill: rgb(99, 110, 250); fill-opacity: 1;\"/></g><g class=\"point\"><path d=\"M0,0Z\" style=\"vector-effect: none; opacity: 1; stroke-width: 0px; fill: rgb(99, 110, 250); fill-opacity: 1;\"/></g><g class=\"point\"><path d=\"M0,0Z\" style=\"vector-effect: none; opacity: 1; stroke-width: 0px; fill: rgb(99, 110, 250); fill-opacity: 1;\"/></g><g class=\"point\"><path d=\"M70.36,320V319.9H72V320Z\" style=\"vector-effect: none; opacity: 1; stroke-width: 0px; fill: rgb(99, 110, 250); fill-opacity: 1;\"/></g><g class=\"point\"><path d=\"M0,0Z\" style=\"vector-effect: none; opacity: 1; stroke-width: 0px; fill: rgb(99, 110, 250); fill-opacity: 1;\"/></g><g class=\"point\"><path d=\"M0,0Z\" style=\"vector-effect: none; opacity: 1; stroke-width: 0px; fill: rgb(99, 110, 250); fill-opacity: 1;\"/></g><g class=\"point\"><path d=\"M0,0Z\" style=\"vector-effect: none; opacity: 1; stroke-width: 0px; fill: rgb(99, 110, 250); fill-opacity: 1;\"/></g><g class=\"point\"><path d=\"M0,0Z\" style=\"vector-effect: none; opacity: 1; stroke-width: 0px; fill: rgb(99, 110, 250); fill-opacity: 1;\"/></g><g class=\"point\"><path d=\"M78.55,320V319.9H80.18V320Z\" style=\"vector-effect: none; opacity: 1; stroke-width: 0px; fill: rgb(99, 110, 250); fill-opacity: 1;\"/></g><g class=\"point\"><path d=\"M0,0Z\" style=\"vector-effect: none; opacity: 1; stroke-width: 0px; fill: rgb(99, 110, 250); fill-opacity: 1;\"/></g><g class=\"point\"><path d=\"M81.82,320V319.59H83.45V320Z\" style=\"vector-effect: none; opacity: 1; stroke-width: 0px; fill: rgb(99, 110, 250); fill-opacity: 1;\"/></g><g class=\"point\"><path d=\"M0,0Z\" style=\"vector-effect: none; opacity: 1; stroke-width: 0px; fill: rgb(99, 110, 250); fill-opacity: 1;\"/></g><g class=\"point\"><path d=\"M85.09,320V319.07H86.73V320Z\" style=\"vector-effect: none; opacity: 1; stroke-width: 0px; fill: rgb(99, 110, 250); fill-opacity: 1;\"/></g><g class=\"point\"><path d=\"M0,0Z\" style=\"vector-effect: none; opacity: 1; stroke-width: 0px; fill: rgb(99, 110, 250); fill-opacity: 1;\"/></g><g class=\"point\"><path d=\"M88.36,320V318.66H90V320Z\" style=\"vector-effect: none; opacity: 1; stroke-width: 0px; fill: rgb(99, 110, 250); fill-opacity: 1;\"/></g><g class=\"point\"><path d=\"M90,320V319.9H91.64V320Z\" style=\"vector-effect: none; opacity: 1; stroke-width: 0px; fill: rgb(99, 110, 250); fill-opacity: 1;\"/></g><g class=\"point\"><path d=\"M91.64,320V319.79H93.27V320Z\" style=\"vector-effect: none; opacity: 1; stroke-width: 0px; fill: rgb(99, 110, 250); fill-opacity: 1;\"/></g><g class=\"point\"><path d=\"M93.27,320V319.9H94.91V320Z\" style=\"vector-effect: none; opacity: 1; stroke-width: 0px; fill: rgb(99, 110, 250); fill-opacity: 1;\"/></g><g class=\"point\"><path d=\"M94.91,320V319.59H96.55V320Z\" style=\"vector-effect: none; opacity: 1; stroke-width: 0px; fill: rgb(99, 110, 250); fill-opacity: 1;\"/></g><g class=\"point\"><path d=\"M96.55,320V319.79H98.18V320Z\" style=\"vector-effect: none; opacity: 1; stroke-width: 0px; fill: rgb(99, 110, 250); fill-opacity: 1;\"/></g><g class=\"point\"><path d=\"M98.18,320V319.48H99.82V320Z\" style=\"vector-effect: none; opacity: 1; stroke-width: 0px; fill: rgb(99, 110, 250); fill-opacity: 1;\"/></g><g class=\"point\"><path d=\"M99.82,320V319.38H101.45V320Z\" style=\"vector-effect: none; opacity: 1; stroke-width: 0px; fill: rgb(99, 110, 250); fill-opacity: 1;\"/></g><g class=\"point\"><path d=\"M101.45,320V319.59H103.09V320Z\" style=\"vector-effect: none; opacity: 1; stroke-width: 0px; fill: rgb(99, 110, 250); fill-opacity: 1;\"/></g><g class=\"point\"><path d=\"M103.09,320V319.79H104.73V320Z\" style=\"vector-effect: none; opacity: 1; stroke-width: 0px; fill: rgb(99, 110, 250); fill-opacity: 1;\"/></g><g class=\"point\"><path d=\"M0,0Z\" style=\"vector-effect: none; opacity: 1; stroke-width: 0px; fill: rgb(99, 110, 250); fill-opacity: 1;\"/></g><g class=\"point\"><path d=\"M0,0Z\" style=\"vector-effect: none; opacity: 1; stroke-width: 0px; fill: rgb(99, 110, 250); fill-opacity: 1;\"/></g><g class=\"point\"><path d=\"M0,0Z\" style=\"vector-effect: none; opacity: 1; stroke-width: 0px; fill: rgb(99, 110, 250); fill-opacity: 1;\"/></g><g class=\"point\"><path d=\"M109.64,320V319.9H111.27V320Z\" style=\"vector-effect: none; opacity: 1; stroke-width: 0px; fill: rgb(99, 110, 250); fill-opacity: 1;\"/></g><g class=\"point\"><path d=\"M0,0Z\" style=\"vector-effect: none; opacity: 1; stroke-width: 0px; fill: rgb(99, 110, 250); fill-opacity: 1;\"/></g><g class=\"point\"><path d=\"M0,0Z\" style=\"vector-effect: none; opacity: 1; stroke-width: 0px; fill: rgb(99, 110, 250); fill-opacity: 1;\"/></g><g class=\"point\"><path d=\"M114.55,320V319.9H116.18V320Z\" style=\"vector-effect: none; opacity: 1; stroke-width: 0px; fill: rgb(99, 110, 250); fill-opacity: 1;\"/></g><g class=\"point\"><path d=\"M0,0Z\" style=\"vector-effect: none; opacity: 1; stroke-width: 0px; fill: rgb(99, 110, 250); fill-opacity: 1;\"/></g><g class=\"point\"><path d=\"M117.82,320V319.07H119.45V320Z\" style=\"vector-effect: none; opacity: 1; stroke-width: 0px; fill: rgb(99, 110, 250); fill-opacity: 1;\"/></g><g class=\"point\"><path d=\"M119.45,320V319.79H121.09V320Z\" style=\"vector-effect: none; opacity: 1; stroke-width: 0px; fill: rgb(99, 110, 250); fill-opacity: 1;\"/></g><g class=\"point\"><path d=\"M121.09,320V319.69H122.73V320Z\" style=\"vector-effect: none; opacity: 1; stroke-width: 0px; fill: rgb(99, 110, 250); fill-opacity: 1;\"/></g><g class=\"point\"><path d=\"M122.73,320V319.28H124.36V320Z\" style=\"vector-effect: none; opacity: 1; stroke-width: 0px; fill: rgb(99, 110, 250); fill-opacity: 1;\"/></g><g class=\"point\"><path d=\"M124.36,320V319.48H126V320Z\" style=\"vector-effect: none; opacity: 1; stroke-width: 0px; fill: rgb(99, 110, 250); fill-opacity: 1;\"/></g><g class=\"point\"><path d=\"M126,320V319.79H127.64V320Z\" style=\"vector-effect: none; opacity: 1; stroke-width: 0px; fill: rgb(99, 110, 250); fill-opacity: 1;\"/></g><g class=\"point\"><path d=\"M127.64,320V319.69H129.27V320Z\" style=\"vector-effect: none; opacity: 1; stroke-width: 0px; fill: rgb(99, 110, 250); fill-opacity: 1;\"/></g><g class=\"point\"><path d=\"M129.27,320V319.9H130.91V320Z\" style=\"vector-effect: none; opacity: 1; stroke-width: 0px; fill: rgb(99, 110, 250); fill-opacity: 1;\"/></g><g class=\"point\"><path d=\"M130.91,320V318.97H132.55V320Z\" style=\"vector-effect: none; opacity: 1; stroke-width: 0px; fill: rgb(99, 110, 250); fill-opacity: 1;\"/></g><g class=\"point\"><path d=\"M132.55,320V318.56H134.18V320Z\" style=\"vector-effect: none; opacity: 1; stroke-width: 0px; fill: rgb(99, 110, 250); fill-opacity: 1;\"/></g><g class=\"point\"><path d=\"M134.18,320V319.28H135.82V320Z\" style=\"vector-effect: none; opacity: 1; stroke-width: 0px; fill: rgb(99, 110, 250); fill-opacity: 1;\"/></g><g class=\"point\"><path d=\"M135.82,320V319.28H137.45V320Z\" style=\"vector-effect: none; opacity: 1; stroke-width: 0px; fill: rgb(99, 110, 250); fill-opacity: 1;\"/></g><g class=\"point\"><path d=\"M137.45,320V318.86H139.09V320Z\" style=\"vector-effect: none; opacity: 1; stroke-width: 0px; fill: rgb(99, 110, 250); fill-opacity: 1;\"/></g><g class=\"point\"><path d=\"M139.09,320V319.38H140.73V320Z\" style=\"vector-effect: none; opacity: 1; stroke-width: 0px; fill: rgb(99, 110, 250); fill-opacity: 1;\"/></g><g class=\"point\"><path d=\"M140.73,320V319.17H142.36V320Z\" style=\"vector-effect: none; opacity: 1; stroke-width: 0px; fill: rgb(99, 110, 250); fill-opacity: 1;\"/></g><g class=\"point\"><path d=\"M142.36,320V319.38H144V320Z\" style=\"vector-effect: none; opacity: 1; stroke-width: 0px; fill: rgb(99, 110, 250); fill-opacity: 1;\"/></g><g class=\"point\"><path d=\"M144,320V319.9H145.64V320Z\" style=\"vector-effect: none; opacity: 1; stroke-width: 0px; fill: rgb(99, 110, 250); fill-opacity: 1;\"/></g><g class=\"point\"><path d=\"M145.64,320V319.79H147.27V320Z\" style=\"vector-effect: none; opacity: 1; stroke-width: 0px; fill: rgb(99, 110, 250); fill-opacity: 1;\"/></g><g class=\"point\"><path d=\"M0,0Z\" style=\"vector-effect: none; opacity: 1; stroke-width: 0px; fill: rgb(99, 110, 250); fill-opacity: 1;\"/></g><g class=\"point\"><path d=\"M0,0Z\" style=\"vector-effect: none; opacity: 1; stroke-width: 0px; fill: rgb(99, 110, 250); fill-opacity: 1;\"/></g><g class=\"point\"><path d=\"M0,0Z\" style=\"vector-effect: none; opacity: 1; stroke-width: 0px; fill: rgb(99, 110, 250); fill-opacity: 1;\"/></g><g class=\"point\"><path d=\"M0,0Z\" style=\"vector-effect: none; opacity: 1; stroke-width: 0px; fill: rgb(99, 110, 250); fill-opacity: 1;\"/></g><g class=\"point\"><path d=\"M153.82,320V319.79H155.45V320Z\" style=\"vector-effect: none; opacity: 1; stroke-width: 0px; fill: rgb(99, 110, 250); fill-opacity: 1;\"/></g><g class=\"point\"><path d=\"M0,0Z\" style=\"vector-effect: none; opacity: 1; stroke-width: 0px; fill: rgb(99, 110, 250); fill-opacity: 1;\"/></g><g class=\"point\"><path d=\"M157.09,320V319.9H158.73V320Z\" style=\"vector-effect: none; opacity: 1; stroke-width: 0px; fill: rgb(99, 110, 250); fill-opacity: 1;\"/></g><g class=\"point\"><path d=\"M158.73,320V319.48H160.36V320Z\" style=\"vector-effect: none; opacity: 1; stroke-width: 0px; fill: rgb(99, 110, 250); fill-opacity: 1;\"/></g><g class=\"point\"><path d=\"M160.36,320V319.79H162V320Z\" style=\"vector-effect: none; opacity: 1; stroke-width: 0px; fill: rgb(99, 110, 250); fill-opacity: 1;\"/></g><g class=\"point\"><path d=\"M162,320V319.69H163.64V320Z\" style=\"vector-effect: none; opacity: 1; stroke-width: 0px; fill: rgb(99, 110, 250); fill-opacity: 1;\"/></g><g class=\"point\"><path d=\"M163.64,320V319.48H165.27V320Z\" style=\"vector-effect: none; opacity: 1; stroke-width: 0px; fill: rgb(99, 110, 250); fill-opacity: 1;\"/></g><g class=\"point\"><path d=\"M165.27,320V319.17H166.91V320Z\" style=\"vector-effect: none; opacity: 1; stroke-width: 0px; fill: rgb(99, 110, 250); fill-opacity: 1;\"/></g><g class=\"point\"><path d=\"M166.91,320V318.86H168.55V320Z\" style=\"vector-effect: none; opacity: 1; stroke-width: 0px; fill: rgb(99, 110, 250); fill-opacity: 1;\"/></g><g class=\"point\"><path d=\"M168.55,320V319.28H170.18V320Z\" style=\"vector-effect: none; opacity: 1; stroke-width: 0px; fill: rgb(99, 110, 250); fill-opacity: 1;\"/></g><g class=\"point\"><path d=\"M170.18,320V319.07H171.82V320Z\" style=\"vector-effect: none; opacity: 1; stroke-width: 0px; fill: rgb(99, 110, 250); fill-opacity: 1;\"/></g><g class=\"point\"><path d=\"M171.82,320V318.86H173.45V320Z\" style=\"vector-effect: none; opacity: 1; stroke-width: 0px; fill: rgb(99, 110, 250); fill-opacity: 1;\"/></g><g class=\"point\"><path d=\"M173.45,320V317.21H175.09V320Z\" style=\"vector-effect: none; opacity: 1; stroke-width: 0px; fill: rgb(99, 110, 250); fill-opacity: 1;\"/></g><g class=\"point\"><path d=\"M175.09,320V318.97H176.73V320Z\" style=\"vector-effect: none; opacity: 1; stroke-width: 0px; fill: rgb(99, 110, 250); fill-opacity: 1;\"/></g><g class=\"point\"><path d=\"M176.73,320V318.04H178.36V320Z\" style=\"vector-effect: none; opacity: 1; stroke-width: 0px; fill: rgb(99, 110, 250); fill-opacity: 1;\"/></g><g class=\"point\"><path d=\"M178.36,320V317.21H180V320Z\" style=\"vector-effect: none; opacity: 1; stroke-width: 0px; fill: rgb(99, 110, 250); fill-opacity: 1;\"/></g><g class=\"point\"><path d=\"M180,320V318.66H181.64V320Z\" style=\"vector-effect: none; opacity: 1; stroke-width: 0px; fill: rgb(99, 110, 250); fill-opacity: 1;\"/></g><g class=\"point\"><path d=\"M181.64,320V318.35H183.27V320Z\" style=\"vector-effect: none; opacity: 1; stroke-width: 0px; fill: rgb(99, 110, 250); fill-opacity: 1;\"/></g><g class=\"point\"><path d=\"M183.27,320V319.69H184.91V320Z\" style=\"vector-effect: none; opacity: 1; stroke-width: 0px; fill: rgb(99, 110, 250); fill-opacity: 1;\"/></g><g class=\"point\"><path d=\"M184.91,320V319.59H186.55V320Z\" style=\"vector-effect: none; opacity: 1; stroke-width: 0px; fill: rgb(99, 110, 250); fill-opacity: 1;\"/></g><g class=\"point\"><path d=\"M186.55,320V319.9H188.18V320Z\" style=\"vector-effect: none; opacity: 1; stroke-width: 0px; fill: rgb(99, 110, 250); fill-opacity: 1;\"/></g><g class=\"point\"><path d=\"M0,0Z\" style=\"vector-effect: none; opacity: 1; stroke-width: 0px; fill: rgb(99, 110, 250); fill-opacity: 1;\"/></g><g class=\"point\"><path d=\"M0,0Z\" style=\"vector-effect: none; opacity: 1; stroke-width: 0px; fill: rgb(99, 110, 250); fill-opacity: 1;\"/></g><g class=\"point\"><path d=\"M191.45,320V319.79H193.09V320Z\" style=\"vector-effect: none; opacity: 1; stroke-width: 0px; fill: rgb(99, 110, 250); fill-opacity: 1;\"/></g><g class=\"point\"><path d=\"M193.09,320V319.79H194.73V320Z\" style=\"vector-effect: none; opacity: 1; stroke-width: 0px; fill: rgb(99, 110, 250); fill-opacity: 1;\"/></g><g class=\"point\"><path d=\"M194.73,320V319.79H196.36V320Z\" style=\"vector-effect: none; opacity: 1; stroke-width: 0px; fill: rgb(99, 110, 250); fill-opacity: 1;\"/></g><g class=\"point\"><path d=\"M196.36,320V318.76H198V320Z\" style=\"vector-effect: none; opacity: 1; stroke-width: 0px; fill: rgb(99, 110, 250); fill-opacity: 1;\"/></g><g class=\"point\"><path d=\"M198,320V318.45H199.64V320Z\" style=\"vector-effect: none; opacity: 1; stroke-width: 0px; fill: rgb(99, 110, 250); fill-opacity: 1;\"/></g><g class=\"point\"><path d=\"M199.64,320V318.56H201.27V320Z\" style=\"vector-effect: none; opacity: 1; stroke-width: 0px; fill: rgb(99, 110, 250); fill-opacity: 1;\"/></g><g class=\"point\"><path d=\"M201.27,320V319.07H202.91V320Z\" style=\"vector-effect: none; opacity: 1; stroke-width: 0px; fill: rgb(99, 110, 250); fill-opacity: 1;\"/></g><g class=\"point\"><path d=\"M202.91,320V317.32H204.55V320Z\" style=\"vector-effect: none; opacity: 1; stroke-width: 0px; fill: rgb(99, 110, 250); fill-opacity: 1;\"/></g><g class=\"point\"><path d=\"M204.55,320V318.04H206.18V320Z\" style=\"vector-effect: none; opacity: 1; stroke-width: 0px; fill: rgb(99, 110, 250); fill-opacity: 1;\"/></g><g class=\"point\"><path d=\"M206.18,320V316.8H207.82V320Z\" style=\"vector-effect: none; opacity: 1; stroke-width: 0px; fill: rgb(99, 110, 250); fill-opacity: 1;\"/></g><g class=\"point\"><path d=\"M207.82,320V316.7H209.45V320Z\" style=\"vector-effect: none; opacity: 1; stroke-width: 0px; fill: rgb(99, 110, 250); fill-opacity: 1;\"/></g><g class=\"point\"><path d=\"M209.45,320V317.73H211.09V320Z\" style=\"vector-effect: none; opacity: 1; stroke-width: 0px; fill: rgb(99, 110, 250); fill-opacity: 1;\"/></g><g class=\"point\"><path d=\"M211.09,320V317.32H212.73V320Z\" style=\"vector-effect: none; opacity: 1; stroke-width: 0px; fill: rgb(99, 110, 250); fill-opacity: 1;\"/></g><g class=\"point\"><path d=\"M212.73,320V317.52H214.36V320Z\" style=\"vector-effect: none; opacity: 1; stroke-width: 0px; fill: rgb(99, 110, 250); fill-opacity: 1;\"/></g><g class=\"point\"><path d=\"M214.36,320V317.11H216V320Z\" style=\"vector-effect: none; opacity: 1; stroke-width: 0px; fill: rgb(99, 110, 250); fill-opacity: 1;\"/></g><g class=\"point\"><path d=\"M216,320V315.77H217.64V320Z\" style=\"vector-effect: none; opacity: 1; stroke-width: 0px; fill: rgb(99, 110, 250); fill-opacity: 1;\"/></g><g class=\"point\"><path d=\"M217.64,320V316.9H219.27V320Z\" style=\"vector-effect: none; opacity: 1; stroke-width: 0px; fill: rgb(99, 110, 250); fill-opacity: 1;\"/></g><g class=\"point\"><path d=\"M219.27,320V317.63H220.91V320Z\" style=\"vector-effect: none; opacity: 1; stroke-width: 0px; fill: rgb(99, 110, 250); fill-opacity: 1;\"/></g><g class=\"point\"><path d=\"M220.91,320V317.83H222.55V320Z\" style=\"vector-effect: none; opacity: 1; stroke-width: 0px; fill: rgb(99, 110, 250); fill-opacity: 1;\"/></g><g class=\"point\"><path d=\"M222.55,320V318.56H224.18V320Z\" style=\"vector-effect: none; opacity: 1; stroke-width: 0px; fill: rgb(99, 110, 250); fill-opacity: 1;\"/></g><g class=\"point\"><path d=\"M224.18,320V318.97H225.82V320Z\" style=\"vector-effect: none; opacity: 1; stroke-width: 0px; fill: rgb(99, 110, 250); fill-opacity: 1;\"/></g><g class=\"point\"><path d=\"M225.82,320V319.59H227.45V320Z\" style=\"vector-effect: none; opacity: 1; stroke-width: 0px; fill: rgb(99, 110, 250); fill-opacity: 1;\"/></g><g class=\"point\"><path d=\"M227.45,320V319.38H229.09V320Z\" style=\"vector-effect: none; opacity: 1; stroke-width: 0px; fill: rgb(99, 110, 250); fill-opacity: 1;\"/></g><g class=\"point\"><path d=\"M0,0Z\" style=\"vector-effect: none; opacity: 1; stroke-width: 0px; fill: rgb(99, 110, 250); fill-opacity: 1;\"/></g><g class=\"point\"><path d=\"M230.73,320V319.69H232.36V320Z\" style=\"vector-effect: none; opacity: 1; stroke-width: 0px; fill: rgb(99, 110, 250); fill-opacity: 1;\"/></g><g class=\"point\"><path d=\"M232.36,320V319.79H234V320Z\" style=\"vector-effect: none; opacity: 1; stroke-width: 0px; fill: rgb(99, 110, 250); fill-opacity: 1;\"/></g><g class=\"point\"><path d=\"M234,320V318.76H235.64V320Z\" style=\"vector-effect: none; opacity: 1; stroke-width: 0px; fill: rgb(99, 110, 250); fill-opacity: 1;\"/></g><g class=\"point\"><path d=\"M235.64,320V317.73H237.27V320Z\" style=\"vector-effect: none; opacity: 1; stroke-width: 0px; fill: rgb(99, 110, 250); fill-opacity: 1;\"/></g><g class=\"point\"><path d=\"M237.27,320V317.21H238.91V320Z\" style=\"vector-effect: none; opacity: 1; stroke-width: 0px; fill: rgb(99, 110, 250); fill-opacity: 1;\"/></g><g class=\"point\"><path d=\"M238.91,320V316.8H240.55V320Z\" style=\"vector-effect: none; opacity: 1; stroke-width: 0px; fill: rgb(99, 110, 250); fill-opacity: 1;\"/></g><g class=\"point\"><path d=\"M240.55,320V315.36H242.18V320Z\" style=\"vector-effect: none; opacity: 1; stroke-width: 0px; fill: rgb(99, 110, 250); fill-opacity: 1;\"/></g><g class=\"point\"><path d=\"M242.18,320V316.8H243.82V320Z\" style=\"vector-effect: none; opacity: 1; stroke-width: 0px; fill: rgb(99, 110, 250); fill-opacity: 1;\"/></g><g class=\"point\"><path d=\"M243.82,320V314.94H245.45V320Z\" style=\"vector-effect: none; opacity: 1; stroke-width: 0px; fill: rgb(99, 110, 250); fill-opacity: 1;\"/></g><g class=\"point\"><path d=\"M245.45,320V310.92H247.09V320Z\" style=\"vector-effect: none; opacity: 1; stroke-width: 0px; fill: rgb(99, 110, 250); fill-opacity: 1;\"/></g><g class=\"point\"><path d=\"M247.09,320V314.53H248.73V320Z\" style=\"vector-effect: none; opacity: 1; stroke-width: 0px; fill: rgb(99, 110, 250); fill-opacity: 1;\"/></g><g class=\"point\"><path d=\"M248.73,320V311.54H250.36V320Z\" style=\"vector-effect: none; opacity: 1; stroke-width: 0px; fill: rgb(99, 110, 250); fill-opacity: 1;\"/></g><g class=\"point\"><path d=\"M250.36,320V310.51H252V320Z\" style=\"vector-effect: none; opacity: 1; stroke-width: 0px; fill: rgb(99, 110, 250); fill-opacity: 1;\"/></g><g class=\"point\"><path d=\"M252,320V309.99H253.64V320Z\" style=\"vector-effect: none; opacity: 1; stroke-width: 0px; fill: rgb(99, 110, 250); fill-opacity: 1;\"/></g><g class=\"point\"><path d=\"M253.64,320V308.55H255.27V320Z\" style=\"vector-effect: none; opacity: 1; stroke-width: 0px; fill: rgb(99, 110, 250); fill-opacity: 1;\"/></g><g class=\"point\"><path d=\"M255.27,320V308.86H256.91V320Z\" style=\"vector-effect: none; opacity: 1; stroke-width: 0px; fill: rgb(99, 110, 250); fill-opacity: 1;\"/></g><g class=\"point\"><path d=\"M256.91,320V308.34H258.55V320Z\" style=\"vector-effect: none; opacity: 1; stroke-width: 0px; fill: rgb(99, 110, 250); fill-opacity: 1;\"/></g><g class=\"point\"><path d=\"M258.55,320V309.06H260.18V320Z\" style=\"vector-effect: none; opacity: 1; stroke-width: 0px; fill: rgb(99, 110, 250); fill-opacity: 1;\"/></g><g class=\"point\"><path d=\"M260.18,320V313.29H261.82V320Z\" style=\"vector-effect: none; opacity: 1; stroke-width: 0px; fill: rgb(99, 110, 250); fill-opacity: 1;\"/></g><g class=\"point\"><path d=\"M261.82,320V314.22H263.45V320Z\" style=\"vector-effect: none; opacity: 1; stroke-width: 0px; fill: rgb(99, 110, 250); fill-opacity: 1;\"/></g><g class=\"point\"><path d=\"M263.45,320V276.14H265.09V320Z\" style=\"vector-effect: none; opacity: 1; stroke-width: 0px; fill: rgb(99, 110, 250); fill-opacity: 1;\"/></g><g class=\"point\"><path d=\"M265.09,320V288.11H266.73V320Z\" style=\"vector-effect: none; opacity: 1; stroke-width: 0px; fill: rgb(99, 110, 250); fill-opacity: 1;\"/></g><g class=\"point\"><path d=\"M266.73,320V309.27H268.36V320Z\" style=\"vector-effect: none; opacity: 1; stroke-width: 0px; fill: rgb(99, 110, 250); fill-opacity: 1;\"/></g><g class=\"point\"><path d=\"M268.36,320V300.19H270V320Z\" style=\"vector-effect: none; opacity: 1; stroke-width: 0px; fill: rgb(99, 110, 250); fill-opacity: 1;\"/></g><g class=\"point\"><path d=\"M270,320V296.47H271.64V320Z\" style=\"vector-effect: none; opacity: 1; stroke-width: 0px; fill: rgb(99, 110, 250); fill-opacity: 1;\"/></g><g class=\"point\"><path d=\"M271.64,320V286.05H273.27V320Z\" style=\"vector-effect: none; opacity: 1; stroke-width: 0px; fill: rgb(99, 110, 250); fill-opacity: 1;\"/></g><g class=\"point\"><path d=\"M273.27,320V252.1H274.91V320Z\" style=\"vector-effect: none; opacity: 1; stroke-width: 0px; fill: rgb(99, 110, 250); fill-opacity: 1;\"/></g><g class=\"point\"><path d=\"M274.91,320V233.53H276.55V320Z\" style=\"vector-effect: none; opacity: 1; stroke-width: 0px; fill: rgb(99, 110, 250); fill-opacity: 1;\"/></g><g class=\"point\"><path d=\"M276.55,320V204.84H278.18V320Z\" style=\"vector-effect: none; opacity: 1; stroke-width: 0px; fill: rgb(99, 110, 250); fill-opacity: 1;\"/></g><g class=\"point\"><path d=\"M278.18,320V172.13H279.82V320Z\" style=\"vector-effect: none; opacity: 1; stroke-width: 0px; fill: rgb(99, 110, 250); fill-opacity: 1;\"/></g><g class=\"point\"><path d=\"M279.82,320V138.49H281.45V320Z\" style=\"vector-effect: none; opacity: 1; stroke-width: 0px; fill: rgb(99, 110, 250); fill-opacity: 1;\"/></g><g class=\"point\"><path d=\"M281.45,320V123.73H283.09V320Z\" style=\"vector-effect: none; opacity: 1; stroke-width: 0px; fill: rgb(99, 110, 250); fill-opacity: 1;\"/></g><g class=\"point\"><path d=\"M283.09,320V113H284.73V320Z\" style=\"vector-effect: none; opacity: 1; stroke-width: 0px; fill: rgb(99, 110, 250); fill-opacity: 1;\"/></g><g class=\"point\"><path d=\"M284.73,320V117.44H286.36V320Z\" style=\"vector-effect: none; opacity: 1; stroke-width: 0px; fill: rgb(99, 110, 250); fill-opacity: 1;\"/></g><g class=\"point\"><path d=\"M286.36,320V57.28H288V320Z\" style=\"vector-effect: none; opacity: 1; stroke-width: 0px; fill: rgb(99, 110, 250); fill-opacity: 1;\"/></g><g class=\"point\"><path d=\"M288,320V55.93H289.64V320Z\" style=\"vector-effect: none; opacity: 1; stroke-width: 0px; fill: rgb(99, 110, 250); fill-opacity: 1;\"/></g><g class=\"point\"><path d=\"M289.64,320V82.45H291.27V320Z\" style=\"vector-effect: none; opacity: 1; stroke-width: 0px; fill: rgb(99, 110, 250); fill-opacity: 1;\"/></g><g class=\"point\"><path d=\"M291.27,320V30.03H292.91V320Z\" style=\"vector-effect: none; opacity: 1; stroke-width: 0px; fill: rgb(99, 110, 250); fill-opacity: 1;\"/></g><g class=\"point\"><path d=\"M292.91,320V77.3H294.55V320Z\" style=\"vector-effect: none; opacity: 1; stroke-width: 0px; fill: rgb(99, 110, 250); fill-opacity: 1;\"/></g><g class=\"point\"><path d=\"M294.55,320V48.4H296.18V320Z\" style=\"vector-effect: none; opacity: 1; stroke-width: 0px; fill: rgb(99, 110, 250); fill-opacity: 1;\"/></g><g class=\"point\"><path d=\"M296.18,320V68.73H297.82V320Z\" style=\"vector-effect: none; opacity: 1; stroke-width: 0px; fill: rgb(99, 110, 250); fill-opacity: 1;\"/></g><g class=\"point\"><path d=\"M297.82,320V102.58H299.45V320Z\" style=\"vector-effect: none; opacity: 1; stroke-width: 0px; fill: rgb(99, 110, 250); fill-opacity: 1;\"/></g><g class=\"point\"><path d=\"M299.45,320V132.81H301.09V320Z\" style=\"vector-effect: none; opacity: 1; stroke-width: 0px; fill: rgb(99, 110, 250); fill-opacity: 1;\"/></g><g class=\"point\"><path d=\"M301.09,320V215.78H302.73V320Z\" style=\"vector-effect: none; opacity: 1; stroke-width: 0px; fill: rgb(99, 110, 250); fill-opacity: 1;\"/></g><g class=\"point\"><path d=\"M302.73,320V250.24H304.36V320Z\" style=\"vector-effect: none; opacity: 1; stroke-width: 0px; fill: rgb(99, 110, 250); fill-opacity: 1;\"/></g><g class=\"point\"><path d=\"M304.36,320V287.39H306V320Z\" style=\"vector-effect: none; opacity: 1; stroke-width: 0px; fill: rgb(99, 110, 250); fill-opacity: 1;\"/></g><g class=\"point\"><path d=\"M306,320V294.62H307.64V320Z\" style=\"vector-effect: none; opacity: 1; stroke-width: 0px; fill: rgb(99, 110, 250); fill-opacity: 1;\"/></g><g class=\"point\"><path d=\"M307.64,320V253.24H309.27V320Z\" style=\"vector-effect: none; opacity: 1; stroke-width: 0px; fill: rgb(99, 110, 250); fill-opacity: 1;\"/></g><g class=\"point\"><path d=\"M309.27,320V237.14H310.91V320Z\" style=\"vector-effect: none; opacity: 1; stroke-width: 0px; fill: rgb(99, 110, 250); fill-opacity: 1;\"/></g><g class=\"point\"><path d=\"M310.91,320V247.04H312.55V320Z\" style=\"vector-effect: none; opacity: 1; stroke-width: 0px; fill: rgb(99, 110, 250); fill-opacity: 1;\"/></g><g class=\"point\"><path d=\"M312.55,320V232.29H314.18V320Z\" style=\"vector-effect: none; opacity: 1; stroke-width: 0px; fill: rgb(99, 110, 250); fill-opacity: 1;\"/></g><g class=\"point\"><path d=\"M314.18,320V239.72H315.82V320Z\" style=\"vector-effect: none; opacity: 1; stroke-width: 0px; fill: rgb(99, 110, 250); fill-opacity: 1;\"/></g><g class=\"point\"><path d=\"M315.82,320V213.4H317.45V320Z\" style=\"vector-effect: none; opacity: 1; stroke-width: 0px; fill: rgb(99, 110, 250); fill-opacity: 1;\"/></g><g class=\"point\"><path d=\"M317.45,320V181.62H319.09V320Z\" style=\"vector-effect: none; opacity: 1; stroke-width: 0px; fill: rgb(99, 110, 250); fill-opacity: 1;\"/></g><g class=\"point\"><path d=\"M319.09,320V145.19H320.73V320Z\" style=\"vector-effect: none; opacity: 1; stroke-width: 0px; fill: rgb(99, 110, 250); fill-opacity: 1;\"/></g><g class=\"point\"><path d=\"M320.73,320V117.02H322.36V320Z\" style=\"vector-effect: none; opacity: 1; stroke-width: 0px; fill: rgb(99, 110, 250); fill-opacity: 1;\"/></g><g class=\"point\"><path d=\"M322.36,320V93.81H324V320Z\" style=\"vector-effect: none; opacity: 1; stroke-width: 0px; fill: rgb(99, 110, 250); fill-opacity: 1;\"/></g><g class=\"point\"><path d=\"M324,320V108.56H325.64V320Z\" style=\"vector-effect: none; opacity: 1; stroke-width: 0px; fill: rgb(99, 110, 250); fill-opacity: 1;\"/></g><g class=\"point\"><path d=\"M325.64,320V82.97H327.27V320Z\" style=\"vector-effect: none; opacity: 1; stroke-width: 0px; fill: rgb(99, 110, 250); fill-opacity: 1;\"/></g><g class=\"point\"><path d=\"M327.27,320V126.31H328.91V320Z\" style=\"vector-effect: none; opacity: 1; stroke-width: 0px; fill: rgb(99, 110, 250); fill-opacity: 1;\"/></g><g class=\"point\"><path d=\"M328.91,320V76.78H330.55V320Z\" style=\"vector-effect: none; opacity: 1; stroke-width: 0px; fill: rgb(99, 110, 250); fill-opacity: 1;\"/></g><g class=\"point\"><path d=\"M330.55,320V74.72H332.18V320Z\" style=\"vector-effect: none; opacity: 1; stroke-width: 0px; fill: rgb(99, 110, 250); fill-opacity: 1;\"/></g><g class=\"point\"><path d=\"M332.18,320V58.51H333.82V320Z\" style=\"vector-effect: none; opacity: 1; stroke-width: 0px; fill: rgb(99, 110, 250); fill-opacity: 1;\"/></g><g class=\"point\"><path d=\"M333.82,320V84.21H335.45V320Z\" style=\"vector-effect: none; opacity: 1; stroke-width: 0px; fill: rgb(99, 110, 250); fill-opacity: 1;\"/></g><g class=\"point\"><path d=\"M335.45,320V126.62H337.09V320Z\" style=\"vector-effect: none; opacity: 1; stroke-width: 0px; fill: rgb(99, 110, 250); fill-opacity: 1;\"/></g><g class=\"point\"><path d=\"M337.09,320V143.13H338.73V320Z\" style=\"vector-effect: none; opacity: 1; stroke-width: 0px; fill: rgb(99, 110, 250); fill-opacity: 1;\"/></g><g class=\"point\"><path d=\"M338.73,320V140.76H340.36V320Z\" style=\"vector-effect: none; opacity: 1; stroke-width: 0px; fill: rgb(99, 110, 250); fill-opacity: 1;\"/></g><g class=\"point\"><path d=\"M340.36,320V186.16H342V320Z\" style=\"vector-effect: none; opacity: 1; stroke-width: 0px; fill: rgb(99, 110, 250); fill-opacity: 1;\"/></g><g class=\"point\"><path d=\"M342,320V244.88H343.64V320Z\" style=\"vector-effect: none; opacity: 1; stroke-width: 0px; fill: rgb(99, 110, 250); fill-opacity: 1;\"/></g><g class=\"point\"><path d=\"M343.64,320V291.73H345.27V320Z\" style=\"vector-effect: none; opacity: 1; stroke-width: 0px; fill: rgb(99, 110, 250); fill-opacity: 1;\"/></g><g class=\"point\"><path d=\"M345.27,320V299.98H346.91V320Z\" style=\"vector-effect: none; opacity: 1; stroke-width: 0px; fill: rgb(99, 110, 250); fill-opacity: 1;\"/></g><g class=\"point\"><path d=\"M346.91,320V311.64H348.55V320Z\" style=\"vector-effect: none; opacity: 1; stroke-width: 0px; fill: rgb(99, 110, 250); fill-opacity: 1;\"/></g><g class=\"point\"><path d=\"M348.55,320V302.25H350.18V320Z\" style=\"vector-effect: none; opacity: 1; stroke-width: 0px; fill: rgb(99, 110, 250); fill-opacity: 1;\"/></g><g class=\"point\"><path d=\"M350.18,320V272.22H351.82V320Z\" style=\"vector-effect: none; opacity: 1; stroke-width: 0px; fill: rgb(99, 110, 250); fill-opacity: 1;\"/></g><g class=\"point\"><path d=\"M351.82,320V276.45H353.45V320Z\" style=\"vector-effect: none; opacity: 1; stroke-width: 0px; fill: rgb(99, 110, 250); fill-opacity: 1;\"/></g><g class=\"point\"><path d=\"M353.45,320V254.99H355.09V320Z\" style=\"vector-effect: none; opacity: 1; stroke-width: 0px; fill: rgb(99, 110, 250); fill-opacity: 1;\"/></g><g class=\"point\"><path d=\"M355.09,320V213.61H356.73V320Z\" style=\"vector-effect: none; opacity: 1; stroke-width: 0px; fill: rgb(99, 110, 250); fill-opacity: 1;\"/></g><g class=\"point\"><path d=\"M356.73,320V179.25H358.36V320Z\" style=\"vector-effect: none; opacity: 1; stroke-width: 0px; fill: rgb(99, 110, 250); fill-opacity: 1;\"/></g><g class=\"point\"><path d=\"M358.36,320V149.74H360V320Z\" style=\"vector-effect: none; opacity: 1; stroke-width: 0px; fill: rgb(99, 110, 250); fill-opacity: 1;\"/></g><g class=\"point\"><path d=\"M360,320V114.24H361.64V320Z\" style=\"vector-effect: none; opacity: 1; stroke-width: 0px; fill: rgb(99, 110, 250); fill-opacity: 1;\"/></g><g class=\"point\"><path d=\"M361.64,320V68.63H363.27V320Z\" style=\"vector-effect: none; opacity: 1; stroke-width: 0px; fill: rgb(99, 110, 250); fill-opacity: 1;\"/></g><g class=\"point\"><path d=\"M363.27,320V113H364.91V320Z\" style=\"vector-effect: none; opacity: 1; stroke-width: 0px; fill: rgb(99, 110, 250); fill-opacity: 1;\"/></g><g class=\"point\"><path d=\"M364.91,320V19.92H366.55V320Z\" style=\"vector-effect: none; opacity: 1; stroke-width: 0px; fill: rgb(99, 110, 250); fill-opacity: 1;\"/></g><g class=\"point\"><path d=\"M366.55,320V89.68H368.18V320Z\" style=\"vector-effect: none; opacity: 1; stroke-width: 0px; fill: rgb(99, 110, 250); fill-opacity: 1;\"/></g><g class=\"point\"><path d=\"M368.18,320V109.59H369.82V320Z\" style=\"vector-effect: none; opacity: 1; stroke-width: 0px; fill: rgb(99, 110, 250); fill-opacity: 1;\"/></g><g class=\"point\"><path d=\"M369.82,320V44.07H371.45V320Z\" style=\"vector-effect: none; opacity: 1; stroke-width: 0px; fill: rgb(99, 110, 250); fill-opacity: 1;\"/></g><g class=\"point\"><path d=\"M371.45,320V89.99H373.09V320Z\" style=\"vector-effect: none; opacity: 1; stroke-width: 0px; fill: rgb(99, 110, 250); fill-opacity: 1;\"/></g><g class=\"point\"><path d=\"M373.09,320V92.98H374.73V320Z\" style=\"vector-effect: none; opacity: 1; stroke-width: 0px; fill: rgb(99, 110, 250); fill-opacity: 1;\"/></g><g class=\"point\"><path d=\"M374.73,320V112.48H376.36V320Z\" style=\"vector-effect: none; opacity: 1; stroke-width: 0px; fill: rgb(99, 110, 250); fill-opacity: 1;\"/></g><g class=\"point\"><path d=\"M376.36,320V146.95H378V320Z\" style=\"vector-effect: none; opacity: 1; stroke-width: 0px; fill: rgb(99, 110, 250); fill-opacity: 1;\"/></g><g class=\"point\"><path d=\"M378,320V166.25H379.64V320Z\" style=\"vector-effect: none; opacity: 1; stroke-width: 0px; fill: rgb(99, 110, 250); fill-opacity: 1;\"/></g><g class=\"point\"><path d=\"M379.64,320V241.06H381.27V320Z\" style=\"vector-effect: none; opacity: 1; stroke-width: 0px; fill: rgb(99, 110, 250); fill-opacity: 1;\"/></g><g class=\"point\"><path d=\"M381.27,320V267.27H382.91V320Z\" style=\"vector-effect: none; opacity: 1; stroke-width: 0px; fill: rgb(99, 110, 250); fill-opacity: 1;\"/></g><g class=\"point\"><path d=\"M382.91,320V293.27H384.55V320Z\" style=\"vector-effect: none; opacity: 1; stroke-width: 0px; fill: rgb(99, 110, 250); fill-opacity: 1;\"/></g><g class=\"point\"><path d=\"M384.55,320V308.96H386.18V320Z\" style=\"vector-effect: none; opacity: 1; stroke-width: 0px; fill: rgb(99, 110, 250); fill-opacity: 1;\"/></g><g class=\"point\"><path d=\"M386.18,320V307.72H387.82V320Z\" style=\"vector-effect: none; opacity: 1; stroke-width: 0px; fill: rgb(99, 110, 250); fill-opacity: 1;\"/></g><g class=\"point\"><path d=\"M387.82,320V298.64H389.45V320Z\" style=\"vector-effect: none; opacity: 1; stroke-width: 0px; fill: rgb(99, 110, 250); fill-opacity: 1;\"/></g><g class=\"point\"><path d=\"M389.45,320V295.75H391.09V320Z\" style=\"vector-effect: none; opacity: 1; stroke-width: 0px; fill: rgb(99, 110, 250); fill-opacity: 1;\"/></g><g class=\"point\"><path d=\"M391.09,320V271.09H392.73V320Z\" style=\"vector-effect: none; opacity: 1; stroke-width: 0px; fill: rgb(99, 110, 250); fill-opacity: 1;\"/></g><g class=\"point\"><path d=\"M392.73,320V249.42H394.36V320Z\" style=\"vector-effect: none; opacity: 1; stroke-width: 0px; fill: rgb(99, 110, 250); fill-opacity: 1;\"/></g><g class=\"point\"><path d=\"M394.36,320V211.24H396V320Z\" style=\"vector-effect: none; opacity: 1; stroke-width: 0px; fill: rgb(99, 110, 250); fill-opacity: 1;\"/></g><g class=\"point\"><path d=\"M396,320V179.97H397.64V320Z\" style=\"vector-effect: none; opacity: 1; stroke-width: 0px; fill: rgb(99, 110, 250); fill-opacity: 1;\"/></g><g class=\"point\"><path d=\"M397.64,320V157.89H399.27V320Z\" style=\"vector-effect: none; opacity: 1; stroke-width: 0px; fill: rgb(99, 110, 250); fill-opacity: 1;\"/></g><g class=\"point\"><path d=\"M399.27,320V130.03H400.91V320Z\" style=\"vector-effect: none; opacity: 1; stroke-width: 0px; fill: rgb(99, 110, 250); fill-opacity: 1;\"/></g><g class=\"point\"><path d=\"M400.91,320V114.24H402.55V320Z\" style=\"vector-effect: none; opacity: 1; stroke-width: 0px; fill: rgb(99, 110, 250); fill-opacity: 1;\"/></g><g class=\"point\"><path d=\"M402.55,320V62.64H404.18V320Z\" style=\"vector-effect: none; opacity: 1; stroke-width: 0px; fill: rgb(99, 110, 250); fill-opacity: 1;\"/></g><g class=\"point\"><path d=\"M404.18,320V63.05H405.82V320Z\" style=\"vector-effect: none; opacity: 1; stroke-width: 0px; fill: rgb(99, 110, 250); fill-opacity: 1;\"/></g><g class=\"point\"><path d=\"M405.82,320V75.64H407.45V320Z\" style=\"vector-effect: none; opacity: 1; stroke-width: 0px; fill: rgb(99, 110, 250); fill-opacity: 1;\"/></g><g class=\"point\"><path d=\"M407.45,320V100.62H409.09V320Z\" style=\"vector-effect: none; opacity: 1; stroke-width: 0px; fill: rgb(99, 110, 250); fill-opacity: 1;\"/></g><g class=\"point\"><path d=\"M409.09,320V112.9H410.73V320Z\" style=\"vector-effect: none; opacity: 1; stroke-width: 0px; fill: rgb(99, 110, 250); fill-opacity: 1;\"/></g><g class=\"point\"><path d=\"M410.73,320V65.22H412.36V320Z\" style=\"vector-effect: none; opacity: 1; stroke-width: 0px; fill: rgb(99, 110, 250); fill-opacity: 1;\"/></g><g class=\"point\"><path d=\"M412.36,320V95.77H414V320Z\" style=\"vector-effect: none; opacity: 1; stroke-width: 0px; fill: rgb(99, 110, 250); fill-opacity: 1;\"/></g><g class=\"point\"><path d=\"M414,320V96.9H415.64V320Z\" style=\"vector-effect: none; opacity: 1; stroke-width: 0px; fill: rgb(99, 110, 250); fill-opacity: 1;\"/></g><g class=\"point\"><path d=\"M415.64,320V143.03H417.27V320Z\" style=\"vector-effect: none; opacity: 1; stroke-width: 0px; fill: rgb(99, 110, 250); fill-opacity: 1;\"/></g><g class=\"point\"><path d=\"M417.27,320V183.38H418.91V320Z\" style=\"vector-effect: none; opacity: 1; stroke-width: 0px; fill: rgb(99, 110, 250); fill-opacity: 1;\"/></g><g class=\"point\"><path d=\"M418.91,320V226.3H420.55V320Z\" style=\"vector-effect: none; opacity: 1; stroke-width: 0px; fill: rgb(99, 110, 250); fill-opacity: 1;\"/></g><g class=\"point\"><path d=\"M420.55,320V253.44H422.18V320Z\" style=\"vector-effect: none; opacity: 1; stroke-width: 0px; fill: rgb(99, 110, 250); fill-opacity: 1;\"/></g><g class=\"point\"><path d=\"M422.18,320V274.8H423.82V320Z\" style=\"vector-effect: none; opacity: 1; stroke-width: 0px; fill: rgb(99, 110, 250); fill-opacity: 1;\"/></g><g class=\"point\"><path d=\"M423.82,320V301.63H425.45V320Z\" style=\"vector-effect: none; opacity: 1; stroke-width: 0px; fill: rgb(99, 110, 250); fill-opacity: 1;\"/></g><g class=\"point\"><path d=\"M425.45,320V302.04H427.09V320Z\" style=\"vector-effect: none; opacity: 1; stroke-width: 0px; fill: rgb(99, 110, 250); fill-opacity: 1;\"/></g><g class=\"point\"><path d=\"M427.09,320V303.59H428.73V320Z\" style=\"vector-effect: none; opacity: 1; stroke-width: 0px; fill: rgb(99, 110, 250); fill-opacity: 1;\"/></g><g class=\"point\"><path d=\"M428.73,320V286.05H430.36V320Z\" style=\"vector-effect: none; opacity: 1; stroke-width: 0px; fill: rgb(99, 110, 250); fill-opacity: 1;\"/></g><g class=\"point\"><path d=\"M430.36,320V264.59H432V320Z\" style=\"vector-effect: none; opacity: 1; stroke-width: 0px; fill: rgb(99, 110, 250); fill-opacity: 1;\"/></g><g class=\"point\"><path d=\"M432,320V229.09H433.64V320Z\" style=\"vector-effect: none; opacity: 1; stroke-width: 0px; fill: rgb(99, 110, 250); fill-opacity: 1;\"/></g><g class=\"point\"><path d=\"M433.64,320V183.17H435.27V320Z\" style=\"vector-effect: none; opacity: 1; stroke-width: 0px; fill: rgb(99, 110, 250); fill-opacity: 1;\"/></g><g class=\"point\"><path d=\"M435.27,320V164.49H436.91V320Z\" style=\"vector-effect: none; opacity: 1; stroke-width: 0px; fill: rgb(99, 110, 250); fill-opacity: 1;\"/></g><g class=\"point\"><path d=\"M436.91,320V167.07H438.55V320Z\" style=\"vector-effect: none; opacity: 1; stroke-width: 0px; fill: rgb(99, 110, 250); fill-opacity: 1;\"/></g><g class=\"point\"><path d=\"M438.55,320V119.4H440.18V320Z\" style=\"vector-effect: none; opacity: 1; stroke-width: 0px; fill: rgb(99, 110, 250); fill-opacity: 1;\"/></g><g class=\"point\"><path d=\"M440.18,320V114.34H441.82V320Z\" style=\"vector-effect: none; opacity: 1; stroke-width: 0px; fill: rgb(99, 110, 250); fill-opacity: 1;\"/></g><g class=\"point\"><path d=\"M441.82,320V73.48H443.45V320Z\" style=\"vector-effect: none; opacity: 1; stroke-width: 0px; fill: rgb(99, 110, 250); fill-opacity: 1;\"/></g><g class=\"point\"><path d=\"M443.45,320V100.62H445.09V320Z\" style=\"vector-effect: none; opacity: 1; stroke-width: 0px; fill: rgb(99, 110, 250); fill-opacity: 1;\"/></g><g class=\"point\"><path d=\"M445.09,320V99.38H446.73V320Z\" style=\"vector-effect: none; opacity: 1; stroke-width: 0px; fill: rgb(99, 110, 250); fill-opacity: 1;\"/></g><g class=\"point\"><path d=\"M446.73,320V60.37H448.36V320Z\" style=\"vector-effect: none; opacity: 1; stroke-width: 0px; fill: rgb(99, 110, 250); fill-opacity: 1;\"/></g><g class=\"point\"><path d=\"M448.36,320V16H450V320Z\" style=\"vector-effect: none; opacity: 1; stroke-width: 0px; fill: rgb(99, 110, 250); fill-opacity: 1;\"/></g><g class=\"point\"><path d=\"M450,320V29.41H451.64V320Z\" style=\"vector-effect: none; opacity: 1; stroke-width: 0px; fill: rgb(99, 110, 250); fill-opacity: 1;\"/></g><g class=\"point\"><path d=\"M451.64,320V44.27H453.27V320Z\" style=\"vector-effect: none; opacity: 1; stroke-width: 0px; fill: rgb(99, 110, 250); fill-opacity: 1;\"/></g><g class=\"point\"><path d=\"M453.27,320V50.98H454.91V320Z\" style=\"vector-effect: none; opacity: 1; stroke-width: 0px; fill: rgb(99, 110, 250); fill-opacity: 1;\"/></g><g class=\"point\"><path d=\"M454.91,320V143.65H456.55V320Z\" style=\"vector-effect: none; opacity: 1; stroke-width: 0px; fill: rgb(99, 110, 250); fill-opacity: 1;\"/></g><g class=\"point\"><path d=\"M456.55,320V153.14H458.18V320Z\" style=\"vector-effect: none; opacity: 1; stroke-width: 0px; fill: rgb(99, 110, 250); fill-opacity: 1;\"/></g><g class=\"point\"><path d=\"M458.18,320V217.12H459.82V320Z\" style=\"vector-effect: none; opacity: 1; stroke-width: 0px; fill: rgb(99, 110, 250); fill-opacity: 1;\"/></g><g class=\"point\"><path d=\"M459.82,320V242.4H461.45V320Z\" style=\"vector-effect: none; opacity: 1; stroke-width: 0px; fill: rgb(99, 110, 250); fill-opacity: 1;\"/></g><g class=\"point\"><path d=\"M461.45,320V293.27H463.09V320Z\" style=\"vector-effect: none; opacity: 1; stroke-width: 0px; fill: rgb(99, 110, 250); fill-opacity: 1;\"/></g><g class=\"point\"><path d=\"M463.09,320V295.54H464.73V320Z\" style=\"vector-effect: none; opacity: 1; stroke-width: 0px; fill: rgb(99, 110, 250); fill-opacity: 1;\"/></g><g class=\"point\"><path d=\"M464.73,320V303.59H466.36V320Z\" style=\"vector-effect: none; opacity: 1; stroke-width: 0px; fill: rgb(99, 110, 250); fill-opacity: 1;\"/></g><g class=\"point\"><path d=\"M466.36,320V301.53H468V320Z\" style=\"vector-effect: none; opacity: 1; stroke-width: 0px; fill: rgb(99, 110, 250); fill-opacity: 1;\"/></g><g class=\"point\"><path d=\"M468,320V277.38H469.64V320Z\" style=\"vector-effect: none; opacity: 1; stroke-width: 0px; fill: rgb(99, 110, 250); fill-opacity: 1;\"/></g><g class=\"point\"><path d=\"M469.64,320V248.28H471.27V320Z\" style=\"vector-effect: none; opacity: 1; stroke-width: 0px; fill: rgb(99, 110, 250); fill-opacity: 1;\"/></g><g class=\"point\"><path d=\"M471.27,320V201.85H472.91V320Z\" style=\"vector-effect: none; opacity: 1; stroke-width: 0px; fill: rgb(99, 110, 250); fill-opacity: 1;\"/></g><g class=\"point\"><path d=\"M472.91,320V129.82H474.55V320Z\" style=\"vector-effect: none; opacity: 1; stroke-width: 0px; fill: rgb(99, 110, 250); fill-opacity: 1;\"/></g><g class=\"point\"><path d=\"M474.55,320V150.35H476.18V320Z\" style=\"vector-effect: none; opacity: 1; stroke-width: 0px; fill: rgb(99, 110, 250); fill-opacity: 1;\"/></g><g class=\"point\"><path d=\"M476.18,320V146.74H477.82V320Z\" style=\"vector-effect: none; opacity: 1; stroke-width: 0px; fill: rgb(99, 110, 250); fill-opacity: 1;\"/></g><g class=\"point\"><path d=\"M477.82,320V128.58H479.45V320Z\" style=\"vector-effect: none; opacity: 1; stroke-width: 0px; fill: rgb(99, 110, 250); fill-opacity: 1;\"/></g><g class=\"point\"><path d=\"M479.45,320V109.18H481.09V320Z\" style=\"vector-effect: none; opacity: 1; stroke-width: 0px; fill: rgb(99, 110, 250); fill-opacity: 1;\"/></g><g class=\"point\"><path d=\"M481.09,320V131.47H482.73V320Z\" style=\"vector-effect: none; opacity: 1; stroke-width: 0px; fill: rgb(99, 110, 250); fill-opacity: 1;\"/></g><g class=\"point\"><path d=\"M482.73,320V105.67H484.36V320Z\" style=\"vector-effect: none; opacity: 1; stroke-width: 0px; fill: rgb(99, 110, 250); fill-opacity: 1;\"/></g><g class=\"point\"><path d=\"M484.36,320V131.78H486V320Z\" style=\"vector-effect: none; opacity: 1; stroke-width: 0px; fill: rgb(99, 110, 250); fill-opacity: 1;\"/></g><g class=\"point\"><path d=\"M486,320V84.52H487.64V320Z\" style=\"vector-effect: none; opacity: 1; stroke-width: 0px; fill: rgb(99, 110, 250); fill-opacity: 1;\"/></g><g class=\"point\"><path d=\"M487.64,320V37.67H489.27V320Z\" style=\"vector-effect: none; opacity: 1; stroke-width: 0px; fill: rgb(99, 110, 250); fill-opacity: 1;\"/></g><g class=\"point\"><path d=\"M489.27,320V37.05H490.91V320Z\" style=\"vector-effect: none; opacity: 1; stroke-width: 0px; fill: rgb(99, 110, 250); fill-opacity: 1;\"/></g><g class=\"point\"><path d=\"M490.91,320V65.63H492.55V320Z\" style=\"vector-effect: none; opacity: 1; stroke-width: 0px; fill: rgb(99, 110, 250); fill-opacity: 1;\"/></g><g class=\"point\"><path d=\"M492.55,320V69.97H494.18V320Z\" style=\"vector-effect: none; opacity: 1; stroke-width: 0px; fill: rgb(99, 110, 250); fill-opacity: 1;\"/></g><g class=\"point\"><path d=\"M494.18,320V86.58H495.82V320Z\" style=\"vector-effect: none; opacity: 1; stroke-width: 0px; fill: rgb(99, 110, 250); fill-opacity: 1;\"/></g><g class=\"point\"><path d=\"M495.82,320V147.26H497.45V320Z\" style=\"vector-effect: none; opacity: 1; stroke-width: 0px; fill: rgb(99, 110, 250); fill-opacity: 1;\"/></g><g class=\"point\"><path d=\"M497.45,320V207.01H499.09V320Z\" style=\"vector-effect: none; opacity: 1; stroke-width: 0px; fill: rgb(99, 110, 250); fill-opacity: 1;\"/></g><g class=\"point\"><path d=\"M499.09,320V275.73H500.73V320Z\" style=\"vector-effect: none; opacity: 1; stroke-width: 0px; fill: rgb(99, 110, 250); fill-opacity: 1;\"/></g><g class=\"point\"><path d=\"M500.73,320V298.95H502.36V320Z\" style=\"vector-effect: none; opacity: 1; stroke-width: 0px; fill: rgb(99, 110, 250); fill-opacity: 1;\"/></g><g class=\"point\"><path d=\"M502.36,320V306.89H504V320Z\" style=\"vector-effect: none; opacity: 1; stroke-width: 0px; fill: rgb(99, 110, 250); fill-opacity: 1;\"/></g><g class=\"point\"><path d=\"M504,320V308.13H505.64V320Z\" style=\"vector-effect: none; opacity: 1; stroke-width: 0px; fill: rgb(99, 110, 250); fill-opacity: 1;\"/></g><g class=\"point\"><path d=\"M505.64,320V295.65H507.27V320Z\" style=\"vector-effect: none; opacity: 1; stroke-width: 0px; fill: rgb(99, 110, 250); fill-opacity: 1;\"/></g><g class=\"point\"><path d=\"M507.27,320V288.42H508.91V320Z\" style=\"vector-effect: none; opacity: 1; stroke-width: 0px; fill: rgb(99, 110, 250); fill-opacity: 1;\"/></g><g class=\"point\"><path d=\"M508.91,320V248.08H510.55V320Z\" style=\"vector-effect: none; opacity: 1; stroke-width: 0px; fill: rgb(99, 110, 250); fill-opacity: 1;\"/></g><g class=\"point\"><path d=\"M510.55,320V199.06H512.18V320Z\" style=\"vector-effect: none; opacity: 1; stroke-width: 0px; fill: rgb(99, 110, 250); fill-opacity: 1;\"/></g><g class=\"point\"><path d=\"M512.18,320V206.49H513.82V320Z\" style=\"vector-effect: none; opacity: 1; stroke-width: 0px; fill: rgb(99, 110, 250); fill-opacity: 1;\"/></g><g class=\"point\"><path d=\"M513.82,320V175.02H515.45V320Z\" style=\"vector-effect: none; opacity: 1; stroke-width: 0px; fill: rgb(99, 110, 250); fill-opacity: 1;\"/></g><g class=\"point\"><path d=\"M515.45,320V173.99H517.09V320Z\" style=\"vector-effect: none; opacity: 1; stroke-width: 0px; fill: rgb(99, 110, 250); fill-opacity: 1;\"/></g><g class=\"point\"><path d=\"M517.09,320V157.58H518.73V320Z\" style=\"vector-effect: none; opacity: 1; stroke-width: 0px; fill: rgb(99, 110, 250); fill-opacity: 1;\"/></g><g class=\"point\"><path d=\"M518.73,320V112.07H520.36V320Z\" style=\"vector-effect: none; opacity: 1; stroke-width: 0px; fill: rgb(99, 110, 250); fill-opacity: 1;\"/></g><g class=\"point\"><path d=\"M520.36,320V148.6H522V320Z\" style=\"vector-effect: none; opacity: 1; stroke-width: 0px; fill: rgb(99, 110, 250); fill-opacity: 1;\"/></g><g class=\"point\"><path d=\"M522,320V128.79H523.64V320Z\" style=\"vector-effect: none; opacity: 1; stroke-width: 0px; fill: rgb(99, 110, 250); fill-opacity: 1;\"/></g><g class=\"point\"><path d=\"M523.64,320V123.83H525.27V320Z\" style=\"vector-effect: none; opacity: 1; stroke-width: 0px; fill: rgb(99, 110, 250); fill-opacity: 1;\"/></g><g class=\"point\"><path d=\"M525.27,320V116.2H526.91V320Z\" style=\"vector-effect: none; opacity: 1; stroke-width: 0px; fill: rgb(99, 110, 250); fill-opacity: 1;\"/></g><g class=\"point\"><path d=\"M526.91,320V70.69H528.55V320Z\" style=\"vector-effect: none; opacity: 1; stroke-width: 0px; fill: rgb(99, 110, 250); fill-opacity: 1;\"/></g><g class=\"point\"><path d=\"M528.55,320V33.13H530.18V320Z\" style=\"vector-effect: none; opacity: 1; stroke-width: 0px; fill: rgb(99, 110, 250); fill-opacity: 1;\"/></g><g class=\"point\"><path d=\"M530.18,320V71.93H531.82V320Z\" style=\"vector-effect: none; opacity: 1; stroke-width: 0px; fill: rgb(99, 110, 250); fill-opacity: 1;\"/></g><g class=\"point\"><path d=\"M531.82,320V123.11H533.45V320Z\" style=\"vector-effect: none; opacity: 1; stroke-width: 0px; fill: rgb(99, 110, 250); fill-opacity: 1;\"/></g><g class=\"point\"><path d=\"M533.45,320V146.64H535.09V320Z\" style=\"vector-effect: none; opacity: 1; stroke-width: 0px; fill: rgb(99, 110, 250); fill-opacity: 1;\"/></g><g class=\"point\"><path d=\"M535.09,320V163.77H536.73V320Z\" style=\"vector-effect: none; opacity: 1; stroke-width: 0px; fill: rgb(99, 110, 250); fill-opacity: 1;\"/></g><g class=\"point\"><path d=\"M536.73,320V222.07H538.36V320Z\" style=\"vector-effect: none; opacity: 1; stroke-width: 0px; fill: rgb(99, 110, 250); fill-opacity: 1;\"/></g><g class=\"point\"><path d=\"M538.36,320V312.98H540V320Z\" style=\"vector-effect: none; opacity: 1; stroke-width: 0px; fill: rgb(99, 110, 250); fill-opacity: 1;\"/></g></g></g></g></g><g class=\"overplot\"/><path class=\"xlines-above crisp\" d=\"M0,0\" style=\"fill: none;\"/><path class=\"ylines-above crisp\" d=\"M0,0\" style=\"fill: none;\"/><g class=\"overlines-above\"/><g class=\"xaxislayer-above\"><g class=\"xtick\"><text text-anchor=\"middle\" x=\"0\" y=\"433\" transform=\"translate(152.82,0)\" style=\"font-family: 'Open Sans', verdana, arial, sans-serif; font-size: 12px; fill: rgb(42, 63, 95); fill-opacity: 1; white-space: pre; opacity: 1;\"><tspan class=\"line\" dy=\"0em\" x=\"0\" y=\"433\">Jul 27</tspan><tspan class=\"line\" dy=\"1.3em\" x=\"0\" y=\"433\">2019</tspan></text></g><g class=\"xtick\"><text text-anchor=\"middle\" x=\"0\" y=\"433\" style=\"font-family: 'Open Sans', verdana, arial, sans-serif; font-size: 12px; fill: rgb(42, 63, 95); fill-opacity: 1; white-space: pre; opacity: 1;\" transform=\"translate(231.36,0)\">Jul 29</text></g><g class=\"xtick\"><text text-anchor=\"middle\" x=\"0\" y=\"433\" style=\"font-family: 'Open Sans', verdana, arial, sans-serif; font-size: 12px; fill: rgb(42, 63, 95); fill-opacity: 1; white-space: pre; opacity: 1;\" transform=\"translate(309.90999999999997,0)\">Jul 31</text></g><g class=\"xtick\"><text text-anchor=\"middle\" x=\"0\" y=\"433\" style=\"font-family: 'Open Sans', verdana, arial, sans-serif; font-size: 12px; fill: rgb(42, 63, 95); fill-opacity: 1; white-space: pre; opacity: 1;\" transform=\"translate(388.45,0)\">Aug 2</text></g><g class=\"xtick\"><text text-anchor=\"middle\" x=\"0\" y=\"433\" style=\"font-family: 'Open Sans', verdana, arial, sans-serif; font-size: 12px; fill: rgb(42, 63, 95); fill-opacity: 1; white-space: pre; opacity: 1;\" transform=\"translate(467,0)\">Aug 4</text></g><g class=\"xtick\"><text text-anchor=\"middle\" x=\"0\" y=\"433\" style=\"font-family: 'Open Sans', verdana, arial, sans-serif; font-size: 12px; fill: rgb(42, 63, 95); fill-opacity: 1; white-space: pre; opacity: 1;\" transform=\"translate(545.55,0)\">Aug 6</text></g></g><g class=\"yaxislayer-above\"><g class=\"ytick\"><text text-anchor=\"end\" x=\"79\" y=\"4.199999999999999\" transform=\"translate(0,420)\" style=\"font-family: 'Open Sans', verdana, arial, sans-serif; font-size: 12px; fill: rgb(42, 63, 95); fill-opacity: 1; white-space: pre; opacity: 1;\">0</text></g><g class=\"ytick\"><text text-anchor=\"end\" x=\"79\" y=\"4.199999999999999\" style=\"font-family: 'Open Sans', verdana, arial, sans-serif; font-size: 12px; fill: rgb(42, 63, 95); fill-opacity: 1; white-space: pre; opacity: 1;\" transform=\"translate(0,368.4)\">500</text></g><g class=\"ytick\"><text text-anchor=\"end\" x=\"79\" y=\"4.199999999999999\" style=\"font-family: 'Open Sans', verdana, arial, sans-serif; font-size: 12px; fill: rgb(42, 63, 95); fill-opacity: 1; white-space: pre; opacity: 1;\" transform=\"translate(0,316.81)\">1000</text></g><g class=\"ytick\"><text text-anchor=\"end\" x=\"79\" y=\"4.199999999999999\" style=\"font-family: 'Open Sans', verdana, arial, sans-serif; font-size: 12px; fill: rgb(42, 63, 95); fill-opacity: 1; white-space: pre; opacity: 1;\" transform=\"translate(0,265.21000000000004)\">1500</text></g><g class=\"ytick\"><text text-anchor=\"end\" x=\"79\" y=\"4.199999999999999\" style=\"font-family: 'Open Sans', verdana, arial, sans-serif; font-size: 12px; fill: rgb(42, 63, 95); fill-opacity: 1; white-space: pre; opacity: 1;\" transform=\"translate(0,213.62)\">2000</text></g><g class=\"ytick\"><text text-anchor=\"end\" x=\"79\" y=\"4.199999999999999\" style=\"font-family: 'Open Sans', verdana, arial, sans-serif; font-size: 12px; fill: rgb(42, 63, 95); fill-opacity: 1; white-space: pre; opacity: 1;\" transform=\"translate(0,162.02)\">2500</text></g><g class=\"ytick\"><text text-anchor=\"end\" x=\"79\" y=\"4.199999999999999\" style=\"font-family: 'Open Sans', verdana, arial, sans-serif; font-size: 12px; fill: rgb(42, 63, 95); fill-opacity: 1; white-space: pre; opacity: 1;\" transform=\"translate(0,110.43)\">3000</text></g></g><g class=\"overaxes-above\"/></g></g><g class=\"polarlayer\"/><g class=\"smithlayer\"/><g class=\"ternarylayer\"/><g class=\"geolayer\"/><g class=\"funnelarealayer\"/><g class=\"pielayer\"/><g class=\"iciclelayer\"/><g class=\"treemaplayer\"/><g class=\"sunburstlayer\"/><g class=\"glimages\"/><defs id=\"topdefs-e07562\"><g class=\"clips\"/></defs><g class=\"layer-above\"><g class=\"imagelayer\"/><g class=\"shapelayer\"><g class=\"shape-group\" data-index=\"0\" clip-path=\"url(#clipe07562x)\"><path data-index=\"0\" fill-rule=\"evenodd\" d=\"M349.18,420L349.18,100\" style=\"opacity: 1; stroke: rgb(255, 0, 0); stroke-opacity: 1; fill: rgb(0, 0, 0); fill-opacity: 0; stroke-dasharray: 9px, 9px; stroke-width: 0.7px;\"/></g></g></g><g class=\"infolayer\"><g class=\"g-gtitle\"><text class=\"gtitle\" x=\"35\" y=\"50\" text-anchor=\"start\" dy=\"0em\" style=\"font-family: 'Open Sans', verdana, arial, sans-serif; font-size: 17px; fill: rgb(42, 63, 95); opacity: 1; white-space: pre;\">Histograma por Fecha y Hora</text></g><g class=\"g-xtitle\"><text class=\"xtitle\" x=\"350\" y=\"475.909375\" text-anchor=\"middle\" style=\"font-family: 'Open Sans', verdana, arial, sans-serif; font-size: 14px; fill: rgb(42, 63, 95); opacity: 1; white-space: pre;\">Fecha y Hora</text></g><g class=\"g-ytitle\"><text class=\"ytitle\" transform=\"rotate(-90,29.084375,260)\" x=\"29.084375\" y=\"260\" text-anchor=\"middle\" style=\"font-family: 'Open Sans', verdana, arial, sans-serif; font-size: 14px; fill: rgb(42, 63, 95); opacity: 1; white-space: pre;\">count</text></g><g class=\"annotation\" data-index=\"0\" style=\"opacity: 1;\"><g class=\"annotation-text-g\" transform=\"rotate(0,347.55,136.23)\"><g class=\"cursor-pointer\" transform=\"translate(328,127)\"><rect class=\"bg\" x=\"0.5\" y=\"0.5\" width=\"39\" height=\"18\" style=\"stroke-width: 1px; stroke: rgb(0, 0, 0); stroke-opacity: 0; fill: rgb(0, 0, 0); fill-opacity: 0;\"/><text class=\"annotation-text\" text-anchor=\"start\" x=\"3\" y=\"14\" style=\"font-family: 'Open Sans', verdana, arial, sans-serif; font-size: 12px; fill: rgb(255, 0, 0); fill-opacity: 1; white-space: pre;\">Aug 1</text></g></g></g></g></svg>"
      ]
     },
     "metadata": {},
     "output_type": "display_data"
    }
   ],
   "source": [
    "#data['date_hour'].hist()\n",
    "fig2= px.histogram(data, x='date_hour', \n",
    "                   title='Histograma por Fecha y Hora',\n",
    "                   labels= {'date_hour': 'Fecha y Hora'},\n",
    "                   #nbins=50\n",
    "                  )\n",
    "fig2.add_vline(x='2019-08-01 00:00:00', line_width=0.7, line_dash='dash', line_color='red')\n",
    "fig2.add_annotation( \n",
    "                    y=2750,\n",
    "                    x='2019-07-31 23:00:00',\n",
    "                    text='Aug 1',\n",
    "                    showarrow=False,\n",
    "                    align=\"left\",\n",
    "                    font=dict(\n",
    "                        color='red'\n",
    "                    )\n",
    ")\n",
    "\n",
    "fig2.show()"
   ]
  },
  {
   "cell_type": "markdown",
   "metadata": {},
   "source": [
    "#### **Gráfico 2.** \n",
    "Muestra un histograma por fecha y hora.\n",
    "\n",
    "Podemos observar que los datos toman mayor relevancia a partír del 1° de agosto de 2019.\n"
   ]
  },
  {
   "cell_type": "markdown",
   "metadata": {},
   "source": [
    "#### ¿Puedes tener seguridad de que tienes datos igualmente completos para todo el periodo?\n",
    "\n",
    "> No, en el ***Gráfico 2*** podemos observar que los datos no son igualmente completos para todo el perido de tiempo."
   ]
  },
  {
   "cell_type": "markdown",
   "metadata": {},
   "source": [
    "#### Los eventos más antiguos podrían terminar en los registros de algunos usuarios o usuarias por razones técnicas y esto podría sesgar el panorama general. Encuentra el momento en el que los datos comienzan a estar completos e ignora la sección anterior. ¿Qué periodo representan realmente los datos?"
   ]
  },
  {
   "cell_type": "markdown",
   "metadata": {},
   "source": [
    "##### Momento en el que los datos comienzan a estar completos:\n",
    "\n",
    "> En el ***Gráfico 2*** podemos observar que los datoscomienzan a estar completos a partír del 1 de agosto de 2019. "
   ]
  },
  {
   "cell_type": "code",
   "execution_count": 35,
   "metadata": {},
   "outputs": [
    {
     "data": {
      "text/plain": [
       "244126"
      ]
     },
     "execution_count": 35,
     "metadata": {},
     "output_type": "execute_result"
    }
   ],
   "source": [
    "len(data)"
   ]
  },
  {
   "cell_type": "code",
   "execution_count": 36,
   "metadata": {},
   "outputs": [],
   "source": [
    "# Cambiando el tipo de datos de la columna date a datetime:\n",
    "data['date']=pd.to_datetime(data['date'])"
   ]
  },
  {
   "cell_type": "code",
   "execution_count": 37,
   "metadata": {},
   "outputs": [],
   "source": [
    "# Quitando los datos de antes del 1 de agosto de 2019:\n",
    "data_x= data.query(\"date < '2019-08-01'\")\n",
    "#data_x"
   ]
  },
  {
   "cell_type": "code",
   "execution_count": 38,
   "metadata": {},
   "outputs": [],
   "source": [
    "# Filtrando los datos a partír del 1 de agosto de 2019\n",
    "data_= data.query(\"date > '2019-07-31'\")\n",
    "#data_"
   ]
  },
  {
   "cell_type": "markdown",
   "metadata": {},
   "source": [
    "#### ¿Qué periodo representan realmente los datos?"
   ]
  },
  {
   "cell_type": "markdown",
   "metadata": {},
   "source": [
    "##### Nuevo periodo de tiempo:"
   ]
  },
  {
   "cell_type": "code",
   "execution_count": 39,
   "metadata": {},
   "outputs": [
    {
     "name": "stdout",
     "output_type": "stream",
     "text": [
      "2019-08-01 00:07:28\n",
      "2019-08-07 21:15:17\n"
     ]
    }
   ],
   "source": [
    "print(data_['event_time_stamp'].min())\n",
    "print(data_['event_time_stamp'].max())"
   ]
  },
  {
   "cell_type": "code",
   "execution_count": 40,
   "metadata": {},
   "outputs": [
    {
     "data": {
      "text/plain": [
       "Timedelta('6 days 21:07:49')"
      ]
     },
     "execution_count": 40,
     "metadata": {},
     "output_type": "execute_result"
    }
   ],
   "source": [
    "data_['event_time_stamp'].max() - data_['event_time_stamp'].min()"
   ]
  },
  {
   "cell_type": "markdown",
   "metadata": {},
   "source": [
    "> El nuevo periodo de tiempo que cubren los datos es de 6 días y 21:07:49 horas. Desde 2019-08-01 00:07:28, hasta 2019-08-07 21:15:17"
   ]
  },
  {
   "cell_type": "markdown",
   "metadata": {},
   "source": [
    "### - ¿Perdiste muchos eventos y usuarios al excluir los datos más antiguos?"
   ]
  },
  {
   "cell_type": "code",
   "execution_count": 41,
   "metadata": {},
   "outputs": [
    {
     "name": "stdout",
     "output_type": "stream",
     "text": [
      "Se perdieron 2828 eventos.\n",
      "Representan el 1.1584181938834865 % de los datos al excluír los datos más antiguos.\n"
     ]
    }
   ],
   "source": [
    "print('Se perdieron', len(data_x), 'eventos.')\n",
    "print('Representan el', len(data_x) / len(data)*100,'% de los datos al excluír los datos más antiguos.')"
   ]
  },
  {
   "cell_type": "markdown",
   "metadata": {},
   "source": [
    "### - Asegúrate de tener usuarios y usuarias de los tres grupos experimentales."
   ]
  },
  {
   "cell_type": "code",
   "execution_count": 42,
   "metadata": {},
   "outputs": [
    {
     "data": {
      "text/html": [
       "<div>\n",
       "<style scoped>\n",
       "    .dataframe tbody tr th:only-of-type {\n",
       "        vertical-align: middle;\n",
       "    }\n",
       "\n",
       "    .dataframe tbody tr th {\n",
       "        vertical-align: top;\n",
       "    }\n",
       "\n",
       "    .dataframe thead th {\n",
       "        text-align: right;\n",
       "    }\n",
       "</style>\n",
       "<table border=\"1\" class=\"dataframe\">\n",
       "  <thead>\n",
       "    <tr style=\"text-align: right;\">\n",
       "      <th></th>\n",
       "      <th>exp_id</th>\n",
       "      <th>device_id_hash</th>\n",
       "    </tr>\n",
       "  </thead>\n",
       "  <tbody>\n",
       "    <tr>\n",
       "      <th>0</th>\n",
       "      <td>246</td>\n",
       "      <td>79425</td>\n",
       "    </tr>\n",
       "    <tr>\n",
       "      <th>1</th>\n",
       "      <td>247</td>\n",
       "      <td>77147</td>\n",
       "    </tr>\n",
       "    <tr>\n",
       "      <th>2</th>\n",
       "      <td>248</td>\n",
       "      <td>84726</td>\n",
       "    </tr>\n",
       "  </tbody>\n",
       "</table>\n",
       "</div>"
      ],
      "text/plain": [
       "  exp_id  device_id_hash\n",
       "0    246           79425\n",
       "1    247           77147\n",
       "2    248           84726"
      ]
     },
     "execution_count": 42,
     "metadata": {},
     "output_type": "execute_result"
    }
   ],
   "source": [
    "# Cantidad de usuarios en cada grupo:\n",
    "data_.groupby('exp_id')['device_id_hash'].count().reset_index()"
   ]
  },
  {
   "cell_type": "code",
   "execution_count": 43,
   "metadata": {},
   "outputs": [],
   "source": [
    "# Cantidad de usuarios unicos en cada grupo:\n",
    "#data_.groupby('exp_id')['device_id_hash'].nunique().reset_index()"
   ]
  },
  {
   "cell_type": "markdown",
   "metadata": {},
   "source": [
    "> Se tiene usuarios y usuarias de los tres grupos experimentales."
   ]
  },
  {
   "cell_type": "markdown",
   "metadata": {},
   "source": [
    "# Paso 4. Estudiar el embudo de eventos"
   ]
  },
  {
   "cell_type": "markdown",
   "metadata": {},
   "source": [
    "### - Observa qué eventos hay en los registros y su frecuencia de suceso. Ordénalos por frecuencia."
   ]
  },
  {
   "cell_type": "code",
   "execution_count": 44,
   "metadata": {},
   "outputs": [
    {
     "data": {
      "text/html": [
       "<div>\n",
       "<style scoped>\n",
       "    .dataframe tbody tr th:only-of-type {\n",
       "        vertical-align: middle;\n",
       "    }\n",
       "\n",
       "    .dataframe tbody tr th {\n",
       "        vertical-align: top;\n",
       "    }\n",
       "\n",
       "    .dataframe thead th {\n",
       "        text-align: right;\n",
       "    }\n",
       "</style>\n",
       "<table border=\"1\" class=\"dataframe\">\n",
       "  <thead>\n",
       "    <tr style=\"text-align: right;\">\n",
       "      <th></th>\n",
       "      <th>event_name</th>\n",
       "      <th>total_events</th>\n",
       "      <th>unique_users</th>\n",
       "    </tr>\n",
       "  </thead>\n",
       "  <tbody>\n",
       "    <tr>\n",
       "      <th>1</th>\n",
       "      <td>MainScreenAppear</td>\n",
       "      <td>117431</td>\n",
       "      <td>7419</td>\n",
       "    </tr>\n",
       "    <tr>\n",
       "      <th>2</th>\n",
       "      <td>OffersScreenAppear</td>\n",
       "      <td>46350</td>\n",
       "      <td>4593</td>\n",
       "    </tr>\n",
       "    <tr>\n",
       "      <th>0</th>\n",
       "      <td>CartScreenAppear</td>\n",
       "      <td>42365</td>\n",
       "      <td>3734</td>\n",
       "    </tr>\n",
       "    <tr>\n",
       "      <th>3</th>\n",
       "      <td>PaymentScreenSuccessful</td>\n",
       "      <td>34113</td>\n",
       "      <td>3539</td>\n",
       "    </tr>\n",
       "    <tr>\n",
       "      <th>4</th>\n",
       "      <td>Tutorial</td>\n",
       "      <td>1039</td>\n",
       "      <td>840</td>\n",
       "    </tr>\n",
       "  </tbody>\n",
       "</table>\n",
       "</div>"
      ],
      "text/plain": [
       "                event_name  total_events  unique_users\n",
       "1         MainScreenAppear        117431          7419\n",
       "2       OffersScreenAppear         46350          4593\n",
       "0         CartScreenAppear         42365          3734\n",
       "3  PaymentScreenSuccessful         34113          3539\n",
       "4                 Tutorial          1039           840"
      ]
     },
     "execution_count": 44,
     "metadata": {},
     "output_type": "execute_result"
    }
   ],
   "source": [
    "# Los eventos y sus frecuencias:\n",
    "regs=data_.groupby('event_name')['device_id_hash'].agg([\n",
    "    ('total_events', 'count'),\n",
    "    ('unique_users', 'nunique')\n",
    "]).reset_index().sort_values(by='unique_users', ascending=False)  \n",
    "\n",
    "regs\n",
    "\n",
    "# Muestra los eventos, la cantidad de frecuencia y los usuarios unicos.\n",
    "# total_events = frecuencia de los eventos"
   ]
  },
  {
   "cell_type": "code",
   "execution_count": 45,
   "metadata": {
    "scrolled": false
   },
   "outputs": [
    {
     "data": {
      "image/svg+xml": [
       "<svg class=\"main-svg\" xmlns=\"http://www.w3.org/2000/svg\" xmlns:xlink=\"http://www.w3.org/1999/xlink\" width=\"700\" height=\"500\" style=\"\" viewBox=\"0 0 700 500\"><rect x=\"0\" y=\"0\" width=\"700\" height=\"500\" style=\"fill: rgb(255, 255, 255); fill-opacity: 1;\"/><defs id=\"defs-0a5726\"><g class=\"clips\"><clipPath id=\"clip0a5726xyplot\" class=\"plotclip\"><rect width=\"540\" height=\"295\"/></clipPath><clipPath id=\"clip0a5726xy2plot\" class=\"plotclip\"><rect width=\"540\" height=\"295\"/></clipPath><clipPath class=\"axesclip\" id=\"clip0a5726x\"><rect x=\"80\" y=\"0\" width=\"540\" height=\"500\"/></clipPath><clipPath class=\"axesclip\" id=\"clip0a5726y\"><rect x=\"0\" y=\"100\" width=\"700\" height=\"295\"/></clipPath><clipPath class=\"axesclip\" id=\"clip0a5726xy\"><rect x=\"80\" y=\"100\" width=\"540\" height=\"295\"/></clipPath><clipPath class=\"axesclip\" id=\"clip0a5726y2\"><rect x=\"0\" y=\"100\" width=\"700\" height=\"295\"/></clipPath><clipPath class=\"axesclip\" id=\"clip0a5726xy2\"><rect x=\"80\" y=\"100\" width=\"540\" height=\"295\"/></clipPath></g><g class=\"gradients\"/><g class=\"patterns\"/></defs><g class=\"bglayer\"><rect class=\"bg\" x=\"80\" y=\"100\" width=\"540\" height=\"295\" style=\"fill: rgb(229, 236, 246); fill-opacity: 1; stroke-width: 0;\"/></g><g class=\"layer-below\"><g class=\"imagelayer\"/><g class=\"shapelayer\"/></g><g class=\"cartesianlayer\"><g class=\"subplot xy\"><g class=\"layer-subplot\"><g class=\"shapelayer\"/><g class=\"imagelayer\"/></g><g class=\"minor-gridlayer\"><g class=\"x\"/><g class=\"y\"/><g class=\"y2\"/></g><g class=\"gridlayer\"><g class=\"x\"/><g class=\"y\"><path class=\"ygrid crisp\" transform=\"translate(0,347.27)\" d=\"M80,0h540\" style=\"stroke: rgb(255, 255, 255); stroke-opacity: 1; stroke-width: 1px;\"/><path class=\"ygrid crisp\" transform=\"translate(0,299.53999999999996)\" d=\"M80,0h540\" style=\"stroke: rgb(255, 255, 255); stroke-opacity: 1; stroke-width: 1px;\"/><path class=\"ygrid crisp\" transform=\"translate(0,251.81)\" d=\"M80,0h540\" style=\"stroke: rgb(255, 255, 255); stroke-opacity: 1; stroke-width: 1px;\"/><path class=\"ygrid crisp\" transform=\"translate(0,204.07999999999998)\" d=\"M80,0h540\" style=\"stroke: rgb(255, 255, 255); stroke-opacity: 1; stroke-width: 1px;\"/><path class=\"ygrid crisp\" transform=\"translate(0,156.35)\" d=\"M80,0h540\" style=\"stroke: rgb(255, 255, 255); stroke-opacity: 1; stroke-width: 1px;\"/><path class=\"ygrid crisp\" transform=\"translate(0,108.62)\" d=\"M80,0h540\" style=\"stroke: rgb(255, 255, 255); stroke-opacity: 1; stroke-width: 1px;\"/></g><g class=\"y2\"><path class=\"y2grid crisp\" transform=\"translate(0,370.23)\" d=\"M80,0h540\" style=\"stroke: rgb(255, 255, 255); stroke-opacity: 1; stroke-width: 1px;\"/><path class=\"y2grid crisp\" transform=\"translate(0,331.01)\" d=\"M80,0h540\" style=\"stroke: rgb(255, 255, 255); stroke-opacity: 1; stroke-width: 1px;\"/><path class=\"y2grid crisp\" transform=\"translate(0,291.78999999999996)\" d=\"M80,0h540\" style=\"stroke: rgb(255, 255, 255); stroke-opacity: 1; stroke-width: 1px;\"/><path class=\"y2grid crisp\" transform=\"translate(0,252.58)\" d=\"M80,0h540\" style=\"stroke: rgb(255, 255, 255); stroke-opacity: 1; stroke-width: 1px;\"/><path class=\"y2grid crisp\" transform=\"translate(0,213.36)\" d=\"M80,0h540\" style=\"stroke: rgb(255, 255, 255); stroke-opacity: 1; stroke-width: 1px;\"/><path class=\"y2grid crisp\" transform=\"translate(0,174.15)\" d=\"M80,0h540\" style=\"stroke: rgb(255, 255, 255); stroke-opacity: 1; stroke-width: 1px;\"/><path class=\"y2grid crisp\" transform=\"translate(0,134.93)\" d=\"M80,0h540\" style=\"stroke: rgb(255, 255, 255); stroke-opacity: 1; stroke-width: 1px;\"/></g></g><g class=\"zerolinelayer\"><path class=\"yzl zl crisp\" transform=\"translate(0,395)\" d=\"M80,0h540\" style=\"stroke: rgb(255, 255, 255); stroke-opacity: 1; stroke-width: 2px;\"/></g><g class=\"layer-between\"><g class=\"shapelayer\"/><g class=\"imagelayer\"/></g><path class=\"xlines-below\"/><path class=\"ylines-below\"/><g class=\"overlines-below\"><path class=\"xy2-x\"/><path class=\"xy2-y\"/></g><g class=\"xaxislayer-below\"/><g class=\"yaxislayer-below\"/><g class=\"overaxes-below\"><g class=\"xy2-x\"/><g class=\"xy2-y\"/></g><g class=\"plot\" transform=\"translate(80,100)\" clip-path=\"url(#clip0a5726xyplot)\"><g class=\"barlayer mlayer\"><g class=\"trace bars\" style=\"opacity: 1;\"><g class=\"points\"><g class=\"point\"><path d=\"M10.8,295V14.75H97.2V295Z\" style=\"vector-effect: none; opacity: 1; stroke-width: 0.5px; fill: rgb(99, 110, 250); fill-opacity: 1; stroke: rgb(229, 236, 246); stroke-opacity: 1;\"/></g><g class=\"point\"><path d=\"M118.8,295V184.39H205.2V295Z\" style=\"vector-effect: none; opacity: 1; stroke-width: 0.5px; fill: rgb(99, 110, 250); fill-opacity: 1; stroke: rgb(229, 236, 246); stroke-opacity: 1;\"/></g><g class=\"point\"><path d=\"M226.8,295V193.9H313.2V295Z\" style=\"vector-effect: none; opacity: 1; stroke-width: 0.5px; fill: rgb(99, 110, 250); fill-opacity: 1; stroke: rgb(229, 236, 246); stroke-opacity: 1;\"/></g><g class=\"point\"><path d=\"M334.8,295V213.59H421.2V295Z\" style=\"vector-effect: none; opacity: 1; stroke-width: 0.5px; fill: rgb(99, 110, 250); fill-opacity: 1; stroke: rgb(229, 236, 246); stroke-opacity: 1;\"/></g><g class=\"point\"><path d=\"M442.8,295V292.52H529.2V295Z\" style=\"vector-effect: none; opacity: 1; stroke-width: 0.5px; fill: rgb(99, 110, 250); fill-opacity: 1; stroke: rgb(229, 236, 246); stroke-opacity: 1;\"/></g></g></g></g></g><g class=\"overplot\"><g class=\"xy2\" transform=\"translate(80,100)\" clip-path=\"url(#clip0a5726xy2plot)\"><g class=\"scatterlayer mlayer\"><g class=\"trace scatter trace48540e\" style=\"stroke-miterlimit: 2; opacity: 1;\"><g class=\"fills\"/><g class=\"errorbars\"/><g class=\"lines\"><path class=\"js-line\" d=\"M54,18.5L162,129.32L270,163.01L378,170.66L486,276.5\" style=\"vector-effect: none; fill: none; stroke: rgb(239, 85, 59); stroke-opacity: 1; stroke-width: 2px; opacity: 1;\"/></g><g class=\"points\"><path class=\"point\" transform=\"translate(54,18.5)\" d=\"M3,0A3,3 0 1,1 0,-3A3,3 0 0,1 3,0Z\" style=\"opacity: 1; stroke-width: 0px; fill: rgb(239, 85, 59); fill-opacity: 1;\"/><path class=\"point\" transform=\"translate(162,129.32)\" d=\"M3,0A3,3 0 1,1 0,-3A3,3 0 0,1 3,0Z\" style=\"opacity: 1; stroke-width: 0px; fill: rgb(239, 85, 59); fill-opacity: 1;\"/><path class=\"point\" transform=\"translate(270,163.01)\" d=\"M3,0A3,3 0 1,1 0,-3A3,3 0 0,1 3,0Z\" style=\"opacity: 1; stroke-width: 0px; fill: rgb(239, 85, 59); fill-opacity: 1;\"/><path class=\"point\" transform=\"translate(378,170.66)\" d=\"M3,0A3,3 0 1,1 0,-3A3,3 0 0,1 3,0Z\" style=\"opacity: 1; stroke-width: 0px; fill: rgb(239, 85, 59); fill-opacity: 1;\"/><path class=\"point\" transform=\"translate(486,276.5)\" d=\"M3,0A3,3 0 1,1 0,-3A3,3 0 0,1 3,0Z\" style=\"opacity: 1; stroke-width: 0px; fill: rgb(239, 85, 59); fill-opacity: 1;\"/></g><g class=\"text\"/></g></g></g></g><path class=\"xlines-above crisp\" d=\"M0,0\" style=\"fill: none;\"/><path class=\"ylines-above crisp\" d=\"M0,0\" style=\"fill: none;\"/><g class=\"overlines-above\"><path class=\"xy2-x crisp\" d=\"M0,0\" style=\"fill: none;\"/><path class=\"xy2-y crisp\" d=\"M0,0\" style=\"fill: none;\"/></g><g class=\"xaxislayer-above\"><g class=\"xtick\"><text text-anchor=\"start\" x=\"0\" y=\"408\" transform=\"translate(134,0) rotate(29.999999999999996,0,402)\" style=\"font-family: 'Open Sans', verdana, arial, sans-serif; font-size: 12px; fill: rgb(42, 63, 95); fill-opacity: 1; white-space: pre; opacity: 1;\">MainScreenAppear</text></g><g class=\"xtick\"><text text-anchor=\"start\" x=\"0\" y=\"408\" transform=\"translate(242,0) rotate(29.999999999999996,0,402)\" style=\"font-family: 'Open Sans', verdana, arial, sans-serif; font-size: 12px; fill: rgb(42, 63, 95); fill-opacity: 1; white-space: pre; opacity: 1;\">OffersScreenAppear</text></g><g class=\"xtick\"><text text-anchor=\"start\" x=\"0\" y=\"408\" transform=\"translate(350,0) rotate(29.999999999999996,0,402)\" style=\"font-family: 'Open Sans', verdana, arial, sans-serif; font-size: 12px; fill: rgb(42, 63, 95); fill-opacity: 1; white-space: pre; opacity: 1;\">CartScreenAppear</text></g><g class=\"xtick\"><text text-anchor=\"start\" x=\"0\" y=\"408\" transform=\"translate(458,0) rotate(29.999999999999996,0,402)\" style=\"font-family: 'Open Sans', verdana, arial, sans-serif; font-size: 12px; fill: rgb(42, 63, 95); fill-opacity: 1; white-space: pre; opacity: 1;\">PaymentScreenSuccessful</text></g><g class=\"xtick\"><text text-anchor=\"start\" x=\"0\" y=\"408\" transform=\"translate(566,0) rotate(29.999999999999996,0,402)\" style=\"font-family: 'Open Sans', verdana, arial, sans-serif; font-size: 12px; fill: rgb(42, 63, 95); fill-opacity: 1; white-space: pre; opacity: 1;\">Tutorial</text></g></g><g class=\"yaxislayer-above\"><g class=\"ytick\"><text text-anchor=\"end\" x=\"79\" y=\"4.199999999999999\" transform=\"translate(0,395)\" style=\"font-family: 'Open Sans', verdana, arial, sans-serif; font-size: 12px; fill: rgb(42, 63, 95); fill-opacity: 1; white-space: pre; opacity: 1;\">0</text></g><g class=\"ytick\"><text text-anchor=\"end\" x=\"79\" y=\"4.199999999999999\" style=\"font-family: 'Open Sans', verdana, arial, sans-serif; font-size: 12px; fill: rgb(42, 63, 95); fill-opacity: 1; white-space: pre; opacity: 1;\" transform=\"translate(0,347.27)\">20k</text></g><g class=\"ytick\"><text text-anchor=\"end\" x=\"79\" y=\"4.199999999999999\" style=\"font-family: 'Open Sans', verdana, arial, sans-serif; font-size: 12px; fill: rgb(42, 63, 95); fill-opacity: 1; white-space: pre; opacity: 1;\" transform=\"translate(0,299.53999999999996)\">40k</text></g><g class=\"ytick\"><text text-anchor=\"end\" x=\"79\" y=\"4.199999999999999\" style=\"font-family: 'Open Sans', verdana, arial, sans-serif; font-size: 12px; fill: rgb(42, 63, 95); fill-opacity: 1; white-space: pre; opacity: 1;\" transform=\"translate(0,251.81)\">60k</text></g><g class=\"ytick\"><text text-anchor=\"end\" x=\"79\" y=\"4.199999999999999\" style=\"font-family: 'Open Sans', verdana, arial, sans-serif; font-size: 12px; fill: rgb(42, 63, 95); fill-opacity: 1; white-space: pre; opacity: 1;\" transform=\"translate(0,204.07999999999998)\">80k</text></g><g class=\"ytick\"><text text-anchor=\"end\" x=\"79\" y=\"4.199999999999999\" style=\"font-family: 'Open Sans', verdana, arial, sans-serif; font-size: 12px; fill: rgb(42, 63, 95); fill-opacity: 1; white-space: pre; opacity: 1;\" transform=\"translate(0,156.35)\">100k</text></g><g class=\"ytick\"><text text-anchor=\"end\" x=\"79\" y=\"4.199999999999999\" style=\"font-family: 'Open Sans', verdana, arial, sans-serif; font-size: 12px; fill: rgb(42, 63, 95); fill-opacity: 1; white-space: pre; opacity: 1;\" transform=\"translate(0,108.62)\">120k</text></g></g><g class=\"overaxes-above\"><g class=\"xy2-x\"/><g class=\"xy2-y\"><g class=\"y2tick\"><text text-anchor=\"start\" x=\"621\" y=\"4.199999999999999\" transform=\"translate(0,370.23)\" style=\"font-family: 'Open Sans', verdana, arial, sans-serif; font-size: 12px; fill: rgb(42, 63, 95); fill-opacity: 1; white-space: pre; opacity: 1;\">1000</text></g><g class=\"y2tick\"><text text-anchor=\"start\" x=\"621\" y=\"4.199999999999999\" style=\"font-family: 'Open Sans', verdana, arial, sans-serif; font-size: 12px; fill: rgb(42, 63, 95); fill-opacity: 1; white-space: pre; opacity: 1;\" transform=\"translate(0,331.01)\">2000</text></g><g class=\"y2tick\"><text text-anchor=\"start\" x=\"621\" y=\"4.199999999999999\" style=\"font-family: 'Open Sans', verdana, arial, sans-serif; font-size: 12px; fill: rgb(42, 63, 95); fill-opacity: 1; white-space: pre; opacity: 1;\" transform=\"translate(0,291.78999999999996)\">3000</text></g><g class=\"y2tick\"><text text-anchor=\"start\" x=\"621\" y=\"4.199999999999999\" style=\"font-family: 'Open Sans', verdana, arial, sans-serif; font-size: 12px; fill: rgb(42, 63, 95); fill-opacity: 1; white-space: pre; opacity: 1;\" transform=\"translate(0,252.58)\">4000</text></g><g class=\"y2tick\"><text text-anchor=\"start\" x=\"621\" y=\"4.199999999999999\" style=\"font-family: 'Open Sans', verdana, arial, sans-serif; font-size: 12px; fill: rgb(42, 63, 95); fill-opacity: 1; white-space: pre; opacity: 1;\" transform=\"translate(0,213.36)\">5000</text></g><g class=\"y2tick\"><text text-anchor=\"start\" x=\"621\" y=\"4.199999999999999\" style=\"font-family: 'Open Sans', verdana, arial, sans-serif; font-size: 12px; fill: rgb(42, 63, 95); fill-opacity: 1; white-space: pre; opacity: 1;\" transform=\"translate(0,174.15)\">6000</text></g><g class=\"y2tick\"><text text-anchor=\"start\" x=\"621\" y=\"4.199999999999999\" style=\"font-family: 'Open Sans', verdana, arial, sans-serif; font-size: 12px; fill: rgb(42, 63, 95); fill-opacity: 1; white-space: pre; opacity: 1;\" transform=\"translate(0,134.93)\">7000</text></g></g></g></g><g class=\"subplot xy2\"/></g><g class=\"polarlayer\"/><g class=\"smithlayer\"/><g class=\"ternarylayer\"/><g class=\"geolayer\"/><g class=\"funnelarealayer\"/><g class=\"pielayer\"/><g class=\"iciclelayer\"/><g class=\"treemaplayer\"/><g class=\"sunburstlayer\"/><g class=\"glimages\"/><defs id=\"topdefs-0a5726\"><g class=\"clips\"/><clipPath id=\"legend0a5726\"><rect width=\"352\" height=\"29\" x=\"0\" y=\"0\"/></clipPath></defs><g class=\"layer-above\"><g class=\"imagelayer\"/><g class=\"shapelayer\"/></g><g class=\"infolayer\"><g class=\"legend\" pointer-events=\"all\" transform=\"translate(80,424.5)\"><rect class=\"bg\" shape-rendering=\"crispEdges\" style=\"stroke: rgb(68, 68, 68); stroke-opacity: 1; fill: rgb(255, 255, 255); fill-opacity: 1; stroke-width: 0px;\" width=\"352\" height=\"29\" x=\"0\" y=\"0\"/><g class=\"scrollbox\" transform=\"\" clip-path=\"url(#legend0a5726)\"><g class=\"groups\"><g class=\"traces\" transform=\"translate(0,14.5)\" style=\"opacity: 1;\"><text class=\"legendtext\" text-anchor=\"start\" x=\"40\" y=\"4.680000000000001\" style=\"font-family: 'Open Sans', verdana, arial, sans-serif; font-size: 12px; fill: rgb(42, 63, 95); fill-opacity: 1; white-space: pre;\">Eventos Totales</text><g class=\"layers\" style=\"opacity: 1;\"><g class=\"legendfill\"/><g class=\"legendlines\"/><g class=\"legendsymbols\"><g class=\"legendpoints\"><path class=\"legendundefined\" d=\"M6,6H-6V-6H6Z\" transform=\"translate(20,0)\" style=\"stroke-width: 0.5px; fill: rgb(99, 110, 250); fill-opacity: 1; stroke: rgb(229, 236, 246); stroke-opacity: 1;\"/></g></g></g><rect class=\"legendtoggle\" x=\"0\" y=\"-9.5\" width=\"137.078125\" height=\"19\" style=\"fill: rgb(0, 0, 0); fill-opacity: 0;\"/></g><g class=\"traces\" transform=\"translate(139.578125,14.5)\" style=\"opacity: 1;\"><text class=\"legendtext\" text-anchor=\"start\" x=\"40\" y=\"4.680000000000001\" style=\"font-family: 'Open Sans', verdana, arial, sans-serif; font-size: 12px; fill: rgb(42, 63, 95); fill-opacity: 1; white-space: pre;\">Número de Usuarios Unicos</text><g class=\"layers\" style=\"opacity: 1;\"><g class=\"legendfill\"/><g class=\"legendlines\"><path class=\"js-line\" d=\"M5,0h30\" style=\"fill: none; stroke: rgb(239, 85, 59); stroke-opacity: 1; stroke-width: 2px;\"/></g><g class=\"legendsymbols\"><g class=\"legendpoints\"><path class=\"scatterpts\" transform=\"translate(20,0)\" d=\"M3,0A3,3 0 1,1 0,-3A3,3 0 0,1 3,0Z\" style=\"opacity: 1; stroke-width: 0px; fill: rgb(239, 85, 59); fill-opacity: 1;\"/></g></g></g><rect class=\"legendtoggle\" x=\"0\" y=\"-9.5\" width=\"209.578125\" height=\"19\" style=\"fill: rgb(0, 0, 0); fill-opacity: 0;\"/></g></g></g><rect class=\"scrollbar\" rx=\"20\" ry=\"3\" width=\"0\" height=\"0\" style=\"fill: rgb(128, 139, 164); fill-opacity: 1;\" x=\"0\" y=\"0\"/></g><g class=\"g-gtitle\"><text class=\"gtitle\" x=\"35\" y=\"50\" text-anchor=\"start\" dy=\"0em\" style=\"font-family: 'Open Sans', verdana, arial, sans-serif; font-size: 17px; fill: rgb(42, 63, 95); opacity: 1; white-space: pre;\">Eventos Registrados y Frecuencia de Sucesos</text></g><g class=\"g-xtitle\"/><g class=\"g-ytitle\"><text class=\"ytitle\" transform=\"rotate(-90,29.6,247.5)\" x=\"29.6\" y=\"247.5\" text-anchor=\"middle\" style=\"font-family: 'Open Sans', verdana, arial, sans-serif; font-size: 14px; fill: rgb(42, 63, 95); opacity: 1; white-space: pre;\">Cantidad de Eventos Totales</text></g><g class=\"g-y2title\"><text class=\"y2title\" transform=\"rotate(-90,676.190625,247.5)\" x=\"676.190625\" y=\"247.5\" text-anchor=\"middle\" style=\"font-family: 'Open Sans', verdana, arial, sans-serif; font-size: 14px; fill: rgb(42, 63, 95); opacity: 1; white-space: pre;\">Usuarios Unicos</text></g></g></svg>"
      ]
     },
     "metadata": {},
     "output_type": "display_data"
    }
   ],
   "source": [
    "fig3= go.Figure()\n",
    "\n",
    "fig3.add_trace(\n",
    "    go.Bar(x=regs['event_name'],\n",
    "                 y=regs['total_events'],\n",
    "                 name='Eventos Totales',\n",
    "                )\n",
    ")\n",
    "\n",
    "fig3.add_trace(\n",
    "    go.Scatter(\n",
    "        x=regs['event_name'],\n",
    "        y=regs['unique_users'],\n",
    "        yaxis='y2',\n",
    "        name='Número de Usuarios Unicos',\n",
    "        )\n",
    ")\n",
    "\n",
    "fig3.update_layout(\n",
    "    title=\"Eventos Registrados y Frecuencia de Sucesos\",\n",
    "    legend=dict(orientation=\"h\"),\n",
    "    yaxis=dict(\n",
    "        title=dict(text=\"Cantidad de Eventos Totales\"),\n",
    "        side=\"left\",\n",
    "        #range=[10, 50],\n",
    "    ),\n",
    "    yaxis2=dict(\n",
    "        title=dict(text=\"Usuarios Unicos\"),\n",
    "        side=\"right\",\n",
    "        #range=[250, 7700],\n",
    "        overlaying=\"y\",\n",
    "        #tickmode=\"sync\",\n",
    "    ),\n",
    ")\n",
    "\n",
    "fig3.show()\n",
    "    \n"
   ]
  },
  {
   "cell_type": "markdown",
   "metadata": {},
   "source": [
    "#### **Gráfico 3.** \n",
    "Muestra que eventos hay registrados y su frecuencia de suceso. En el eje y2 (Derecha), muestra el número de usuarios únicos en cada evento.\n",
    "\n",
    "Podemos observar los 5 eventos registrados. \n",
    "El evento con mayor frecuencia de suceso es \"MainScreenAppear\" (Aparece la pantalla principal), que también es el que reporta la mayor cantidad de eventos únicos. Por otro lado, el evento con menor frecuencia de suceso es el \"Tutorial\", que también tiene la menor cantidad de usuarios únicos.\n"
   ]
  },
  {
   "cell_type": "markdown",
   "metadata": {},
   "source": [
    "### - Encuentra la cantidad de usuarios y usuarias que realizaron cada una de estas acciones. Ordena los eventos por el número de usuarios y usuarias. Calcula la proporción de usuarios y usuarias que realizaron la acción al menos una vez."
   ]
  },
  {
   "cell_type": "code",
   "execution_count": 46,
   "metadata": {},
   "outputs": [
    {
     "data": {
      "text/html": [
       "<div>\n",
       "<style scoped>\n",
       "    .dataframe tbody tr th:only-of-type {\n",
       "        vertical-align: middle;\n",
       "    }\n",
       "\n",
       "    .dataframe tbody tr th {\n",
       "        vertical-align: top;\n",
       "    }\n",
       "\n",
       "    .dataframe thead th {\n",
       "        text-align: right;\n",
       "    }\n",
       "</style>\n",
       "<table border=\"1\" class=\"dataframe\">\n",
       "  <thead>\n",
       "    <tr style=\"text-align: right;\">\n",
       "      <th></th>\n",
       "      <th>event_name</th>\n",
       "      <th>total_events</th>\n",
       "      <th>unique_users</th>\n",
       "    </tr>\n",
       "  </thead>\n",
       "  <tbody>\n",
       "    <tr>\n",
       "      <th>1</th>\n",
       "      <td>MainScreenAppear</td>\n",
       "      <td>117431</td>\n",
       "      <td>7419</td>\n",
       "    </tr>\n",
       "    <tr>\n",
       "      <th>2</th>\n",
       "      <td>OffersScreenAppear</td>\n",
       "      <td>46350</td>\n",
       "      <td>4593</td>\n",
       "    </tr>\n",
       "    <tr>\n",
       "      <th>0</th>\n",
       "      <td>CartScreenAppear</td>\n",
       "      <td>42365</td>\n",
       "      <td>3734</td>\n",
       "    </tr>\n",
       "    <tr>\n",
       "      <th>3</th>\n",
       "      <td>PaymentScreenSuccessful</td>\n",
       "      <td>34113</td>\n",
       "      <td>3539</td>\n",
       "    </tr>\n",
       "    <tr>\n",
       "      <th>4</th>\n",
       "      <td>Tutorial</td>\n",
       "      <td>1039</td>\n",
       "      <td>840</td>\n",
       "    </tr>\n",
       "  </tbody>\n",
       "</table>\n",
       "</div>"
      ],
      "text/plain": [
       "                event_name  total_events  unique_users\n",
       "1         MainScreenAppear        117431          7419\n",
       "2       OffersScreenAppear         46350          4593\n",
       "0         CartScreenAppear         42365          3734\n",
       "3  PaymentScreenSuccessful         34113          3539\n",
       "4                 Tutorial          1039           840"
      ]
     },
     "execution_count": 46,
     "metadata": {},
     "output_type": "execute_result"
    }
   ],
   "source": [
    "regs"
   ]
  },
  {
   "cell_type": "code",
   "execution_count": 47,
   "metadata": {},
   "outputs": [
    {
     "data": {
      "text/plain": [
       "1    7419\n",
       "2    4593\n",
       "0    3734\n",
       "3    3539\n",
       "4     840\n",
       "Name: unique_users, dtype: int64"
      ]
     },
     "execution_count": 47,
     "metadata": {},
     "output_type": "execute_result"
    }
   ],
   "source": [
    "# Cantidad de usuarios que realizaron cada una de estas acciones:\n",
    "regs['unique_users']"
   ]
  },
  {
   "cell_type": "code",
   "execution_count": 48,
   "metadata": {},
   "outputs": [
    {
     "data": {
      "text/html": [
       "<div>\n",
       "<style scoped>\n",
       "    .dataframe tbody tr th:only-of-type {\n",
       "        vertical-align: middle;\n",
       "    }\n",
       "\n",
       "    .dataframe tbody tr th {\n",
       "        vertical-align: top;\n",
       "    }\n",
       "\n",
       "    .dataframe thead th {\n",
       "        text-align: right;\n",
       "    }\n",
       "</style>\n",
       "<table border=\"1\" class=\"dataframe\">\n",
       "  <thead>\n",
       "    <tr style=\"text-align: right;\">\n",
       "      <th></th>\n",
       "      <th>event_name</th>\n",
       "      <th>total_events</th>\n",
       "      <th>unique_users</th>\n",
       "      <th>percentage</th>\n",
       "    </tr>\n",
       "  </thead>\n",
       "  <tbody>\n",
       "    <tr>\n",
       "      <th>1</th>\n",
       "      <td>MainScreenAppear</td>\n",
       "      <td>117431</td>\n",
       "      <td>7419</td>\n",
       "      <td>98.473586</td>\n",
       "    </tr>\n",
       "    <tr>\n",
       "      <th>2</th>\n",
       "      <td>OffersScreenAppear</td>\n",
       "      <td>46350</td>\n",
       "      <td>4593</td>\n",
       "      <td>60.963632</td>\n",
       "    </tr>\n",
       "    <tr>\n",
       "      <th>0</th>\n",
       "      <td>CartScreenAppear</td>\n",
       "      <td>42365</td>\n",
       "      <td>3734</td>\n",
       "      <td>49.561986</td>\n",
       "    </tr>\n",
       "    <tr>\n",
       "      <th>3</th>\n",
       "      <td>PaymentScreenSuccessful</td>\n",
       "      <td>34113</td>\n",
       "      <td>3539</td>\n",
       "      <td>46.973719</td>\n",
       "    </tr>\n",
       "    <tr>\n",
       "      <th>4</th>\n",
       "      <td>Tutorial</td>\n",
       "      <td>1039</td>\n",
       "      <td>840</td>\n",
       "      <td>11.149456</td>\n",
       "    </tr>\n",
       "  </tbody>\n",
       "</table>\n",
       "</div>"
      ],
      "text/plain": [
       "                event_name  total_events  unique_users  percentage\n",
       "1         MainScreenAppear        117431          7419   98.473586\n",
       "2       OffersScreenAppear         46350          4593   60.963632\n",
       "0         CartScreenAppear         42365          3734   49.561986\n",
       "3  PaymentScreenSuccessful         34113          3539   46.973719\n",
       "4                 Tutorial          1039           840   11.149456"
      ]
     },
     "execution_count": 48,
     "metadata": {},
     "output_type": "execute_result"
    }
   ],
   "source": [
    "# Proporción de usuarios y usuarias que realizaron la acción al menos una vez:\n",
    "regs['percentage']=regs['unique_users'] / len(data_['device_id_hash'].unique())*100\n",
    "regs\n",
    "\n",
    "# Este es un EMBUDO SIMPLE, muestra cuantas personas llegaron a cada una de las etapas del embudo: "
   ]
  },
  {
   "cell_type": "markdown",
   "metadata": {},
   "source": [
    "### - ¿En qué orden crees que ocurrieron las acciones? ¿Todas son parte de una sola secuencia? No es necesario tenerlas en cuenta al calcular el embudo.\n",
    "\n"
   ]
  },
  {
   "cell_type": "code",
   "execution_count": 49,
   "metadata": {},
   "outputs": [
    {
     "data": {
      "text/html": [
       "<div>\n",
       "<style scoped>\n",
       "    .dataframe tbody tr th:only-of-type {\n",
       "        vertical-align: middle;\n",
       "    }\n",
       "\n",
       "    .dataframe tbody tr th {\n",
       "        vertical-align: top;\n",
       "    }\n",
       "\n",
       "    .dataframe thead th {\n",
       "        text-align: right;\n",
       "    }\n",
       "</style>\n",
       "<table border=\"1\" class=\"dataframe\">\n",
       "  <thead>\n",
       "    <tr style=\"text-align: right;\">\n",
       "      <th></th>\n",
       "      <th>event_name</th>\n",
       "      <th>device_id_hash</th>\n",
       "      <th>event_time_stamp</th>\n",
       "      <th>exp_id</th>\n",
       "      <th>date_hour</th>\n",
       "      <th>date</th>\n",
       "    </tr>\n",
       "  </thead>\n",
       "  <tbody>\n",
       "    <tr>\n",
       "      <th>2828</th>\n",
       "      <td>Tutorial</td>\n",
       "      <td>3737462046622621720</td>\n",
       "      <td>2019-08-01 00:07:28</td>\n",
       "      <td>246</td>\n",
       "      <td>2019-08-01 00:00:00</td>\n",
       "      <td>2019-08-01</td>\n",
       "    </tr>\n",
       "    <tr>\n",
       "      <th>2829</th>\n",
       "      <td>MainScreenAppear</td>\n",
       "      <td>3737462046622621720</td>\n",
       "      <td>2019-08-01 00:08:00</td>\n",
       "      <td>246</td>\n",
       "      <td>2019-08-01 00:00:00</td>\n",
       "      <td>2019-08-01</td>\n",
       "    </tr>\n",
       "    <tr>\n",
       "      <th>2830</th>\n",
       "      <td>MainScreenAppear</td>\n",
       "      <td>3737462046622621720</td>\n",
       "      <td>2019-08-01 00:08:55</td>\n",
       "      <td>246</td>\n",
       "      <td>2019-08-01 00:00:00</td>\n",
       "      <td>2019-08-01</td>\n",
       "    </tr>\n",
       "    <tr>\n",
       "      <th>2831</th>\n",
       "      <td>OffersScreenAppear</td>\n",
       "      <td>3737462046622621720</td>\n",
       "      <td>2019-08-01 00:08:58</td>\n",
       "      <td>246</td>\n",
       "      <td>2019-08-01 00:00:00</td>\n",
       "      <td>2019-08-01</td>\n",
       "    </tr>\n",
       "    <tr>\n",
       "      <th>2832</th>\n",
       "      <td>MainScreenAppear</td>\n",
       "      <td>1433840883824088890</td>\n",
       "      <td>2019-08-01 00:08:59</td>\n",
       "      <td>247</td>\n",
       "      <td>2019-08-01 00:00:00</td>\n",
       "      <td>2019-08-01</td>\n",
       "    </tr>\n",
       "    <tr>\n",
       "      <th>...</th>\n",
       "      <td>...</td>\n",
       "      <td>...</td>\n",
       "      <td>...</td>\n",
       "      <td>...</td>\n",
       "      <td>...</td>\n",
       "      <td>...</td>\n",
       "    </tr>\n",
       "    <tr>\n",
       "      <th>244121</th>\n",
       "      <td>MainScreenAppear</td>\n",
       "      <td>4599628364049201812</td>\n",
       "      <td>2019-08-07 21:12:25</td>\n",
       "      <td>247</td>\n",
       "      <td>2019-08-07 21:00:00</td>\n",
       "      <td>2019-08-07</td>\n",
       "    </tr>\n",
       "    <tr>\n",
       "      <th>244122</th>\n",
       "      <td>MainScreenAppear</td>\n",
       "      <td>5849806612437486590</td>\n",
       "      <td>2019-08-07 21:13:59</td>\n",
       "      <td>246</td>\n",
       "      <td>2019-08-07 21:00:00</td>\n",
       "      <td>2019-08-07</td>\n",
       "    </tr>\n",
       "    <tr>\n",
       "      <th>244123</th>\n",
       "      <td>MainScreenAppear</td>\n",
       "      <td>5746969938801999050</td>\n",
       "      <td>2019-08-07 21:14:43</td>\n",
       "      <td>246</td>\n",
       "      <td>2019-08-07 21:00:00</td>\n",
       "      <td>2019-08-07</td>\n",
       "    </tr>\n",
       "    <tr>\n",
       "      <th>244124</th>\n",
       "      <td>MainScreenAppear</td>\n",
       "      <td>5746969938801999050</td>\n",
       "      <td>2019-08-07 21:14:58</td>\n",
       "      <td>246</td>\n",
       "      <td>2019-08-07 21:00:00</td>\n",
       "      <td>2019-08-07</td>\n",
       "    </tr>\n",
       "    <tr>\n",
       "      <th>244125</th>\n",
       "      <td>OffersScreenAppear</td>\n",
       "      <td>5746969938801999050</td>\n",
       "      <td>2019-08-07 21:15:17</td>\n",
       "      <td>246</td>\n",
       "      <td>2019-08-07 21:00:00</td>\n",
       "      <td>2019-08-07</td>\n",
       "    </tr>\n",
       "  </tbody>\n",
       "</table>\n",
       "<p>241298 rows × 6 columns</p>\n",
       "</div>"
      ],
      "text/plain": [
       "                event_name       device_id_hash    event_time_stamp exp_id  \\\n",
       "2828              Tutorial  3737462046622621720 2019-08-01 00:07:28    246   \n",
       "2829      MainScreenAppear  3737462046622621720 2019-08-01 00:08:00    246   \n",
       "2830      MainScreenAppear  3737462046622621720 2019-08-01 00:08:55    246   \n",
       "2831    OffersScreenAppear  3737462046622621720 2019-08-01 00:08:58    246   \n",
       "2832      MainScreenAppear  1433840883824088890 2019-08-01 00:08:59    247   \n",
       "...                    ...                  ...                 ...    ...   \n",
       "244121    MainScreenAppear  4599628364049201812 2019-08-07 21:12:25    247   \n",
       "244122    MainScreenAppear  5849806612437486590 2019-08-07 21:13:59    246   \n",
       "244123    MainScreenAppear  5746969938801999050 2019-08-07 21:14:43    246   \n",
       "244124    MainScreenAppear  5746969938801999050 2019-08-07 21:14:58    246   \n",
       "244125  OffersScreenAppear  5746969938801999050 2019-08-07 21:15:17    246   \n",
       "\n",
       "                 date_hour       date  \n",
       "2828   2019-08-01 00:00:00 2019-08-01  \n",
       "2829   2019-08-01 00:00:00 2019-08-01  \n",
       "2830   2019-08-01 00:00:00 2019-08-01  \n",
       "2831   2019-08-01 00:00:00 2019-08-01  \n",
       "2832   2019-08-01 00:00:00 2019-08-01  \n",
       "...                    ...        ...  \n",
       "244121 2019-08-07 21:00:00 2019-08-07  \n",
       "244122 2019-08-07 21:00:00 2019-08-07  \n",
       "244123 2019-08-07 21:00:00 2019-08-07  \n",
       "244124 2019-08-07 21:00:00 2019-08-07  \n",
       "244125 2019-08-07 21:00:00 2019-08-07  \n",
       "\n",
       "[241298 rows x 6 columns]"
      ]
     },
     "execution_count": 49,
     "metadata": {},
     "output_type": "execute_result"
    }
   ],
   "source": [
    "# Ordenando los datos por \"event_time_stamp\":\n",
    "data_ordered=data_.sort_values(by='event_time_stamp')#.head()\n",
    "data_ordered"
   ]
  },
  {
   "cell_type": "markdown",
   "metadata": {},
   "source": [
    "Parecería que no todas las acciones suceden en el mismo orden.\n",
    "> Se podría pensar, que el orden es el siguiente: \\\n",
    "1° Tutorial \\\n",
    "2° MainScreenAppear \\\n",
    "3° OffersScreenAppear \\\n",
    "4° CartScreenAppear \\\n",
    "5° PaymentScreenSuccessful \n",
    "\n",
    "Inicialmente, parecería que los usuarios tienden a saltarse el tutorial, no es necesariamente parte de la secuancia y no habría problema en no tomarlo en cuenta para calcular la secuencia."
   ]
  },
  {
   "cell_type": "code",
   "execution_count": 50,
   "metadata": {},
   "outputs": [
    {
     "data": {
      "text/plain": [
       "False"
      ]
     },
     "execution_count": 50,
     "metadata": {},
     "output_type": "execute_result"
    }
   ],
   "source": [
    "# Verificando si las acciones son parte de una sola secuencia:\n",
    "data_ordered['event_name'].eq(data_ordered['event_name'].shift()).all()"
   ]
  },
  {
   "cell_type": "code",
   "execution_count": 51,
   "metadata": {},
   "outputs": [],
   "source": [
    "#data_ordered[data_ordered['device_id_hash'] == '1433840883824088890']"
   ]
  },
  {
   "cell_type": "code",
   "execution_count": 52,
   "metadata": {},
   "outputs": [
    {
     "data": {
      "text/html": [
       "<div>\n",
       "<style scoped>\n",
       "    .dataframe tbody tr th:only-of-type {\n",
       "        vertical-align: middle;\n",
       "    }\n",
       "\n",
       "    .dataframe tbody tr th {\n",
       "        vertical-align: top;\n",
       "    }\n",
       "\n",
       "    .dataframe thead th {\n",
       "        text-align: right;\n",
       "    }\n",
       "</style>\n",
       "<table border=\"1\" class=\"dataframe\">\n",
       "  <thead>\n",
       "    <tr style=\"text-align: right;\">\n",
       "      <th></th>\n",
       "      <th>event_name</th>\n",
       "      <th>device_id_hash</th>\n",
       "      <th>event_time_stamp</th>\n",
       "      <th>exp_id</th>\n",
       "      <th>date_hour</th>\n",
       "      <th>date</th>\n",
       "    </tr>\n",
       "  </thead>\n",
       "  <tbody>\n",
       "    <tr>\n",
       "      <th>2828</th>\n",
       "      <td>Tutorial</td>\n",
       "      <td>3737462046622621720</td>\n",
       "      <td>2019-08-01 00:07:28</td>\n",
       "      <td>246</td>\n",
       "      <td>2019-08-01 00:00:00</td>\n",
       "      <td>2019-08-01</td>\n",
       "    </tr>\n",
       "    <tr>\n",
       "      <th>2829</th>\n",
       "      <td>MainScreenAppear</td>\n",
       "      <td>3737462046622621720</td>\n",
       "      <td>2019-08-01 00:08:00</td>\n",
       "      <td>246</td>\n",
       "      <td>2019-08-01 00:00:00</td>\n",
       "      <td>2019-08-01</td>\n",
       "    </tr>\n",
       "    <tr>\n",
       "      <th>2830</th>\n",
       "      <td>MainScreenAppear</td>\n",
       "      <td>3737462046622621720</td>\n",
       "      <td>2019-08-01 00:08:55</td>\n",
       "      <td>246</td>\n",
       "      <td>2019-08-01 00:00:00</td>\n",
       "      <td>2019-08-01</td>\n",
       "    </tr>\n",
       "    <tr>\n",
       "      <th>2831</th>\n",
       "      <td>OffersScreenAppear</td>\n",
       "      <td>3737462046622621720</td>\n",
       "      <td>2019-08-01 00:08:58</td>\n",
       "      <td>246</td>\n",
       "      <td>2019-08-01 00:00:00</td>\n",
       "      <td>2019-08-01</td>\n",
       "    </tr>\n",
       "    <tr>\n",
       "      <th>2832</th>\n",
       "      <td>MainScreenAppear</td>\n",
       "      <td>1433840883824088890</td>\n",
       "      <td>2019-08-01 00:08:59</td>\n",
       "      <td>247</td>\n",
       "      <td>2019-08-01 00:00:00</td>\n",
       "      <td>2019-08-01</td>\n",
       "    </tr>\n",
       "    <tr>\n",
       "      <th>...</th>\n",
       "      <td>...</td>\n",
       "      <td>...</td>\n",
       "      <td>...</td>\n",
       "      <td>...</td>\n",
       "      <td>...</td>\n",
       "      <td>...</td>\n",
       "    </tr>\n",
       "    <tr>\n",
       "      <th>244121</th>\n",
       "      <td>MainScreenAppear</td>\n",
       "      <td>4599628364049201812</td>\n",
       "      <td>2019-08-07 21:12:25</td>\n",
       "      <td>247</td>\n",
       "      <td>2019-08-07 21:00:00</td>\n",
       "      <td>2019-08-07</td>\n",
       "    </tr>\n",
       "    <tr>\n",
       "      <th>244122</th>\n",
       "      <td>MainScreenAppear</td>\n",
       "      <td>5849806612437486590</td>\n",
       "      <td>2019-08-07 21:13:59</td>\n",
       "      <td>246</td>\n",
       "      <td>2019-08-07 21:00:00</td>\n",
       "      <td>2019-08-07</td>\n",
       "    </tr>\n",
       "    <tr>\n",
       "      <th>244123</th>\n",
       "      <td>MainScreenAppear</td>\n",
       "      <td>5746969938801999050</td>\n",
       "      <td>2019-08-07 21:14:43</td>\n",
       "      <td>246</td>\n",
       "      <td>2019-08-07 21:00:00</td>\n",
       "      <td>2019-08-07</td>\n",
       "    </tr>\n",
       "    <tr>\n",
       "      <th>244124</th>\n",
       "      <td>MainScreenAppear</td>\n",
       "      <td>5746969938801999050</td>\n",
       "      <td>2019-08-07 21:14:58</td>\n",
       "      <td>246</td>\n",
       "      <td>2019-08-07 21:00:00</td>\n",
       "      <td>2019-08-07</td>\n",
       "    </tr>\n",
       "    <tr>\n",
       "      <th>244125</th>\n",
       "      <td>OffersScreenAppear</td>\n",
       "      <td>5746969938801999050</td>\n",
       "      <td>2019-08-07 21:15:17</td>\n",
       "      <td>246</td>\n",
       "      <td>2019-08-07 21:00:00</td>\n",
       "      <td>2019-08-07</td>\n",
       "    </tr>\n",
       "  </tbody>\n",
       "</table>\n",
       "<p>241298 rows × 6 columns</p>\n",
       "</div>"
      ],
      "text/plain": [
       "                event_name       device_id_hash    event_time_stamp exp_id  \\\n",
       "2828              Tutorial  3737462046622621720 2019-08-01 00:07:28    246   \n",
       "2829      MainScreenAppear  3737462046622621720 2019-08-01 00:08:00    246   \n",
       "2830      MainScreenAppear  3737462046622621720 2019-08-01 00:08:55    246   \n",
       "2831    OffersScreenAppear  3737462046622621720 2019-08-01 00:08:58    246   \n",
       "2832      MainScreenAppear  1433840883824088890 2019-08-01 00:08:59    247   \n",
       "...                    ...                  ...                 ...    ...   \n",
       "244121    MainScreenAppear  4599628364049201812 2019-08-07 21:12:25    247   \n",
       "244122    MainScreenAppear  5849806612437486590 2019-08-07 21:13:59    246   \n",
       "244123    MainScreenAppear  5746969938801999050 2019-08-07 21:14:43    246   \n",
       "244124    MainScreenAppear  5746969938801999050 2019-08-07 21:14:58    246   \n",
       "244125  OffersScreenAppear  5746969938801999050 2019-08-07 21:15:17    246   \n",
       "\n",
       "                 date_hour       date  \n",
       "2828   2019-08-01 00:00:00 2019-08-01  \n",
       "2829   2019-08-01 00:00:00 2019-08-01  \n",
       "2830   2019-08-01 00:00:00 2019-08-01  \n",
       "2831   2019-08-01 00:00:00 2019-08-01  \n",
       "2832   2019-08-01 00:00:00 2019-08-01  \n",
       "...                    ...        ...  \n",
       "244121 2019-08-07 21:00:00 2019-08-07  \n",
       "244122 2019-08-07 21:00:00 2019-08-07  \n",
       "244123 2019-08-07 21:00:00 2019-08-07  \n",
       "244124 2019-08-07 21:00:00 2019-08-07  \n",
       "244125 2019-08-07 21:00:00 2019-08-07  \n",
       "\n",
       "[241298 rows x 6 columns]"
      ]
     },
     "execution_count": 52,
     "metadata": {},
     "output_type": "execute_result"
    }
   ],
   "source": [
    "data_ordered"
   ]
  },
  {
   "cell_type": "markdown",
   "metadata": {},
   "source": [
    "### - Utiliza el embudo de eventos para encontrar la proporción de usuarios y usuarias que pasan de una etapa a la siguiente. (Por ejemplo, para la secuencia de eventos A → B → C, calcula la proporción de usuarios en la etapa B a la cantidad de usuarios en la etapa A y la proporción de usuarios en la etapa C a la cantidad en la etapa B)."
   ]
  },
  {
   "cell_type": "markdown",
   "metadata": {},
   "source": [
    "***EMBUDO SIMPLE:***"
   ]
  },
  {
   "cell_type": "code",
   "execution_count": 53,
   "metadata": {},
   "outputs": [
    {
     "data": {
      "text/html": [
       "<div>\n",
       "<style scoped>\n",
       "    .dataframe tbody tr th:only-of-type {\n",
       "        vertical-align: middle;\n",
       "    }\n",
       "\n",
       "    .dataframe tbody tr th {\n",
       "        vertical-align: top;\n",
       "    }\n",
       "\n",
       "    .dataframe thead th {\n",
       "        text-align: right;\n",
       "    }\n",
       "</style>\n",
       "<table border=\"1\" class=\"dataframe\">\n",
       "  <thead>\n",
       "    <tr style=\"text-align: right;\">\n",
       "      <th></th>\n",
       "      <th>event_name</th>\n",
       "      <th>unique_users</th>\n",
       "    </tr>\n",
       "  </thead>\n",
       "  <tbody>\n",
       "    <tr>\n",
       "      <th>1</th>\n",
       "      <td>MainScreenAppear</td>\n",
       "      <td>7419</td>\n",
       "    </tr>\n",
       "    <tr>\n",
       "      <th>2</th>\n",
       "      <td>OffersScreenAppear</td>\n",
       "      <td>4593</td>\n",
       "    </tr>\n",
       "    <tr>\n",
       "      <th>0</th>\n",
       "      <td>CartScreenAppear</td>\n",
       "      <td>3734</td>\n",
       "    </tr>\n",
       "    <tr>\n",
       "      <th>3</th>\n",
       "      <td>PaymentScreenSuccessful</td>\n",
       "      <td>3539</td>\n",
       "    </tr>\n",
       "    <tr>\n",
       "      <th>4</th>\n",
       "      <td>Tutorial</td>\n",
       "      <td>840</td>\n",
       "    </tr>\n",
       "  </tbody>\n",
       "</table>\n",
       "</div>"
      ],
      "text/plain": [
       "                event_name  unique_users\n",
       "1         MainScreenAppear          7419\n",
       "2       OffersScreenAppear          4593\n",
       "0         CartScreenAppear          3734\n",
       "3  PaymentScreenSuccessful          3539\n",
       "4                 Tutorial           840"
      ]
     },
     "execution_count": 53,
     "metadata": {},
     "output_type": "execute_result"
    }
   ],
   "source": [
    "# Embudo de producto simples:\n",
    "embudo_simple=data_.groupby('event_name')['device_id_hash'].agg([\n",
    "    ('unique_users', 'nunique')\n",
    "]).reset_index().sort_values(by='unique_users', ascending=False)  \n",
    "\n",
    "#embudo_simple['percentage']=embudo_simple['unique_users'] / len(data_['device_id_hash'].unique())*100\n",
    "\n",
    "embudo_simple"
   ]
  },
  {
   "cell_type": "code",
   "execution_count": 54,
   "metadata": {},
   "outputs": [
    {
     "data": {
      "text/html": [
       "<div>\n",
       "<style scoped>\n",
       "    .dataframe tbody tr th:only-of-type {\n",
       "        vertical-align: middle;\n",
       "    }\n",
       "\n",
       "    .dataframe tbody tr th {\n",
       "        vertical-align: top;\n",
       "    }\n",
       "\n",
       "    .dataframe thead th {\n",
       "        text-align: right;\n",
       "    }\n",
       "</style>\n",
       "<table border=\"1\" class=\"dataframe\">\n",
       "  <thead>\n",
       "    <tr style=\"text-align: right;\">\n",
       "      <th></th>\n",
       "      <th>event_name</th>\n",
       "      <th>unique_users</th>\n",
       "      <th>porc_conversion</th>\n",
       "    </tr>\n",
       "  </thead>\n",
       "  <tbody>\n",
       "    <tr>\n",
       "      <th>1</th>\n",
       "      <td>MainScreenAppear</td>\n",
       "      <td>7419</td>\n",
       "      <td>NaN</td>\n",
       "    </tr>\n",
       "    <tr>\n",
       "      <th>2</th>\n",
       "      <td>OffersScreenAppear</td>\n",
       "      <td>4593</td>\n",
       "      <td>0.619086</td>\n",
       "    </tr>\n",
       "    <tr>\n",
       "      <th>0</th>\n",
       "      <td>CartScreenAppear</td>\n",
       "      <td>3734</td>\n",
       "      <td>0.812976</td>\n",
       "    </tr>\n",
       "    <tr>\n",
       "      <th>3</th>\n",
       "      <td>PaymentScreenSuccessful</td>\n",
       "      <td>3539</td>\n",
       "      <td>0.947777</td>\n",
       "    </tr>\n",
       "    <tr>\n",
       "      <th>4</th>\n",
       "      <td>Tutorial</td>\n",
       "      <td>840</td>\n",
       "      <td>0.237355</td>\n",
       "    </tr>\n",
       "  </tbody>\n",
       "</table>\n",
       "</div>"
      ],
      "text/plain": [
       "                event_name  unique_users  porc_conversion\n",
       "1         MainScreenAppear          7419              NaN\n",
       "2       OffersScreenAppear          4593         0.619086\n",
       "0         CartScreenAppear          3734         0.812976\n",
       "3  PaymentScreenSuccessful          3539         0.947777\n",
       "4                 Tutorial           840         0.237355"
      ]
     },
     "execution_count": 54,
     "metadata": {},
     "output_type": "execute_result"
    }
   ],
   "source": [
    "# Embudo de producto simples con porcentages:\n",
    "embudo_simple['porc_conversion'] = embudo_simple['unique_users'] / embudo_simple['unique_users'].shift(1)\n",
    "embudo_simple"
   ]
  },
  {
   "cell_type": "code",
   "execution_count": 55,
   "metadata": {},
   "outputs": [
    {
     "data": {
      "text/html": [
       "<div>\n",
       "<style scoped>\n",
       "    .dataframe tbody tr th:only-of-type {\n",
       "        vertical-align: middle;\n",
       "    }\n",
       "\n",
       "    .dataframe tbody tr th {\n",
       "        vertical-align: top;\n",
       "    }\n",
       "\n",
       "    .dataframe thead th {\n",
       "        text-align: right;\n",
       "    }\n",
       "</style>\n",
       "<table border=\"1\" class=\"dataframe\">\n",
       "  <thead>\n",
       "    <tr style=\"text-align: right;\">\n",
       "      <th></th>\n",
       "      <th>event_name</th>\n",
       "      <th>total_events</th>\n",
       "      <th>unique_users</th>\n",
       "      <th>percentage</th>\n",
       "    </tr>\n",
       "  </thead>\n",
       "  <tbody>\n",
       "    <tr>\n",
       "      <th>1</th>\n",
       "      <td>MainScreenAppear</td>\n",
       "      <td>117431</td>\n",
       "      <td>7419</td>\n",
       "      <td>98.473586</td>\n",
       "    </tr>\n",
       "    <tr>\n",
       "      <th>2</th>\n",
       "      <td>OffersScreenAppear</td>\n",
       "      <td>46350</td>\n",
       "      <td>4593</td>\n",
       "      <td>60.963632</td>\n",
       "    </tr>\n",
       "    <tr>\n",
       "      <th>0</th>\n",
       "      <td>CartScreenAppear</td>\n",
       "      <td>42365</td>\n",
       "      <td>3734</td>\n",
       "      <td>49.561986</td>\n",
       "    </tr>\n",
       "    <tr>\n",
       "      <th>3</th>\n",
       "      <td>PaymentScreenSuccessful</td>\n",
       "      <td>34113</td>\n",
       "      <td>3539</td>\n",
       "      <td>46.973719</td>\n",
       "    </tr>\n",
       "    <tr>\n",
       "      <th>4</th>\n",
       "      <td>Tutorial</td>\n",
       "      <td>1039</td>\n",
       "      <td>840</td>\n",
       "      <td>11.149456</td>\n",
       "    </tr>\n",
       "  </tbody>\n",
       "</table>\n",
       "</div>"
      ],
      "text/plain": [
       "                event_name  total_events  unique_users  percentage\n",
       "1         MainScreenAppear        117431          7419   98.473586\n",
       "2       OffersScreenAppear         46350          4593   60.963632\n",
       "0         CartScreenAppear         42365          3734   49.561986\n",
       "3  PaymentScreenSuccessful         34113          3539   46.973719\n",
       "4                 Tutorial          1039           840   11.149456"
      ]
     },
     "execution_count": 55,
     "metadata": {},
     "output_type": "execute_result"
    }
   ],
   "source": [
    "regs"
   ]
  },
  {
   "cell_type": "markdown",
   "metadata": {},
   "source": [
    "***EMBUDO DE PRODUCTOS CON SECUENCIA DE EVENTOS***"
   ]
  },
  {
   "cell_type": "code",
   "execution_count": 56,
   "metadata": {},
   "outputs": [
    {
     "data": {
      "text/html": [
       "<div>\n",
       "<style scoped>\n",
       "    .dataframe tbody tr th:only-of-type {\n",
       "        vertical-align: middle;\n",
       "    }\n",
       "\n",
       "    .dataframe tbody tr th {\n",
       "        vertical-align: top;\n",
       "    }\n",
       "\n",
       "    .dataframe thead th {\n",
       "        text-align: right;\n",
       "    }\n",
       "</style>\n",
       "<table border=\"1\" class=\"dataframe\">\n",
       "  <thead>\n",
       "    <tr style=\"text-align: right;\">\n",
       "      <th>event_name</th>\n",
       "      <th>CartScreenAppear</th>\n",
       "      <th>MainScreenAppear</th>\n",
       "      <th>OffersScreenAppear</th>\n",
       "      <th>PaymentScreenSuccessful</th>\n",
       "      <th>Tutorial</th>\n",
       "    </tr>\n",
       "    <tr>\n",
       "      <th>device_id_hash</th>\n",
       "      <th></th>\n",
       "      <th></th>\n",
       "      <th></th>\n",
       "      <th></th>\n",
       "      <th></th>\n",
       "    </tr>\n",
       "  </thead>\n",
       "  <tbody>\n",
       "    <tr>\n",
       "      <th>1000608915523616548</th>\n",
       "      <td>NaT</td>\n",
       "      <td>2019-08-01 16:05:50</td>\n",
       "      <td>2019-08-07 16:15:07</td>\n",
       "      <td>NaT</td>\n",
       "      <td>NaT</td>\n",
       "    </tr>\n",
       "    <tr>\n",
       "      <th>100724994572555335</th>\n",
       "      <td>NaT</td>\n",
       "      <td>2019-08-05 16:06:45</td>\n",
       "      <td>NaT</td>\n",
       "      <td>NaT</td>\n",
       "      <td>NaT</td>\n",
       "    </tr>\n",
       "    <tr>\n",
       "      <th>1008242126838007188</th>\n",
       "      <td>2019-08-01 09:32:23</td>\n",
       "      <td>2019-08-01 09:32:21</td>\n",
       "      <td>2019-08-01 09:32:29</td>\n",
       "      <td>2019-08-01 09:32:23</td>\n",
       "      <td>NaT</td>\n",
       "    </tr>\n",
       "    <tr>\n",
       "      <th>1009503747199967885</th>\n",
       "      <td>2019-08-05 09:59:26</td>\n",
       "      <td>2019-08-04 16:34:04</td>\n",
       "      <td>2019-08-04 16:30:26</td>\n",
       "      <td>2019-08-05 09:59:25</td>\n",
       "      <td>NaT</td>\n",
       "    </tr>\n",
       "    <tr>\n",
       "      <th>1009745980451513098</th>\n",
       "      <td>2019-08-01 15:29:00</td>\n",
       "      <td>2019-08-01 15:28:01</td>\n",
       "      <td>2019-08-01 15:38:05</td>\n",
       "      <td>2019-08-02 16:36:07</td>\n",
       "      <td>NaT</td>\n",
       "    </tr>\n",
       "    <tr>\n",
       "      <th>...</th>\n",
       "      <td>...</td>\n",
       "      <td>...</td>\n",
       "      <td>...</td>\n",
       "      <td>...</td>\n",
       "      <td>...</td>\n",
       "    </tr>\n",
       "    <tr>\n",
       "      <th>992321565231279868</th>\n",
       "      <td>NaT</td>\n",
       "      <td>2019-08-03 23:01:58</td>\n",
       "      <td>NaT</td>\n",
       "      <td>NaT</td>\n",
       "      <td>NaT</td>\n",
       "    </tr>\n",
       "    <tr>\n",
       "      <th>993193057518949787</th>\n",
       "      <td>NaT</td>\n",
       "      <td>2019-08-06 18:08:06</td>\n",
       "      <td>NaT</td>\n",
       "      <td>NaT</td>\n",
       "      <td>NaT</td>\n",
       "    </tr>\n",
       "    <tr>\n",
       "      <th>995065401066914588</th>\n",
       "      <td>NaT</td>\n",
       "      <td>2019-08-04 07:28:00</td>\n",
       "      <td>NaT</td>\n",
       "      <td>NaT</td>\n",
       "      <td>2019-08-04 07:27:54</td>\n",
       "    </tr>\n",
       "    <tr>\n",
       "      <th>997141886226099626</th>\n",
       "      <td>NaT</td>\n",
       "      <td>2019-08-02 12:24:03</td>\n",
       "      <td>NaT</td>\n",
       "      <td>NaT</td>\n",
       "      <td>NaT</td>\n",
       "    </tr>\n",
       "    <tr>\n",
       "      <th>997959739029313547</th>\n",
       "      <td>NaT</td>\n",
       "      <td>2019-08-04 17:03:19</td>\n",
       "      <td>NaT</td>\n",
       "      <td>NaT</td>\n",
       "      <td>NaT</td>\n",
       "    </tr>\n",
       "  </tbody>\n",
       "</table>\n",
       "<p>7534 rows × 5 columns</p>\n",
       "</div>"
      ],
      "text/plain": [
       "event_name             CartScreenAppear    MainScreenAppear  \\\n",
       "device_id_hash                                                \n",
       "1000608915523616548                 NaT 2019-08-01 16:05:50   \n",
       "100724994572555335                  NaT 2019-08-05 16:06:45   \n",
       "1008242126838007188 2019-08-01 09:32:23 2019-08-01 09:32:21   \n",
       "1009503747199967885 2019-08-05 09:59:26 2019-08-04 16:34:04   \n",
       "1009745980451513098 2019-08-01 15:29:00 2019-08-01 15:28:01   \n",
       "...                                 ...                 ...   \n",
       "992321565231279868                  NaT 2019-08-03 23:01:58   \n",
       "993193057518949787                  NaT 2019-08-06 18:08:06   \n",
       "995065401066914588                  NaT 2019-08-04 07:28:00   \n",
       "997141886226099626                  NaT 2019-08-02 12:24:03   \n",
       "997959739029313547                  NaT 2019-08-04 17:03:19   \n",
       "\n",
       "event_name           OffersScreenAppear PaymentScreenSuccessful  \\\n",
       "device_id_hash                                                    \n",
       "1000608915523616548 2019-08-07 16:15:07                     NaT   \n",
       "100724994572555335                  NaT                     NaT   \n",
       "1008242126838007188 2019-08-01 09:32:29     2019-08-01 09:32:23   \n",
       "1009503747199967885 2019-08-04 16:30:26     2019-08-05 09:59:25   \n",
       "1009745980451513098 2019-08-01 15:38:05     2019-08-02 16:36:07   \n",
       "...                                 ...                     ...   \n",
       "992321565231279868                  NaT                     NaT   \n",
       "993193057518949787                  NaT                     NaT   \n",
       "995065401066914588                  NaT                     NaT   \n",
       "997141886226099626                  NaT                     NaT   \n",
       "997959739029313547                  NaT                     NaT   \n",
       "\n",
       "event_name                     Tutorial  \n",
       "device_id_hash                           \n",
       "1000608915523616548                 NaT  \n",
       "100724994572555335                  NaT  \n",
       "1008242126838007188                 NaT  \n",
       "1009503747199967885                 NaT  \n",
       "1009745980451513098                 NaT  \n",
       "...                                 ...  \n",
       "992321565231279868                  NaT  \n",
       "993193057518949787                  NaT  \n",
       "995065401066914588  2019-08-04 07:27:54  \n",
       "997141886226099626                  NaT  \n",
       "997959739029313547                  NaT  \n",
       "\n",
       "[7534 rows x 5 columns]"
      ]
     },
     "execution_count": 56,
     "metadata": {},
     "output_type": "execute_result"
    }
   ],
   "source": [
    "### EMBUDO DE PRODUCTOS CON SECUENCIA DE EVENTOS ###\n",
    "\n",
    "#1 Hora del primer suceso de cada evento para cada usuario:\n",
    "secuence_table= data_.pivot_table(\n",
    "    index='device_id_hash',\n",
    "    columns='event_name',\n",
    "    values='event_time_stamp',\n",
    "    aggfunc='min')\n",
    "\n",
    "secuence_table"
   ]
  },
  {
   "cell_type": "code",
   "execution_count": 57,
   "metadata": {},
   "outputs": [
    {
     "name": "stdout",
     "output_type": "stream",
     "text": [
      "Usuarios que les aparece la pantalla principal: 7419\n",
      "Usuarios que les aparece la pantalla de ofertas: 4201\n"
     ]
    }
   ],
   "source": [
    "#2 Cuantos usuarios pasaron de una etapa a otra:\n",
    "n_main_screen_appear = secuence_table[~secuence_table['MainScreenAppear'].isna()].shape[0]\n",
    "print('Usuarios que les aparece la pantalla principal:', n_main_screen_appear)\n",
    "\n",
    "n_offeres_screen_appear = secuence_table[~secuence_table['MainScreenAppear']\n",
    "                                         .isna() & (secuence_table['OffersScreenAppear'] > \n",
    "                                                    secuence_table['MainScreenAppear'])].shape[0]\n",
    "print('Usuarios que les aparece la pantalla de ofertas:', n_offeres_screen_appear)"
   ]
  },
  {
   "cell_type": "code",
   "execution_count": 58,
   "metadata": {
    "scrolled": true
   },
   "outputs": [
    {
     "name": "stdout",
     "output_type": "stream",
     "text": [
      "Usuarios que les aparece la pantalla principal: 7419\n",
      "Usuarios que les aparece la pantalla de ofertas: 4201 .Su proporción respecto a la etapa anterior es: 56.62 %\n",
      "Usuarios que les aparece la pantalla del carrito: 1767 .Su proporción respecto a la etapa anterior es: 42.06 %\n",
      "Usuarios que les aparece la pantalla de pago exitoso: 454 .Su proporción respecto a la etapa anterior es: 25.69 %\n"
     ]
    }
   ],
   "source": [
    "#3 Embudo que representa la secuencia de eventos:\n",
    "step_1= ~secuence_table['MainScreenAppear'].isna()\n",
    "step_2= step_1 & (secuence_table['OffersScreenAppear'] > secuence_table['MainScreenAppear'])                                                    \n",
    "step_3= step_2 & (secuence_table['CartScreenAppear'] > secuence_table['OffersScreenAppear'])\n",
    "step_4= step_3 & (secuence_table['PaymentScreenSuccessful'] > secuence_table['CartScreenAppear'])\n",
    "\n",
    "n_MainScreenAppear= secuence_table[step_1].shape[0]\n",
    "n_OffersScreenAppear= secuence_table[step_2].shape[0]\n",
    "n_CartScreenAppear= secuence_table[step_3].shape[0]\n",
    "n_PaymentScreenSuccessful= secuence_table[step_4].shape[0]\n",
    "\n",
    "prop_1= (n_OffersScreenAppear / n_MainScreenAppear) * 100\n",
    "prop_2= n_CartScreenAppear / n_OffersScreenAppear *100\n",
    "prop_3= n_PaymentScreenSuccessful / n_CartScreenAppear *100\n",
    "\n",
    "print ('Usuarios que les aparece la pantalla principal:', n_MainScreenAppear)\n",
    "print ('Usuarios que les aparece la pantalla de ofertas:', n_OffersScreenAppear,'.Su proporción respecto a la etapa anterior es:', round(prop_1,2),'%')\n",
    "print ('Usuarios que les aparece la pantalla del carrito:', n_CartScreenAppear, '.Su proporción respecto a la etapa anterior es:', round(prop_2,2),'%')\n",
    "print ('Usuarios que les aparece la pantalla de pago exitoso:', n_PaymentScreenSuccessful, '.Su proporción respecto a la etapa anterior es:', round(prop_3,2),'%')"
   ]
  },
  {
   "cell_type": "markdown",
   "metadata": {},
   "source": [
    "#### **Comparando el embudo simple con el embudo con secuencia de eventos:**\n",
    "> El número de usuarios en la primera etapa coincide, pero las etapas siguientes son diferentes. Esto quiere decir que no todos los usuarios toman la ruta prevista."
   ]
  },
  {
   "cell_type": "code",
   "execution_count": 59,
   "metadata": {},
   "outputs": [
    {
     "data": {
      "text/html": [
       "<div>\n",
       "<style scoped>\n",
       "    .dataframe tbody tr th:only-of-type {\n",
       "        vertical-align: middle;\n",
       "    }\n",
       "\n",
       "    .dataframe tbody tr th {\n",
       "        vertical-align: top;\n",
       "    }\n",
       "\n",
       "    .dataframe thead th {\n",
       "        text-align: right;\n",
       "    }\n",
       "</style>\n",
       "<table border=\"1\" class=\"dataframe\">\n",
       "  <thead>\n",
       "    <tr style=\"text-align: right;\">\n",
       "      <th></th>\n",
       "      <th>index</th>\n",
       "      <th>event_name</th>\n",
       "      <th>total_events</th>\n",
       "      <th>unique_users</th>\n",
       "      <th>percentage</th>\n",
       "      <th>users_emb</th>\n",
       "      <th>users_emb_%</th>\n",
       "    </tr>\n",
       "  </thead>\n",
       "  <tbody>\n",
       "    <tr>\n",
       "      <th>0</th>\n",
       "      <td>1</td>\n",
       "      <td>MainScreenAppear</td>\n",
       "      <td>117431</td>\n",
       "      <td>7419</td>\n",
       "      <td>98.473586</td>\n",
       "      <td>7419</td>\n",
       "      <td>NaN</td>\n",
       "    </tr>\n",
       "    <tr>\n",
       "      <th>1</th>\n",
       "      <td>2</td>\n",
       "      <td>OffersScreenAppear</td>\n",
       "      <td>46350</td>\n",
       "      <td>4593</td>\n",
       "      <td>60.963632</td>\n",
       "      <td>4201</td>\n",
       "      <td>0.566249</td>\n",
       "    </tr>\n",
       "    <tr>\n",
       "      <th>2</th>\n",
       "      <td>0</td>\n",
       "      <td>CartScreenAppear</td>\n",
       "      <td>42365</td>\n",
       "      <td>3734</td>\n",
       "      <td>49.561986</td>\n",
       "      <td>1767</td>\n",
       "      <td>0.420614</td>\n",
       "    </tr>\n",
       "    <tr>\n",
       "      <th>3</th>\n",
       "      <td>3</td>\n",
       "      <td>PaymentScreenSuccessful</td>\n",
       "      <td>34113</td>\n",
       "      <td>3539</td>\n",
       "      <td>46.973719</td>\n",
       "      <td>454</td>\n",
       "      <td>0.256933</td>\n",
       "    </tr>\n",
       "  </tbody>\n",
       "</table>\n",
       "</div>"
      ],
      "text/plain": [
       "   index               event_name  total_events  unique_users  percentage  \\\n",
       "0      1         MainScreenAppear        117431          7419   98.473586   \n",
       "1      2       OffersScreenAppear         46350          4593   60.963632   \n",
       "2      0         CartScreenAppear         42365          3734   49.561986   \n",
       "3      3  PaymentScreenSuccessful         34113          3539   46.973719   \n",
       "\n",
       "   users_emb  users_emb_%  \n",
       "0       7419          NaN  \n",
       "1       4201     0.566249  \n",
       "2       1767     0.420614  \n",
       "3        454     0.256933  "
      ]
     },
     "execution_count": 59,
     "metadata": {},
     "output_type": "execute_result"
    }
   ],
   "source": [
    "## Agrupando los datos obtenido en el embudo en una columna:\n",
    "datos= [n_MainScreenAppear, n_OffersScreenAppear, n_CartScreenAppear, n_PaymentScreenSuccessful]\n",
    "dat =pd.DataFrame(data=datos)\n",
    "#dat\n",
    "## Filtrando la tabla regs para mantener solo los eventos que se tomaron encuenta en el embudo: \n",
    "emb = regs.iloc[0:4]\n",
    "emb=emb.reset_index()\n",
    "## Añadiendo la columna nueva al nuevo DF:\n",
    "emb['users_emb']= dat\n",
    "emb['users_emb_%'] = emb['users_emb'] / emb['users_emb'].shift(1)\n",
    "emb"
   ]
  },
  {
   "cell_type": "code",
   "execution_count": 60,
   "metadata": {},
   "outputs": [
    {
     "data": {
      "image/svg+xml": [
       "<svg class=\"main-svg\" xmlns=\"http://www.w3.org/2000/svg\" xmlns:xlink=\"http://www.w3.org/1999/xlink\" width=\"700\" height=\"500\" style=\"\" viewBox=\"0 0 700 500\"><rect x=\"0\" y=\"0\" width=\"700\" height=\"500\" style=\"fill: rgb(255, 255, 255); fill-opacity: 1;\"/><defs id=\"defs-d63c3e\"><g class=\"clips\"><clipPath id=\"clipd63c3exyplot\" class=\"plotclip\"><rect width=\"450\" height=\"320\"/></clipPath><clipPath class=\"axesclip\" id=\"clipd63c3ex\"><rect x=\"170\" y=\"0\" width=\"450\" height=\"500\"/></clipPath><clipPath class=\"axesclip\" id=\"clipd63c3ey\"><rect x=\"0\" y=\"100\" width=\"700\" height=\"320\"/></clipPath><clipPath class=\"axesclip\" id=\"clipd63c3exy\"><rect x=\"170\" y=\"100\" width=\"450\" height=\"320\"/></clipPath></g><g class=\"gradients\"/><g class=\"patterns\"/></defs><g class=\"bglayer\"><rect class=\"bg\" x=\"170\" y=\"100\" width=\"450\" height=\"320\" style=\"fill: rgb(229, 236, 246); fill-opacity: 1; stroke-width: 0;\"/></g><g class=\"layer-below\"><g class=\"imagelayer\"/><g class=\"shapelayer\"/></g><g class=\"cartesianlayer\"><g class=\"subplot xy\"><g class=\"layer-subplot\"><g class=\"shapelayer\"/><g class=\"imagelayer\"/></g><g class=\"minor-gridlayer\"><g class=\"x\"/><g class=\"y\"/></g><g class=\"gridlayer\"><g class=\"x\"/><g class=\"y\"/></g><g class=\"zerolinelayer\"/><g class=\"layer-between\"><g class=\"shapelayer\"/><g class=\"imagelayer\"/></g><path class=\"xlines-below\"/><path class=\"ylines-below\"/><g class=\"overlines-below\"/><g class=\"xaxislayer-below\"/><g class=\"yaxislayer-below\"/><g class=\"overaxes-below\"/><g class=\"plot\" transform=\"translate(170,100)\" clip-path=\"url(#clipd63c3exyplot)\"><g class=\"funnellayer mlayer\"><g class=\"trace bars\" style=\"opacity: 1;\"><g class=\"regions\"><g class=\"region\"><path d=\"M22.5,72L110.33,88H339.67L427.5,72Z\" style=\"stroke-width: 0; fill: rgb(99, 110, 250); fill-opacity: 0.5;\"/></g><g class=\"region\"><path d=\"M110.33,152L176.77,168H273.23L339.67,152Z\" style=\"stroke-width: 0; fill: rgb(99, 110, 250); fill-opacity: 0.5;\"/></g><g class=\"region\"><path d=\"M176.77,232L212.61,248H237.39L273.23,232Z\" style=\"stroke-width: 0; fill: rgb(99, 110, 250); fill-opacity: 0.5;\"/></g><g class=\"region\"><path d=\"M0,0Z\" style=\"stroke-width: 0; fill: rgb(99, 110, 250); fill-opacity: 0.5;\"/></g></g><g class=\"points\"><g class=\"point\"><path d=\"M22.5,8V72H427.5V8Z\" style=\"vector-effect: none; fill: rgb(99, 110, 250); fill-opacity: 1; stroke: rgb(68, 68, 68); stroke-opacity: 1; stroke-width: 0px; opacity: 1;\"/><text class=\"bartext bartext-inside\" text-anchor=\"middle\" data-notex=\"1\" x=\"0\" y=\"0\" style=\"font-family: 'Open Sans', verdana, arial, sans-serif; font-size: 12px; fill: rgb(255, 255, 255); fill-opacity: 1; white-space: pre;\" transform=\"translate(224.8125,44.5)\">7419</text></g><g class=\"point\"><path d=\"M110.33,88V152H339.67V88Z\" style=\"vector-effect: none; fill: rgb(99, 110, 250); fill-opacity: 1; stroke: rgb(68, 68, 68); stroke-opacity: 1; stroke-width: 0px; opacity: 1;\"/><text class=\"bartext bartext-inside\" text-anchor=\"middle\" data-notex=\"1\" x=\"0\" y=\"0\" style=\"font-family: 'Open Sans', verdana, arial, sans-serif; font-size: 12px; fill: rgb(255, 255, 255); fill-opacity: 1; white-space: pre;\" transform=\"translate(225,124.5)\">4201</text></g><g class=\"point\"><path d=\"M176.77,168V232H273.23V168Z\" style=\"vector-effect: none; fill: rgb(99, 110, 250); fill-opacity: 1; stroke: rgb(68, 68, 68); stroke-opacity: 1; stroke-width: 0px; opacity: 1;\"/><text class=\"bartext bartext-inside\" text-anchor=\"middle\" data-notex=\"1\" x=\"0\" y=\"0\" style=\"font-family: 'Open Sans', verdana, arial, sans-serif; font-size: 12px; fill: rgb(255, 255, 255); fill-opacity: 1; white-space: pre;\" transform=\"translate(224.8125,204.5)\">1767</text></g><g class=\"point\"><path d=\"M212.61,248V312H237.39V248Z\" style=\"vector-effect: none; fill: rgb(99, 110, 250); fill-opacity: 1; stroke: rgb(68, 68, 68); stroke-opacity: 1; stroke-width: 0px; opacity: 1;\"/><text class=\"bartext bartext-inside\" text-anchor=\"middle\" data-notex=\"1\" x=\"0\" y=\"0\" style=\"font-family: 'Open Sans', verdana, arial, sans-serif; font-size: 12px; fill: rgb(255, 255, 255); fill-opacity: 1; white-space: pre;\" transform=\"translate(224.84875167785236,283.62995973154364)scale(0.8066577181208042)\">454</text></g></g></g></g></g><g class=\"overplot\"/><path class=\"xlines-above crisp\" d=\"M0,0\" style=\"fill: none;\"/><path class=\"ylines-above crisp\" d=\"M0,0\" style=\"fill: none;\"/><g class=\"overlines-above\"/><g class=\"xaxislayer-above\"/><g class=\"yaxislayer-above\"><g class=\"ytick\"><text text-anchor=\"end\" x=\"169\" y=\"4.199999999999999\" transform=\"translate(0,380)\" style=\"font-family: 'Open Sans', verdana, arial, sans-serif; font-size: 12px; fill: rgb(42, 63, 95); fill-opacity: 1; white-space: pre; opacity: 1;\">PaymentScreenSuccessful</text></g><g class=\"ytick\"><text text-anchor=\"end\" x=\"169\" y=\"4.199999999999999\" transform=\"translate(0,300)\" style=\"font-family: 'Open Sans', verdana, arial, sans-serif; font-size: 12px; fill: rgb(42, 63, 95); fill-opacity: 1; white-space: pre; opacity: 1;\">CartScreenAppear</text></g><g class=\"ytick\"><text text-anchor=\"end\" x=\"169\" y=\"4.199999999999999\" transform=\"translate(0,220)\" style=\"font-family: 'Open Sans', verdana, arial, sans-serif; font-size: 12px; fill: rgb(42, 63, 95); fill-opacity: 1; white-space: pre; opacity: 1;\">OffersScreenAppear</text></g><g class=\"ytick\"><text text-anchor=\"end\" x=\"169\" y=\"4.199999999999999\" transform=\"translate(0,140)\" style=\"font-family: 'Open Sans', verdana, arial, sans-serif; font-size: 12px; fill: rgb(42, 63, 95); fill-opacity: 1; white-space: pre; opacity: 1;\">MainScreenAppear</text></g></g><g class=\"overaxes-above\"/></g></g><g class=\"polarlayer\"/><g class=\"smithlayer\"/><g class=\"ternarylayer\"/><g class=\"geolayer\"/><g class=\"funnelarealayer\"/><g class=\"pielayer\"/><g class=\"iciclelayer\"/><g class=\"treemaplayer\"/><g class=\"sunburstlayer\"/><g class=\"glimages\"/><defs id=\"topdefs-d63c3e\"><g class=\"clips\"/></defs><g class=\"layer-above\"><g class=\"imagelayer\"/><g class=\"shapelayer\"/></g><g class=\"infolayer\"><g class=\"g-gtitle\"><text class=\"gtitle\" x=\"35\" y=\"50\" text-anchor=\"start\" dy=\"0em\" style=\"font-family: 'Open Sans', verdana, arial, sans-serif; font-size: 17px; fill: rgb(42, 63, 95); opacity: 1; white-space: pre;\">Embudo de Eventos por Usuario</text></g><g class=\"g-ytitle\"/></g></svg>"
      ]
     },
     "metadata": {},
     "output_type": "display_data"
    }
   ],
   "source": [
    "fig4= go.Figure(go.Funnel(\n",
    "    y= emb['event_name'],\n",
    "    x= emb['users_emb'],\n",
    "))\n",
    "fig4.update_layout(\n",
    "    title=\"Embudo de Eventos por Usuario\")\n",
    "\n",
    "fig4.show()"
   ]
  },
  {
   "cell_type": "markdown",
   "metadata": {},
   "source": [
    "#### **Gráfico 4.** \n",
    "Muestra gráficamente el embudo con secuencia de eventos.\n",
    "\n",
    "Podemos observar los 4 eventos del embudo. \n",
    "En la primera etapa se inicia con 7.419 usuarios, a la etapa siguiente pasan 4.201 ((56,6% de la etapa anterior). De estos, 1767 usuarios pasan a la tercera etapa (42,1% de la etapa anterior) y finalmente, 454 llegan a la etapa final (25,7% de la penúltima etapa)"
   ]
  },
  {
   "cell_type": "markdown",
   "metadata": {},
   "source": [
    "### - ¿En qué etapa pierdes más usuarios y usuarias?\n"
   ]
  },
  {
   "cell_type": "code",
   "execution_count": 61,
   "metadata": {},
   "outputs": [
    {
     "name": "stdout",
     "output_type": "stream",
     "text": [
      "Usuarios perdidos en la etapa 2: 3218 que representan una pérdida del 43.38 % de los usuarios.\n",
      "Usuarios perdidos en la etapa 3: 2434 que representan una pérdida del 57.94 % de los usuarios.\n",
      "Usuarios perdidos en la etapa 4: 1313 que representan una pérdida del 74.31 % de los usuarios.\n"
     ]
    }
   ],
   "source": [
    "users_lost_e2 = n_MainScreenAppear - n_OffersScreenAppear\n",
    "users_lost_e3 = n_OffersScreenAppear - n_CartScreenAppear\n",
    "users_lost_e4 = n_CartScreenAppear - n_PaymentScreenSuccessful\n",
    "\n",
    "print('Usuarios perdidos en la etapa 2:', users_lost_e2, 'que representan una pérdida del', round(users_lost_e2 / n_MainScreenAppear *100, 2),'% de los usuarios.')\n",
    "print('Usuarios perdidos en la etapa 3:', users_lost_e3, 'que representan una pérdida del',round(users_lost_e3 / n_OffersScreenAppear *100, 2) ,'% de los usuarios.')\n",
    "print('Usuarios perdidos en la etapa 4:', users_lost_e4, 'que representan una pérdida del',round(users_lost_e4 / n_CartScreenAppear *100, 2) ,'% de los usuarios.')"
   ]
  },
  {
   "cell_type": "markdown",
   "metadata": {},
   "source": [
    ">- En la etapa 2 (OffersScreenAppear) es donde se pierde la mayor cantidad de usuarios: 3.218 usuarios.\n",
    ">- En la etapa 4 (PaymentScreenSuccessful) es donde se pierde mayor proporción de usuarios: 74,31% de los usuarios, que equivalen a 1.313 usuarios."
   ]
  },
  {
   "cell_type": "markdown",
   "metadata": {},
   "source": [
    "### - ¿Qué porcentaje de usuarios y usuarias hace todo el viaje desde su primer evento hasta el pago? \n"
   ]
  },
  {
   "cell_type": "code",
   "execution_count": 62,
   "metadata": {},
   "outputs": [
    {
     "data": {
      "text/html": [
       "<div>\n",
       "<style scoped>\n",
       "    .dataframe tbody tr th:only-of-type {\n",
       "        vertical-align: middle;\n",
       "    }\n",
       "\n",
       "    .dataframe tbody tr th {\n",
       "        vertical-align: top;\n",
       "    }\n",
       "\n",
       "    .dataframe thead th {\n",
       "        text-align: right;\n",
       "    }\n",
       "</style>\n",
       "<table border=\"1\" class=\"dataframe\">\n",
       "  <thead>\n",
       "    <tr style=\"text-align: right;\">\n",
       "      <th></th>\n",
       "      <th>index</th>\n",
       "      <th>event_name</th>\n",
       "      <th>total_events</th>\n",
       "      <th>unique_users</th>\n",
       "      <th>percentage</th>\n",
       "      <th>users_emb</th>\n",
       "      <th>users_emb_%</th>\n",
       "      <th>total_conversion</th>\n",
       "    </tr>\n",
       "  </thead>\n",
       "  <tbody>\n",
       "    <tr>\n",
       "      <th>0</th>\n",
       "      <td>1</td>\n",
       "      <td>MainScreenAppear</td>\n",
       "      <td>117431</td>\n",
       "      <td>7419</td>\n",
       "      <td>98.473586</td>\n",
       "      <td>7419</td>\n",
       "      <td>NaN</td>\n",
       "      <td>1.000000</td>\n",
       "    </tr>\n",
       "    <tr>\n",
       "      <th>1</th>\n",
       "      <td>2</td>\n",
       "      <td>OffersScreenAppear</td>\n",
       "      <td>46350</td>\n",
       "      <td>4593</td>\n",
       "      <td>60.963632</td>\n",
       "      <td>4201</td>\n",
       "      <td>0.566249</td>\n",
       "      <td>0.619086</td>\n",
       "    </tr>\n",
       "    <tr>\n",
       "      <th>2</th>\n",
       "      <td>0</td>\n",
       "      <td>CartScreenAppear</td>\n",
       "      <td>42365</td>\n",
       "      <td>3734</td>\n",
       "      <td>49.561986</td>\n",
       "      <td>1767</td>\n",
       "      <td>0.420614</td>\n",
       "      <td>0.503302</td>\n",
       "    </tr>\n",
       "    <tr>\n",
       "      <th>3</th>\n",
       "      <td>3</td>\n",
       "      <td>PaymentScreenSuccessful</td>\n",
       "      <td>34113</td>\n",
       "      <td>3539</td>\n",
       "      <td>46.973719</td>\n",
       "      <td>454</td>\n",
       "      <td>0.256933</td>\n",
       "      <td>0.477018</td>\n",
       "    </tr>\n",
       "  </tbody>\n",
       "</table>\n",
       "</div>"
      ],
      "text/plain": [
       "   index               event_name  total_events  unique_users  percentage  \\\n",
       "0      1         MainScreenAppear        117431          7419   98.473586   \n",
       "1      2       OffersScreenAppear         46350          4593   60.963632   \n",
       "2      0         CartScreenAppear         42365          3734   49.561986   \n",
       "3      3  PaymentScreenSuccessful         34113          3539   46.973719   \n",
       "\n",
       "   users_emb  users_emb_%  total_conversion  \n",
       "0       7419          NaN          1.000000  \n",
       "1       4201     0.566249          0.619086  \n",
       "2       1767     0.420614          0.503302  \n",
       "3        454     0.256933          0.477018  "
      ]
     },
     "execution_count": 62,
     "metadata": {},
     "output_type": "execute_result"
    }
   ],
   "source": [
    "#Calculando el porcentaje de usuarios que hace todo el viaje desde su primer evento hasta el pago.\n",
    "emb['total_conversion']=  emb['unique_users'] / emb['unique_users'].values[0]\n",
    "emb"
   ]
  },
  {
   "cell_type": "code",
   "execution_count": 63,
   "metadata": {},
   "outputs": [
    {
     "name": "stdout",
     "output_type": "stream",
     "text": [
      "3441\n",
      "46.38091386979377\n"
     ]
    }
   ],
   "source": [
    "unique_users_stage_A = set(data_[data_['event_name'] == 'MainScreenAppear']['device_id_hash'].unique())\n",
    "#len(unique_users_stage_A)\n",
    "unique_users_stage_D = set(data_[data_['event_name'] == 'PaymentScreenSuccessful']['device_id_hash'].unique())\n",
    "#len(unique_users_stage_D)\n",
    "common_users = unique_users_stage_A.intersection(unique_users_stage_D)\n",
    "print(len(common_users))\n",
    "print(len(common_users) / emb['unique_users'].values[0]*100)"
   ]
  },
  {
   "cell_type": "markdown",
   "metadata": {},
   "source": [
    "# Paso 5. Estudiar los resultados del experimento"
   ]
  },
  {
   "cell_type": "markdown",
   "metadata": {},
   "source": [
    "### - ¿Cuántos usuarios y usuarias hay en cada grupo?"
   ]
  },
  {
   "cell_type": "code",
   "execution_count": 64,
   "metadata": {},
   "outputs": [
    {
     "name": "stdout",
     "output_type": "stream",
     "text": [
      "Cantidad de usuarios únicos en cada grupo:\n"
     ]
    },
    {
     "data": {
      "text/html": [
       "<div>\n",
       "<style scoped>\n",
       "    .dataframe tbody tr th:only-of-type {\n",
       "        vertical-align: middle;\n",
       "    }\n",
       "\n",
       "    .dataframe tbody tr th {\n",
       "        vertical-align: top;\n",
       "    }\n",
       "\n",
       "    .dataframe thead th {\n",
       "        text-align: right;\n",
       "    }\n",
       "</style>\n",
       "<table border=\"1\" class=\"dataframe\">\n",
       "  <thead>\n",
       "    <tr style=\"text-align: right;\">\n",
       "      <th></th>\n",
       "      <th>exp_id</th>\n",
       "      <th>device_id_hash</th>\n",
       "    </tr>\n",
       "  </thead>\n",
       "  <tbody>\n",
       "    <tr>\n",
       "      <th>0</th>\n",
       "      <td>246</td>\n",
       "      <td>2484</td>\n",
       "    </tr>\n",
       "    <tr>\n",
       "      <th>1</th>\n",
       "      <td>247</td>\n",
       "      <td>2513</td>\n",
       "    </tr>\n",
       "    <tr>\n",
       "      <th>2</th>\n",
       "      <td>248</td>\n",
       "      <td>2537</td>\n",
       "    </tr>\n",
       "  </tbody>\n",
       "</table>\n",
       "</div>"
      ],
      "text/plain": [
       "  exp_id  device_id_hash\n",
       "0    246            2484\n",
       "1    247            2513\n",
       "2    248            2537"
      ]
     },
     "execution_count": 64,
     "metadata": {},
     "output_type": "execute_result"
    }
   ],
   "source": [
    "print('Cantidad de usuarios únicos en cada grupo:')\n",
    "data_.groupby('exp_id')['device_id_hash'].nunique().reset_index()"
   ]
  },
  {
   "cell_type": "code",
   "execution_count": 65,
   "metadata": {},
   "outputs": [
    {
     "data": {
      "text/plain": [
       "event_name              5\n",
       "device_id_hash       2484\n",
       "event_time_stamp    65753\n",
       "exp_id                  1\n",
       "date_hour             166\n",
       "date                    7\n",
       "dtype: int64"
      ]
     },
     "execution_count": 65,
     "metadata": {},
     "output_type": "execute_result"
    }
   ],
   "source": [
    "data_[data_['exp_id'] == '246'].nunique()"
   ]
  },
  {
   "cell_type": "markdown",
   "metadata": {},
   "source": [
    "### - Tenemos dos grupos de control en el test A/A, donde comprobamos nuestros mecanismos y cálculos. Observa si hay una diferencia estadísticamente significativa entre las muestras 246 y 247."
   ]
  },
  {
   "cell_type": "code",
   "execution_count": 66,
   "metadata": {},
   "outputs": [
    {
     "name": "stdout",
     "output_type": "stream",
     "text": [
      "Usuarios únicos en el grupo 246: 2484\n",
      "Usuarios únicos en el grupo 247: 2513\n",
      "Usuarios únicos en el grupo 248: 2537\n"
     ]
    }
   ],
   "source": [
    "# Separando los datos por los dos grupos de control:\n",
    "    \n",
    "control_group_246= data_[data_['exp_id'] == '246']\n",
    "print('Usuarios únicos en el grupo 246:', control_group_246['device_id_hash'].nunique())\n",
    "control_group_247= data_[data_['exp_id'] == '247']\n",
    "print('Usuarios únicos en el grupo 247:', control_group_247['device_id_hash'].nunique())\n",
    "control_group_248= data_[data_['exp_id'] == '248']\n",
    "print('Usuarios únicos en el grupo 248:', control_group_248['device_id_hash'].nunique())"
   ]
  },
  {
   "cell_type": "code",
   "execution_count": 67,
   "metadata": {},
   "outputs": [
    {
     "name": "stdout",
     "output_type": "stream",
     "text": [
      "Usuarios únicos en la primera etapa del grupo 246: 2450\n",
      "Usuarios únicos en la segunda etapa del grupo 246: 1542\n",
      "Usuarios únicos en la tercera etapa del grupo 246: 1266\n",
      "Usuarios únicos en la cuarta etapa del grupo 246: 1200\n",
      "\n",
      "Usuarios únicos que pasaron de la primera a la segunda etapa del grupo 246: 1509\n",
      "Usuarios únicos que pasaron de la segunda a la tercera etapa del grupo 246: 1251\n",
      "Usuarios únicos que pasaron de la tercera a la cuarta etapa del grupo 246: 1198\n"
     ]
    }
   ],
   "source": [
    "# 1° Calculando las proporciones de clientes que relizaron los pagos,para el grupo 246:\n",
    "\n",
    "# Usuarios del grupo 246 de la primera etapa que realizaron el pago (última etapa)\n",
    "# Usuarios únicos de cada grupo en cada etapa:\n",
    "etapa1_246 = set(control_group_246[control_group_246['event_name'] == 'MainScreenAppear']['device_id_hash'].unique())\n",
    "etapa2_246 = set(control_group_246[control_group_246['event_name'] == 'OffersScreenAppear']['device_id_hash'].unique()) \n",
    "etapa3_246 = set(control_group_246[control_group_246['event_name'] == 'CartScreenAppear']['device_id_hash'].unique())\n",
    "etapa4_246 = set(control_group_246[control_group_246['event_name'] == 'PaymentScreenSuccessful']['device_id_hash'].unique())\n",
    "print('Usuarios únicos en la primera etapa del grupo 246:', len(etapa1_246))\n",
    "print('Usuarios únicos en la segunda etapa del grupo 246:', len(etapa2_246))\n",
    "print('Usuarios únicos en la tercera etapa del grupo 246:', len(etapa3_246))\n",
    "print('Usuarios únicos en la cuarta etapa del grupo 246:', len(etapa4_246))\n",
    "\n",
    "# Usuarios del grupo 246 en las siguientes etapas que estuvieron desde la primera etapa:\n",
    "common_users_e12 = etapa1_246.intersection(etapa2_246)\n",
    "common_users_e23 = etapa2_246.intersection(etapa3_246)\n",
    "common_users_e34 = etapa3_246.intersection(etapa4_246)\n",
    "\n",
    "print()\n",
    "print('Usuarios únicos que pasaron de la primera a la segunda etapa del grupo 246:', len(common_users_e12))\n",
    "print('Usuarios únicos que pasaron de la segunda a la tercera etapa del grupo 246:', len(common_users_e23))\n",
    "print('Usuarios únicos que pasaron de la tercera a la cuarta etapa del grupo 246:', len(common_users_e34))\n",
    "#print(len(common_users) / emb['unique_users'].values[0]*100)"
   ]
  },
  {
   "cell_type": "code",
   "execution_count": 68,
   "metadata": {},
   "outputs": [
    {
     "name": "stdout",
     "output_type": "stream",
     "text": [
      "Usuarios únicos en la primera etapa del grupo 247: 2476\n",
      "Usuarios únicos en la segunda etapa del grupo 247: 1520\n",
      "Usuarios únicos en la tercera etapa del grupo 247: 1238\n",
      "Usuarios únicos en la cuarta etapa del grupo 247: 1158\n",
      "\n",
      "Usuarios únicos que pasaron de la primera a la segunda etapa del grupo 247: 1484\n",
      "Usuarios únicos que pasaron de la segunda a la tercera etapa del grupo 247: 1215\n",
      "Usuarios únicos que pasaron de la tercera a la cuarta etapa del grupo 247: 1157\n"
     ]
    }
   ],
   "source": [
    "# 1° Calculando las proporciones de clientes que relizaron los pagos,para el grupo 247:\n",
    "\n",
    "# Usuarios del grupo 247 de la primera etapa que realizaron el pago (última etapa)\n",
    "# Usuarios únicos de cada grupo en la primera etapa:\n",
    "etapa1_247 = set(control_group_247[control_group_247['event_name'] == 'MainScreenAppear']['device_id_hash'].unique())\n",
    "etapa2_247 = set(control_group_247[control_group_247['event_name'] == 'OffersScreenAppear']['device_id_hash'].unique())\n",
    "etapa3_247 = set(control_group_247[control_group_247['event_name'] == 'CartScreenAppear']['device_id_hash'].unique())\n",
    "etapa4_247 = set(control_group_247[control_group_247['event_name'] == 'PaymentScreenSuccessful']['device_id_hash'].unique())\n",
    "print('Usuarios únicos en la primera etapa del grupo 247:', len(etapa1_247))\n",
    "print('Usuarios únicos en la segunda etapa del grupo 247:', len(etapa2_247))\n",
    "print('Usuarios únicos en la tercera etapa del grupo 247:', len(etapa3_247))\n",
    "print('Usuarios únicos en la cuarta etapa del grupo 247:', len(etapa4_247))\n",
    "\n",
    "# Usuarios del grupo 247 en las siguientes etapas que estuvieron desde la primera etapa:\n",
    "common_users_e12_7 = etapa1_247.intersection(etapa2_247)\n",
    "common_users_e23_7 = etapa2_247.intersection(etapa3_247)\n",
    "common_users_e34_7 = etapa3_247.intersection(etapa4_247)\n",
    "\n",
    "print()\n",
    "print('Usuarios únicos que pasaron de la primera a la segunda etapa del grupo 247:', len(common_users_e12_7))\n",
    "print('Usuarios únicos que pasaron de la segunda a la tercera etapa del grupo 247:', len(common_users_e23_7))\n",
    "print('Usuarios únicos que pasaron de la tercera a la cuarta etapa del grupo 247:', len(common_users_e34_7))\n",
    "#print(len(common_users) / emb['unique_users'].values[0]*100)"
   ]
  },
  {
   "cell_type": "code",
   "execution_count": 69,
   "metadata": {},
   "outputs": [
    {
     "name": "stdout",
     "output_type": "stream",
     "text": [
      "p_value:  0.12211577523772754\n",
      "No se pudo rechazar la hipótesis nula: No hay razón para pensar que las proporciones son diferentes\n"
     ]
    }
   ],
   "source": [
    "# 2° Usando una prueba estadística para determinar si las diferencias son significativas.\n",
    "# ENTRE LOS USUARIOS QUE ESTUVIERON EN LA PRIMERA ETAPA Y LLEGARON A LA ÚLTIMA:\n",
    "\n",
    "alpha= .05 #nivel de significancia\n",
    "\n",
    "common_users_e14= etapa1_246.intersection(etapa4_246)\n",
    "common_users_e14_7= etapa1_247.intersection(etapa4_247)\n",
    "\n",
    "successes= np.array([len(common_users_e14), len(common_users_e14_7)])\n",
    "trials= np.array([len(etapa1_246), len(etapa1_247)])\n",
    "\n",
    "#proporción de éxito en el grupo 246:\n",
    "p246= successes[0] / trials[0]\n",
    "\n",
    "#proporción de éxito en el grupo 247:\n",
    "p247= successes[1] / trials[1]\n",
    "\n",
    "#proporción de éxito en el datast unido:\n",
    "p_combined= (successes[0] + successes[1]) / (trials[0] + trials[1])\n",
    "\n",
    "#la diferencia entre las proporciones de los datasets:\n",
    "difference= p246 - p247\n",
    "\n",
    "#Calculando la estadística en términos de desviaciones estándar de la distribución normal estándar:\n",
    "z_value= difference / mth.sqrt(p_combined * (1 - p_combined) * (1/trials[0] + 1/trials[1]))\n",
    "\n",
    "#estableciendo la distribución normal estándar (media 0, desviación estándar 1)\n",
    "distr= st.norm(0,1)\n",
    "\n",
    "p_value= (1 - distr.cdf(abs(z_value))) * 2\n",
    "\n",
    "print('p_value: ', p_value)\n",
    "\n",
    "if (p_value < alpha):\n",
    "    print('Rechazar la hipótesis nula: Hay diferencia significativa entre las dos proporciones')\n",
    "else:\n",
    "    print('No se pudo rechazar la hipótesis nula: No hay razón para pensar que las proporciones son diferentes')"
   ]
  },
  {
   "cell_type": "markdown",
   "metadata": {},
   "source": [
    "### - Selecciona el evento más popular. En cada uno de los grupos de control, encuentra la cantidad de usuarios y usuarias que realizaron esta acción. Encuentra su proporción. Comprueba si la diferencia entre los grupos es estadísticamente significativa. Repite el procedimiento para todos los demás eventos (ahorrarás tiempo si creas una función especial para esta prueba). ¿Puedes confirmar que los grupos se dividieron correctamente?"
   ]
  },
  {
   "cell_type": "markdown",
   "metadata": {},
   "source": [
    "#### **Prueba para los grupos 246 Y 247**"
   ]
  },
  {
   "cell_type": "code",
   "execution_count": 70,
   "metadata": {},
   "outputs": [
    {
     "name": "stdout",
     "output_type": "stream",
     "text": [
      "Para la etapa 1 a 2 El valor p es: 0.23386385163700796\n",
      "No se pudo rechazar la hipótesis nula: No hay razón para pensar que las proporciones son diferentes\n",
      "Para la etapa 2 a 3 El valor p es: 0.4040041537556822\n",
      "No se pudo rechazar la hipótesis nula: No hay razón para pensar que las proporciones son diferentes\n",
      "Para la etapa 3 a 4 El valor p es: 0.21534542006574986\n",
      "No se pudo rechazar la hipótesis nula: No hay razón para pensar que las proporciones son diferentes\n"
     ]
    }
   ],
   "source": [
    "# 2° Usando una prueba estadística para determinar si las diferencias son significativas PARA LOS GRUPOS 246 Y 247.\n",
    "# ENTRE LOS USUARIOS QUE ESTUVIERON EN LA PRIMERA ETAPA Y PASARON A CADA ETAPA HASTA LA ÚLTIMA:\n",
    "\n",
    "alpha= .05 #nivel de significancia\n",
    "\n",
    "successes_12= np.array([len(common_users_e12), len(common_users_e12_7)])\n",
    "successes_23= np.array([len(common_users_e23), len(common_users_e23_7)])\n",
    "successes_34= np.array([len(common_users_e34), len(common_users_e34_7)])\n",
    "\n",
    "trials1= np.array([len(etapa1_246), len(etapa1_247)])\n",
    "trials2= np.array([len(etapa2_246), len(etapa2_247)])\n",
    "trials3= np.array([len(etapa3_246), len(etapa3_247)])\n",
    "\n",
    "def funcion(successes, trials):\n",
    "    proporcion_exito_246= successes[0] / trials[0] #proporción de éxito en el grupo 246\n",
    "    proporcion_exito_247= successes[1] / trials[1] #proporción de éxito en el grupo 247\n",
    "    p_combined= (successes[0] + successes[1]) / (trials[0] + trials[1]) #proporción de éxito en el datast unido\n",
    "    difference= proporcion_exito_246 - proporcion_exito_247 #la diferencia entre las proporciones de los datasets\n",
    "    z_value= difference / mth.sqrt(p_combined * (1 - p_combined) * (1/trials[0] + 1/trials[1]))\n",
    "    distr= st.norm(0,1)\n",
    "    p_value= (1 - distr.cdf(abs(z_value))) * 2\n",
    "    return p_value\n",
    "\n",
    "p_value_12= funcion(successes_12, trials1)\n",
    "p_value_23= funcion(successes_23, trials2)\n",
    "p_value_34= funcion(successes_34, trials3)\n",
    "\n",
    "p_values = [p_value_12, p_value_23, p_value_34]\n",
    "\n",
    "for p_value, conteo in zip(p_values,[[1,2],[2,3],[3,4]]):\n",
    "        print('Para la etapa', conteo[0],'a', conteo[1], 'El valor p es:', p_value) \n",
    "        if (p_value < alpha):\n",
    "            print('Rechazar la hipótesis nula: Hay diferencia significativa entre las dos proporciones')\n",
    "        else:\n",
    "            print('No se pudo rechazar la hipótesis nula: No hay razón para pensar que las proporciones son diferentes')\n",
    "\n"
   ]
  },
  {
   "cell_type": "markdown",
   "metadata": {},
   "source": [
    "### - Haz lo mismo para el grupo con fuentes alteradas. Compara los resultados con los de cada uno de los grupos de control para cada evento de forma aislada. Compara los resultados con los resultados combinados de los grupos de control. ¿Qué conclusiones puedes sacar del experimento?"
   ]
  },
  {
   "cell_type": "code",
   "execution_count": 71,
   "metadata": {},
   "outputs": [
    {
     "name": "stdout",
     "output_type": "stream",
     "text": [
      "Usuarios únicos en la primera etapa del grupo 248: 2493\n",
      "Usuarios únicos en la segunda etapa del grupo 248: 1531\n",
      "Usuarios únicos en la tercera etapa del grupo 248: 1230\n",
      "Usuarios únicos en la cuarta etapa del grupo 248: 1181\n",
      "\n",
      "Usuarios únicos que pasaron de la primera a la segunda etapa del grupo 248: 1489\n",
      "Usuarios únicos que pasaron de la segunda a la tercera etapa del grupo 248: 1213\n",
      "Usuarios únicos que pasaron de la tercera a la cuarta etapa del grupo 248: 1179\n"
     ]
    }
   ],
   "source": [
    "# 1° Calculando las proporciones de clientes que relizaron los pagos,para el grupo 248:\n",
    "\n",
    "# Usuarios del grupo 246 de la primera etapa que realizaron el pago (última etapa)\n",
    "# Usuarios únicos de cada grupo en cada etapa:\n",
    "etapa1_248 = set(control_group_248[control_group_248['event_name'] == 'MainScreenAppear']['device_id_hash'].unique())\n",
    "etapa2_248 = set(control_group_248[control_group_248['event_name'] == 'OffersScreenAppear']['device_id_hash'].unique()) \n",
    "etapa3_248 = set(control_group_248[control_group_248['event_name'] == 'CartScreenAppear']['device_id_hash'].unique())\n",
    "etapa4_248 = set(control_group_248[control_group_248['event_name'] == 'PaymentScreenSuccessful']['device_id_hash'].unique())\n",
    "print('Usuarios únicos en la primera etapa del grupo 248:', len(etapa1_248))\n",
    "print('Usuarios únicos en la segunda etapa del grupo 248:', len(etapa2_248))\n",
    "print('Usuarios únicos en la tercera etapa del grupo 248:', len(etapa3_248))\n",
    "print('Usuarios únicos en la cuarta etapa del grupo 248:', len(etapa4_248))\n",
    "\n",
    "# Usuarios del grupo 248 en las siguientes etapas que estuvieron desde la primera etapa:\n",
    "common_users_e12_248 = etapa1_248.intersection(etapa2_248)\n",
    "common_users_e23_248 = etapa2_248.intersection(etapa3_248)\n",
    "common_users_e34_248 = etapa3_248.intersection(etapa4_248)\n",
    "\n",
    "print()\n",
    "print('Usuarios únicos que pasaron de la primera a la segunda etapa del grupo 248:', len(common_users_e12_248))\n",
    "print('Usuarios únicos que pasaron de la segunda a la tercera etapa del grupo 248:', len(common_users_e23_248))\n",
    "print('Usuarios únicos que pasaron de la tercera a la cuarta etapa del grupo 248:', len(common_users_e34_248))\n",
    "#print(len(common_users) / emb['unique_users'].values[0]*100)"
   ]
  },
  {
   "cell_type": "markdown",
   "metadata": {},
   "source": [
    "#### **Prueba para los grupos 246 Y 248**"
   ]
  },
  {
   "cell_type": "code",
   "execution_count": 72,
   "metadata": {},
   "outputs": [
    {
     "name": "stdout",
     "output_type": "stream",
     "text": [
      "Para la etapa 1 a 2 El valor p es: 0.17969905928043461\n",
      "No se pudo rechazar la hipótesis nula: No hay razón para pensar que las proporciones son diferentes\n",
      "Para la etapa 2 a 3 El valor p es: 0.18666684923346066\n",
      "No se pudo rechazar la hipótesis nula: No hay razón para pensar que las proporciones son diferentes\n",
      "Para la etapa 3 a 4 El valor p es: 0.15104736589747625\n",
      "No se pudo rechazar la hipótesis nula: No hay razón para pensar que las proporciones son diferentes\n"
     ]
    }
   ],
   "source": [
    "# 2° Usando una prueba estadística para determinar si las diferencias son significativas PARA LOS GRUPOS 246 Y 248.\n",
    "# ENTRE LOS USUARIOS QUE ESTUVIERON EN LA PRIMERA ETAPA Y PASARON A CADA ETAPA HASTA LA ÚLTIMA:\n",
    "\n",
    "alpha= .05 #nivel de significancia\n",
    "\n",
    "successes_12= np.array([len(common_users_e12), len(common_users_e12_248)])\n",
    "successes_23= np.array([len(common_users_e23), len(common_users_e23_248)])\n",
    "successes_34= np.array([len(common_users_e34), len(common_users_e34_248)])\n",
    "\n",
    "trials1= np.array([len(etapa1_246), len(etapa1_248)])\n",
    "trials2= np.array([len(etapa2_246), len(etapa2_248)])\n",
    "trials3= np.array([len(etapa3_246), len(etapa3_248)])\n",
    "\n",
    "def funcion(successes, trials):\n",
    "    proporcion_exito_246= successes[0] / trials[0] #proporción de éxito en el grupo 246\n",
    "    proporcion_exito_248= successes[1] / trials[1] #proporción de éxito en el grupo 247\n",
    "    p_combined= (successes[0] + successes[1]) / (trials[0] + trials[1]) #proporción de éxito en el datast unido\n",
    "    difference= proporcion_exito_246 - proporcion_exito_248 #la diferencia entre las proporciones de los datasets\n",
    "    z_value= difference / mth.sqrt(p_combined * (1 - p_combined) * (1/trials[0] + 1/trials[1]))\n",
    "    distr= st.norm(0,1)\n",
    "    p_value= (1 - distr.cdf(abs(z_value))) * 2\n",
    "    return p_value\n",
    "\n",
    "p_value_12= funcion(successes_12, trials1)\n",
    "p_value_23= funcion(successes_23, trials2)\n",
    "p_value_34= funcion(successes_34, trials3)\n",
    "\n",
    "p_values = [p_value_12, p_value_23, p_value_34]\n",
    "\n",
    "for p_value, conteo in zip(p_values,[[1,2],[2,3],[3,4]]):\n",
    "        print('Para la etapa', conteo[0],'a', conteo[1], 'El valor p es:', p_value) \n",
    "        if (p_value < alpha):\n",
    "            print('Rechazar la hipótesis nula: Hay diferencia significativa entre las dos proporciones')\n",
    "        else:\n",
    "            print('No se pudo rechazar la hipótesis nula: No hay razón para pensar que las proporciones son diferentes')\n"
   ]
  },
  {
   "cell_type": "markdown",
   "metadata": {},
   "source": [
    "#### **Prueba para los grupos 247 Y 248**"
   ]
  },
  {
   "cell_type": "code",
   "execution_count": 73,
   "metadata": {},
   "outputs": [
    {
     "name": "stdout",
     "output_type": "stream",
     "text": [
      "Para la etapa 1 a 2 El valor p es: 0.8810464339386479\n",
      "No se pudo rechazar la hipótesis nula: No hay razón para pensar que las proporciones son diferentes\n",
      "Para la etapa 2 a 3 El valor p es: 0.629117487949227\n",
      "No se pudo rechazar la hipótesis nula: No hay razón para pensar que las proporciones son diferentes\n",
      "Para la etapa 3 a 4 El valor p es: 0.008153179286734424\n",
      "Rechazar la hipótesis nula: Hay diferencia significativa entre las dos proporciones\n"
     ]
    }
   ],
   "source": [
    "# 2° Usando una prueba estadística para determinar si las diferencias son significativas PARA LOS GRUPOS 247 Y 248.\n",
    "# ENTRE LOS USUARIOS QUE ESTUVIERON EN LA PRIMERA ETAPA Y PASARON A CADA ETAPA HASTA LA ÚLTIMA:\n",
    "\n",
    "alpha= .05 #nivel de significancia\n",
    "\n",
    "successes_12= np.array([len(common_users_e12_7), len(common_users_e12_248)])\n",
    "successes_23= np.array([len(common_users_e23_7), len(common_users_e23_248)])\n",
    "successes_34= np.array([len(common_users_e34_7), len(common_users_e34_248)])\n",
    "\n",
    "trials1= np.array([len(etapa1_247), len(etapa1_248)])\n",
    "trials2= np.array([len(etapa2_247), len(etapa2_248)])\n",
    "trials3= np.array([len(etapa3_247), len(etapa3_248)])\n",
    "\n",
    "def funcion(successes, trials):\n",
    "    proporcion_exito_247= successes[0] / trials[0] #proporción de éxito en el grupo 246\n",
    "    proporcion_exito_248= successes[1] / trials[1] #proporción de éxito en el grupo 247\n",
    "    p_combined= (successes[0] + successes[1]) / (trials[0] + trials[1]) #proporción de éxito en el datast unido\n",
    "    difference= proporcion_exito_247 - proporcion_exito_248 #la diferencia entre las proporciones de los datasets\n",
    "    z_value= difference / mth.sqrt(p_combined * (1 - p_combined) * (1/trials[0] + 1/trials[1]))\n",
    "    distr= st.norm(0,1)\n",
    "    p_value= (1 - distr.cdf(abs(z_value))) * 2\n",
    "    return p_value\n",
    "\n",
    "p_value_12= funcion(successes_12, trials1)\n",
    "p_value_23= funcion(successes_23, trials2)\n",
    "p_value_34= funcion(successes_34, trials3)\n",
    "\n",
    "p_values = [p_value_12, p_value_23, p_value_34]\n",
    "\n",
    "for p_value, conteo in zip(p_values,[[1,2],[2,3],[3,4]]):\n",
    "        print('Para la etapa', conteo[0],'a', conteo[1], 'El valor p es:', p_value)  \n",
    "        if (p_value < alpha):\n",
    "            print('Rechazar la hipótesis nula: Hay diferencia significativa entre las dos proporciones')\n",
    "        else:\n",
    "            print('No se pudo rechazar la hipótesis nula: No hay razón para pensar que las proporciones son diferentes')\n"
   ]
  },
  {
   "cell_type": "code",
   "execution_count": 74,
   "metadata": {},
   "outputs": [
    {
     "name": "stdout",
     "output_type": "stream",
     "text": [
      "Usuarios únicos combinando el grupo 246 y 247: 4997\n"
     ]
    }
   ],
   "source": [
    "#Para los grupos de control 246 y 247 combinados:\n",
    "control_group= data_[~(data_['exp_id'] == '248')]\n",
    "print('Usuarios únicos combinando el grupo 246 y 247:', control_group['device_id_hash'].nunique())"
   ]
  },
  {
   "cell_type": "code",
   "execution_count": 75,
   "metadata": {},
   "outputs": [
    {
     "name": "stdout",
     "output_type": "stream",
     "text": [
      "Usuarios únicos en la primera etapa de los grupos 246 y 247 combinados: 4926\n",
      "Usuarios únicos en la segunda etapa de los grupos 246 y 247 combinados: 3062\n",
      "Usuarios únicos en la tercera etapa de los grupos 246 y 247 combinados: 2504\n",
      "Usuarios únicos en la cuarta etapa de los grupos 246 y 247 combinados: 2358\n",
      "\n",
      "Usuarios únicos que pasaron de la primera a la segunda etapa de los grupo 246 y 247 combinados: 2993\n",
      "Usuarios únicos que pasaron de la segunda a la tercera etapa de los grupo 246 y 247 combinados: 2466\n",
      "Usuarios únicos que pasaron de la tercera a la cuarta etapa de los grupo 246 y 247 combinados: 2355\n"
     ]
    }
   ],
   "source": [
    "# 1° Calculando las proporciones de clientes que relizaron los pagos,para LA COMBINACIÓN del grupo 246 y 247:\n",
    "\n",
    "# Usuarios del grupo 246 y 247 de la primera etapa que realizaron el pago (última etapa)\n",
    "# Usuarios únicos de cada grupo en cada etapa:\n",
    "etapa1_comb = set(control_group[control_group['event_name'] == 'MainScreenAppear']['device_id_hash'].unique())\n",
    "etapa2_comb = set(control_group[control_group['event_name'] == 'OffersScreenAppear']['device_id_hash'].unique()) \n",
    "etapa3_comb = set(control_group[control_group['event_name'] == 'CartScreenAppear']['device_id_hash'].unique())\n",
    "etapa4_comb = set(control_group[control_group['event_name'] == 'PaymentScreenSuccessful']['device_id_hash'].unique())\n",
    "print('Usuarios únicos en la primera etapa de los grupos 246 y 247 combinados:', len(etapa1_comb))\n",
    "print('Usuarios únicos en la segunda etapa de los grupos 246 y 247 combinados:', len(etapa2_comb))\n",
    "print('Usuarios únicos en la tercera etapa de los grupos 246 y 247 combinados:', len(etapa3_comb))\n",
    "print('Usuarios únicos en la cuarta etapa de los grupos 246 y 247 combinados:', len(etapa4_comb))\n",
    "\n",
    "# Usuarios del grupo 246 en las siguientes etapas que estuvieron desde la primera etapa:\n",
    "common_users_e12_comb = etapa1_comb.intersection(etapa2_comb)\n",
    "common_users_e23_comb = etapa2_comb.intersection(etapa3_comb)\n",
    "common_users_e34_comb = etapa3_comb.intersection(etapa4_comb)\n",
    "\n",
    "print()\n",
    "print('Usuarios únicos que pasaron de la primera a la segunda etapa de los grupo 246 y 247 combinados:', len(common_users_e12_comb))\n",
    "print('Usuarios únicos que pasaron de la segunda a la tercera etapa de los grupo 246 y 247 combinados:', len(common_users_e23_comb))\n",
    "print('Usuarios únicos que pasaron de la tercera a la cuarta etapa de los grupo 246 y 247 combinados:', len(common_users_e34_comb))\n",
    "#print(len(common_users) / emb['unique_users'].values[0]*100)"
   ]
  },
  {
   "cell_type": "markdown",
   "metadata": {},
   "source": [
    "#### **Prueba para los grupos 246 y 247 combinados y el grupo 248**"
   ]
  },
  {
   "cell_type": "code",
   "execution_count": 76,
   "metadata": {},
   "outputs": [
    {
     "name": "stdout",
     "output_type": "stream",
     "text": [
      "Para la etapa 1 a 2 El valor p es: 0.39058073803721527\n",
      "No se pudo rechazar la hipótesis nula: No hay razón para pensar que las proporciones son diferentes\n",
      "Para la etapa 2 a 3 El valor p es: 0.29586846404595635\n",
      "No se pudo rechazar la hipótesis nula: No hay razón para pensar que las proporciones son diferentes\n",
      "Para la etapa 3 a 4 El valor p es: 0.021373163640829418\n",
      "Rechazar la hipótesis nula: Hay diferencia significativa entre las dos proporciones\n"
     ]
    }
   ],
   "source": [
    "# 2° Usando una prueba estadística para determinar si las diferencias son significativas PARA LOS GRUPOS 246 y 247 COMBINADOS Y 248.\n",
    "# ENTRE LOS USUARIOS QUE ESTUVIERON EN LA PRIMERA ETAPA Y PASARON A CADA ETAPA HASTA LA ÚLTIMA:\n",
    "\n",
    "alpha= .05 #nivel de significancia\n",
    "\n",
    "successes_12= np.array([len(common_users_e12_comb), len(common_users_e12_248)])\n",
    "successes_23= np.array([len(common_users_e23_comb), len(common_users_e23_248)])\n",
    "successes_34= np.array([len(common_users_e34_comb), len(common_users_e34_248)])\n",
    "\n",
    "trials1= np.array([len(etapa1_comb), len(etapa1_248)])\n",
    "trials2= np.array([len(etapa2_comb), len(etapa2_248)])\n",
    "trials3= np.array([len(etapa3_comb), len(etapa3_248)])\n",
    "\n",
    "def funcion(successes, trials):\n",
    "    proporcion_exito_comb= successes[0] / trials[0] #proporción de éxito en el grupo 246\n",
    "    proporcion_exito_248= successes[1] / trials[1] #proporción de éxito en el grupo 247\n",
    "    p_combined= (successes[0] + successes[1]) / (trials[0] + trials[1]) #proporción de éxito en el datast unido\n",
    "    difference= proporcion_exito_comb - proporcion_exito_248 #la diferencia entre las proporciones de los datasets\n",
    "    z_value= difference / mth.sqrt(p_combined * (1 - p_combined) * (1/trials[0] + 1/trials[1]))\n",
    "    distr= st.norm(0,1)\n",
    "    p_value= (1 - distr.cdf(abs(z_value))) * 2\n",
    "    return p_value\n",
    "\n",
    "p_value_12= funcion(successes_12, trials1)\n",
    "p_value_23= funcion(successes_23, trials2)\n",
    "p_value_34= funcion(successes_34, trials3)\n",
    "\n",
    "p_values = [p_value_12, p_value_23, p_value_34]\n",
    "\n",
    "\n",
    "for p_value, conteo in zip(p_values,[[1,2],[2,3],[3,4]]):\n",
    "        print('Para la etapa', conteo[0],'a', conteo[1], 'El valor p es:', p_value) \n",
    "        if (p_value < alpha):\n",
    "            print('Rechazar la hipótesis nula: Hay diferencia significativa entre las dos proporciones')\n",
    "        else:\n",
    "            print('No se pudo rechazar la hipótesis nula: No hay razón para pensar que las proporciones son diferentes')\n"
   ]
  },
  {
   "cell_type": "markdown",
   "metadata": {},
   "source": [
    "### **Conclusiones**"
   ]
  },
  {
   "cell_type": "markdown",
   "metadata": {},
   "source": [
    " - Para las pruebos entre los grupos de control (246 y 247):\n",
    " > No hay diferencias significativas entre los grupos 246 y 247 en ninguna etapa de los eventos. Entonces, ambas proporciones son iguales. \n",
    " > - Para la etapa 1 a 2 el valor p fue de 0.23,\n",
    " > - Para la etapa 2 a 3, fue de 0.4,\n",
    " > - Para la etapa 3 a 4 fue de 0.22.\n",
    " \n",
    "    Por lo que, el nivel de significancia debería haber sido mayor a 24%, para el primer y último caso, y 41% para el segundo, se habria rechazado la hipotesis de que ambas proporciones son iguales.\n",
    " "
   ]
  },
  {
   "cell_type": "markdown",
   "metadata": {},
   "source": [
    "- Para las pruebos entre los grupos de control 246 y el grupo de prueba 248:\n",
    " > No hay diferencias significativas entre los grupos 246 y 248 en ninguna etapa de los eventos. Entonces, ambas proporciones son iguales. \n",
    " > - Para la etapa 1 a 2 el valor p fue de 0.18,\n",
    " > - Para la etapa 2 a 3, fue de 0.19,\n",
    " > - Para la etapa 3 a 4 fue de 0.15.\n",
    " \n",
    "    Por lo que, el nivel de significancia debería haber sido mayor a 19%, se habria rechazados las hipotesis de que ambas proporciones son iguales.\n",
    " "
   ]
  },
  {
   "cell_type": "markdown",
   "metadata": {},
   "source": [
    "- Para las pruebos entre los grupos de control 247 y el grupo de prueba 248:\n",
    " > No hay diferencias significativas entre los grupos 247 y 248 en las dos primeras etapas de los eventos. pero si en el paso de la tercera a la cuarta etapa. \n",
    " > - Para la etapa 1 a 2 el valor p fue de 0.88,\n",
    " > - Para la etapa 2 a 3, fue de 0.63,\n",
    " > - Para la etapa 3 a 4 fue de 0.008.\n",
    " \n",
    "    Por lo que, el nivel de significancia debería haber sido mayor a 88%, se habria rechazados las hipotesis de que ambas proporciones son iguales en la primera etapa y 63% para la segunda. En la tercera etapa, hay una diferencia en proporciones estadísticamente significativa, para evitarlo el nivel de significancia debería haber sido menos a 0.8%."
   ]
  },
  {
   "cell_type": "markdown",
   "metadata": {},
   "source": [
    "- Para las pruebos entre los grupos de control 246 y 247 combinados frente al grupo de prueba 248:\n",
    " > No hay diferencias significativas entre los grupos de control y el grupo experimental en las primeras 2 etapas de los eventos, donde ambas proporciones son iguales. Sin embargo, Si existe una diferencia significativa cuando pasamos de la tercera a la cuarta etapa. \n",
    " > - Para la etapa 1 a 2 el valor p fue de 0.39,\n",
    " > - Para la etapa 2 a 3, fue de 0.30,\n",
    " > - Para la etapa 3 a 4 fue de 0.02.\n",
    " \n",
    "    Por lo que, el nivel de significancia debería haber sido mayor a 39%, se habria rechazados las hipotesis de que ambas proporciones son iguales en las dos priemras etapas. En la tercera etapa, hay una diferencia estadísticamente significativa en las proporciones, para evitarlo el nivel de significancia debería haber sido menos a 0.2%."
   ]
  },
  {
   "cell_type": "markdown",
   "metadata": {},
   "source": [
    "### - ¿Qué nivel de significación has establecido para probar las hipótesis estadísticas mencionadas anteriormente? Calcula cuántas pruebas de hipótesis estadísticas has realizado. Con un nivel de significancia estadística de 0.1, uno de cada 10 resultados podría ser falso. ¿Cuál debería ser el nivel de significación? Si deseas cambiarlo, vuelve a ejecutar los pasos anteriores y comprueba tus conclusiones."
   ]
  },
  {
   "cell_type": "markdown",
   "metadata": {},
   "source": [
    "> - Se establecio un nivel de significancia del 5% (alpha=0.05). Entonces, existe un 5% de probabilidad de rechazar la hipótesis nula cuando es verdadera (que da un error cada 20 pruebas).\n",
    "> - Se realizaron 4 combinaciones para hacer las pruebas:\n",
    "     1. Prueba para los grupos 246 y 247,\n",
    "     2. Prueba para los grupos 246 y 248,\n",
    "     3. Prueba para los grupos 247 y 248,\n",
    "     4. Prueba para los grupos 246 y 247 combinados, frente al grupo 248.\\\n",
    "En cada una de estas combinaciones se realizaron 3 pruebas, haciendo un total de **12 pruebas de hipótesis.**\n",
    "> - Con un ivel de significancia de 0.1 aumenta la probabilidad de cometer el error de tipo 1 (Falso positivo).\n",
    "> - Para identificar cuál debería ser el nivel de significancia corregido, se puede emplear el procedimiento de Bonferroni (la corrección de Bonferroni), que es la corrección más común y más aproximada del nivel de significancia requerido."
   ]
  },
  {
   "cell_type": "markdown",
   "metadata": {},
   "source": [
    "#### Corrección de Bonferroni:"
   ]
  },
  {
   "cell_type": "code",
   "execution_count": 77,
   "metadata": {},
   "outputs": [
    {
     "name": "stdout",
     "output_type": "stream",
     "text": [
      "0.004166666666666667\n",
      "El nivel de significancia ajustado por el procedimiento de Bonferroni es: 0.42 %\n"
     ]
    }
   ],
   "source": [
    "alpha_general= 0.05\n",
    "num_pruebas_de_hipotesis= 12\n",
    "\n",
    "alpha_ajustado=alpha_general/num_pruebas_de_hipotesis\n",
    "print(alpha_ajustado)\n",
    "print('El nivel de significancia ajustado por el procedimiento de Bonferroni es:', round(alpha_ajustado,4)*100, '%')"
   ]
  },
  {
   "cell_type": "markdown",
   "metadata": {},
   "source": [
    ">Con un nivel de significancia de 0.42%, en ningún caso se rechaza la hipótesis nula."
   ]
  }
 ],
 "metadata": {
  "ExecuteTimeLog": [
   {
    "duration": 4,
    "start_time": "2024-07-25T19:12:02.598Z"
   },
   {
    "duration": 3,
    "start_time": "2024-07-25T19:12:22.938Z"
   },
   {
    "duration": 5046,
    "start_time": "2024-07-25T19:12:33.684Z"
   },
   {
    "duration": 359,
    "start_time": "2024-07-25T19:13:21.634Z"
   },
   {
    "duration": 13,
    "start_time": "2024-07-25T19:13:28.426Z"
   },
   {
    "duration": 6,
    "start_time": "2024-07-25T19:13:41.738Z"
   },
   {
    "duration": 6,
    "start_time": "2024-07-25T19:13:45.663Z"
   },
   {
    "duration": 5,
    "start_time": "2024-07-25T19:15:03.141Z"
   },
   {
    "duration": 312,
    "start_time": "2024-07-25T19:16:03.685Z"
   },
   {
    "duration": 9,
    "start_time": "2024-07-25T19:16:06.434Z"
   },
   {
    "duration": 789,
    "start_time": "2024-07-25T19:17:30.399Z"
   },
   {
    "duration": 9,
    "start_time": "2024-07-25T19:17:33.023Z"
   },
   {
    "duration": 168,
    "start_time": "2024-07-25T19:17:40.418Z"
   },
   {
    "duration": 10,
    "start_time": "2024-07-25T19:17:42.184Z"
   },
   {
    "duration": 25,
    "start_time": "2024-07-25T19:17:59.304Z"
   },
   {
    "duration": 8,
    "start_time": "2024-07-25T19:27:22.428Z"
   },
   {
    "duration": 4,
    "start_time": "2024-07-25T19:27:35.484Z"
   },
   {
    "duration": 11,
    "start_time": "2024-07-25T19:27:56.372Z"
   },
   {
    "duration": 469,
    "start_time": "2024-07-25T19:30:10.154Z"
   },
   {
    "duration": 4,
    "start_time": "2024-07-25T19:30:14.640Z"
   },
   {
    "duration": 10,
    "start_time": "2024-07-25T19:30:16.090Z"
   },
   {
    "duration": 7,
    "start_time": "2024-07-25T19:32:53.698Z"
   },
   {
    "duration": 6,
    "start_time": "2024-07-25T19:33:02.514Z"
   },
   {
    "duration": 10,
    "start_time": "2024-07-25T19:33:04.043Z"
   },
   {
    "duration": 8,
    "start_time": "2024-07-25T19:33:37.234Z"
   },
   {
    "duration": 10,
    "start_time": "2024-07-25T19:33:38.504Z"
   },
   {
    "duration": 6,
    "start_time": "2024-07-25T19:34:25.415Z"
   },
   {
    "duration": 10,
    "start_time": "2024-07-25T19:34:25.802Z"
   },
   {
    "duration": 18,
    "start_time": "2024-07-25T19:35:15.605Z"
   },
   {
    "duration": 24,
    "start_time": "2024-07-25T19:35:31.782Z"
   },
   {
    "duration": 71,
    "start_time": "2024-07-25T19:36:32.958Z"
   },
   {
    "duration": 62,
    "start_time": "2024-07-25T19:38:10.586Z"
   },
   {
    "duration": 67,
    "start_time": "2024-07-25T19:41:03.730Z"
   },
   {
    "duration": 11,
    "start_time": "2024-07-25T19:41:42.714Z"
   },
   {
    "duration": 9,
    "start_time": "2024-07-25T19:41:45.976Z"
   },
   {
    "duration": 22,
    "start_time": "2024-07-25T19:41:58.262Z"
   },
   {
    "duration": 6,
    "start_time": "2024-07-25T19:52:39.173Z"
   },
   {
    "duration": 7,
    "start_time": "2024-07-25T19:55:08.370Z"
   },
   {
    "duration": 297,
    "start_time": "2024-07-25T19:58:40.574Z"
   },
   {
    "duration": 44,
    "start_time": "2024-07-25T19:58:54.600Z"
   },
   {
    "duration": 266,
    "start_time": "2024-07-25T19:58:58.744Z"
   },
   {
    "duration": 12,
    "start_time": "2024-07-25T19:59:11.146Z"
   },
   {
    "duration": 89,
    "start_time": "2024-07-25T20:05:39.423Z"
   },
   {
    "duration": 20,
    "start_time": "2024-07-25T20:05:41.587Z"
   },
   {
    "duration": 44,
    "start_time": "2024-07-25T20:09:11.774Z"
   },
   {
    "duration": 6,
    "start_time": "2024-07-25T20:10:50.399Z"
   },
   {
    "duration": 5,
    "start_time": "2024-07-25T20:10:53.366Z"
   },
   {
    "duration": 5,
    "start_time": "2024-07-25T20:10:56.836Z"
   },
   {
    "duration": 37,
    "start_time": "2024-07-25T20:11:00.836Z"
   },
   {
    "duration": 20,
    "start_time": "2024-07-25T20:11:39.355Z"
   },
   {
    "duration": 109,
    "start_time": "2024-07-25T20:13:43.174Z"
   },
   {
    "duration": 78,
    "start_time": "2024-07-25T20:14:21.406Z"
   },
   {
    "duration": 48,
    "start_time": "2024-07-25T20:15:36.710Z"
   },
   {
    "duration": 48,
    "start_time": "2024-07-25T20:15:49.582Z"
   },
   {
    "duration": 90,
    "start_time": "2024-07-25T20:17:16.533Z"
   },
   {
    "duration": 92,
    "start_time": "2024-07-25T20:17:21.596Z"
   },
   {
    "duration": 80,
    "start_time": "2024-07-25T20:18:26.278Z"
   },
   {
    "duration": 87,
    "start_time": "2024-07-25T20:18:34.300Z"
   },
   {
    "duration": 15,
    "start_time": "2024-07-25T20:18:58.930Z"
   },
   {
    "duration": 47,
    "start_time": "2024-07-25T20:19:06.266Z"
   },
   {
    "duration": 33,
    "start_time": "2024-07-25T20:23:43.246Z"
   },
   {
    "duration": 50,
    "start_time": "2024-07-25T20:23:48.054Z"
   },
   {
    "duration": 51,
    "start_time": "2024-07-25T20:24:47.667Z"
   },
   {
    "duration": 67,
    "start_time": "2024-07-25T20:25:02.795Z"
   },
   {
    "duration": 48,
    "start_time": "2024-07-25T20:25:09.899Z"
   },
   {
    "duration": 36,
    "start_time": "2024-07-25T20:25:34.179Z"
   },
   {
    "duration": 43,
    "start_time": "2024-07-25T20:25:56.379Z"
   },
   {
    "duration": 84,
    "start_time": "2024-07-25T20:26:03.650Z"
   },
   {
    "duration": 4,
    "start_time": "2024-07-25T20:26:42.735Z"
   },
   {
    "duration": 56,
    "start_time": "2024-07-25T20:29:04.808Z"
   },
   {
    "duration": 61,
    "start_time": "2024-07-25T20:29:09.689Z"
   },
   {
    "duration": 53,
    "start_time": "2024-07-25T20:30:24.087Z"
   },
   {
    "duration": 54,
    "start_time": "2024-07-25T20:30:35.743Z"
   },
   {
    "duration": 53,
    "start_time": "2024-07-25T20:30:48.151Z"
   },
   {
    "duration": 54,
    "start_time": "2024-07-25T20:31:21.807Z"
   },
   {
    "duration": 6,
    "start_time": "2024-07-25T20:32:08.568Z"
   },
   {
    "duration": 52,
    "start_time": "2024-07-25T20:32:14.063Z"
   },
   {
    "duration": 53,
    "start_time": "2024-07-25T20:32:30.969Z"
   },
   {
    "duration": 52,
    "start_time": "2024-07-25T20:32:39.392Z"
   },
   {
    "duration": 48,
    "start_time": "2024-07-25T20:32:45.696Z"
   },
   {
    "duration": 36,
    "start_time": "2024-07-25T20:32:50.279Z"
   },
   {
    "duration": 3,
    "start_time": "2024-07-25T20:32:57.780Z"
   },
   {
    "duration": 66,
    "start_time": "2024-07-25T20:33:09.837Z"
   },
   {
    "duration": 59,
    "start_time": "2024-07-25T20:36:55.240Z"
   },
   {
    "duration": 652,
    "start_time": "2024-07-25T20:39:17.544Z"
   },
   {
    "duration": 138,
    "start_time": "2024-07-25T20:42:07.455Z"
   },
   {
    "duration": 138,
    "start_time": "2024-07-25T20:42:37.704Z"
   },
   {
    "duration": 141,
    "start_time": "2024-07-25T20:42:52.660Z"
   },
   {
    "duration": 132,
    "start_time": "2024-07-25T20:44:20.728Z"
   },
   {
    "duration": 133,
    "start_time": "2024-07-25T20:45:23.794Z"
   },
   {
    "duration": 137,
    "start_time": "2024-07-25T20:46:40.696Z"
   },
   {
    "duration": 136,
    "start_time": "2024-07-25T20:46:45.733Z"
   },
   {
    "duration": 137,
    "start_time": "2024-07-25T20:47:01.766Z"
   },
   {
    "duration": 168,
    "start_time": "2024-07-25T20:47:12.250Z"
   },
   {
    "duration": 132,
    "start_time": "2024-07-25T20:47:18.206Z"
   },
   {
    "duration": 130,
    "start_time": "2024-07-25T20:47:23.535Z"
   },
   {
    "duration": 135,
    "start_time": "2024-07-25T20:47:40.774Z"
   },
   {
    "duration": 134,
    "start_time": "2024-07-25T20:47:46.538Z"
   },
   {
    "duration": 215,
    "start_time": "2024-07-25T20:47:53.446Z"
   },
   {
    "duration": 149,
    "start_time": "2024-07-25T20:48:51.908Z"
   },
   {
    "duration": 131,
    "start_time": "2024-07-25T20:48:56.639Z"
   },
   {
    "duration": 131,
    "start_time": "2024-07-25T20:49:06.470Z"
   },
   {
    "duration": 139,
    "start_time": "2024-07-25T20:49:10.330Z"
   },
   {
    "duration": 132,
    "start_time": "2024-07-25T20:49:15.562Z"
   },
   {
    "duration": 131,
    "start_time": "2024-07-25T20:49:19.714Z"
   },
   {
    "duration": 139,
    "start_time": "2024-07-25T20:49:58.398Z"
   },
   {
    "duration": 7,
    "start_time": "2024-07-25T20:52:57.227Z"
   },
   {
    "duration": 151,
    "start_time": "2024-07-25T20:53:14.751Z"
   },
   {
    "duration": 140,
    "start_time": "2024-07-25T20:53:28.306Z"
   },
   {
    "duration": 141,
    "start_time": "2024-07-25T20:53:35.030Z"
   },
   {
    "duration": 138,
    "start_time": "2024-07-25T20:53:40.810Z"
   },
   {
    "duration": 152,
    "start_time": "2024-07-25T20:53:47.952Z"
   },
   {
    "duration": 236,
    "start_time": "2024-07-25T20:53:59.038Z"
   },
   {
    "duration": 145,
    "start_time": "2024-07-25T20:54:23.902Z"
   },
   {
    "duration": 11,
    "start_time": "2024-07-25T21:00:08.707Z"
   },
   {
    "duration": 11,
    "start_time": "2024-07-25T21:00:22.132Z"
   },
   {
    "duration": 7,
    "start_time": "2024-07-25T21:00:32.403Z"
   },
   {
    "duration": 8,
    "start_time": "2024-07-25T21:01:20.331Z"
   },
   {
    "duration": 7,
    "start_time": "2024-07-25T21:01:35.574Z"
   },
   {
    "duration": 8,
    "start_time": "2024-07-25T21:01:44.627Z"
   },
   {
    "duration": 249,
    "start_time": "2024-07-25T21:03:58.855Z"
   },
   {
    "duration": 7,
    "start_time": "2024-07-25T21:05:51.299Z"
   },
   {
    "duration": 115,
    "start_time": "2024-07-25T21:05:57.332Z"
   },
   {
    "duration": 25,
    "start_time": "2024-07-25T21:05:59.348Z"
   },
   {
    "duration": 135,
    "start_time": "2024-07-25T21:06:35.988Z"
   },
   {
    "duration": 24,
    "start_time": "2024-07-25T21:06:36.751Z"
   },
   {
    "duration": 13,
    "start_time": "2024-07-25T21:07:42.246Z"
   },
   {
    "duration": 278,
    "start_time": "2024-07-25T21:07:49.350Z"
   },
   {
    "duration": 9380,
    "start_time": "2024-07-25T21:09:50.991Z"
   },
   {
    "duration": 9348,
    "start_time": "2024-07-25T21:12:09.660Z"
   },
   {
    "duration": 10763,
    "start_time": "2024-07-25T21:14:23.040Z"
   },
   {
    "duration": 5,
    "start_time": "2024-07-25T21:15:00.980Z"
   },
   {
    "duration": 9347,
    "start_time": "2024-07-25T21:15:18.802Z"
   },
   {
    "duration": 9335,
    "start_time": "2024-07-25T21:15:36.998Z"
   },
   {
    "duration": 8,
    "start_time": "2024-07-25T21:18:23.807Z"
   },
   {
    "duration": 9877,
    "start_time": "2024-07-25T21:18:31.304Z"
   },
   {
    "duration": 4,
    "start_time": "2024-07-25T21:20:38.178Z"
   },
   {
    "duration": 87,
    "start_time": "2024-07-25T21:30:51.190Z"
   },
   {
    "duration": 54,
    "start_time": "2024-07-25T21:33:26.375Z"
   },
   {
    "duration": 6,
    "start_time": "2024-07-25T21:34:19.726Z"
   },
   {
    "duration": 14,
    "start_time": "2024-07-25T21:35:37.855Z"
   },
   {
    "duration": 486,
    "start_time": "2024-07-25T21:36:52.291Z"
   },
   {
    "duration": 36,
    "start_time": "2024-07-25T21:37:29.493Z"
   },
   {
    "duration": 7,
    "start_time": "2024-07-25T21:38:08.639Z"
   },
   {
    "duration": 801,
    "start_time": "2024-07-25T21:38:18.319Z"
   },
   {
    "duration": 12,
    "start_time": "2024-07-25T21:38:42.335Z"
   },
   {
    "duration": 23,
    "start_time": "2024-07-25T21:39:07.416Z"
   },
   {
    "duration": 25,
    "start_time": "2024-07-25T21:39:36.946Z"
   },
   {
    "duration": 37,
    "start_time": "2024-07-25T21:39:59.224Z"
   },
   {
    "duration": 11,
    "start_time": "2024-07-25T21:42:00.711Z"
   },
   {
    "duration": 10,
    "start_time": "2024-07-25T21:42:07.551Z"
   },
   {
    "duration": 10,
    "start_time": "2024-07-25T21:42:21.919Z"
   },
   {
    "duration": 11,
    "start_time": "2024-07-25T21:42:32.583Z"
   },
   {
    "duration": 11,
    "start_time": "2024-07-25T21:42:42.824Z"
   },
   {
    "duration": 12,
    "start_time": "2024-07-25T21:42:52.755Z"
   },
   {
    "duration": 10,
    "start_time": "2024-07-25T21:43:03.855Z"
   },
   {
    "duration": 241,
    "start_time": "2024-07-25T21:43:20.945Z"
   },
   {
    "duration": 27,
    "start_time": "2024-07-25T21:43:38.439Z"
   },
   {
    "duration": 13,
    "start_time": "2024-07-25T21:43:57.171Z"
   },
   {
    "duration": 11,
    "start_time": "2024-07-25T21:44:03.432Z"
   },
   {
    "duration": 30,
    "start_time": "2024-07-25T21:45:21.955Z"
   },
   {
    "duration": 55,
    "start_time": "2024-07-25T21:47:40.556Z"
   },
   {
    "duration": 44,
    "start_time": "2024-07-25T21:47:50.352Z"
   },
   {
    "duration": 13,
    "start_time": "2024-07-25T21:47:58.860Z"
   },
   {
    "duration": 26,
    "start_time": "2024-07-25T21:48:07.160Z"
   },
   {
    "duration": 11,
    "start_time": "2024-07-25T21:48:27.173Z"
   },
   {
    "duration": 21,
    "start_time": "2024-07-25T21:48:30.094Z"
   },
   {
    "duration": 23,
    "start_time": "2024-07-25T21:48:43.059Z"
   },
   {
    "duration": 37,
    "start_time": "2024-07-25T21:48:57.104Z"
   },
   {
    "duration": 4,
    "start_time": "2024-07-25T21:49:20.828Z"
   },
   {
    "duration": 39,
    "start_time": "2024-07-25T21:49:28.813Z"
   },
   {
    "duration": 39,
    "start_time": "2024-07-25T21:49:40.236Z"
   },
   {
    "duration": 47,
    "start_time": "2024-07-25T21:50:10.080Z"
   },
   {
    "duration": 30,
    "start_time": "2024-07-25T21:51:02.112Z"
   },
   {
    "duration": 8,
    "start_time": "2024-07-25T21:55:41.600Z"
   },
   {
    "duration": 9,
    "start_time": "2024-07-25T21:56:00.073Z"
   },
   {
    "duration": 9,
    "start_time": "2024-07-25T22:02:18.403Z"
   },
   {
    "duration": 8,
    "start_time": "2024-07-25T22:02:40.250Z"
   },
   {
    "duration": 6,
    "start_time": "2024-07-25T22:06:01.063Z"
   },
   {
    "duration": 4,
    "start_time": "2024-07-25T22:06:32.584Z"
   },
   {
    "duration": 4,
    "start_time": "2024-07-25T22:07:37.380Z"
   },
   {
    "duration": 5,
    "start_time": "2024-07-25T22:07:58.238Z"
   },
   {
    "duration": 7,
    "start_time": "2024-07-25T22:08:13.061Z"
   },
   {
    "duration": 28,
    "start_time": "2024-07-25T22:08:34.908Z"
   },
   {
    "duration": 5,
    "start_time": "2024-07-25T22:08:47.826Z"
   },
   {
    "duration": 27,
    "start_time": "2024-07-25T22:08:54.685Z"
   },
   {
    "duration": 26,
    "start_time": "2024-07-25T22:09:05.019Z"
   },
   {
    "duration": 5,
    "start_time": "2024-07-25T22:09:38.642Z"
   },
   {
    "duration": 5,
    "start_time": "2024-07-25T22:10:09.834Z"
   },
   {
    "duration": 26,
    "start_time": "2024-07-25T22:10:20.998Z"
   },
   {
    "duration": 28,
    "start_time": "2024-07-25T22:10:25.758Z"
   },
   {
    "duration": 6,
    "start_time": "2024-07-25T22:10:30.442Z"
   },
   {
    "duration": 41,
    "start_time": "2024-07-25T22:10:45.923Z"
   },
   {
    "duration": 33,
    "start_time": "2024-07-25T22:10:57.658Z"
   },
   {
    "duration": 28,
    "start_time": "2024-07-25T22:11:10.770Z"
   },
   {
    "duration": 28,
    "start_time": "2024-07-25T22:13:06.086Z"
   },
   {
    "duration": 4,
    "start_time": "2024-07-25T22:13:37.707Z"
   },
   {
    "duration": 28,
    "start_time": "2024-07-25T22:14:31.226Z"
   },
   {
    "duration": 27,
    "start_time": "2024-07-25T22:14:44.306Z"
   },
   {
    "duration": 4,
    "start_time": "2024-07-25T22:14:49.942Z"
   },
   {
    "duration": 5,
    "start_time": "2024-07-25T22:15:20.754Z"
   },
   {
    "duration": 28,
    "start_time": "2024-07-25T22:15:31.570Z"
   },
   {
    "duration": 5,
    "start_time": "2024-07-25T22:15:43.498Z"
   },
   {
    "duration": 14,
    "start_time": "2024-07-25T22:17:33.894Z"
   },
   {
    "duration": 39,
    "start_time": "2024-07-25T22:18:11.858Z"
   },
   {
    "duration": 42,
    "start_time": "2024-07-25T22:18:17.986Z"
   },
   {
    "duration": 5,
    "start_time": "2024-07-25T22:18:43.790Z"
   },
   {
    "duration": 21,
    "start_time": "2024-07-25T22:18:48.286Z"
   },
   {
    "duration": 184,
    "start_time": "2024-07-25T22:19:05.103Z"
   },
   {
    "duration": 82,
    "start_time": "2024-07-25T22:19:08.887Z"
   },
   {
    "duration": 49,
    "start_time": "2024-07-25T22:20:03.874Z"
   },
   {
    "duration": 40,
    "start_time": "2024-07-25T22:20:27.126Z"
   },
   {
    "duration": 39,
    "start_time": "2024-07-25T22:21:28.106Z"
   },
   {
    "duration": 109,
    "start_time": "2024-07-25T22:35:11.262Z"
   },
   {
    "duration": 575,
    "start_time": "2024-07-25T22:35:49.214Z"
   },
   {
    "duration": 84,
    "start_time": "2024-07-25T22:35:55.646Z"
   },
   {
    "duration": 45,
    "start_time": "2024-07-25T22:36:19.012Z"
   },
   {
    "duration": 36,
    "start_time": "2024-07-25T22:36:23.080Z"
   },
   {
    "duration": 21,
    "start_time": "2024-07-25T22:36:35.061Z"
   },
   {
    "duration": 38,
    "start_time": "2024-07-25T22:36:38.416Z"
   },
   {
    "duration": 6,
    "start_time": "2024-07-25T22:37:11.898Z"
   },
   {
    "duration": 8,
    "start_time": "2024-07-25T22:37:14.030Z"
   },
   {
    "duration": 7,
    "start_time": "2024-07-25T22:37:19.567Z"
   },
   {
    "duration": 150,
    "start_time": "2024-07-25T22:54:11.827Z"
   },
   {
    "duration": 159,
    "start_time": "2024-07-25T22:54:21.227Z"
   },
   {
    "duration": 166,
    "start_time": "2024-07-25T22:54:31.935Z"
   },
   {
    "duration": 1726,
    "start_time": "2024-07-25T22:55:08.988Z"
   },
   {
    "duration": 1916,
    "start_time": "2024-07-25T22:57:54.028Z"
   },
   {
    "duration": 1651,
    "start_time": "2024-07-25T22:58:12.479Z"
   },
   {
    "duration": 1965,
    "start_time": "2024-07-25T22:58:39.490Z"
   },
   {
    "duration": 153,
    "start_time": "2024-07-25T23:03:08.228Z"
   },
   {
    "duration": 34,
    "start_time": "2024-07-25T23:03:50.250Z"
   },
   {
    "duration": 31,
    "start_time": "2024-07-25T23:03:59.818Z"
   },
   {
    "duration": 31,
    "start_time": "2024-07-25T23:04:04.618Z"
   },
   {
    "duration": 28,
    "start_time": "2024-07-25T23:04:14.458Z"
   },
   {
    "duration": 42,
    "start_time": "2024-07-25T23:04:24.008Z"
   },
   {
    "duration": 6,
    "start_time": "2024-07-25T23:04:38.611Z"
   },
   {
    "duration": 2068,
    "start_time": "2024-07-25T23:04:45.946Z"
   },
   {
    "duration": 2067,
    "start_time": "2024-07-25T23:06:17.906Z"
   },
   {
    "duration": 2058,
    "start_time": "2024-07-25T23:06:27.741Z"
   },
   {
    "duration": 5175,
    "start_time": "2024-07-26T13:32:55.932Z"
   },
   {
    "duration": 217,
    "start_time": "2024-07-26T13:33:01.111Z"
   },
   {
    "duration": 15,
    "start_time": "2024-07-26T13:33:01.331Z"
   },
   {
    "duration": 49,
    "start_time": "2024-07-26T13:33:01.349Z"
   },
   {
    "duration": 6,
    "start_time": "2024-07-26T13:33:01.403Z"
   },
   {
    "duration": 11,
    "start_time": "2024-07-26T13:33:01.412Z"
   },
   {
    "duration": 20,
    "start_time": "2024-07-26T13:33:01.427Z"
   },
   {
    "duration": 74,
    "start_time": "2024-07-26T13:33:01.490Z"
   },
   {
    "duration": 93,
    "start_time": "2024-07-26T13:33:01.567Z"
   },
   {
    "duration": 43,
    "start_time": "2024-07-26T13:33:01.663Z"
   },
   {
    "duration": 7,
    "start_time": "2024-07-26T13:33:01.710Z"
   },
   {
    "duration": 577,
    "start_time": "2024-07-26T13:33:01.721Z"
   },
   {
    "duration": 12,
    "start_time": "2024-07-26T13:33:02.301Z"
   },
   {
    "duration": 160,
    "start_time": "2024-07-26T13:33:02.320Z"
   },
   {
    "duration": 38,
    "start_time": "2024-07-26T13:33:02.483Z"
   },
   {
    "duration": 41,
    "start_time": "2024-07-26T13:33:02.524Z"
   },
   {
    "duration": 23,
    "start_time": "2024-07-26T13:33:02.568Z"
   },
   {
    "duration": 4,
    "start_time": "2024-07-26T13:33:02.596Z"
   },
   {
    "duration": 141,
    "start_time": "2024-07-26T13:33:02.603Z"
   },
   {
    "duration": 62,
    "start_time": "2024-07-26T13:33:02.747Z"
   },
   {
    "duration": 110,
    "start_time": "2024-07-26T13:33:02.813Z"
   },
   {
    "duration": 4,
    "start_time": "2024-07-26T13:33:02.926Z"
   },
   {
    "duration": 3,
    "start_time": "2024-07-26T13:33:02.933Z"
   },
   {
    "duration": 88,
    "start_time": "2024-07-26T13:33:02.939Z"
   },
   {
    "duration": 64,
    "start_time": "2024-07-26T13:33:03.030Z"
   },
   {
    "duration": 655,
    "start_time": "2024-07-26T13:33:03.099Z"
   },
   {
    "duration": 6,
    "start_time": "2024-07-26T13:33:03.757Z"
   },
   {
    "duration": 26,
    "start_time": "2024-07-26T13:33:03.766Z"
   },
   {
    "duration": 9583,
    "start_time": "2024-07-26T13:33:03.795Z"
   },
   {
    "duration": 6,
    "start_time": "2024-07-26T13:33:13.398Z"
   },
   {
    "duration": 127,
    "start_time": "2024-07-26T13:33:13.407Z"
   },
   {
    "duration": 14,
    "start_time": "2024-07-26T13:33:13.591Z"
   },
   {
    "duration": 21,
    "start_time": "2024-07-26T13:33:13.608Z"
   },
   {
    "duration": 61,
    "start_time": "2024-07-26T13:33:13.635Z"
   },
   {
    "duration": 9,
    "start_time": "2024-07-26T13:33:13.699Z"
   },
   {
    "duration": 6,
    "start_time": "2024-07-26T13:33:13.711Z"
   },
   {
    "duration": 99,
    "start_time": "2024-07-26T13:33:13.721Z"
   },
   {
    "duration": 4,
    "start_time": "2024-07-26T13:33:13.824Z"
   },
   {
    "duration": 204,
    "start_time": "2024-07-26T13:33:13.831Z"
   },
   {
    "duration": 1966,
    "start_time": "2024-07-26T13:33:14.038Z"
   },
   {
    "duration": 1560,
    "start_time": "2024-07-26T13:33:16.014Z"
   },
   {
    "duration": 0,
    "start_time": "2024-07-26T13:33:17.576Z"
   },
   {
    "duration": 1,
    "start_time": "2024-07-26T13:33:17.580Z"
   },
   {
    "duration": 0,
    "start_time": "2024-07-26T13:33:17.591Z"
   },
   {
    "duration": 0,
    "start_time": "2024-07-26T13:33:17.593Z"
   },
   {
    "duration": 0,
    "start_time": "2024-07-26T13:33:17.598Z"
   },
   {
    "duration": 0,
    "start_time": "2024-07-26T13:33:17.600Z"
   },
   {
    "duration": 0,
    "start_time": "2024-07-26T13:33:17.602Z"
   },
   {
    "duration": 8,
    "start_time": "2024-07-26T13:33:57.330Z"
   },
   {
    "duration": 1688,
    "start_time": "2024-07-26T13:34:04.442Z"
   },
   {
    "duration": 1477,
    "start_time": "2024-07-26T13:37:24.546Z"
   },
   {
    "duration": 1688,
    "start_time": "2024-07-26T13:38:49.510Z"
   },
   {
    "duration": 459,
    "start_time": "2024-07-26T13:46:13.229Z"
   },
   {
    "duration": 100,
    "start_time": "2024-07-26T13:46:38.290Z"
   },
   {
    "duration": 111,
    "start_time": "2024-07-26T13:46:45.270Z"
   },
   {
    "duration": 16,
    "start_time": "2024-07-26T13:46:58.037Z"
   },
   {
    "duration": 9,
    "start_time": "2024-07-26T13:48:21.164Z"
   },
   {
    "duration": 17,
    "start_time": "2024-07-26T13:48:26.443Z"
   },
   {
    "duration": 12,
    "start_time": "2024-07-26T13:49:03.278Z"
   },
   {
    "duration": 12,
    "start_time": "2024-07-26T13:51:08.094Z"
   },
   {
    "duration": 12,
    "start_time": "2024-07-26T13:51:14.970Z"
   },
   {
    "duration": 24,
    "start_time": "2024-07-26T13:53:46.159Z"
   },
   {
    "duration": 24,
    "start_time": "2024-07-26T13:53:56.415Z"
   },
   {
    "duration": 25,
    "start_time": "2024-07-26T13:55:24.893Z"
   },
   {
    "duration": 24,
    "start_time": "2024-07-26T13:55:31.255Z"
   },
   {
    "duration": 27,
    "start_time": "2024-07-26T13:55:51.709Z"
   },
   {
    "duration": 25,
    "start_time": "2024-07-26T14:07:07.959Z"
   },
   {
    "duration": 6,
    "start_time": "2024-07-26T14:07:11.230Z"
   },
   {
    "duration": 7,
    "start_time": "2024-07-26T14:07:19.694Z"
   },
   {
    "duration": 10,
    "start_time": "2024-07-26T14:10:01.991Z"
   },
   {
    "duration": 6,
    "start_time": "2024-07-26T14:12:06.832Z"
   },
   {
    "duration": 12,
    "start_time": "2024-07-26T14:12:10.548Z"
   },
   {
    "duration": 15,
    "start_time": "2024-07-26T14:12:29.771Z"
   },
   {
    "duration": 14,
    "start_time": "2024-07-26T14:14:18.393Z"
   },
   {
    "duration": 37,
    "start_time": "2024-07-26T14:14:54.409Z"
   },
   {
    "duration": 41,
    "start_time": "2024-07-26T14:15:32.671Z"
   },
   {
    "duration": 39,
    "start_time": "2024-07-26T14:16:01.908Z"
   },
   {
    "duration": 56,
    "start_time": "2024-07-26T14:27:51.948Z"
   },
   {
    "duration": 56,
    "start_time": "2024-07-26T14:27:59.502Z"
   },
   {
    "duration": 6,
    "start_time": "2024-07-26T14:28:06.028Z"
   },
   {
    "duration": 56,
    "start_time": "2024-07-26T14:28:10.852Z"
   },
   {
    "duration": 6,
    "start_time": "2024-07-26T14:28:30.996Z"
   },
   {
    "duration": 57,
    "start_time": "2024-07-26T14:28:33.611Z"
   },
   {
    "duration": 21,
    "start_time": "2024-07-26T14:37:16.076Z"
   },
   {
    "duration": 40,
    "start_time": "2024-07-26T14:37:49.898Z"
   },
   {
    "duration": 35,
    "start_time": "2024-07-26T14:38:45.386Z"
   },
   {
    "duration": 43,
    "start_time": "2024-07-26T14:39:23.298Z"
   },
   {
    "duration": 14,
    "start_time": "2024-07-26T14:44:01.637Z"
   },
   {
    "duration": 13,
    "start_time": "2024-07-26T14:44:13.212Z"
   },
   {
    "duration": 14,
    "start_time": "2024-07-26T14:49:24.695Z"
   },
   {
    "duration": 45,
    "start_time": "2024-07-26T14:50:42.917Z"
   },
   {
    "duration": 14,
    "start_time": "2024-07-26T14:50:55.098Z"
   },
   {
    "duration": 13,
    "start_time": "2024-07-26T14:51:07.977Z"
   },
   {
    "duration": 40,
    "start_time": "2024-07-26T14:52:51.965Z"
   },
   {
    "duration": 42,
    "start_time": "2024-07-26T14:54:05.785Z"
   },
   {
    "duration": 4,
    "start_time": "2024-07-26T14:56:45.691Z"
   },
   {
    "duration": 1461,
    "start_time": "2024-07-26T17:38:39.182Z"
   },
   {
    "duration": 201,
    "start_time": "2024-07-26T17:38:40.647Z"
   },
   {
    "duration": 22,
    "start_time": "2024-07-26T17:38:40.852Z"
   },
   {
    "duration": 41,
    "start_time": "2024-07-26T17:38:40.878Z"
   },
   {
    "duration": 9,
    "start_time": "2024-07-26T17:38:40.922Z"
   },
   {
    "duration": 13,
    "start_time": "2024-07-26T17:38:40.935Z"
   },
   {
    "duration": 53,
    "start_time": "2024-07-26T17:38:40.953Z"
   },
   {
    "duration": 95,
    "start_time": "2024-07-26T17:38:41.009Z"
   },
   {
    "duration": 99,
    "start_time": "2024-07-26T17:38:41.110Z"
   },
   {
    "duration": 27,
    "start_time": "2024-07-26T17:38:41.217Z"
   },
   {
    "duration": 7,
    "start_time": "2024-07-26T17:38:41.248Z"
   },
   {
    "duration": 584,
    "start_time": "2024-07-26T17:38:41.259Z"
   },
   {
    "duration": 14,
    "start_time": "2024-07-26T17:38:41.845Z"
   },
   {
    "duration": 150,
    "start_time": "2024-07-26T17:38:41.863Z"
   },
   {
    "duration": 23,
    "start_time": "2024-07-26T17:38:42.016Z"
   },
   {
    "duration": 83,
    "start_time": "2024-07-26T17:38:42.044Z"
   },
   {
    "duration": 5,
    "start_time": "2024-07-26T17:38:42.130Z"
   },
   {
    "duration": 3,
    "start_time": "2024-07-26T17:38:42.139Z"
   },
   {
    "duration": 148,
    "start_time": "2024-07-26T17:38:42.145Z"
   },
   {
    "duration": 44,
    "start_time": "2024-07-26T17:38:42.297Z"
   },
   {
    "duration": 114,
    "start_time": "2024-07-26T17:38:42.344Z"
   },
   {
    "duration": 8,
    "start_time": "2024-07-26T17:38:42.462Z"
   },
   {
    "duration": 15,
    "start_time": "2024-07-26T17:38:42.474Z"
   },
   {
    "duration": 65,
    "start_time": "2024-07-26T17:38:42.493Z"
   },
   {
    "duration": 71,
    "start_time": "2024-07-26T17:38:42.561Z"
   },
   {
    "duration": 637,
    "start_time": "2024-07-26T17:38:42.635Z"
   },
   {
    "duration": 6,
    "start_time": "2024-07-26T17:38:43.276Z"
   },
   {
    "duration": 10,
    "start_time": "2024-07-26T17:38:43.294Z"
   },
   {
    "duration": 9813,
    "start_time": "2024-07-26T17:38:43.307Z"
   },
   {
    "duration": 6,
    "start_time": "2024-07-26T17:38:53.124Z"
   },
   {
    "duration": 115,
    "start_time": "2024-07-26T17:38:53.192Z"
   },
   {
    "duration": 13,
    "start_time": "2024-07-26T17:38:53.311Z"
   },
   {
    "duration": 80,
    "start_time": "2024-07-26T17:38:53.328Z"
   },
   {
    "duration": 8,
    "start_time": "2024-07-26T17:38:53.411Z"
   },
   {
    "duration": 10,
    "start_time": "2024-07-26T17:38:53.423Z"
   },
   {
    "duration": 6,
    "start_time": "2024-07-26T17:38:53.493Z"
   },
   {
    "duration": 112,
    "start_time": "2024-07-26T17:38:53.503Z"
   },
   {
    "duration": 4,
    "start_time": "2024-07-26T17:38:53.618Z"
   },
   {
    "duration": 303,
    "start_time": "2024-07-26T17:38:53.626Z"
   },
   {
    "duration": 86,
    "start_time": "2024-07-26T17:38:53.932Z"
   },
   {
    "duration": 7,
    "start_time": "2024-07-26T17:38:54.023Z"
   },
   {
    "duration": 89,
    "start_time": "2024-07-26T17:38:54.034Z"
   },
   {
    "duration": 99,
    "start_time": "2024-07-26T17:38:54.126Z"
   },
   {
    "duration": 66,
    "start_time": "2024-07-26T17:38:54.229Z"
   },
   {
    "duration": 3,
    "start_time": "2024-07-26T17:38:54.298Z"
   },
   {
    "duration": 22,
    "start_time": "2024-07-26T17:38:54.305Z"
   },
   {
    "duration": 61,
    "start_time": "2024-07-26T17:38:54.330Z"
   },
   {
    "duration": 29,
    "start_time": "2024-07-26T17:38:54.395Z"
   },
   {
    "duration": 171,
    "start_time": "2024-07-26T17:38:54.428Z"
   },
   {
    "duration": 110,
    "start_time": "2024-07-26T17:38:54.602Z"
   },
   {
    "duration": 89,
    "start_time": "2024-07-26T17:38:54.714Z"
   },
   {
    "duration": 18,
    "start_time": "2024-07-26T17:38:54.807Z"
   },
   {
    "duration": 18,
    "start_time": "2024-07-26T17:38:54.830Z"
   },
   {
    "duration": 5079,
    "start_time": "2024-07-27T14:35:06.457Z"
   },
   {
    "duration": 223,
    "start_time": "2024-07-27T14:35:11.540Z"
   },
   {
    "duration": 14,
    "start_time": "2024-07-27T14:35:11.767Z"
   },
   {
    "duration": 24,
    "start_time": "2024-07-27T14:35:11.785Z"
   },
   {
    "duration": 7,
    "start_time": "2024-07-27T14:35:11.813Z"
   },
   {
    "duration": 47,
    "start_time": "2024-07-27T14:35:11.824Z"
   },
   {
    "duration": 19,
    "start_time": "2024-07-27T14:35:11.875Z"
   },
   {
    "duration": 102,
    "start_time": "2024-07-27T14:35:11.896Z"
   },
   {
    "duration": 89,
    "start_time": "2024-07-27T14:35:12.001Z"
   },
   {
    "duration": 25,
    "start_time": "2024-07-27T14:35:12.096Z"
   },
   {
    "duration": 9,
    "start_time": "2024-07-27T14:35:12.124Z"
   },
   {
    "duration": 563,
    "start_time": "2024-07-27T14:35:12.137Z"
   },
   {
    "duration": 13,
    "start_time": "2024-07-27T14:35:12.703Z"
   },
   {
    "duration": 160,
    "start_time": "2024-07-27T14:35:12.719Z"
   },
   {
    "duration": 22,
    "start_time": "2024-07-27T14:35:12.883Z"
   },
   {
    "duration": 81,
    "start_time": "2024-07-27T14:35:12.908Z"
   },
   {
    "duration": 4,
    "start_time": "2024-07-27T14:35:12.992Z"
   },
   {
    "duration": 3,
    "start_time": "2024-07-27T14:35:12.999Z"
   },
   {
    "duration": 140,
    "start_time": "2024-07-27T14:35:13.005Z"
   },
   {
    "duration": 53,
    "start_time": "2024-07-27T14:35:13.149Z"
   },
   {
    "duration": 107,
    "start_time": "2024-07-27T14:35:13.205Z"
   },
   {
    "duration": 3,
    "start_time": "2024-07-27T14:35:13.316Z"
   },
   {
    "duration": 3,
    "start_time": "2024-07-27T14:35:13.323Z"
   },
   {
    "duration": 76,
    "start_time": "2024-07-27T14:35:13.329Z"
   },
   {
    "duration": 70,
    "start_time": "2024-07-27T14:35:13.408Z"
   },
   {
    "duration": 646,
    "start_time": "2024-07-27T14:35:13.481Z"
   },
   {
    "duration": 7,
    "start_time": "2024-07-27T14:35:14.130Z"
   },
   {
    "duration": 28,
    "start_time": "2024-07-27T14:35:14.145Z"
   },
   {
    "duration": 9581,
    "start_time": "2024-07-27T14:35:14.176Z"
   },
   {
    "duration": 7,
    "start_time": "2024-07-27T14:35:23.768Z"
   },
   {
    "duration": 130,
    "start_time": "2024-07-27T14:35:23.778Z"
   },
   {
    "duration": 63,
    "start_time": "2024-07-27T14:35:23.911Z"
   },
   {
    "duration": 24,
    "start_time": "2024-07-27T14:35:23.977Z"
   },
   {
    "duration": 7,
    "start_time": "2024-07-27T14:35:24.004Z"
   },
   {
    "duration": 8,
    "start_time": "2024-07-27T14:35:24.069Z"
   },
   {
    "duration": 5,
    "start_time": "2024-07-27T14:35:24.080Z"
   },
   {
    "duration": 96,
    "start_time": "2024-07-27T14:35:24.088Z"
   },
   {
    "duration": 4,
    "start_time": "2024-07-27T14:35:24.187Z"
   },
   {
    "duration": 220,
    "start_time": "2024-07-27T14:35:24.197Z"
   },
   {
    "duration": 28,
    "start_time": "2024-07-27T14:35:24.420Z"
   },
   {
    "duration": 21,
    "start_time": "2024-07-27T14:35:24.451Z"
   },
   {
    "duration": 38,
    "start_time": "2024-07-27T14:35:24.475Z"
   },
   {
    "duration": 76,
    "start_time": "2024-07-27T14:35:24.516Z"
   },
   {
    "duration": 14,
    "start_time": "2024-07-27T14:35:24.595Z"
   },
   {
    "duration": 4,
    "start_time": "2024-07-27T14:35:24.611Z"
   },
   {
    "duration": 50,
    "start_time": "2024-07-27T14:35:24.618Z"
   },
   {
    "duration": 4,
    "start_time": "2024-07-27T14:35:24.671Z"
   },
   {
    "duration": 26,
    "start_time": "2024-07-27T14:35:24.678Z"
   },
   {
    "duration": 84,
    "start_time": "2024-07-27T14:35:24.707Z"
   },
   {
    "duration": 42,
    "start_time": "2024-07-27T14:35:24.794Z"
   },
   {
    "duration": 64,
    "start_time": "2024-07-27T14:35:24.839Z"
   },
   {
    "duration": 14,
    "start_time": "2024-07-27T14:35:24.906Z"
   },
   {
    "duration": 44,
    "start_time": "2024-07-27T14:35:24.923Z"
   },
   {
    "duration": 7,
    "start_time": "2024-07-27T14:59:11.977Z"
   },
   {
    "duration": 46,
    "start_time": "2024-07-27T14:59:14.552Z"
   },
   {
    "duration": 7,
    "start_time": "2024-07-27T15:00:10.561Z"
   },
   {
    "duration": 14,
    "start_time": "2024-07-27T15:00:24.388Z"
   },
   {
    "duration": 628,
    "start_time": "2024-07-27T15:00:32.399Z"
   },
   {
    "duration": 8,
    "start_time": "2024-07-27T15:01:02.316Z"
   },
   {
    "duration": 7,
    "start_time": "2024-07-27T15:01:32.811Z"
   },
   {
    "duration": 5,
    "start_time": "2024-07-27T15:03:24.727Z"
   },
   {
    "duration": 42,
    "start_time": "2024-07-27T15:03:28.013Z"
   },
   {
    "duration": 27,
    "start_time": "2024-07-27T15:03:35.285Z"
   },
   {
    "duration": 7,
    "start_time": "2024-07-27T15:04:08.738Z"
   },
   {
    "duration": 37,
    "start_time": "2024-07-27T15:04:26.758Z"
   },
   {
    "duration": 36,
    "start_time": "2024-07-27T15:04:29.753Z"
   },
   {
    "duration": 66,
    "start_time": "2024-07-27T15:04:37.126Z"
   },
   {
    "duration": 6,
    "start_time": "2024-07-27T15:05:16.674Z"
   },
   {
    "duration": 79,
    "start_time": "2024-07-27T15:05:20.371Z"
   },
   {
    "duration": 6,
    "start_time": "2024-07-27T15:05:28.020Z"
   },
   {
    "duration": 7,
    "start_time": "2024-07-27T15:05:36.355Z"
   },
   {
    "duration": 38,
    "start_time": "2024-07-27T15:05:39.746Z"
   },
   {
    "duration": 35,
    "start_time": "2024-07-27T15:05:45.193Z"
   },
   {
    "duration": 6,
    "start_time": "2024-07-27T15:05:51.978Z"
   },
   {
    "duration": 10,
    "start_time": "2024-07-27T15:06:27.235Z"
   },
   {
    "duration": 20,
    "start_time": "2024-07-27T15:18:22.864Z"
   },
   {
    "duration": 14,
    "start_time": "2024-07-27T15:19:09.471Z"
   },
   {
    "duration": 5,
    "start_time": "2024-07-27T15:19:50.235Z"
   },
   {
    "duration": 826,
    "start_time": "2024-07-27T15:20:09.395Z"
   },
   {
    "duration": 7,
    "start_time": "2024-07-27T15:26:17.050Z"
   },
   {
    "duration": 5,
    "start_time": "2024-07-27T15:26:30.958Z"
   },
   {
    "duration": 5,
    "start_time": "2024-07-27T15:26:34.137Z"
   },
   {
    "duration": 7,
    "start_time": "2024-07-27T15:29:06.706Z"
   },
   {
    "duration": 6,
    "start_time": "2024-07-27T15:29:14.297Z"
   },
   {
    "duration": 8,
    "start_time": "2024-07-27T15:29:20.225Z"
   },
   {
    "duration": 6,
    "start_time": "2024-07-27T15:29:23.522Z"
   },
   {
    "duration": 6,
    "start_time": "2024-07-27T15:29:48.050Z"
   },
   {
    "duration": 149,
    "start_time": "2024-07-27T15:29:51.793Z"
   },
   {
    "duration": 70,
    "start_time": "2024-07-27T15:32:51.854Z"
   },
   {
    "duration": 112,
    "start_time": "2024-07-27T15:33:24.046Z"
   },
   {
    "duration": 108,
    "start_time": "2024-07-27T15:34:13.176Z"
   },
   {
    "duration": 6,
    "start_time": "2024-07-27T15:39:14.303Z"
   },
   {
    "duration": 5,
    "start_time": "2024-07-27T15:39:44.231Z"
   },
   {
    "duration": 7,
    "start_time": "2024-07-27T15:39:49.031Z"
   },
   {
    "duration": 11,
    "start_time": "2024-07-27T15:40:20.171Z"
   },
   {
    "duration": 8,
    "start_time": "2024-07-27T15:40:27.992Z"
   },
   {
    "duration": 7,
    "start_time": "2024-07-27T15:44:56.026Z"
   },
   {
    "duration": 8,
    "start_time": "2024-07-27T15:45:31.545Z"
   },
   {
    "duration": 7,
    "start_time": "2024-07-27T15:49:05.528Z"
   },
   {
    "duration": 14,
    "start_time": "2024-07-27T15:58:32.958Z"
   },
   {
    "duration": 116,
    "start_time": "2024-07-27T16:02:43.637Z"
   },
   {
    "duration": 109,
    "start_time": "2024-07-27T16:03:57.225Z"
   },
   {
    "duration": 10,
    "start_time": "2024-07-27T16:04:11.174Z"
   },
   {
    "duration": 12,
    "start_time": "2024-07-27T16:04:17.712Z"
   },
   {
    "duration": 10,
    "start_time": "2024-07-27T16:07:05.111Z"
   },
   {
    "duration": 92,
    "start_time": "2024-07-27T16:07:23.322Z"
   },
   {
    "duration": 122,
    "start_time": "2024-07-27T16:08:34.683Z"
   },
   {
    "duration": 92,
    "start_time": "2024-07-27T16:09:23.954Z"
   },
   {
    "duration": 13,
    "start_time": "2024-07-27T16:15:39.619Z"
   },
   {
    "duration": 121,
    "start_time": "2024-07-27T16:15:48.805Z"
   },
   {
    "duration": 94,
    "start_time": "2024-07-27T16:15:57.659Z"
   },
   {
    "duration": 1404,
    "start_time": "2024-07-27T17:46:52.906Z"
   },
   {
    "duration": 183,
    "start_time": "2024-07-27T17:46:54.315Z"
   },
   {
    "duration": 14,
    "start_time": "2024-07-27T17:46:54.501Z"
   },
   {
    "duration": 25,
    "start_time": "2024-07-27T17:46:54.518Z"
   },
   {
    "duration": 6,
    "start_time": "2024-07-27T17:46:54.571Z"
   },
   {
    "duration": 30,
    "start_time": "2024-07-27T17:46:54.580Z"
   },
   {
    "duration": 18,
    "start_time": "2024-07-27T17:46:54.613Z"
   },
   {
    "duration": 90,
    "start_time": "2024-07-27T17:46:54.634Z"
   },
   {
    "duration": 104,
    "start_time": "2024-07-27T17:46:54.727Z"
   },
   {
    "duration": 38,
    "start_time": "2024-07-27T17:46:54.834Z"
   },
   {
    "duration": 7,
    "start_time": "2024-07-27T17:46:54.875Z"
   },
   {
    "duration": 547,
    "start_time": "2024-07-27T17:46:54.886Z"
   },
   {
    "duration": 12,
    "start_time": "2024-07-27T17:46:55.436Z"
   },
   {
    "duration": 143,
    "start_time": "2024-07-27T17:46:55.469Z"
   },
   {
    "duration": 23,
    "start_time": "2024-07-27T17:46:55.615Z"
   },
   {
    "duration": 75,
    "start_time": "2024-07-27T17:46:55.641Z"
   },
   {
    "duration": 3,
    "start_time": "2024-07-27T17:46:55.719Z"
   },
   {
    "duration": 3,
    "start_time": "2024-07-27T17:46:55.726Z"
   },
   {
    "duration": 148,
    "start_time": "2024-07-27T17:46:55.732Z"
   },
   {
    "duration": 48,
    "start_time": "2024-07-27T17:46:55.883Z"
   },
   {
    "duration": 122,
    "start_time": "2024-07-27T17:46:55.934Z"
   },
   {
    "duration": 4,
    "start_time": "2024-07-27T17:46:56.067Z"
   },
   {
    "duration": 4,
    "start_time": "2024-07-27T17:46:56.073Z"
   },
   {
    "duration": 55,
    "start_time": "2024-07-27T17:46:56.080Z"
   },
   {
    "duration": 80,
    "start_time": "2024-07-27T17:46:56.138Z"
   },
   {
    "duration": 643,
    "start_time": "2024-07-27T17:46:56.221Z"
   },
   {
    "duration": 10,
    "start_time": "2024-07-27T17:46:56.868Z"
   },
   {
    "duration": 9,
    "start_time": "2024-07-27T17:46:56.881Z"
   },
   {
    "duration": 9602,
    "start_time": "2024-07-27T17:46:56.894Z"
   },
   {
    "duration": 6,
    "start_time": "2024-07-27T17:47:06.503Z"
   },
   {
    "duration": 167,
    "start_time": "2024-07-27T17:47:06.513Z"
   },
   {
    "duration": 13,
    "start_time": "2024-07-27T17:47:06.683Z"
   },
   {
    "duration": 74,
    "start_time": "2024-07-27T17:47:06.699Z"
   },
   {
    "duration": 7,
    "start_time": "2024-07-27T17:47:06.776Z"
   },
   {
    "duration": 8,
    "start_time": "2024-07-27T17:47:06.786Z"
   },
   {
    "duration": 5,
    "start_time": "2024-07-27T17:47:06.797Z"
   },
   {
    "duration": 165,
    "start_time": "2024-07-27T17:47:06.805Z"
   },
   {
    "duration": 3,
    "start_time": "2024-07-27T17:47:06.973Z"
   },
   {
    "duration": 167,
    "start_time": "2024-07-27T17:47:06.979Z"
   },
   {
    "duration": 39,
    "start_time": "2024-07-27T17:47:07.150Z"
   },
   {
    "duration": 7,
    "start_time": "2024-07-27T17:47:07.198Z"
   },
   {
    "duration": 63,
    "start_time": "2024-07-27T17:47:07.208Z"
   },
   {
    "duration": 47,
    "start_time": "2024-07-27T17:47:07.274Z"
   },
   {
    "duration": 43,
    "start_time": "2024-07-27T17:47:07.325Z"
   },
   {
    "duration": 4,
    "start_time": "2024-07-27T17:47:07.372Z"
   },
   {
    "duration": 32,
    "start_time": "2024-07-27T17:47:07.380Z"
   },
   {
    "duration": 123,
    "start_time": "2024-07-27T17:47:07.417Z"
   },
   {
    "duration": 27,
    "start_time": "2024-07-27T17:47:07.543Z"
   },
   {
    "duration": 12,
    "start_time": "2024-07-27T17:47:07.573Z"
   },
   {
    "duration": 141,
    "start_time": "2024-07-27T17:47:07.589Z"
   },
   {
    "duration": 11,
    "start_time": "2024-07-27T17:47:07.733Z"
   },
   {
    "duration": 30,
    "start_time": "2024-07-27T17:47:07.747Z"
   },
   {
    "duration": 10,
    "start_time": "2024-07-27T17:47:07.780Z"
   },
   {
    "duration": 16,
    "start_time": "2024-07-27T17:47:07.793Z"
   },
   {
    "duration": 14,
    "start_time": "2024-07-27T17:47:07.812Z"
   },
   {
    "duration": 61,
    "start_time": "2024-07-27T17:47:07.829Z"
   },
   {
    "duration": 4,
    "start_time": "2024-07-27T17:47:07.893Z"
   },
   {
    "duration": 22,
    "start_time": "2024-07-27T17:47:07.900Z"
   },
   {
    "duration": 90,
    "start_time": "2024-07-27T17:47:07.925Z"
   },
   {
    "duration": 65,
    "start_time": "2024-07-27T17:47:08.017Z"
   },
   {
    "duration": 42,
    "start_time": "2024-07-27T17:47:08.086Z"
   },
   {
    "duration": 37,
    "start_time": "2024-07-27T17:47:08.131Z"
   },
   {
    "duration": 18,
    "start_time": "2024-07-27T17:47:08.171Z"
   },
   {
    "duration": 15,
    "start_time": "2024-07-27T17:47:21.055Z"
   },
   {
    "duration": 5047,
    "start_time": "2024-07-28T14:47:58.303Z"
   },
   {
    "duration": 213,
    "start_time": "2024-07-28T14:48:03.354Z"
   },
   {
    "duration": 14,
    "start_time": "2024-07-28T14:48:03.570Z"
   },
   {
    "duration": 37,
    "start_time": "2024-07-28T14:48:03.587Z"
   },
   {
    "duration": 6,
    "start_time": "2024-07-28T14:48:03.628Z"
   },
   {
    "duration": 10,
    "start_time": "2024-07-28T14:48:03.637Z"
   },
   {
    "duration": 18,
    "start_time": "2024-07-28T14:48:03.650Z"
   },
   {
    "duration": 75,
    "start_time": "2024-07-28T14:48:03.706Z"
   },
   {
    "duration": 103,
    "start_time": "2024-07-28T14:48:03.784Z"
   },
   {
    "duration": 38,
    "start_time": "2024-07-28T14:48:03.890Z"
   },
   {
    "duration": 7,
    "start_time": "2024-07-28T14:48:03.931Z"
   },
   {
    "duration": 568,
    "start_time": "2024-07-28T14:48:03.942Z"
   },
   {
    "duration": 13,
    "start_time": "2024-07-28T14:48:04.513Z"
   },
   {
    "duration": 160,
    "start_time": "2024-07-28T14:48:04.534Z"
   },
   {
    "duration": 29,
    "start_time": "2024-07-28T14:48:04.697Z"
   },
   {
    "duration": 77,
    "start_time": "2024-07-28T14:48:04.729Z"
   },
   {
    "duration": 4,
    "start_time": "2024-07-28T14:48:04.808Z"
   },
   {
    "duration": 4,
    "start_time": "2024-07-28T14:48:04.815Z"
   },
   {
    "duration": 141,
    "start_time": "2024-07-28T14:48:04.821Z"
   },
   {
    "duration": 57,
    "start_time": "2024-07-28T14:48:04.966Z"
   },
   {
    "duration": 103,
    "start_time": "2024-07-28T14:48:05.027Z"
   },
   {
    "duration": 4,
    "start_time": "2024-07-28T14:48:05.133Z"
   },
   {
    "duration": 3,
    "start_time": "2024-07-28T14:48:05.140Z"
   },
   {
    "duration": 79,
    "start_time": "2024-07-28T14:48:05.147Z"
   },
   {
    "duration": 50,
    "start_time": "2024-07-28T14:48:05.229Z"
   },
   {
    "duration": 655,
    "start_time": "2024-07-28T14:48:05.282Z"
   },
   {
    "duration": 6,
    "start_time": "2024-07-28T14:48:05.940Z"
   },
   {
    "duration": 8,
    "start_time": "2024-07-28T14:48:05.949Z"
   },
   {
    "duration": 9556,
    "start_time": "2024-07-28T14:48:05.959Z"
   },
   {
    "duration": 11,
    "start_time": "2024-07-28T14:48:15.519Z"
   },
   {
    "duration": 103,
    "start_time": "2024-07-28T14:48:15.533Z"
   },
   {
    "duration": 11,
    "start_time": "2024-07-28T14:48:15.639Z"
   },
   {
    "duration": 21,
    "start_time": "2024-07-28T14:48:15.706Z"
   },
   {
    "duration": 6,
    "start_time": "2024-07-28T14:48:15.730Z"
   },
   {
    "duration": 8,
    "start_time": "2024-07-28T14:48:15.739Z"
   },
   {
    "duration": 5,
    "start_time": "2024-07-28T14:48:15.805Z"
   },
   {
    "duration": 95,
    "start_time": "2024-07-28T14:48:15.813Z"
   },
   {
    "duration": 5,
    "start_time": "2024-07-28T14:48:15.911Z"
   },
   {
    "duration": 191,
    "start_time": "2024-07-28T14:48:15.919Z"
   },
   {
    "duration": 31,
    "start_time": "2024-07-28T14:48:16.112Z"
   },
   {
    "duration": 6,
    "start_time": "2024-07-28T14:48:16.152Z"
   },
   {
    "duration": 71,
    "start_time": "2024-07-28T14:48:16.162Z"
   },
   {
    "duration": 44,
    "start_time": "2024-07-28T14:48:16.236Z"
   },
   {
    "duration": 34,
    "start_time": "2024-07-28T14:48:16.284Z"
   },
   {
    "duration": 3,
    "start_time": "2024-07-28T14:48:16.321Z"
   },
   {
    "duration": 21,
    "start_time": "2024-07-28T14:48:16.328Z"
   },
   {
    "duration": 130,
    "start_time": "2024-07-28T14:48:16.351Z"
   },
   {
    "duration": 22,
    "start_time": "2024-07-28T14:48:16.486Z"
   },
   {
    "duration": 10,
    "start_time": "2024-07-28T14:48:16.511Z"
   },
   {
    "duration": 140,
    "start_time": "2024-07-28T14:48:16.525Z"
   },
   {
    "duration": 12,
    "start_time": "2024-07-28T14:48:16.668Z"
   },
   {
    "duration": 30,
    "start_time": "2024-07-28T14:48:16.684Z"
   },
   {
    "duration": 12,
    "start_time": "2024-07-28T14:48:16.716Z"
   },
   {
    "duration": 13,
    "start_time": "2024-07-28T14:48:16.732Z"
   },
   {
    "duration": 11,
    "start_time": "2024-07-28T14:48:16.749Z"
   },
   {
    "duration": 60,
    "start_time": "2024-07-28T14:48:16.763Z"
   },
   {
    "duration": 3,
    "start_time": "2024-07-28T14:48:16.827Z"
   },
   {
    "duration": 21,
    "start_time": "2024-07-28T14:48:16.833Z"
   },
   {
    "duration": 79,
    "start_time": "2024-07-28T14:48:16.857Z"
   },
   {
    "duration": 68,
    "start_time": "2024-07-28T14:48:16.941Z"
   },
   {
    "duration": 46,
    "start_time": "2024-07-28T14:48:17.012Z"
   },
   {
    "duration": 13,
    "start_time": "2024-07-28T14:48:17.061Z"
   },
   {
    "duration": 13,
    "start_time": "2024-07-28T14:48:17.105Z"
   },
   {
    "duration": 14,
    "start_time": "2024-07-28T14:59:07.295Z"
   },
   {
    "duration": 14,
    "start_time": "2024-07-28T14:59:14.533Z"
   },
   {
    "duration": 14,
    "start_time": "2024-07-28T15:01:05.848Z"
   },
   {
    "duration": 499,
    "start_time": "2024-07-28T15:01:19.701Z"
   },
   {
    "duration": 15,
    "start_time": "2024-07-28T15:02:20.198Z"
   },
   {
    "duration": 12,
    "start_time": "2024-07-28T15:03:47.602Z"
   },
   {
    "duration": 14,
    "start_time": "2024-07-28T15:03:59.832Z"
   },
   {
    "duration": 40,
    "start_time": "2024-07-28T15:04:36.670Z"
   },
   {
    "duration": 14,
    "start_time": "2024-07-28T15:04:57.254Z"
   },
   {
    "duration": 15,
    "start_time": "2024-07-28T15:05:19.658Z"
   },
   {
    "duration": 5,
    "start_time": "2024-07-28T15:11:37.727Z"
   },
   {
    "duration": 4,
    "start_time": "2024-07-28T15:14:59.258Z"
   },
   {
    "duration": 5,
    "start_time": "2024-07-28T15:15:40.103Z"
   },
   {
    "duration": 1061,
    "start_time": "2024-07-28T15:16:06.326Z"
   },
   {
    "duration": 3,
    "start_time": "2024-07-28T15:16:55.367Z"
   },
   {
    "duration": 10,
    "start_time": "2024-07-28T15:17:32.415Z"
   },
   {
    "duration": 210,
    "start_time": "2024-07-28T15:17:48.657Z"
   },
   {
    "duration": 11,
    "start_time": "2024-07-28T15:20:40.957Z"
   },
   {
    "duration": 24,
    "start_time": "2024-07-28T15:21:09.921Z"
   },
   {
    "duration": 3,
    "start_time": "2024-07-28T15:21:21.417Z"
   },
   {
    "duration": 24,
    "start_time": "2024-07-28T15:21:27.377Z"
   },
   {
    "duration": 24,
    "start_time": "2024-07-28T15:21:34.969Z"
   },
   {
    "duration": 6,
    "start_time": "2024-07-28T15:21:41.113Z"
   },
   {
    "duration": 1396,
    "start_time": "2024-07-28T15:21:48.551Z"
   },
   {
    "duration": 188,
    "start_time": "2024-07-28T15:21:49.951Z"
   },
   {
    "duration": 15,
    "start_time": "2024-07-28T15:21:50.141Z"
   },
   {
    "duration": 48,
    "start_time": "2024-07-28T15:21:50.159Z"
   },
   {
    "duration": 7,
    "start_time": "2024-07-28T15:21:50.213Z"
   },
   {
    "duration": 12,
    "start_time": "2024-07-28T15:21:50.223Z"
   },
   {
    "duration": 18,
    "start_time": "2024-07-28T15:21:50.241Z"
   },
   {
    "duration": 110,
    "start_time": "2024-07-28T15:21:50.262Z"
   },
   {
    "duration": 94,
    "start_time": "2024-07-28T15:21:50.375Z"
   },
   {
    "duration": 40,
    "start_time": "2024-07-28T15:21:50.472Z"
   },
   {
    "duration": 7,
    "start_time": "2024-07-28T15:21:50.515Z"
   },
   {
    "duration": 556,
    "start_time": "2024-07-28T15:21:50.525Z"
   },
   {
    "duration": 22,
    "start_time": "2024-07-28T15:21:51.084Z"
   },
   {
    "duration": 193,
    "start_time": "2024-07-28T15:21:51.113Z"
   },
   {
    "duration": 27,
    "start_time": "2024-07-28T15:21:51.310Z"
   },
   {
    "duration": 67,
    "start_time": "2024-07-28T15:21:51.340Z"
   },
   {
    "duration": 3,
    "start_time": "2024-07-28T15:21:51.410Z"
   },
   {
    "duration": 3,
    "start_time": "2024-07-28T15:21:51.415Z"
   },
   {
    "duration": 188,
    "start_time": "2024-07-28T15:21:51.421Z"
   },
   {
    "duration": 44,
    "start_time": "2024-07-28T15:21:51.612Z"
   },
   {
    "duration": 122,
    "start_time": "2024-07-28T15:21:51.660Z"
   },
   {
    "duration": 3,
    "start_time": "2024-07-28T15:21:51.785Z"
   },
   {
    "duration": 3,
    "start_time": "2024-07-28T15:21:51.807Z"
   },
   {
    "duration": 52,
    "start_time": "2024-07-28T15:21:51.814Z"
   },
   {
    "duration": 75,
    "start_time": "2024-07-28T15:21:51.869Z"
   },
   {
    "duration": 625,
    "start_time": "2024-07-28T15:21:51.947Z"
   },
   {
    "duration": 7,
    "start_time": "2024-07-28T15:21:52.575Z"
   },
   {
    "duration": 24,
    "start_time": "2024-07-28T15:21:52.584Z"
   },
   {
    "duration": 9652,
    "start_time": "2024-07-28T15:21:52.611Z"
   },
   {
    "duration": 39,
    "start_time": "2024-07-28T15:22:02.267Z"
   },
   {
    "duration": 118,
    "start_time": "2024-07-28T15:22:02.309Z"
   },
   {
    "duration": 12,
    "start_time": "2024-07-28T15:22:02.431Z"
   },
   {
    "duration": 78,
    "start_time": "2024-07-28T15:22:02.446Z"
   },
   {
    "duration": 7,
    "start_time": "2024-07-28T15:22:02.527Z"
   },
   {
    "duration": 9,
    "start_time": "2024-07-28T15:22:02.537Z"
   },
   {
    "duration": 57,
    "start_time": "2024-07-28T15:22:02.549Z"
   },
   {
    "duration": 42,
    "start_time": "2024-07-28T15:22:02.610Z"
   },
   {
    "duration": 4,
    "start_time": "2024-07-28T15:22:02.707Z"
   },
   {
    "duration": 168,
    "start_time": "2024-07-28T15:22:02.714Z"
   },
   {
    "duration": 40,
    "start_time": "2024-07-28T15:22:02.884Z"
   },
   {
    "duration": 7,
    "start_time": "2024-07-28T15:22:02.933Z"
   },
   {
    "duration": 66,
    "start_time": "2024-07-28T15:22:02.943Z"
   },
   {
    "duration": 44,
    "start_time": "2024-07-28T15:22:03.013Z"
   },
   {
    "duration": 13,
    "start_time": "2024-07-28T15:22:03.060Z"
   },
   {
    "duration": 32,
    "start_time": "2024-07-28T15:22:03.076Z"
   },
   {
    "duration": 22,
    "start_time": "2024-07-28T15:22:03.110Z"
   },
   {
    "duration": 122,
    "start_time": "2024-07-28T15:22:03.135Z"
   },
   {
    "duration": 13,
    "start_time": "2024-07-28T15:22:03.262Z"
   },
   {
    "duration": 28,
    "start_time": "2024-07-28T15:22:03.278Z"
   },
   {
    "duration": 132,
    "start_time": "2024-07-28T15:22:03.310Z"
   },
   {
    "duration": 10,
    "start_time": "2024-07-28T15:22:03.445Z"
   },
   {
    "duration": 16,
    "start_time": "2024-07-28T15:22:03.459Z"
   },
   {
    "duration": 5,
    "start_time": "2024-07-28T15:22:03.505Z"
   },
   {
    "duration": 0,
    "start_time": "2024-07-28T15:22:03.514Z"
   },
   {
    "duration": 0,
    "start_time": "2024-07-28T15:22:03.516Z"
   },
   {
    "duration": 0,
    "start_time": "2024-07-28T15:22:03.518Z"
   },
   {
    "duration": 0,
    "start_time": "2024-07-28T15:22:03.520Z"
   },
   {
    "duration": 0,
    "start_time": "2024-07-28T15:22:03.523Z"
   },
   {
    "duration": 0,
    "start_time": "2024-07-28T15:22:03.525Z"
   },
   {
    "duration": 0,
    "start_time": "2024-07-28T15:22:03.527Z"
   },
   {
    "duration": 0,
    "start_time": "2024-07-28T15:22:03.528Z"
   },
   {
    "duration": 0,
    "start_time": "2024-07-28T15:22:03.531Z"
   },
   {
    "duration": 0,
    "start_time": "2024-07-28T15:22:03.533Z"
   },
   {
    "duration": 0,
    "start_time": "2024-07-28T15:22:03.535Z"
   },
   {
    "duration": 0,
    "start_time": "2024-07-28T15:22:03.537Z"
   },
   {
    "duration": 472,
    "start_time": "2024-07-28T15:22:53.746Z"
   },
   {
    "duration": 6,
    "start_time": "2024-07-28T15:23:00.202Z"
   },
   {
    "duration": 8,
    "start_time": "2024-07-28T15:23:29.466Z"
   },
   {
    "duration": 30,
    "start_time": "2024-07-28T15:23:34.108Z"
   },
   {
    "duration": 7,
    "start_time": "2024-07-28T15:25:13.480Z"
   },
   {
    "duration": 25,
    "start_time": "2024-07-28T15:25:26.601Z"
   },
   {
    "duration": 31,
    "start_time": "2024-07-28T15:25:41.473Z"
   },
   {
    "duration": 233,
    "start_time": "2024-07-28T15:25:55.406Z"
   },
   {
    "duration": 59,
    "start_time": "2024-07-28T15:26:02.911Z"
   },
   {
    "duration": 9,
    "start_time": "2024-07-28T15:27:30.646Z"
   },
   {
    "duration": 13,
    "start_time": "2024-07-28T15:27:38.110Z"
   },
   {
    "duration": 7,
    "start_time": "2024-07-28T15:27:51.217Z"
   },
   {
    "duration": 10,
    "start_time": "2024-07-28T15:28:15.182Z"
   },
   {
    "duration": 12,
    "start_time": "2024-07-28T15:28:42.515Z"
   },
   {
    "duration": 6,
    "start_time": "2024-07-28T15:29:30.641Z"
   },
   {
    "duration": 5,
    "start_time": "2024-07-28T15:29:54.891Z"
   },
   {
    "duration": 5,
    "start_time": "2024-07-28T15:31:31.235Z"
   },
   {
    "duration": 6,
    "start_time": "2024-07-28T15:31:51.011Z"
   },
   {
    "duration": 7,
    "start_time": "2024-07-28T15:32:15.586Z"
   },
   {
    "duration": 25,
    "start_time": "2024-07-28T15:32:36.898Z"
   },
   {
    "duration": 10,
    "start_time": "2024-07-28T15:32:40.775Z"
   },
   {
    "duration": 12,
    "start_time": "2024-07-28T15:32:42.901Z"
   },
   {
    "duration": 13,
    "start_time": "2024-07-28T15:33:19.263Z"
   },
   {
    "duration": 11,
    "start_time": "2024-07-28T15:34:02.536Z"
   },
   {
    "duration": 12,
    "start_time": "2024-07-28T15:34:05.344Z"
   },
   {
    "duration": 14,
    "start_time": "2024-07-28T15:35:46.727Z"
   },
   {
    "duration": 13,
    "start_time": "2024-07-28T15:37:39.229Z"
   },
   {
    "duration": 13,
    "start_time": "2024-07-28T15:37:52.822Z"
   },
   {
    "duration": 4,
    "start_time": "2024-07-28T16:05:22.948Z"
   },
   {
    "duration": 3,
    "start_time": "2024-07-28T16:06:10.567Z"
   },
   {
    "duration": 7,
    "start_time": "2024-07-28T16:06:14.315Z"
   },
   {
    "duration": 1419,
    "start_time": "2024-07-28T16:07:12.727Z"
   },
   {
    "duration": 119,
    "start_time": "2024-07-28T16:07:26.697Z"
   },
   {
    "duration": 14,
    "start_time": "2024-07-28T16:07:34.035Z"
   },
   {
    "duration": 13,
    "start_time": "2024-07-28T16:07:51.087Z"
   },
   {
    "duration": 12,
    "start_time": "2024-07-28T16:07:54.868Z"
   },
   {
    "duration": 5,
    "start_time": "2024-07-28T16:07:59.935Z"
   },
   {
    "duration": 5,
    "start_time": "2024-07-28T16:08:05.625Z"
   },
   {
    "duration": 8,
    "start_time": "2024-07-28T16:08:07.859Z"
   },
   {
    "duration": 15,
    "start_time": "2024-07-28T16:08:36.499Z"
   },
   {
    "duration": 27,
    "start_time": "2024-07-28T16:09:15.292Z"
   },
   {
    "duration": 10,
    "start_time": "2024-07-28T16:09:23.035Z"
   },
   {
    "duration": 8,
    "start_time": "2024-07-28T16:09:30.219Z"
   },
   {
    "duration": 13,
    "start_time": "2024-07-28T16:09:34.186Z"
   },
   {
    "duration": 8,
    "start_time": "2024-07-28T16:09:39.267Z"
   },
   {
    "duration": 449,
    "start_time": "2024-07-28T16:12:06.792Z"
   },
   {
    "duration": 31,
    "start_time": "2024-07-28T16:13:49.441Z"
   },
   {
    "duration": 8,
    "start_time": "2024-07-28T16:14:37.502Z"
   },
   {
    "duration": 10,
    "start_time": "2024-07-28T16:15:12.520Z"
   },
   {
    "duration": 9,
    "start_time": "2024-07-28T16:15:27.143Z"
   },
   {
    "duration": 8,
    "start_time": "2024-07-28T16:15:28.570Z"
   },
   {
    "duration": 9,
    "start_time": "2024-07-28T16:16:15.627Z"
   },
   {
    "duration": 9,
    "start_time": "2024-07-28T16:16:42.122Z"
   },
   {
    "duration": 8,
    "start_time": "2024-07-28T16:16:51.615Z"
   },
   {
    "duration": 9,
    "start_time": "2024-07-28T16:17:15.027Z"
   },
   {
    "duration": 9,
    "start_time": "2024-07-28T16:17:21.451Z"
   },
   {
    "duration": 202,
    "start_time": "2024-07-28T16:17:31.531Z"
   },
   {
    "duration": 79,
    "start_time": "2024-07-28T16:17:37.342Z"
   },
   {
    "duration": 10,
    "start_time": "2024-07-28T16:17:46.370Z"
   },
   {
    "duration": 10,
    "start_time": "2024-07-28T16:18:01.032Z"
   },
   {
    "duration": 10,
    "start_time": "2024-07-28T16:19:17.554Z"
   },
   {
    "duration": 13,
    "start_time": "2024-07-28T16:19:31.595Z"
   },
   {
    "duration": 13,
    "start_time": "2024-07-28T16:19:43.838Z"
   },
   {
    "duration": 8,
    "start_time": "2024-07-28T16:19:58.544Z"
   },
   {
    "duration": 13,
    "start_time": "2024-07-28T16:20:07.080Z"
   },
   {
    "duration": 4,
    "start_time": "2024-07-28T16:20:35.623Z"
   },
   {
    "duration": 254,
    "start_time": "2024-07-28T16:20:46.663Z"
   },
   {
    "duration": 5,
    "start_time": "2024-07-28T16:20:55.087Z"
   },
   {
    "duration": 8,
    "start_time": "2024-07-28T16:20:57.807Z"
   },
   {
    "duration": 14,
    "start_time": "2024-07-28T16:21:04.600Z"
   },
   {
    "duration": 16,
    "start_time": "2024-07-28T16:21:22.040Z"
   },
   {
    "duration": 16,
    "start_time": "2024-07-28T16:21:32.120Z"
   },
   {
    "duration": 14,
    "start_time": "2024-07-28T16:22:01.780Z"
   },
   {
    "duration": 11,
    "start_time": "2024-07-28T16:22:18.785Z"
   },
   {
    "duration": 26,
    "start_time": "2024-07-28T16:22:25.207Z"
   },
   {
    "duration": 12,
    "start_time": "2024-07-28T16:22:34.521Z"
   },
   {
    "duration": 13,
    "start_time": "2024-07-28T16:22:49.016Z"
   },
   {
    "duration": 16,
    "start_time": "2024-07-28T16:22:58.519Z"
   },
   {
    "duration": 8,
    "start_time": "2024-07-28T16:24:07.228Z"
   },
   {
    "duration": 10,
    "start_time": "2024-07-28T16:24:14.630Z"
   },
   {
    "duration": 1424,
    "start_time": "2024-07-28T16:24:59.843Z"
   },
   {
    "duration": 183,
    "start_time": "2024-07-28T16:25:01.270Z"
   },
   {
    "duration": 15,
    "start_time": "2024-07-28T16:25:01.456Z"
   },
   {
    "duration": 45,
    "start_time": "2024-07-28T16:25:01.474Z"
   },
   {
    "duration": 6,
    "start_time": "2024-07-28T16:25:01.524Z"
   },
   {
    "duration": 11,
    "start_time": "2024-07-28T16:25:01.534Z"
   },
   {
    "duration": 19,
    "start_time": "2024-07-28T16:25:01.550Z"
   },
   {
    "duration": 101,
    "start_time": "2024-07-28T16:25:01.572Z"
   },
   {
    "duration": 99,
    "start_time": "2024-07-28T16:25:01.676Z"
   },
   {
    "duration": 41,
    "start_time": "2024-07-28T16:25:01.777Z"
   },
   {
    "duration": 7,
    "start_time": "2024-07-28T16:25:01.821Z"
   },
   {
    "duration": 578,
    "start_time": "2024-07-28T16:25:01.832Z"
   },
   {
    "duration": 12,
    "start_time": "2024-07-28T16:25:02.414Z"
   },
   {
    "duration": 154,
    "start_time": "2024-07-28T16:25:02.434Z"
   },
   {
    "duration": 29,
    "start_time": "2024-07-28T16:25:02.591Z"
   },
   {
    "duration": 60,
    "start_time": "2024-07-28T16:25:02.623Z"
   },
   {
    "duration": 4,
    "start_time": "2024-07-28T16:25:02.706Z"
   },
   {
    "duration": 4,
    "start_time": "2024-07-28T16:25:02.714Z"
   },
   {
    "duration": 145,
    "start_time": "2024-07-28T16:25:02.722Z"
   },
   {
    "duration": 64,
    "start_time": "2024-07-28T16:25:02.870Z"
   },
   {
    "duration": 110,
    "start_time": "2024-07-28T16:25:02.936Z"
   },
   {
    "duration": 4,
    "start_time": "2024-07-28T16:25:03.049Z"
   },
   {
    "duration": 4,
    "start_time": "2024-07-28T16:25:03.057Z"
   },
   {
    "duration": 83,
    "start_time": "2024-07-28T16:25:03.065Z"
   },
   {
    "duration": 72,
    "start_time": "2024-07-28T16:25:03.152Z"
   },
   {
    "duration": 609,
    "start_time": "2024-07-28T16:25:03.227Z"
   },
   {
    "duration": 7,
    "start_time": "2024-07-28T16:25:03.839Z"
   },
   {
    "duration": 8,
    "start_time": "2024-07-28T16:25:03.849Z"
   },
   {
    "duration": 9510,
    "start_time": "2024-07-28T16:25:03.860Z"
   },
   {
    "duration": 6,
    "start_time": "2024-07-28T16:25:13.375Z"
   },
   {
    "duration": 113,
    "start_time": "2024-07-28T16:25:13.407Z"
   },
   {
    "duration": 13,
    "start_time": "2024-07-28T16:25:13.523Z"
   },
   {
    "duration": 79,
    "start_time": "2024-07-28T16:25:13.539Z"
   },
   {
    "duration": 8,
    "start_time": "2024-07-28T16:25:13.622Z"
   },
   {
    "duration": 11,
    "start_time": "2024-07-28T16:25:13.635Z"
   },
   {
    "duration": 57,
    "start_time": "2024-07-28T16:25:13.649Z"
   },
   {
    "duration": 100,
    "start_time": "2024-07-28T16:25:13.709Z"
   },
   {
    "duration": 3,
    "start_time": "2024-07-28T16:25:13.811Z"
   },
   {
    "duration": 142,
    "start_time": "2024-07-28T16:25:13.817Z"
   },
   {
    "duration": 26,
    "start_time": "2024-07-28T16:25:13.962Z"
   },
   {
    "duration": 6,
    "start_time": "2024-07-28T16:25:14.010Z"
   },
   {
    "duration": 40,
    "start_time": "2024-07-28T16:25:14.020Z"
   },
   {
    "duration": 77,
    "start_time": "2024-07-28T16:25:14.063Z"
   },
   {
    "duration": 12,
    "start_time": "2024-07-28T16:25:14.146Z"
   },
   {
    "duration": 7,
    "start_time": "2024-07-28T16:25:14.161Z"
   },
   {
    "duration": 41,
    "start_time": "2024-07-28T16:25:14.171Z"
   },
   {
    "duration": 106,
    "start_time": "2024-07-28T16:25:14.215Z"
   },
   {
    "duration": 14,
    "start_time": "2024-07-28T16:25:14.324Z"
   },
   {
    "duration": 11,
    "start_time": "2024-07-28T16:25:14.341Z"
   },
   {
    "duration": 154,
    "start_time": "2024-07-28T16:25:14.355Z"
   },
   {
    "duration": 12,
    "start_time": "2024-07-28T16:25:14.511Z"
   },
   {
    "duration": 15,
    "start_time": "2024-07-28T16:25:14.526Z"
   },
   {
    "duration": 15,
    "start_time": "2024-07-28T16:25:14.544Z"
   },
   {
    "duration": 53,
    "start_time": "2024-07-28T16:25:14.563Z"
   },
   {
    "duration": 4,
    "start_time": "2024-07-28T16:25:14.619Z"
   },
   {
    "duration": 22,
    "start_time": "2024-07-28T16:25:14.626Z"
   },
   {
    "duration": 84,
    "start_time": "2024-07-28T16:25:14.651Z"
   },
   {
    "duration": 43,
    "start_time": "2024-07-28T16:25:14.738Z"
   },
   {
    "duration": 58,
    "start_time": "2024-07-28T16:25:14.784Z"
   },
   {
    "duration": 14,
    "start_time": "2024-07-28T16:25:14.844Z"
   },
   {
    "duration": 44,
    "start_time": "2024-07-28T16:25:14.862Z"
   },
   {
    "duration": 16,
    "start_time": "2024-07-28T16:28:27.529Z"
   },
   {
    "duration": 18,
    "start_time": "2024-07-28T16:28:59.901Z"
   },
   {
    "duration": 5,
    "start_time": "2024-07-28T16:33:13.468Z"
   },
   {
    "duration": 5,
    "start_time": "2024-07-28T16:34:24.963Z"
   },
   {
    "duration": 5,
    "start_time": "2024-07-28T16:34:31.788Z"
   },
   {
    "duration": 9,
    "start_time": "2024-07-28T16:35:09.819Z"
   },
   {
    "duration": 5,
    "start_time": "2024-07-28T16:35:47.569Z"
   },
   {
    "duration": 6,
    "start_time": "2024-07-28T16:37:03.416Z"
   },
   {
    "duration": 5,
    "start_time": "2024-07-28T16:37:52.390Z"
   },
   {
    "duration": 6,
    "start_time": "2024-07-28T16:39:57.719Z"
   },
   {
    "duration": 8,
    "start_time": "2024-07-28T16:41:57.915Z"
   },
   {
    "duration": 6,
    "start_time": "2024-07-28T16:42:12.563Z"
   },
   {
    "duration": 1164,
    "start_time": "2024-07-28T16:45:16.621Z"
   },
   {
    "duration": 6,
    "start_time": "2024-07-28T16:46:22.430Z"
   },
   {
    "duration": 5,
    "start_time": "2024-07-28T16:46:26.724Z"
   },
   {
    "duration": 11,
    "start_time": "2024-07-28T16:46:32.542Z"
   },
   {
    "duration": 13,
    "start_time": "2024-07-28T16:46:44.926Z"
   },
   {
    "duration": 10,
    "start_time": "2024-07-28T16:47:31.380Z"
   },
   {
    "duration": 12,
    "start_time": "2024-07-28T16:51:25.238Z"
   },
   {
    "duration": 8,
    "start_time": "2024-07-28T16:55:09.580Z"
   },
   {
    "duration": 5,
    "start_time": "2024-07-28T16:55:12.127Z"
   },
   {
    "duration": 13,
    "start_time": "2024-07-28T16:55:16.111Z"
   },
   {
    "duration": 907,
    "start_time": "2024-07-28T17:12:14.835Z"
   },
   {
    "duration": 20,
    "start_time": "2024-07-28T17:12:21.724Z"
   },
   {
    "duration": 74,
    "start_time": "2024-07-28T17:12:35.976Z"
   },
   {
    "duration": 89,
    "start_time": "2024-07-28T17:13:12.451Z"
   },
   {
    "duration": 89,
    "start_time": "2024-07-28T17:13:30.279Z"
   },
   {
    "duration": 92,
    "start_time": "2024-07-28T17:13:40.795Z"
   },
   {
    "duration": 60,
    "start_time": "2024-07-28T17:15:02.872Z"
   },
   {
    "duration": 93,
    "start_time": "2024-07-28T17:15:14.500Z"
   },
   {
    "duration": 73,
    "start_time": "2024-07-28T17:16:44.184Z"
   },
   {
    "duration": 57,
    "start_time": "2024-07-28T17:16:49.375Z"
   },
   {
    "duration": 95,
    "start_time": "2024-07-28T17:17:09.857Z"
   },
   {
    "duration": 95,
    "start_time": "2024-07-28T17:17:18.848Z"
   },
   {
    "duration": 89,
    "start_time": "2024-07-28T17:17:43.592Z"
   },
   {
    "duration": 96,
    "start_time": "2024-07-28T17:17:46.871Z"
   },
   {
    "duration": 13,
    "start_time": "2024-07-28T17:18:36.022Z"
   },
   {
    "duration": 90,
    "start_time": "2024-07-28T17:19:10.752Z"
   },
   {
    "duration": 8,
    "start_time": "2024-07-28T17:19:53.730Z"
   },
   {
    "duration": 99,
    "start_time": "2024-07-28T17:20:01.662Z"
   },
   {
    "duration": 21,
    "start_time": "2024-07-28T20:47:20.755Z"
   },
   {
    "duration": 12,
    "start_time": "2024-07-28T20:47:58.619Z"
   },
   {
    "duration": 25,
    "start_time": "2024-07-28T20:48:17.857Z"
   },
   {
    "duration": 36,
    "start_time": "2024-07-28T20:48:22.033Z"
   },
   {
    "duration": 5,
    "start_time": "2024-07-28T20:48:34.149Z"
   },
   {
    "duration": 13,
    "start_time": "2024-07-28T20:48:37.057Z"
   },
   {
    "duration": 20,
    "start_time": "2024-07-28T20:48:43.195Z"
   },
   {
    "duration": 78,
    "start_time": "2024-07-28T20:49:27.794Z"
   },
   {
    "duration": 28,
    "start_time": "2024-07-28T20:51:14.310Z"
   },
   {
    "duration": 48,
    "start_time": "2024-07-28T20:51:18.447Z"
   },
   {
    "duration": 97,
    "start_time": "2024-07-28T20:51:26.724Z"
   },
   {
    "duration": 21,
    "start_time": "2024-07-28T20:51:42.942Z"
   },
   {
    "duration": 82,
    "start_time": "2024-07-28T20:52:15.870Z"
   },
   {
    "duration": 81,
    "start_time": "2024-07-28T20:52:52.894Z"
   },
   {
    "duration": 81,
    "start_time": "2024-07-28T20:52:56.681Z"
   },
   {
    "duration": 95,
    "start_time": "2024-07-28T20:52:57.438Z"
   },
   {
    "duration": 5383,
    "start_time": "2024-07-29T14:25:27.817Z"
   },
   {
    "duration": 227,
    "start_time": "2024-07-29T14:25:33.205Z"
   },
   {
    "duration": 15,
    "start_time": "2024-07-29T14:25:33.435Z"
   },
   {
    "duration": 48,
    "start_time": "2024-07-29T14:25:33.454Z"
   },
   {
    "duration": 6,
    "start_time": "2024-07-29T14:25:33.508Z"
   },
   {
    "duration": 12,
    "start_time": "2024-07-29T14:25:33.518Z"
   },
   {
    "duration": 19,
    "start_time": "2024-07-29T14:25:33.534Z"
   },
   {
    "duration": 118,
    "start_time": "2024-07-29T14:25:33.556Z"
   },
   {
    "duration": 97,
    "start_time": "2024-07-29T14:25:33.678Z"
   },
   {
    "duration": 46,
    "start_time": "2024-07-29T14:25:33.778Z"
   },
   {
    "duration": 8,
    "start_time": "2024-07-29T14:25:33.827Z"
   },
   {
    "duration": 555,
    "start_time": "2024-07-29T14:25:33.838Z"
   },
   {
    "duration": 16,
    "start_time": "2024-07-29T14:25:34.396Z"
   },
   {
    "duration": 159,
    "start_time": "2024-07-29T14:25:34.421Z"
   },
   {
    "duration": 28,
    "start_time": "2024-07-29T14:25:34.583Z"
   },
   {
    "duration": 59,
    "start_time": "2024-07-29T14:25:34.614Z"
   },
   {
    "duration": 26,
    "start_time": "2024-07-29T14:25:34.677Z"
   },
   {
    "duration": 5,
    "start_time": "2024-07-29T14:25:34.706Z"
   },
   {
    "duration": 138,
    "start_time": "2024-07-29T14:25:34.714Z"
   },
   {
    "duration": 59,
    "start_time": "2024-07-29T14:25:34.856Z"
   },
   {
    "duration": 110,
    "start_time": "2024-07-29T14:25:34.920Z"
   },
   {
    "duration": 4,
    "start_time": "2024-07-29T14:25:35.032Z"
   },
   {
    "duration": 4,
    "start_time": "2024-07-29T14:25:35.039Z"
   },
   {
    "duration": 88,
    "start_time": "2024-07-29T14:25:35.047Z"
   },
   {
    "duration": 66,
    "start_time": "2024-07-29T14:25:35.137Z"
   },
   {
    "duration": 671,
    "start_time": "2024-07-29T14:25:35.206Z"
   },
   {
    "duration": 8,
    "start_time": "2024-07-29T14:25:35.880Z"
   },
   {
    "duration": 11,
    "start_time": "2024-07-29T14:25:35.901Z"
   },
   {
    "duration": 9637,
    "start_time": "2024-07-29T14:25:35.915Z"
   },
   {
    "duration": 10,
    "start_time": "2024-07-29T14:25:45.556Z"
   },
   {
    "duration": 116,
    "start_time": "2024-07-29T14:25:45.601Z"
   },
   {
    "duration": 12,
    "start_time": "2024-07-29T14:25:45.720Z"
   },
   {
    "duration": 74,
    "start_time": "2024-07-29T14:25:45.735Z"
   },
   {
    "duration": 7,
    "start_time": "2024-07-29T14:25:45.812Z"
   },
   {
    "duration": 8,
    "start_time": "2024-07-29T14:25:45.822Z"
   },
   {
    "duration": 5,
    "start_time": "2024-07-29T14:25:45.833Z"
   },
   {
    "duration": 170,
    "start_time": "2024-07-29T14:25:45.841Z"
   },
   {
    "duration": 4,
    "start_time": "2024-07-29T14:25:46.015Z"
   },
   {
    "duration": 197,
    "start_time": "2024-07-29T14:25:46.023Z"
   },
   {
    "duration": 29,
    "start_time": "2024-07-29T14:25:46.223Z"
   },
   {
    "duration": 7,
    "start_time": "2024-07-29T14:25:46.262Z"
   },
   {
    "duration": 79,
    "start_time": "2024-07-29T14:25:46.272Z"
   },
   {
    "duration": 78,
    "start_time": "2024-07-29T14:25:46.354Z"
   },
   {
    "duration": 14,
    "start_time": "2024-07-29T14:25:46.437Z"
   },
   {
    "duration": 4,
    "start_time": "2024-07-29T14:25:46.454Z"
   },
   {
    "duration": 52,
    "start_time": "2024-07-29T14:25:46.463Z"
   },
   {
    "duration": 121,
    "start_time": "2024-07-29T14:25:46.518Z"
   },
   {
    "duration": 13,
    "start_time": "2024-07-29T14:25:46.642Z"
   },
   {
    "duration": 11,
    "start_time": "2024-07-29T14:25:46.659Z"
   },
   {
    "duration": 127,
    "start_time": "2024-07-29T14:25:46.701Z"
   },
   {
    "duration": 12,
    "start_time": "2024-07-29T14:25:46.831Z"
   },
   {
    "duration": 16,
    "start_time": "2024-07-29T14:25:46.846Z"
   },
   {
    "duration": 51,
    "start_time": "2024-07-29T14:25:46.865Z"
   },
   {
    "duration": 14,
    "start_time": "2024-07-29T14:25:46.920Z"
   },
   {
    "duration": 7,
    "start_time": "2024-07-29T14:25:46.938Z"
   },
   {
    "duration": 57,
    "start_time": "2024-07-29T14:25:46.948Z"
   },
   {
    "duration": 114,
    "start_time": "2024-07-29T14:25:47.011Z"
   },
   {
    "duration": 108,
    "start_time": "2024-07-29T14:25:47.128Z"
   },
   {
    "duration": 108,
    "start_time": "2024-07-29T14:25:47.239Z"
   },
   {
    "duration": 21,
    "start_time": "2024-07-29T14:25:47.351Z"
   },
   {
    "duration": 24,
    "start_time": "2024-07-29T14:25:47.377Z"
   },
   {
    "duration": 23,
    "start_time": "2024-07-29T14:25:47.404Z"
   },
   {
    "duration": 80,
    "start_time": "2024-07-29T14:25:47.430Z"
   },
   {
    "duration": 44,
    "start_time": "2024-07-29T14:25:47.513Z"
   },
   {
    "duration": 64,
    "start_time": "2024-07-29T14:25:47.559Z"
   },
   {
    "duration": 14,
    "start_time": "2024-07-29T14:25:47.626Z"
   },
   {
    "duration": 15,
    "start_time": "2024-07-29T14:25:47.643Z"
   },
   {
    "duration": 85,
    "start_time": "2024-07-29T14:36:40.196Z"
   },
   {
    "duration": 26,
    "start_time": "2024-07-29T14:50:57.233Z"
   },
   {
    "duration": 28,
    "start_time": "2024-07-29T14:51:23.644Z"
   },
   {
    "duration": 48,
    "start_time": "2024-07-29T14:51:27.313Z"
   },
   {
    "duration": 100,
    "start_time": "2024-07-29T14:52:11.808Z"
   },
   {
    "duration": 7,
    "start_time": "2024-07-29T14:52:33.637Z"
   },
   {
    "duration": 34,
    "start_time": "2024-07-29T14:52:59.226Z"
   },
   {
    "duration": 48,
    "start_time": "2024-07-29T14:53:08.601Z"
   },
   {
    "duration": 60,
    "start_time": "2024-07-29T14:53:30.272Z"
   },
   {
    "duration": 40,
    "start_time": "2024-07-29T14:53:34.878Z"
   },
   {
    "duration": 62,
    "start_time": "2024-07-29T14:53:37.854Z"
   },
   {
    "duration": 55,
    "start_time": "2024-07-29T14:59:15.313Z"
   },
   {
    "duration": 64,
    "start_time": "2024-07-29T14:59:19.964Z"
   },
   {
    "duration": 27,
    "start_time": "2024-07-29T15:00:07.001Z"
   },
   {
    "duration": 61,
    "start_time": "2024-07-29T15:36:44.285Z"
   },
   {
    "duration": 21,
    "start_time": "2024-07-29T15:36:48.460Z"
   },
   {
    "duration": 79,
    "start_time": "2024-07-29T15:38:13.540Z"
   },
   {
    "duration": 97,
    "start_time": "2024-07-29T15:38:26.732Z"
   },
   {
    "duration": 97,
    "start_time": "2024-07-29T15:38:44.405Z"
   },
   {
    "duration": 120,
    "start_time": "2024-07-29T15:39:44.163Z"
   },
   {
    "duration": 122,
    "start_time": "2024-07-29T15:40:01.864Z"
   },
   {
    "duration": 37,
    "start_time": "2024-07-29T15:45:46.605Z"
   },
   {
    "duration": 64,
    "start_time": "2024-07-29T15:45:53.316Z"
   },
   {
    "duration": 509,
    "start_time": "2024-07-29T15:46:31.196Z"
   },
   {
    "duration": 31,
    "start_time": "2024-07-29T15:46:41.077Z"
   },
   {
    "duration": 53,
    "start_time": "2024-07-29T15:47:28.856Z"
   },
   {
    "duration": 41,
    "start_time": "2024-07-29T15:47:45.376Z"
   },
   {
    "duration": 15,
    "start_time": "2024-07-29T15:48:24.744Z"
   },
   {
    "duration": 33,
    "start_time": "2024-07-29T15:48:30.476Z"
   },
   {
    "duration": 39,
    "start_time": "2024-07-29T15:48:46.851Z"
   },
   {
    "duration": 37,
    "start_time": "2024-07-29T15:48:51.974Z"
   },
   {
    "duration": 33,
    "start_time": "2024-07-29T15:50:39.449Z"
   },
   {
    "duration": 33,
    "start_time": "2024-07-29T15:51:01.999Z"
   },
   {
    "duration": 47,
    "start_time": "2024-07-29T15:51:58.001Z"
   },
   {
    "duration": 47,
    "start_time": "2024-07-29T15:52:13.912Z"
   },
   {
    "duration": 20,
    "start_time": "2024-07-29T15:52:48.022Z"
   },
   {
    "duration": 44,
    "start_time": "2024-07-29T15:53:48.835Z"
   },
   {
    "duration": 44,
    "start_time": "2024-07-29T15:53:59.707Z"
   },
   {
    "duration": 49,
    "start_time": "2024-07-29T15:56:00.135Z"
   },
   {
    "duration": 31,
    "start_time": "2024-07-29T15:57:22.111Z"
   },
   {
    "duration": 45,
    "start_time": "2024-07-29T15:57:31.992Z"
   },
   {
    "duration": 50,
    "start_time": "2024-07-29T15:58:43.648Z"
   },
   {
    "duration": 44,
    "start_time": "2024-07-29T16:02:05.423Z"
   },
   {
    "duration": 33,
    "start_time": "2024-07-29T16:17:15.845Z"
   },
   {
    "duration": 7,
    "start_time": "2024-07-29T16:18:16.372Z"
   },
   {
    "duration": 7,
    "start_time": "2024-07-29T16:18:47.612Z"
   },
   {
    "duration": 7,
    "start_time": "2024-07-29T16:19:01.676Z"
   },
   {
    "duration": 5,
    "start_time": "2024-07-29T16:19:39.999Z"
   },
   {
    "duration": 7,
    "start_time": "2024-07-29T16:19:46.307Z"
   },
   {
    "duration": 9,
    "start_time": "2024-07-29T16:19:54.064Z"
   },
   {
    "duration": 5,
    "start_time": "2024-07-29T16:20:01.829Z"
   },
   {
    "duration": 38,
    "start_time": "2024-07-29T16:26:13.132Z"
   },
   {
    "duration": 5,
    "start_time": "2024-07-29T16:26:59.681Z"
   },
   {
    "duration": 39,
    "start_time": "2024-07-29T16:27:05.846Z"
   },
   {
    "duration": 14,
    "start_time": "2024-07-29T16:27:27.681Z"
   },
   {
    "duration": 61,
    "start_time": "2024-07-29T17:15:09.564Z"
   },
   {
    "duration": 37,
    "start_time": "2024-07-29T17:15:20.751Z"
   },
   {
    "duration": 84,
    "start_time": "2024-07-29T18:13:39.137Z"
   },
   {
    "duration": 5,
    "start_time": "2024-07-29T18:15:24.161Z"
   },
   {
    "duration": 7,
    "start_time": "2024-07-29T18:16:31.775Z"
   },
   {
    "duration": 7,
    "start_time": "2024-07-29T18:17:40.372Z"
   },
   {
    "duration": 73,
    "start_time": "2024-07-29T18:23:54.913Z"
   },
   {
    "duration": 7,
    "start_time": "2024-07-29T18:26:34.947Z"
   },
   {
    "duration": 7,
    "start_time": "2024-07-29T18:26:49.924Z"
   },
   {
    "duration": 11,
    "start_time": "2024-07-29T18:29:27.681Z"
   },
   {
    "duration": 15,
    "start_time": "2024-07-29T21:16:27.180Z"
   },
   {
    "duration": 10,
    "start_time": "2024-07-29T21:17:12.047Z"
   },
   {
    "duration": 12,
    "start_time": "2024-07-29T21:17:26.254Z"
   },
   {
    "duration": 11,
    "start_time": "2024-07-29T21:17:45.291Z"
   },
   {
    "duration": 15,
    "start_time": "2024-07-29T21:18:54.948Z"
   },
   {
    "duration": 12,
    "start_time": "2024-07-29T21:19:36.136Z"
   },
   {
    "duration": 12,
    "start_time": "2024-07-29T21:19:47.542Z"
   },
   {
    "duration": 12,
    "start_time": "2024-07-29T21:20:00.814Z"
   },
   {
    "duration": 12,
    "start_time": "2024-07-29T21:20:04.454Z"
   },
   {
    "duration": 13,
    "start_time": "2024-07-29T21:20:22.621Z"
   },
   {
    "duration": 12,
    "start_time": "2024-07-29T21:20:30.935Z"
   },
   {
    "duration": 13,
    "start_time": "2024-07-29T21:20:46.178Z"
   },
   {
    "duration": 12,
    "start_time": "2024-07-29T21:20:54.586Z"
   },
   {
    "duration": 12,
    "start_time": "2024-07-29T21:20:58.154Z"
   },
   {
    "duration": 49,
    "start_time": "2024-07-29T21:21:02.384Z"
   },
   {
    "duration": 16,
    "start_time": "2024-07-29T21:21:28.378Z"
   },
   {
    "duration": 13,
    "start_time": "2024-07-29T21:23:03.432Z"
   },
   {
    "duration": 28,
    "start_time": "2024-07-29T21:23:10.591Z"
   },
   {
    "duration": 16,
    "start_time": "2024-07-29T21:23:14.900Z"
   },
   {
    "duration": 16,
    "start_time": "2024-07-29T21:23:35.272Z"
   },
   {
    "duration": 14,
    "start_time": "2024-07-29T21:24:47.584Z"
   },
   {
    "duration": 13,
    "start_time": "2024-07-29T21:24:56.008Z"
   },
   {
    "duration": 19,
    "start_time": "2024-07-29T21:25:04.369Z"
   },
   {
    "duration": 51,
    "start_time": "2024-07-29T21:29:37.065Z"
   },
   {
    "duration": 16,
    "start_time": "2024-07-29T21:29:54.597Z"
   },
   {
    "duration": 17,
    "start_time": "2024-07-29T21:30:12.901Z"
   },
   {
    "duration": 17,
    "start_time": "2024-07-29T21:30:20.150Z"
   },
   {
    "duration": 17,
    "start_time": "2024-07-29T21:30:31.039Z"
   },
   {
    "duration": 16,
    "start_time": "2024-07-29T21:30:52.807Z"
   },
   {
    "duration": 17,
    "start_time": "2024-07-29T21:31:46.115Z"
   },
   {
    "duration": 20,
    "start_time": "2024-07-29T21:31:55.714Z"
   },
   {
    "duration": 15,
    "start_time": "2024-07-29T21:32:03.182Z"
   },
   {
    "duration": 17,
    "start_time": "2024-07-29T21:32:13.506Z"
   },
   {
    "duration": 17,
    "start_time": "2024-07-29T21:32:17.126Z"
   },
   {
    "duration": 15,
    "start_time": "2024-07-29T21:32:47.342Z"
   },
   {
    "duration": 15,
    "start_time": "2024-07-29T21:32:51.302Z"
   },
   {
    "duration": 16,
    "start_time": "2024-07-29T21:32:59.054Z"
   },
   {
    "duration": 18,
    "start_time": "2024-07-29T21:33:09.465Z"
   },
   {
    "duration": 17,
    "start_time": "2024-07-29T21:34:13.082Z"
   },
   {
    "duration": 15,
    "start_time": "2024-07-29T21:34:19.451Z"
   },
   {
    "duration": 16,
    "start_time": "2024-07-29T21:34:24.788Z"
   },
   {
    "duration": 17,
    "start_time": "2024-07-29T21:35:20.647Z"
   },
   {
    "duration": 18,
    "start_time": "2024-07-29T21:35:34.240Z"
   },
   {
    "duration": 52,
    "start_time": "2024-07-29T21:35:59.344Z"
   },
   {
    "duration": 17,
    "start_time": "2024-07-29T21:36:09.451Z"
   },
   {
    "duration": 16,
    "start_time": "2024-07-29T21:36:16.948Z"
   },
   {
    "duration": 52,
    "start_time": "2024-07-29T21:36:34.211Z"
   },
   {
    "duration": 16,
    "start_time": "2024-07-29T21:36:43.828Z"
   },
   {
    "duration": 19,
    "start_time": "2024-07-29T21:36:53.500Z"
   },
   {
    "duration": 19,
    "start_time": "2024-07-29T21:36:57.911Z"
   },
   {
    "duration": 17,
    "start_time": "2024-07-29T21:37:02.732Z"
   },
   {
    "duration": 16,
    "start_time": "2024-07-29T21:38:05.574Z"
   },
   {
    "duration": 18,
    "start_time": "2024-07-29T21:38:16.479Z"
   },
   {
    "duration": 16,
    "start_time": "2024-07-29T21:38:21.575Z"
   },
   {
    "duration": 50,
    "start_time": "2024-07-29T21:38:32.539Z"
   },
   {
    "duration": 17,
    "start_time": "2024-07-29T21:38:38.427Z"
   },
   {
    "duration": 14,
    "start_time": "2024-07-29T21:39:31.720Z"
   },
   {
    "duration": 13,
    "start_time": "2024-07-29T21:39:41.362Z"
   },
   {
    "duration": 13,
    "start_time": "2024-07-29T21:39:58.649Z"
   },
   {
    "duration": 16,
    "start_time": "2024-07-29T21:41:17.514Z"
   },
   {
    "duration": 21,
    "start_time": "2024-07-29T21:41:32.335Z"
   },
   {
    "duration": 18,
    "start_time": "2024-07-29T21:41:51.071Z"
   },
   {
    "duration": 19,
    "start_time": "2024-07-29T21:42:11.782Z"
   },
   {
    "duration": 16,
    "start_time": "2024-07-29T21:42:30.098Z"
   },
   {
    "duration": 21,
    "start_time": "2024-07-29T21:43:08.713Z"
   },
   {
    "duration": 22,
    "start_time": "2024-07-29T21:44:17.997Z"
   },
   {
    "duration": 25,
    "start_time": "2024-07-29T21:44:29.699Z"
   },
   {
    "duration": 21,
    "start_time": "2024-07-29T21:44:46.891Z"
   },
   {
    "duration": 20,
    "start_time": "2024-07-29T21:45:28.945Z"
   },
   {
    "duration": 20,
    "start_time": "2024-07-29T21:47:33.363Z"
   },
   {
    "duration": 22,
    "start_time": "2024-07-29T21:48:54.223Z"
   },
   {
    "duration": 17,
    "start_time": "2024-07-29T21:49:04.571Z"
   },
   {
    "duration": 20,
    "start_time": "2024-07-29T21:51:34.942Z"
   },
   {
    "duration": 53,
    "start_time": "2024-07-29T21:54:16.115Z"
   },
   {
    "duration": 54,
    "start_time": "2024-07-29T21:54:26.014Z"
   },
   {
    "duration": 54,
    "start_time": "2024-07-29T21:54:39.968Z"
   },
   {
    "duration": 20,
    "start_time": "2024-07-29T21:54:55.576Z"
   },
   {
    "duration": 17,
    "start_time": "2024-07-29T21:57:15.898Z"
   },
   {
    "duration": 19,
    "start_time": "2024-07-29T21:57:20.838Z"
   },
   {
    "duration": 19,
    "start_time": "2024-07-29T21:58:04.191Z"
   },
   {
    "duration": 20,
    "start_time": "2024-07-29T21:58:15.147Z"
   },
   {
    "duration": 16,
    "start_time": "2024-07-29T21:58:24.112Z"
   },
   {
    "duration": 17,
    "start_time": "2024-07-29T21:58:36.019Z"
   },
   {
    "duration": 18,
    "start_time": "2024-07-29T21:59:19.042Z"
   },
   {
    "duration": 18,
    "start_time": "2024-07-29T21:59:27.355Z"
   },
   {
    "duration": 17,
    "start_time": "2024-07-29T22:00:04.048Z"
   },
   {
    "duration": 104,
    "start_time": "2024-07-29T22:02:25.877Z"
   },
   {
    "duration": 85,
    "start_time": "2024-07-29T22:02:47.274Z"
   },
   {
    "duration": 98,
    "start_time": "2024-07-29T22:03:26.439Z"
   },
   {
    "duration": 186,
    "start_time": "2024-07-29T22:07:28.963Z"
   },
   {
    "duration": 100,
    "start_time": "2024-07-29T22:10:00.275Z"
   },
   {
    "duration": 20,
    "start_time": "2024-07-29T22:12:42.846Z"
   },
   {
    "duration": 21,
    "start_time": "2024-07-29T22:16:13.393Z"
   },
   {
    "duration": 13,
    "start_time": "2024-07-29T22:17:22.249Z"
   },
   {
    "duration": 15,
    "start_time": "2024-07-29T22:18:33.001Z"
   },
   {
    "duration": 18,
    "start_time": "2024-07-29T22:19:50.205Z"
   },
   {
    "duration": 17,
    "start_time": "2024-07-29T22:20:10.623Z"
   },
   {
    "duration": 20,
    "start_time": "2024-07-29T22:20:19.079Z"
   },
   {
    "duration": 11,
    "start_time": "2024-07-29T22:23:19.604Z"
   },
   {
    "duration": 11,
    "start_time": "2024-07-29T22:23:53.801Z"
   },
   {
    "duration": 21,
    "start_time": "2024-07-29T22:25:10.046Z"
   },
   {
    "duration": 19,
    "start_time": "2024-07-29T22:25:19.966Z"
   },
   {
    "duration": 18,
    "start_time": "2024-07-29T22:25:31.786Z"
   },
   {
    "duration": 12,
    "start_time": "2024-07-29T22:27:08.769Z"
   },
   {
    "duration": 51,
    "start_time": "2024-07-29T22:30:53.866Z"
   },
   {
    "duration": 66,
    "start_time": "2024-07-29T22:31:13.938Z"
   },
   {
    "duration": 53,
    "start_time": "2024-07-29T22:32:20.703Z"
   },
   {
    "duration": 27,
    "start_time": "2024-07-29T22:32:56.698Z"
   },
   {
    "duration": 47,
    "start_time": "2024-07-29T22:33:16.950Z"
   },
   {
    "duration": 61,
    "start_time": "2024-07-29T22:33:57.916Z"
   },
   {
    "duration": 6,
    "start_time": "2024-07-29T22:34:31.494Z"
   },
   {
    "duration": 29,
    "start_time": "2024-07-29T22:34:34.471Z"
   },
   {
    "duration": 44,
    "start_time": "2024-07-29T22:34:37.545Z"
   },
   {
    "duration": 45,
    "start_time": "2024-07-29T22:35:16.553Z"
   },
   {
    "duration": 64,
    "start_time": "2024-07-29T22:36:00.035Z"
   },
   {
    "duration": 83,
    "start_time": "2024-07-29T22:37:25.022Z"
   },
   {
    "duration": 45,
    "start_time": "2024-07-29T22:37:51.647Z"
   },
   {
    "duration": 149,
    "start_time": "2024-07-29T22:42:19.587Z"
   },
   {
    "duration": 146,
    "start_time": "2024-07-29T22:46:41.059Z"
   },
   {
    "duration": 20,
    "start_time": "2024-07-29T22:47:56.078Z"
   },
   {
    "duration": 47,
    "start_time": "2024-07-29T22:49:07.691Z"
   },
   {
    "duration": 47,
    "start_time": "2024-07-29T22:49:22.654Z"
   },
   {
    "duration": 50,
    "start_time": "2024-07-29T22:49:47.658Z"
   },
   {
    "duration": 12,
    "start_time": "2024-07-29T22:50:32.618Z"
   },
   {
    "duration": 1509,
    "start_time": "2024-07-29T22:52:20.922Z"
   },
   {
    "duration": 185,
    "start_time": "2024-07-29T22:52:22.435Z"
   },
   {
    "duration": 16,
    "start_time": "2024-07-29T22:52:22.623Z"
   },
   {
    "duration": 33,
    "start_time": "2024-07-29T22:52:22.643Z"
   },
   {
    "duration": 7,
    "start_time": "2024-07-29T22:52:22.701Z"
   },
   {
    "duration": 13,
    "start_time": "2024-07-29T22:52:22.712Z"
   },
   {
    "duration": 25,
    "start_time": "2024-07-29T22:52:22.729Z"
   },
   {
    "duration": 132,
    "start_time": "2024-07-29T22:52:22.757Z"
   },
   {
    "duration": 90,
    "start_time": "2024-07-29T22:52:22.892Z"
   },
   {
    "duration": 29,
    "start_time": "2024-07-29T22:52:23.002Z"
   },
   {
    "duration": 8,
    "start_time": "2024-07-29T22:52:23.034Z"
   },
   {
    "duration": 596,
    "start_time": "2024-07-29T22:52:23.045Z"
   },
   {
    "duration": 16,
    "start_time": "2024-07-29T22:52:23.644Z"
   },
   {
    "duration": 166,
    "start_time": "2024-07-29T22:52:23.669Z"
   },
   {
    "duration": 29,
    "start_time": "2024-07-29T22:52:23.838Z"
   },
   {
    "duration": 78,
    "start_time": "2024-07-29T22:52:23.871Z"
   },
   {
    "duration": 5,
    "start_time": "2024-07-29T22:52:23.952Z"
   },
   {
    "duration": 4,
    "start_time": "2024-07-29T22:52:23.961Z"
   },
   {
    "duration": 156,
    "start_time": "2024-07-29T22:52:23.969Z"
   },
   {
    "duration": 57,
    "start_time": "2024-07-29T22:52:24.128Z"
   },
   {
    "duration": 106,
    "start_time": "2024-07-29T22:52:24.202Z"
   },
   {
    "duration": 4,
    "start_time": "2024-07-29T22:52:24.311Z"
   },
   {
    "duration": 5,
    "start_time": "2024-07-29T22:52:24.318Z"
   },
   {
    "duration": 85,
    "start_time": "2024-07-29T22:52:24.328Z"
   },
   {
    "duration": 61,
    "start_time": "2024-07-29T22:52:24.417Z"
   },
   {
    "duration": 645,
    "start_time": "2024-07-29T22:52:24.482Z"
   },
   {
    "duration": 9,
    "start_time": "2024-07-29T22:52:25.130Z"
   },
   {
    "duration": 9,
    "start_time": "2024-07-29T22:52:25.143Z"
   },
   {
    "duration": 9862,
    "start_time": "2024-07-29T22:52:25.201Z"
   },
   {
    "duration": 31,
    "start_time": "2024-07-29T22:52:35.071Z"
   },
   {
    "duration": 108,
    "start_time": "2024-07-29T22:52:35.105Z"
   },
   {
    "duration": 13,
    "start_time": "2024-07-29T22:52:35.216Z"
   },
   {
    "duration": 71,
    "start_time": "2024-07-29T22:52:35.232Z"
   },
   {
    "duration": 10,
    "start_time": "2024-07-29T22:52:35.308Z"
   },
   {
    "duration": 11,
    "start_time": "2024-07-29T22:52:35.322Z"
   },
   {
    "duration": 6,
    "start_time": "2024-07-29T22:52:35.336Z"
   },
   {
    "duration": 97,
    "start_time": "2024-07-29T22:52:35.346Z"
   },
   {
    "duration": 56,
    "start_time": "2024-07-29T22:52:35.447Z"
   },
   {
    "duration": 201,
    "start_time": "2024-07-29T22:52:35.507Z"
   },
   {
    "duration": 30,
    "start_time": "2024-07-29T22:52:35.712Z"
   },
   {
    "duration": 8,
    "start_time": "2024-07-29T22:52:35.752Z"
   },
   {
    "duration": 76,
    "start_time": "2024-07-29T22:52:35.763Z"
   },
   {
    "duration": 72,
    "start_time": "2024-07-29T22:52:35.842Z"
   },
   {
    "duration": 14,
    "start_time": "2024-07-29T22:52:35.917Z"
   },
   {
    "duration": 14,
    "start_time": "2024-07-29T22:52:35.934Z"
   },
   {
    "duration": 53,
    "start_time": "2024-07-29T22:52:35.952Z"
   },
   {
    "duration": 116,
    "start_time": "2024-07-29T22:52:36.009Z"
   },
   {
    "duration": 14,
    "start_time": "2024-07-29T22:52:36.128Z"
   },
   {
    "duration": 13,
    "start_time": "2024-07-29T22:52:36.147Z"
   },
   {
    "duration": 166,
    "start_time": "2024-07-29T22:52:36.164Z"
   },
   {
    "duration": 13,
    "start_time": "2024-07-29T22:52:36.336Z"
   },
   {
    "duration": 49,
    "start_time": "2024-07-29T22:52:36.353Z"
   },
   {
    "duration": 25,
    "start_time": "2024-07-29T22:52:36.407Z"
   },
   {
    "duration": 20,
    "start_time": "2024-07-29T22:52:36.440Z"
   },
   {
    "duration": 7,
    "start_time": "2024-07-29T22:52:36.463Z"
   },
   {
    "duration": 44,
    "start_time": "2024-07-29T22:52:36.474Z"
   },
   {
    "duration": 137,
    "start_time": "2024-07-29T22:52:36.522Z"
   },
   {
    "duration": 102,
    "start_time": "2024-07-29T22:52:36.665Z"
   },
   {
    "duration": 120,
    "start_time": "2024-07-29T22:52:36.771Z"
   },
   {
    "duration": 197,
    "start_time": "2024-07-29T22:52:36.901Z"
   },
   {
    "duration": 96,
    "start_time": "2024-07-29T22:52:37.106Z"
   },
   {
    "duration": 99,
    "start_time": "2024-07-29T22:52:37.206Z"
   },
   {
    "duration": 567,
    "start_time": "2024-07-29T22:52:37.309Z"
   },
   {
    "duration": 0,
    "start_time": "2024-07-29T22:52:37.879Z"
   },
   {
    "duration": 0,
    "start_time": "2024-07-29T22:52:37.880Z"
   },
   {
    "duration": 0,
    "start_time": "2024-07-29T22:52:37.883Z"
   },
   {
    "duration": 0,
    "start_time": "2024-07-29T22:52:37.885Z"
   },
   {
    "duration": 0,
    "start_time": "2024-07-29T22:52:37.886Z"
   },
   {
    "duration": 0,
    "start_time": "2024-07-29T22:52:37.888Z"
   },
   {
    "duration": 0,
    "start_time": "2024-07-29T22:52:37.901Z"
   },
   {
    "duration": 0,
    "start_time": "2024-07-29T22:52:37.903Z"
   },
   {
    "duration": 0,
    "start_time": "2024-07-29T22:52:37.907Z"
   },
   {
    "duration": 0,
    "start_time": "2024-07-29T22:52:37.909Z"
   },
   {
    "duration": 0,
    "start_time": "2024-07-29T22:52:37.913Z"
   },
   {
    "duration": 0,
    "start_time": "2024-07-29T22:52:37.914Z"
   },
   {
    "duration": 0,
    "start_time": "2024-07-29T22:52:37.917Z"
   },
   {
    "duration": 0,
    "start_time": "2024-07-29T22:52:37.919Z"
   },
   {
    "duration": 0,
    "start_time": "2024-07-29T22:52:37.921Z"
   },
   {
    "duration": 0,
    "start_time": "2024-07-29T22:52:37.922Z"
   },
   {
    "duration": 0,
    "start_time": "2024-07-29T22:52:37.924Z"
   },
   {
    "duration": 0,
    "start_time": "2024-07-29T22:52:37.926Z"
   },
   {
    "duration": 36,
    "start_time": "2024-07-29T22:54:45.730Z"
   },
   {
    "duration": 45,
    "start_time": "2024-07-29T22:55:25.242Z"
   },
   {
    "duration": 14,
    "start_time": "2024-07-29T22:55:59.812Z"
   },
   {
    "duration": 1510,
    "start_time": "2024-07-29T22:56:07.928Z"
   },
   {
    "duration": 195,
    "start_time": "2024-07-29T22:56:09.442Z"
   },
   {
    "duration": 16,
    "start_time": "2024-07-29T22:56:09.639Z"
   },
   {
    "duration": 52,
    "start_time": "2024-07-29T22:56:09.659Z"
   },
   {
    "duration": 7,
    "start_time": "2024-07-29T22:56:09.714Z"
   },
   {
    "duration": 12,
    "start_time": "2024-07-29T22:56:09.726Z"
   },
   {
    "duration": 20,
    "start_time": "2024-07-29T22:56:09.742Z"
   },
   {
    "duration": 102,
    "start_time": "2024-07-29T22:56:09.801Z"
   },
   {
    "duration": 101,
    "start_time": "2024-07-29T22:56:09.906Z"
   },
   {
    "duration": 31,
    "start_time": "2024-07-29T22:56:10.014Z"
   },
   {
    "duration": 9,
    "start_time": "2024-07-29T22:56:10.048Z"
   },
   {
    "duration": 592,
    "start_time": "2024-07-29T22:56:10.060Z"
   },
   {
    "duration": 12,
    "start_time": "2024-07-29T22:56:10.656Z"
   },
   {
    "duration": 164,
    "start_time": "2024-07-29T22:56:10.673Z"
   },
   {
    "duration": 25,
    "start_time": "2024-07-29T22:56:10.840Z"
   },
   {
    "duration": 81,
    "start_time": "2024-07-29T22:56:10.868Z"
   },
   {
    "duration": 4,
    "start_time": "2024-07-29T22:56:10.952Z"
   },
   {
    "duration": 4,
    "start_time": "2024-07-29T22:56:10.960Z"
   },
   {
    "duration": 165,
    "start_time": "2024-07-29T22:56:10.968Z"
   },
   {
    "duration": 72,
    "start_time": "2024-07-29T22:56:11.138Z"
   },
   {
    "duration": 128,
    "start_time": "2024-07-29T22:56:11.214Z"
   },
   {
    "duration": 5,
    "start_time": "2024-07-29T22:56:11.345Z"
   },
   {
    "duration": 5,
    "start_time": "2024-07-29T22:56:11.353Z"
   },
   {
    "duration": 81,
    "start_time": "2024-07-29T22:56:11.362Z"
   },
   {
    "duration": 77,
    "start_time": "2024-07-29T22:56:11.446Z"
   },
   {
    "duration": 676,
    "start_time": "2024-07-29T22:56:11.530Z"
   },
   {
    "duration": 8,
    "start_time": "2024-07-29T22:56:12.210Z"
   },
   {
    "duration": 12,
    "start_time": "2024-07-29T22:56:12.231Z"
   },
   {
    "duration": 10809,
    "start_time": "2024-07-29T22:56:12.246Z"
   },
   {
    "duration": 8,
    "start_time": "2024-07-29T22:56:23.059Z"
   },
   {
    "duration": 142,
    "start_time": "2024-07-29T22:56:23.070Z"
   },
   {
    "duration": 16,
    "start_time": "2024-07-29T22:56:23.215Z"
   },
   {
    "duration": 72,
    "start_time": "2024-07-29T22:56:23.235Z"
   },
   {
    "duration": 11,
    "start_time": "2024-07-29T22:56:23.311Z"
   },
   {
    "duration": 11,
    "start_time": "2024-07-29T22:56:23.325Z"
   },
   {
    "duration": 5,
    "start_time": "2024-07-29T22:56:23.339Z"
   },
   {
    "duration": 114,
    "start_time": "2024-07-29T22:56:23.403Z"
   },
   {
    "duration": 5,
    "start_time": "2024-07-29T22:56:23.522Z"
   },
   {
    "duration": 186,
    "start_time": "2024-07-29T22:56:23.531Z"
   },
   {
    "duration": 29,
    "start_time": "2024-07-29T22:56:23.721Z"
   },
   {
    "duration": 7,
    "start_time": "2024-07-29T22:56:23.754Z"
   },
   {
    "duration": 75,
    "start_time": "2024-07-29T22:56:23.765Z"
   },
   {
    "duration": 67,
    "start_time": "2024-07-29T22:56:23.843Z"
   },
   {
    "duration": 14,
    "start_time": "2024-07-29T22:56:23.916Z"
   },
   {
    "duration": 3,
    "start_time": "2024-07-29T22:56:23.933Z"
   },
   {
    "duration": 26,
    "start_time": "2024-07-29T22:56:23.939Z"
   },
   {
    "duration": 146,
    "start_time": "2024-07-29T22:56:23.969Z"
   },
   {
    "duration": 14,
    "start_time": "2024-07-29T22:56:24.119Z"
   },
   {
    "duration": 13,
    "start_time": "2024-07-29T22:56:24.139Z"
   },
   {
    "duration": 181,
    "start_time": "2024-07-29T22:56:24.155Z"
   },
   {
    "duration": 15,
    "start_time": "2024-07-29T22:56:24.342Z"
   },
   {
    "duration": 40,
    "start_time": "2024-07-29T22:56:24.362Z"
   },
   {
    "duration": 22,
    "start_time": "2024-07-29T22:56:24.406Z"
   },
   {
    "duration": 16,
    "start_time": "2024-07-29T22:56:24.432Z"
   },
   {
    "duration": 7,
    "start_time": "2024-07-29T22:56:24.452Z"
   },
   {
    "duration": 51,
    "start_time": "2024-07-29T22:56:24.462Z"
   },
   {
    "duration": 112,
    "start_time": "2024-07-29T22:56:24.516Z"
   },
   {
    "duration": 110,
    "start_time": "2024-07-29T22:56:24.634Z"
   },
   {
    "duration": 122,
    "start_time": "2024-07-29T22:56:24.747Z"
   },
   {
    "duration": 189,
    "start_time": "2024-07-29T22:56:24.875Z"
   },
   {
    "duration": 89,
    "start_time": "2024-07-29T22:56:25.070Z"
   },
   {
    "duration": 88,
    "start_time": "2024-07-29T22:56:25.162Z"
   },
   {
    "duration": 12,
    "start_time": "2024-07-29T22:56:25.254Z"
   },
   {
    "duration": 586,
    "start_time": "2024-07-29T22:56:25.270Z"
   },
   {
    "duration": 0,
    "start_time": "2024-07-29T22:56:25.860Z"
   },
   {
    "duration": 0,
    "start_time": "2024-07-29T22:56:25.862Z"
   },
   {
    "duration": 0,
    "start_time": "2024-07-29T22:56:25.865Z"
   },
   {
    "duration": 0,
    "start_time": "2024-07-29T22:56:25.868Z"
   },
   {
    "duration": 1,
    "start_time": "2024-07-29T22:56:25.870Z"
   },
   {
    "duration": 0,
    "start_time": "2024-07-29T22:56:25.873Z"
   },
   {
    "duration": 0,
    "start_time": "2024-07-29T22:56:25.876Z"
   },
   {
    "duration": 0,
    "start_time": "2024-07-29T22:56:25.904Z"
   },
   {
    "duration": 0,
    "start_time": "2024-07-29T22:56:25.906Z"
   },
   {
    "duration": 0,
    "start_time": "2024-07-29T22:56:25.908Z"
   },
   {
    "duration": 0,
    "start_time": "2024-07-29T22:56:25.911Z"
   },
   {
    "duration": 0,
    "start_time": "2024-07-29T22:56:25.914Z"
   },
   {
    "duration": 0,
    "start_time": "2024-07-29T22:56:25.917Z"
   },
   {
    "duration": 0,
    "start_time": "2024-07-29T22:56:25.919Z"
   },
   {
    "duration": 0,
    "start_time": "2024-07-29T22:56:25.922Z"
   },
   {
    "duration": 0,
    "start_time": "2024-07-29T22:56:25.924Z"
   },
   {
    "duration": 0,
    "start_time": "2024-07-29T22:56:25.926Z"
   },
   {
    "duration": 18,
    "start_time": "2024-07-29T22:56:57.788Z"
   },
   {
    "duration": 16,
    "start_time": "2024-07-29T22:57:10.393Z"
   },
   {
    "duration": 1577,
    "start_time": "2024-07-29T22:58:14.757Z"
   },
   {
    "duration": 217,
    "start_time": "2024-07-29T22:58:16.337Z"
   },
   {
    "duration": 18,
    "start_time": "2024-07-29T22:58:16.558Z"
   },
   {
    "duration": 47,
    "start_time": "2024-07-29T22:58:16.581Z"
   },
   {
    "duration": 10,
    "start_time": "2024-07-29T22:58:16.632Z"
   },
   {
    "duration": 11,
    "start_time": "2024-07-29T22:58:16.645Z"
   },
   {
    "duration": 50,
    "start_time": "2024-07-29T22:58:16.659Z"
   },
   {
    "duration": 98,
    "start_time": "2024-07-29T22:58:16.713Z"
   },
   {
    "duration": 109,
    "start_time": "2024-07-29T22:58:16.814Z"
   },
   {
    "duration": 29,
    "start_time": "2024-07-29T22:58:16.929Z"
   },
   {
    "duration": 9,
    "start_time": "2024-07-29T22:58:16.961Z"
   },
   {
    "duration": 602,
    "start_time": "2024-07-29T22:58:16.974Z"
   },
   {
    "duration": 26,
    "start_time": "2024-07-29T22:58:17.580Z"
   },
   {
    "duration": 168,
    "start_time": "2024-07-29T22:58:17.610Z"
   },
   {
    "duration": 37,
    "start_time": "2024-07-29T22:58:17.781Z"
   },
   {
    "duration": 59,
    "start_time": "2024-07-29T22:58:17.823Z"
   },
   {
    "duration": 4,
    "start_time": "2024-07-29T22:58:17.903Z"
   },
   {
    "duration": 5,
    "start_time": "2024-07-29T22:58:17.910Z"
   },
   {
    "duration": 148,
    "start_time": "2024-07-29T22:58:17.918Z"
   },
   {
    "duration": 60,
    "start_time": "2024-07-29T22:58:18.069Z"
   },
   {
    "duration": 131,
    "start_time": "2024-07-29T22:58:18.133Z"
   },
   {
    "duration": 4,
    "start_time": "2024-07-29T22:58:18.268Z"
   },
   {
    "duration": 3,
    "start_time": "2024-07-29T22:58:18.276Z"
   },
   {
    "duration": 65,
    "start_time": "2024-07-29T22:58:18.302Z"
   },
   {
    "duration": 83,
    "start_time": "2024-07-29T22:58:18.370Z"
   },
   {
    "duration": 665,
    "start_time": "2024-07-29T22:58:18.456Z"
   },
   {
    "duration": 9,
    "start_time": "2024-07-29T22:58:19.124Z"
   },
   {
    "duration": 8,
    "start_time": "2024-07-29T22:58:19.144Z"
   },
   {
    "duration": 10046,
    "start_time": "2024-07-29T22:58:19.202Z"
   },
   {
    "duration": 13,
    "start_time": "2024-07-29T22:58:29.253Z"
   },
   {
    "duration": 128,
    "start_time": "2024-07-29T22:58:29.302Z"
   },
   {
    "duration": 69,
    "start_time": "2024-07-29T22:58:29.433Z"
   },
   {
    "duration": 27,
    "start_time": "2024-07-29T22:58:29.505Z"
   },
   {
    "duration": 66,
    "start_time": "2024-07-29T22:58:29.536Z"
   },
   {
    "duration": 12,
    "start_time": "2024-07-29T22:58:29.606Z"
   },
   {
    "duration": 6,
    "start_time": "2024-07-29T22:58:29.622Z"
   },
   {
    "duration": 104,
    "start_time": "2024-07-29T22:58:29.631Z"
   },
   {
    "duration": 4,
    "start_time": "2024-07-29T22:58:29.738Z"
   },
   {
    "duration": 156,
    "start_time": "2024-07-29T22:58:29.745Z"
   },
   {
    "duration": 27,
    "start_time": "2024-07-29T22:58:29.904Z"
   },
   {
    "duration": 6,
    "start_time": "2024-07-29T22:58:29.936Z"
   },
   {
    "duration": 78,
    "start_time": "2024-07-29T22:58:29.946Z"
   },
   {
    "duration": 48,
    "start_time": "2024-07-29T22:58:30.028Z"
   },
   {
    "duration": 38,
    "start_time": "2024-07-29T22:58:30.079Z"
   },
   {
    "duration": 4,
    "start_time": "2024-07-29T22:58:30.120Z"
   },
   {
    "duration": 27,
    "start_time": "2024-07-29T22:58:30.129Z"
   },
   {
    "duration": 153,
    "start_time": "2024-07-29T22:58:30.159Z"
   },
   {
    "duration": 14,
    "start_time": "2024-07-29T22:58:30.315Z"
   },
   {
    "duration": 11,
    "start_time": "2024-07-29T22:58:30.332Z"
   },
   {
    "duration": 160,
    "start_time": "2024-07-29T22:58:30.347Z"
   },
   {
    "duration": 13,
    "start_time": "2024-07-29T22:58:30.510Z"
   },
   {
    "duration": 17,
    "start_time": "2024-07-29T22:58:30.527Z"
   },
   {
    "duration": 51,
    "start_time": "2024-07-29T22:58:30.551Z"
   },
   {
    "duration": 14,
    "start_time": "2024-07-29T22:58:30.606Z"
   },
   {
    "duration": 8,
    "start_time": "2024-07-29T22:58:30.624Z"
   },
   {
    "duration": 19,
    "start_time": "2024-07-29T22:58:30.635Z"
   },
   {
    "duration": 164,
    "start_time": "2024-07-29T22:58:30.657Z"
   },
   {
    "duration": 104,
    "start_time": "2024-07-29T22:58:30.824Z"
   },
   {
    "duration": 132,
    "start_time": "2024-07-29T22:58:30.933Z"
   },
   {
    "duration": 198,
    "start_time": "2024-07-29T22:58:31.069Z"
   },
   {
    "duration": 88,
    "start_time": "2024-07-29T22:58:31.271Z"
   },
   {
    "duration": 101,
    "start_time": "2024-07-29T22:58:31.362Z"
   },
   {
    "duration": 12,
    "start_time": "2024-07-29T22:58:31.469Z"
   },
   {
    "duration": 603,
    "start_time": "2024-07-29T22:58:31.485Z"
   },
   {
    "duration": 0,
    "start_time": "2024-07-29T22:58:32.091Z"
   },
   {
    "duration": 0,
    "start_time": "2024-07-29T22:58:32.095Z"
   },
   {
    "duration": 0,
    "start_time": "2024-07-29T22:58:32.104Z"
   },
   {
    "duration": 0,
    "start_time": "2024-07-29T22:58:32.106Z"
   },
   {
    "duration": 0,
    "start_time": "2024-07-29T22:58:32.109Z"
   },
   {
    "duration": 0,
    "start_time": "2024-07-29T22:58:32.112Z"
   },
   {
    "duration": 0,
    "start_time": "2024-07-29T22:58:32.114Z"
   },
   {
    "duration": 0,
    "start_time": "2024-07-29T22:58:32.117Z"
   },
   {
    "duration": 0,
    "start_time": "2024-07-29T22:58:32.119Z"
   },
   {
    "duration": 0,
    "start_time": "2024-07-29T22:58:32.122Z"
   },
   {
    "duration": 1,
    "start_time": "2024-07-29T22:58:32.124Z"
   },
   {
    "duration": 0,
    "start_time": "2024-07-29T22:58:32.127Z"
   },
   {
    "duration": 0,
    "start_time": "2024-07-29T22:58:32.130Z"
   },
   {
    "duration": 0,
    "start_time": "2024-07-29T22:58:32.132Z"
   },
   {
    "duration": 0,
    "start_time": "2024-07-29T22:58:32.135Z"
   },
   {
    "duration": 0,
    "start_time": "2024-07-29T22:58:32.137Z"
   },
   {
    "duration": 0,
    "start_time": "2024-07-29T22:58:32.140Z"
   },
   {
    "duration": 1503,
    "start_time": "2024-07-29T22:58:52.056Z"
   },
   {
    "duration": 247,
    "start_time": "2024-07-29T22:58:53.564Z"
   },
   {
    "duration": 17,
    "start_time": "2024-07-29T22:58:53.814Z"
   },
   {
    "duration": 33,
    "start_time": "2024-07-29T22:58:53.835Z"
   },
   {
    "duration": 6,
    "start_time": "2024-07-29T22:58:53.904Z"
   },
   {
    "duration": 14,
    "start_time": "2024-07-29T22:58:53.914Z"
   },
   {
    "duration": 20,
    "start_time": "2024-07-29T22:58:53.932Z"
   },
   {
    "duration": 124,
    "start_time": "2024-07-29T22:58:53.955Z"
   },
   {
    "duration": 101,
    "start_time": "2024-07-29T22:58:54.085Z"
   },
   {
    "duration": 41,
    "start_time": "2024-07-29T22:58:54.189Z"
   },
   {
    "duration": 8,
    "start_time": "2024-07-29T22:58:54.234Z"
   },
   {
    "duration": 590,
    "start_time": "2024-07-29T22:58:54.245Z"
   },
   {
    "duration": 14,
    "start_time": "2024-07-29T22:58:54.839Z"
   },
   {
    "duration": 178,
    "start_time": "2024-07-29T22:58:54.863Z"
   },
   {
    "duration": 29,
    "start_time": "2024-07-29T22:58:55.044Z"
   },
   {
    "duration": 88,
    "start_time": "2024-07-29T22:58:55.077Z"
   },
   {
    "duration": 4,
    "start_time": "2024-07-29T22:58:55.168Z"
   },
   {
    "duration": 27,
    "start_time": "2024-07-29T22:58:55.175Z"
   },
   {
    "duration": 128,
    "start_time": "2024-07-29T22:58:55.205Z"
   },
   {
    "duration": 69,
    "start_time": "2024-07-29T22:58:55.337Z"
   },
   {
    "duration": 108,
    "start_time": "2024-07-29T22:58:55.409Z"
   },
   {
    "duration": 4,
    "start_time": "2024-07-29T22:58:55.520Z"
   },
   {
    "duration": 6,
    "start_time": "2024-07-29T22:58:55.527Z"
   },
   {
    "duration": 99,
    "start_time": "2024-07-29T22:58:55.537Z"
   },
   {
    "duration": 68,
    "start_time": "2024-07-29T22:58:55.639Z"
   },
   {
    "duration": 736,
    "start_time": "2024-07-29T22:58:55.710Z"
   },
   {
    "duration": 8,
    "start_time": "2024-07-29T22:58:56.450Z"
   },
   {
    "duration": 42,
    "start_time": "2024-07-29T22:58:56.462Z"
   },
   {
    "duration": 9937,
    "start_time": "2024-07-29T22:58:56.506Z"
   },
   {
    "duration": 6,
    "start_time": "2024-07-29T22:59:06.446Z"
   },
   {
    "duration": 163,
    "start_time": "2024-07-29T22:59:06.456Z"
   },
   {
    "duration": 14,
    "start_time": "2024-07-29T22:59:06.622Z"
   },
   {
    "duration": 85,
    "start_time": "2024-07-29T22:59:06.639Z"
   },
   {
    "duration": 19,
    "start_time": "2024-07-29T22:59:06.728Z"
   },
   {
    "duration": 56,
    "start_time": "2024-07-29T22:59:06.754Z"
   },
   {
    "duration": 11,
    "start_time": "2024-07-29T22:59:06.813Z"
   },
   {
    "duration": 100,
    "start_time": "2024-07-29T22:59:06.831Z"
   },
   {
    "duration": 3,
    "start_time": "2024-07-29T22:59:06.934Z"
   },
   {
    "duration": 145,
    "start_time": "2024-07-29T22:59:06.941Z"
   },
   {
    "duration": 37,
    "start_time": "2024-07-29T22:59:07.101Z"
   },
   {
    "duration": 8,
    "start_time": "2024-07-29T22:59:07.157Z"
   },
   {
    "duration": 71,
    "start_time": "2024-07-29T22:59:07.169Z"
   },
   {
    "duration": 67,
    "start_time": "2024-07-29T22:59:07.243Z"
   },
   {
    "duration": 16,
    "start_time": "2024-07-29T22:59:07.313Z"
   },
   {
    "duration": 3,
    "start_time": "2024-07-29T22:59:07.333Z"
   },
   {
    "duration": 63,
    "start_time": "2024-07-29T22:59:07.339Z"
   },
   {
    "duration": 115,
    "start_time": "2024-07-29T22:59:07.405Z"
   },
   {
    "duration": 21,
    "start_time": "2024-07-29T22:59:07.524Z"
   },
   {
    "duration": 18,
    "start_time": "2024-07-29T22:59:07.549Z"
   },
   {
    "duration": 155,
    "start_time": "2024-07-29T22:59:07.572Z"
   },
   {
    "duration": 12,
    "start_time": "2024-07-29T22:59:07.730Z"
   },
   {
    "duration": 16,
    "start_time": "2024-07-29T22:59:07.745Z"
   },
   {
    "duration": 46,
    "start_time": "2024-07-29T22:59:07.764Z"
   },
   {
    "duration": 15,
    "start_time": "2024-07-29T22:59:07.813Z"
   },
   {
    "duration": 8,
    "start_time": "2024-07-29T22:59:07.830Z"
   },
   {
    "duration": 60,
    "start_time": "2024-07-29T22:59:07.841Z"
   },
   {
    "duration": 110,
    "start_time": "2024-07-29T22:59:07.905Z"
   },
   {
    "duration": 99,
    "start_time": "2024-07-29T22:59:08.018Z"
   },
   {
    "duration": 126,
    "start_time": "2024-07-29T22:59:08.120Z"
   },
   {
    "duration": 187,
    "start_time": "2024-07-29T22:59:08.249Z"
   },
   {
    "duration": 97,
    "start_time": "2024-07-29T22:59:08.440Z"
   },
   {
    "duration": 105,
    "start_time": "2024-07-29T22:59:08.541Z"
   },
   {
    "duration": 14,
    "start_time": "2024-07-29T22:59:08.650Z"
   },
   {
    "duration": 42,
    "start_time": "2024-07-29T22:59:08.668Z"
   },
   {
    "duration": 118,
    "start_time": "2024-07-29T22:59:08.713Z"
   },
   {
    "duration": 27,
    "start_time": "2024-07-29T22:59:08.837Z"
   },
   {
    "duration": 44,
    "start_time": "2024-07-29T22:59:08.867Z"
   },
   {
    "duration": 97,
    "start_time": "2024-07-29T22:59:08.917Z"
   },
   {
    "duration": 168,
    "start_time": "2024-07-29T22:59:09.017Z"
   },
   {
    "duration": 26,
    "start_time": "2024-07-29T22:59:09.188Z"
   },
   {
    "duration": 11,
    "start_time": "2024-07-29T22:59:09.218Z"
   },
   {
    "duration": 14,
    "start_time": "2024-07-29T22:59:09.237Z"
   },
   {
    "duration": 57,
    "start_time": "2024-07-29T22:59:09.255Z"
   },
   {
    "duration": 23,
    "start_time": "2024-07-29T22:59:09.315Z"
   },
   {
    "duration": 4,
    "start_time": "2024-07-29T22:59:09.341Z"
   },
   {
    "duration": 62,
    "start_time": "2024-07-29T22:59:09.348Z"
   },
   {
    "duration": 53,
    "start_time": "2024-07-29T22:59:09.413Z"
   },
   {
    "duration": 70,
    "start_time": "2024-07-29T22:59:09.469Z"
   },
   {
    "duration": 64,
    "start_time": "2024-07-29T22:59:09.543Z"
   },
   {
    "duration": 15,
    "start_time": "2024-07-29T22:59:09.614Z"
   },
   {
    "duration": 14,
    "start_time": "2024-07-29T22:59:09.633Z"
   },
   {
    "duration": 1479,
    "start_time": "2024-07-29T23:00:41.535Z"
   },
   {
    "duration": 191,
    "start_time": "2024-07-29T23:00:43.018Z"
   },
   {
    "duration": 15,
    "start_time": "2024-07-29T23:00:43.212Z"
   },
   {
    "duration": 26,
    "start_time": "2024-07-29T23:00:43.233Z"
   },
   {
    "duration": 38,
    "start_time": "2024-07-29T23:00:43.263Z"
   },
   {
    "duration": 11,
    "start_time": "2024-07-29T23:00:43.305Z"
   },
   {
    "duration": 19,
    "start_time": "2024-07-29T23:00:43.320Z"
   },
   {
    "duration": 137,
    "start_time": "2024-07-29T23:00:43.342Z"
   },
   {
    "duration": 94,
    "start_time": "2024-07-29T23:00:43.482Z"
   },
   {
    "duration": 42,
    "start_time": "2024-07-29T23:00:43.582Z"
   },
   {
    "duration": 9,
    "start_time": "2024-07-29T23:00:43.627Z"
   },
   {
    "duration": 556,
    "start_time": "2024-07-29T23:00:43.639Z"
   },
   {
    "duration": 13,
    "start_time": "2024-07-29T23:00:44.203Z"
   },
   {
    "duration": 166,
    "start_time": "2024-07-29T23:00:44.220Z"
   },
   {
    "duration": 30,
    "start_time": "2024-07-29T23:00:44.389Z"
   },
   {
    "duration": 82,
    "start_time": "2024-07-29T23:00:44.422Z"
   },
   {
    "duration": 4,
    "start_time": "2024-07-29T23:00:44.509Z"
   },
   {
    "duration": 4,
    "start_time": "2024-07-29T23:00:44.517Z"
   },
   {
    "duration": 151,
    "start_time": "2024-07-29T23:00:44.525Z"
   },
   {
    "duration": 57,
    "start_time": "2024-07-29T23:00:44.679Z"
   },
   {
    "duration": 109,
    "start_time": "2024-07-29T23:00:44.739Z"
   },
   {
    "duration": 4,
    "start_time": "2024-07-29T23:00:44.851Z"
   },
   {
    "duration": 4,
    "start_time": "2024-07-29T23:00:44.858Z"
   },
   {
    "duration": 78,
    "start_time": "2024-07-29T23:00:44.865Z"
   },
   {
    "duration": 71,
    "start_time": "2024-07-29T23:00:44.946Z"
   },
   {
    "duration": 616,
    "start_time": "2024-07-29T23:00:45.021Z"
   },
   {
    "duration": 8,
    "start_time": "2024-07-29T23:00:45.641Z"
   },
   {
    "duration": 49,
    "start_time": "2024-07-29T23:00:45.659Z"
   },
   {
    "duration": 9969,
    "start_time": "2024-07-29T23:00:45.711Z"
   },
   {
    "duration": 7,
    "start_time": "2024-07-29T23:00:55.702Z"
   },
   {
    "duration": 121,
    "start_time": "2024-07-29T23:00:55.713Z"
   },
   {
    "duration": 12,
    "start_time": "2024-07-29T23:00:55.836Z"
   },
   {
    "duration": 29,
    "start_time": "2024-07-29T23:00:55.902Z"
   },
   {
    "duration": 9,
    "start_time": "2024-07-29T23:00:55.935Z"
   },
   {
    "duration": 57,
    "start_time": "2024-07-29T23:00:55.949Z"
   },
   {
    "duration": 5,
    "start_time": "2024-07-29T23:00:56.014Z"
   },
   {
    "duration": 115,
    "start_time": "2024-07-29T23:00:56.022Z"
   },
   {
    "duration": 4,
    "start_time": "2024-07-29T23:00:56.140Z"
   },
   {
    "duration": 180,
    "start_time": "2024-07-29T23:00:56.202Z"
   },
   {
    "duration": 41,
    "start_time": "2024-07-29T23:00:56.386Z"
   },
   {
    "duration": 7,
    "start_time": "2024-07-29T23:00:56.430Z"
   },
   {
    "duration": 76,
    "start_time": "2024-07-29T23:00:56.440Z"
   },
   {
    "duration": 44,
    "start_time": "2024-07-29T23:00:56.520Z"
   },
   {
    "duration": 35,
    "start_time": "2024-07-29T23:00:56.567Z"
   },
   {
    "duration": 4,
    "start_time": "2024-07-29T23:00:56.606Z"
   },
   {
    "duration": 21,
    "start_time": "2024-07-29T23:00:56.614Z"
   },
   {
    "duration": 135,
    "start_time": "2024-07-29T23:00:56.639Z"
   },
   {
    "duration": 27,
    "start_time": "2024-07-29T23:00:56.777Z"
   },
   {
    "duration": 13,
    "start_time": "2024-07-29T23:00:56.808Z"
   },
   {
    "duration": 151,
    "start_time": "2024-07-29T23:00:56.825Z"
   },
   {
    "duration": 26,
    "start_time": "2024-07-29T23:00:56.979Z"
   },
   {
    "duration": 17,
    "start_time": "2024-07-29T23:00:57.011Z"
   },
   {
    "duration": 19,
    "start_time": "2024-07-29T23:00:57.030Z"
   },
   {
    "duration": 50,
    "start_time": "2024-07-29T23:00:57.052Z"
   },
   {
    "duration": 7,
    "start_time": "2024-07-29T23:00:57.105Z"
   },
   {
    "duration": 17,
    "start_time": "2024-07-29T23:00:57.115Z"
   },
   {
    "duration": 132,
    "start_time": "2024-07-29T23:00:57.135Z"
   },
   {
    "duration": 110,
    "start_time": "2024-07-29T23:00:57.270Z"
   },
   {
    "duration": 124,
    "start_time": "2024-07-29T23:00:57.383Z"
   },
   {
    "duration": 179,
    "start_time": "2024-07-29T23:00:57.511Z"
   },
   {
    "duration": 81,
    "start_time": "2024-07-29T23:00:57.694Z"
   },
   {
    "duration": 90,
    "start_time": "2024-07-29T23:00:57.778Z"
   },
   {
    "duration": 31,
    "start_time": "2024-07-29T23:00:57.871Z"
   },
   {
    "duration": 21,
    "start_time": "2024-07-29T23:00:57.905Z"
   },
   {
    "duration": 105,
    "start_time": "2024-07-29T23:00:57.929Z"
   },
   {
    "duration": 18,
    "start_time": "2024-07-29T23:00:58.037Z"
   },
   {
    "duration": 17,
    "start_time": "2024-07-29T23:00:58.058Z"
   },
   {
    "duration": 73,
    "start_time": "2024-07-29T23:00:58.104Z"
   },
   {
    "duration": 166,
    "start_time": "2024-07-29T23:00:58.181Z"
   },
   {
    "duration": 18,
    "start_time": "2024-07-29T23:00:58.350Z"
   },
   {
    "duration": 33,
    "start_time": "2024-07-29T23:00:58.371Z"
   },
   {
    "duration": 13,
    "start_time": "2024-07-29T23:00:58.409Z"
   },
   {
    "duration": 24,
    "start_time": "2024-07-29T23:00:58.427Z"
   },
   {
    "duration": 59,
    "start_time": "2024-07-29T23:00:58.455Z"
   },
   {
    "duration": 4,
    "start_time": "2024-07-29T23:00:58.517Z"
   },
   {
    "duration": 23,
    "start_time": "2024-07-29T23:00:58.524Z"
   },
   {
    "duration": 90,
    "start_time": "2024-07-29T23:00:58.551Z"
   },
   {
    "duration": 64,
    "start_time": "2024-07-29T23:00:58.645Z"
   },
   {
    "duration": 44,
    "start_time": "2024-07-29T23:00:58.712Z"
   },
   {
    "duration": 43,
    "start_time": "2024-07-29T23:00:58.759Z"
   },
   {
    "duration": 14,
    "start_time": "2024-07-29T23:00:58.805Z"
   },
   {
    "duration": 1509,
    "start_time": "2024-07-30T02:05:38.078Z"
   },
   {
    "duration": 187,
    "start_time": "2024-07-30T02:05:39.590Z"
   },
   {
    "duration": 25,
    "start_time": "2024-07-30T02:05:39.779Z"
   },
   {
    "duration": 26,
    "start_time": "2024-07-30T02:05:39.809Z"
   },
   {
    "duration": 7,
    "start_time": "2024-07-30T02:05:39.839Z"
   },
   {
    "duration": 50,
    "start_time": "2024-07-30T02:05:39.850Z"
   },
   {
    "duration": 20,
    "start_time": "2024-07-30T02:05:39.904Z"
   },
   {
    "duration": 106,
    "start_time": "2024-07-30T02:05:39.927Z"
   },
   {
    "duration": 92,
    "start_time": "2024-07-30T02:05:40.036Z"
   },
   {
    "duration": 26,
    "start_time": "2024-07-30T02:05:40.133Z"
   },
   {
    "duration": 7,
    "start_time": "2024-07-30T02:05:40.162Z"
   },
   {
    "duration": 551,
    "start_time": "2024-07-30T02:05:40.202Z"
   },
   {
    "duration": 13,
    "start_time": "2024-07-30T02:05:40.757Z"
   },
   {
    "duration": 163,
    "start_time": "2024-07-30T02:05:40.774Z"
   },
   {
    "duration": 25,
    "start_time": "2024-07-30T02:05:40.940Z"
   },
   {
    "duration": 81,
    "start_time": "2024-07-30T02:05:40.968Z"
   },
   {
    "duration": 4,
    "start_time": "2024-07-30T02:05:41.052Z"
   },
   {
    "duration": 5,
    "start_time": "2024-07-30T02:05:41.060Z"
   },
   {
    "duration": 156,
    "start_time": "2024-07-30T02:05:41.070Z"
   },
   {
    "duration": 48,
    "start_time": "2024-07-30T02:05:41.229Z"
   },
   {
    "duration": 103,
    "start_time": "2024-07-30T02:05:41.301Z"
   },
   {
    "duration": 4,
    "start_time": "2024-07-30T02:05:41.407Z"
   },
   {
    "duration": 3,
    "start_time": "2024-07-30T02:05:41.414Z"
   },
   {
    "duration": 84,
    "start_time": "2024-07-30T02:05:41.420Z"
   },
   {
    "duration": 53,
    "start_time": "2024-07-30T02:05:41.508Z"
   },
   {
    "duration": 642,
    "start_time": "2024-07-30T02:05:41.564Z"
   },
   {
    "duration": 7,
    "start_time": "2024-07-30T02:05:42.209Z"
   },
   {
    "duration": 8,
    "start_time": "2024-07-30T02:05:42.226Z"
   },
   {
    "duration": 9623,
    "start_time": "2024-07-30T02:05:42.238Z"
   },
   {
    "duration": 7,
    "start_time": "2024-07-30T02:05:51.866Z"
   },
   {
    "duration": 108,
    "start_time": "2024-07-30T02:05:51.903Z"
   },
   {
    "duration": 14,
    "start_time": "2024-07-30T02:05:52.014Z"
   },
   {
    "duration": 83,
    "start_time": "2024-07-30T02:05:52.030Z"
   },
   {
    "duration": 8,
    "start_time": "2024-07-30T02:05:52.117Z"
   },
   {
    "duration": 10,
    "start_time": "2024-07-30T02:05:52.127Z"
   },
   {
    "duration": 6,
    "start_time": "2024-07-30T02:05:52.139Z"
   },
   {
    "duration": 110,
    "start_time": "2024-07-30T02:05:52.203Z"
   },
   {
    "duration": 3,
    "start_time": "2024-07-30T02:05:52.317Z"
   },
   {
    "duration": 200,
    "start_time": "2024-07-30T02:05:52.324Z"
   },
   {
    "duration": 29,
    "start_time": "2024-07-30T02:05:52.527Z"
   },
   {
    "duration": 7,
    "start_time": "2024-07-30T02:05:52.559Z"
   },
   {
    "duration": 68,
    "start_time": "2024-07-30T02:05:52.570Z"
   },
   {
    "duration": 64,
    "start_time": "2024-07-30T02:05:52.641Z"
   },
   {
    "duration": 13,
    "start_time": "2024-07-30T02:05:52.708Z"
   },
   {
    "duration": 3,
    "start_time": "2024-07-30T02:05:52.725Z"
   },
   {
    "duration": 21,
    "start_time": "2024-07-30T02:05:52.734Z"
   },
   {
    "duration": 146,
    "start_time": "2024-07-30T02:05:52.759Z"
   },
   {
    "duration": 15,
    "start_time": "2024-07-30T02:05:52.909Z"
   },
   {
    "duration": 11,
    "start_time": "2024-07-30T02:05:52.927Z"
   },
   {
    "duration": 161,
    "start_time": "2024-07-30T02:05:52.942Z"
   },
   {
    "duration": 12,
    "start_time": "2024-07-30T02:05:53.106Z"
   },
   {
    "duration": 16,
    "start_time": "2024-07-30T02:05:53.121Z"
   },
   {
    "duration": 20,
    "start_time": "2024-07-30T02:05:53.140Z"
   },
   {
    "duration": 14,
    "start_time": "2024-07-30T02:05:53.204Z"
   },
   {
    "duration": 6,
    "start_time": "2024-07-30T02:05:53.222Z"
   },
   {
    "duration": 15,
    "start_time": "2024-07-30T02:05:53.232Z"
   },
   {
    "duration": 138,
    "start_time": "2024-07-30T02:05:53.249Z"
   },
   {
    "duration": 90,
    "start_time": "2024-07-30T02:05:53.390Z"
   },
   {
    "duration": 125,
    "start_time": "2024-07-30T02:05:53.483Z"
   },
   {
    "duration": 177,
    "start_time": "2024-07-30T02:05:53.612Z"
   },
   {
    "duration": 73,
    "start_time": "2024-07-30T02:05:53.792Z"
   },
   {
    "duration": 91,
    "start_time": "2024-07-30T02:05:53.869Z"
   },
   {
    "duration": 12,
    "start_time": "2024-07-30T02:05:53.963Z"
   },
   {
    "duration": 44,
    "start_time": "2024-07-30T02:05:53.978Z"
   },
   {
    "duration": 98,
    "start_time": "2024-07-30T02:05:54.026Z"
   },
   {
    "duration": 17,
    "start_time": "2024-07-30T02:05:54.128Z"
   },
   {
    "duration": 17,
    "start_time": "2024-07-30T02:05:54.148Z"
   },
   {
    "duration": 68,
    "start_time": "2024-07-30T02:05:54.201Z"
   },
   {
    "duration": 145,
    "start_time": "2024-07-30T02:05:54.273Z"
   },
   {
    "duration": 17,
    "start_time": "2024-07-30T02:05:54.422Z"
   },
   {
    "duration": 11,
    "start_time": "2024-07-30T02:05:54.442Z"
   },
   {
    "duration": 10,
    "start_time": "2024-07-30T02:05:54.457Z"
   },
   {
    "duration": 23,
    "start_time": "2024-07-30T02:05:54.503Z"
   },
   {
    "duration": 23,
    "start_time": "2024-07-30T02:05:54.529Z"
   },
   {
    "duration": 4,
    "start_time": "2024-07-30T02:05:54.555Z"
   },
   {
    "duration": 22,
    "start_time": "2024-07-30T02:05:54.601Z"
   },
   {
    "duration": 79,
    "start_time": "2024-07-30T02:05:54.626Z"
   },
   {
    "duration": 42,
    "start_time": "2024-07-30T02:05:54.708Z"
   },
   {
    "duration": 68,
    "start_time": "2024-07-30T02:05:54.753Z"
   },
   {
    "duration": 13,
    "start_time": "2024-07-30T02:05:54.824Z"
   },
   {
    "duration": 13,
    "start_time": "2024-07-30T02:05:54.841Z"
   },
   {
    "duration": 17,
    "start_time": "2024-07-30T02:12:40.840Z"
   },
   {
    "duration": 22,
    "start_time": "2024-07-30T02:28:25.546Z"
   },
   {
    "duration": 13,
    "start_time": "2024-07-30T02:44:40.084Z"
   },
   {
    "duration": 540,
    "start_time": "2024-07-30T02:44:56.801Z"
   },
   {
    "duration": 17,
    "start_time": "2024-07-30T02:45:23.574Z"
   },
   {
    "duration": 5238,
    "start_time": "2024-07-30T15:35:17.707Z"
   },
   {
    "duration": 214,
    "start_time": "2024-07-30T15:35:22.948Z"
   },
   {
    "duration": 17,
    "start_time": "2024-07-30T15:35:23.165Z"
   },
   {
    "duration": 26,
    "start_time": "2024-07-30T15:35:23.203Z"
   },
   {
    "duration": 10,
    "start_time": "2024-07-30T15:35:23.232Z"
   },
   {
    "duration": 11,
    "start_time": "2024-07-30T15:35:23.245Z"
   },
   {
    "duration": 56,
    "start_time": "2024-07-30T15:35:23.260Z"
   },
   {
    "duration": 101,
    "start_time": "2024-07-30T15:35:23.320Z"
   },
   {
    "duration": 96,
    "start_time": "2024-07-30T15:35:23.424Z"
   },
   {
    "duration": 32,
    "start_time": "2024-07-30T15:35:23.528Z"
   },
   {
    "duration": 38,
    "start_time": "2024-07-30T15:35:23.564Z"
   },
   {
    "duration": 548,
    "start_time": "2024-07-30T15:35:23.605Z"
   },
   {
    "duration": 13,
    "start_time": "2024-07-30T15:35:24.157Z"
   },
   {
    "duration": 159,
    "start_time": "2024-07-30T15:35:24.173Z"
   },
   {
    "duration": 25,
    "start_time": "2024-07-30T15:35:24.335Z"
   },
   {
    "duration": 83,
    "start_time": "2024-07-30T15:35:24.363Z"
   },
   {
    "duration": 3,
    "start_time": "2024-07-30T15:35:24.450Z"
   },
   {
    "duration": 3,
    "start_time": "2024-07-30T15:35:24.457Z"
   },
   {
    "duration": 151,
    "start_time": "2024-07-30T15:35:24.464Z"
   },
   {
    "duration": 48,
    "start_time": "2024-07-30T15:35:24.618Z"
   },
   {
    "duration": 120,
    "start_time": "2024-07-30T15:35:24.669Z"
   },
   {
    "duration": 4,
    "start_time": "2024-07-30T15:35:24.803Z"
   },
   {
    "duration": 3,
    "start_time": "2024-07-30T15:35:24.810Z"
   },
   {
    "duration": 55,
    "start_time": "2024-07-30T15:35:24.816Z"
   },
   {
    "duration": 54,
    "start_time": "2024-07-30T15:35:24.903Z"
   },
   {
    "duration": 684,
    "start_time": "2024-07-30T15:35:24.960Z"
   },
   {
    "duration": 8,
    "start_time": "2024-07-30T15:35:25.647Z"
   },
   {
    "duration": 8,
    "start_time": "2024-07-30T15:35:25.665Z"
   },
   {
    "duration": 9493,
    "start_time": "2024-07-30T15:35:25.703Z"
   },
   {
    "duration": 8,
    "start_time": "2024-07-30T15:35:35.204Z"
   },
   {
    "duration": 119,
    "start_time": "2024-07-30T15:35:35.216Z"
   },
   {
    "duration": 12,
    "start_time": "2024-07-30T15:35:35.338Z"
   },
   {
    "duration": 26,
    "start_time": "2024-07-30T15:35:35.403Z"
   },
   {
    "duration": 9,
    "start_time": "2024-07-30T15:35:35.432Z"
   },
   {
    "duration": 62,
    "start_time": "2024-07-30T15:35:35.445Z"
   },
   {
    "duration": 5,
    "start_time": "2024-07-30T15:35:35.510Z"
   },
   {
    "duration": 105,
    "start_time": "2024-07-30T15:35:35.518Z"
   },
   {
    "duration": 5,
    "start_time": "2024-07-30T15:35:35.626Z"
   },
   {
    "duration": 220,
    "start_time": "2024-07-30T15:35:35.634Z"
   },
   {
    "duration": 28,
    "start_time": "2024-07-30T15:35:35.857Z"
   },
   {
    "duration": 8,
    "start_time": "2024-07-30T15:35:35.903Z"
   },
   {
    "duration": 47,
    "start_time": "2024-07-30T15:35:35.914Z"
   },
   {
    "duration": 73,
    "start_time": "2024-07-30T15:35:35.970Z"
   },
   {
    "duration": 14,
    "start_time": "2024-07-30T15:35:36.046Z"
   },
   {
    "duration": 40,
    "start_time": "2024-07-30T15:35:36.063Z"
   },
   {
    "duration": 23,
    "start_time": "2024-07-30T15:35:36.107Z"
   },
   {
    "duration": 128,
    "start_time": "2024-07-30T15:35:36.133Z"
   },
   {
    "duration": 13,
    "start_time": "2024-07-30T15:35:36.264Z"
   },
   {
    "duration": 26,
    "start_time": "2024-07-30T15:35:36.280Z"
   },
   {
    "duration": 139,
    "start_time": "2024-07-30T15:35:36.311Z"
   },
   {
    "duration": 15,
    "start_time": "2024-07-30T15:35:36.454Z"
   },
   {
    "duration": 41,
    "start_time": "2024-07-30T15:35:36.473Z"
   },
   {
    "duration": 22,
    "start_time": "2024-07-30T15:35:36.516Z"
   },
   {
    "duration": 16,
    "start_time": "2024-07-30T15:35:36.542Z"
   },
   {
    "duration": 43,
    "start_time": "2024-07-30T15:35:36.561Z"
   },
   {
    "duration": 18,
    "start_time": "2024-07-30T15:35:36.609Z"
   },
   {
    "duration": 133,
    "start_time": "2024-07-30T15:35:36.631Z"
   },
   {
    "duration": 100,
    "start_time": "2024-07-30T15:35:36.767Z"
   },
   {
    "duration": 116,
    "start_time": "2024-07-30T15:35:36.871Z"
   },
   {
    "duration": 190,
    "start_time": "2024-07-30T15:35:36.990Z"
   },
   {
    "duration": 81,
    "start_time": "2024-07-30T15:35:37.184Z"
   },
   {
    "duration": 77,
    "start_time": "2024-07-30T15:35:37.268Z"
   },
   {
    "duration": 12,
    "start_time": "2024-07-30T15:35:37.349Z"
   },
   {
    "duration": 49,
    "start_time": "2024-07-30T15:35:37.365Z"
   },
   {
    "duration": 19,
    "start_time": "2024-07-30T15:35:37.418Z"
   },
   {
    "duration": 110,
    "start_time": "2024-07-30T15:35:37.440Z"
   },
   {
    "duration": 17,
    "start_time": "2024-07-30T15:35:37.553Z"
   },
   {
    "duration": 38,
    "start_time": "2024-07-30T15:35:37.573Z"
   },
   {
    "duration": 87,
    "start_time": "2024-07-30T15:35:37.615Z"
   },
   {
    "duration": 140,
    "start_time": "2024-07-30T15:35:37.704Z"
   },
   {
    "duration": 18,
    "start_time": "2024-07-30T15:35:37.847Z"
   },
   {
    "duration": 36,
    "start_time": "2024-07-30T15:35:37.869Z"
   },
   {
    "duration": 9,
    "start_time": "2024-07-30T15:35:37.909Z"
   },
   {
    "duration": 21,
    "start_time": "2024-07-30T15:35:37.922Z"
   },
   {
    "duration": 58,
    "start_time": "2024-07-30T15:35:37.947Z"
   },
   {
    "duration": 4,
    "start_time": "2024-07-30T15:35:38.008Z"
   },
   {
    "duration": 21,
    "start_time": "2024-07-30T15:35:38.016Z"
   },
   {
    "duration": 85,
    "start_time": "2024-07-30T15:35:38.040Z"
   },
   {
    "duration": 47,
    "start_time": "2024-07-30T15:35:38.129Z"
   },
   {
    "duration": 69,
    "start_time": "2024-07-30T15:35:38.179Z"
   },
   {
    "duration": 14,
    "start_time": "2024-07-30T15:35:38.251Z"
   },
   {
    "duration": 15,
    "start_time": "2024-07-30T15:35:38.305Z"
   },
   {
    "duration": 18,
    "start_time": "2024-07-30T15:37:13.139Z"
   },
   {
    "duration": 17,
    "start_time": "2024-07-30T15:38:03.067Z"
   },
   {
    "duration": 14,
    "start_time": "2024-07-30T15:39:23.659Z"
   },
   {
    "duration": 13,
    "start_time": "2024-07-30T15:39:29.204Z"
   },
   {
    "duration": 10,
    "start_time": "2024-07-30T15:39:42.892Z"
   },
   {
    "duration": 14,
    "start_time": "2024-07-30T15:39:50.168Z"
   },
   {
    "duration": 13,
    "start_time": "2024-07-30T15:39:59.472Z"
   },
   {
    "duration": 17,
    "start_time": "2024-07-30T15:41:43.093Z"
   },
   {
    "duration": 18,
    "start_time": "2024-07-30T15:42:13.039Z"
   },
   {
    "duration": 16,
    "start_time": "2024-07-30T15:50:25.589Z"
   },
   {
    "duration": 17,
    "start_time": "2024-07-30T15:50:35.170Z"
   },
   {
    "duration": 3,
    "start_time": "2024-07-30T16:02:19.274Z"
   },
   {
    "duration": 20,
    "start_time": "2024-07-30T16:11:19.742Z"
   },
   {
    "duration": 19,
    "start_time": "2024-07-30T16:11:29.967Z"
   },
   {
    "duration": 18,
    "start_time": "2024-07-30T16:11:37.582Z"
   },
   {
    "duration": 29,
    "start_time": "2024-07-30T16:11:42.592Z"
   },
   {
    "duration": 17,
    "start_time": "2024-07-30T16:11:48.559Z"
   },
   {
    "duration": 4,
    "start_time": "2024-07-30T16:33:29.379Z"
   },
   {
    "duration": 4,
    "start_time": "2024-07-30T16:34:18.788Z"
   },
   {
    "duration": 7,
    "start_time": "2024-07-30T16:34:51.140Z"
   },
   {
    "duration": 5,
    "start_time": "2024-07-30T16:34:55.672Z"
   },
   {
    "duration": 5,
    "start_time": "2024-07-30T16:35:14.724Z"
   },
   {
    "duration": 6,
    "start_time": "2024-07-30T16:35:52.152Z"
   },
   {
    "duration": 5,
    "start_time": "2024-07-30T16:36:01.616Z"
   },
   {
    "duration": 5,
    "start_time": "2024-07-30T16:36:04.836Z"
   },
   {
    "duration": 5,
    "start_time": "2024-07-30T16:36:07.729Z"
   },
   {
    "duration": 22,
    "start_time": "2024-07-30T17:18:57.472Z"
   },
   {
    "duration": 16,
    "start_time": "2024-07-30T17:19:12.192Z"
   },
   {
    "duration": 17,
    "start_time": "2024-07-30T17:19:18.056Z"
   },
   {
    "duration": 17,
    "start_time": "2024-07-30T17:19:25.499Z"
   },
   {
    "duration": 16,
    "start_time": "2024-07-30T17:19:31.909Z"
   },
   {
    "duration": 18,
    "start_time": "2024-07-30T17:19:41.216Z"
   },
   {
    "duration": 19,
    "start_time": "2024-07-30T17:19:46.044Z"
   },
   {
    "duration": 6,
    "start_time": "2024-07-30T17:21:20.795Z"
   },
   {
    "duration": 6,
    "start_time": "2024-07-30T17:22:15.595Z"
   },
   {
    "duration": 6,
    "start_time": "2024-07-30T17:22:24.589Z"
   },
   {
    "duration": 1422,
    "start_time": "2024-08-01T23:41:53.317Z"
   },
   {
    "duration": 212,
    "start_time": "2024-08-01T23:41:54.743Z"
   },
   {
    "duration": 15,
    "start_time": "2024-08-01T23:41:54.957Z"
   },
   {
    "duration": 23,
    "start_time": "2024-08-01T23:41:54.975Z"
   },
   {
    "duration": 30,
    "start_time": "2024-08-01T23:41:55.003Z"
   },
   {
    "duration": 11,
    "start_time": "2024-08-01T23:41:55.037Z"
   },
   {
    "duration": 18,
    "start_time": "2024-08-01T23:41:55.051Z"
   },
   {
    "duration": 107,
    "start_time": "2024-08-01T23:41:55.072Z"
   },
   {
    "duration": 89,
    "start_time": "2024-08-01T23:41:55.181Z"
   },
   {
    "duration": 25,
    "start_time": "2024-08-01T23:41:55.273Z"
   },
   {
    "duration": 29,
    "start_time": "2024-08-01T23:41:55.301Z"
   },
   {
    "duration": 518,
    "start_time": "2024-08-01T23:41:55.334Z"
   },
   {
    "duration": 12,
    "start_time": "2024-08-01T23:41:55.855Z"
   },
   {
    "duration": 160,
    "start_time": "2024-08-01T23:41:55.874Z"
   },
   {
    "duration": 25,
    "start_time": "2024-08-01T23:41:56.037Z"
   },
   {
    "duration": 85,
    "start_time": "2024-08-01T23:41:56.064Z"
   },
   {
    "duration": 4,
    "start_time": "2024-08-01T23:41:56.151Z"
   },
   {
    "duration": 4,
    "start_time": "2024-08-01T23:41:56.158Z"
   },
   {
    "duration": 138,
    "start_time": "2024-08-01T23:41:56.165Z"
   },
   {
    "duration": 53,
    "start_time": "2024-08-01T23:41:56.306Z"
   },
   {
    "duration": 111,
    "start_time": "2024-08-01T23:41:56.362Z"
   },
   {
    "duration": 6,
    "start_time": "2024-08-01T23:41:56.476Z"
   },
   {
    "duration": 3,
    "start_time": "2024-08-01T23:41:56.485Z"
   },
   {
    "duration": 74,
    "start_time": "2024-08-01T23:41:56.492Z"
   },
   {
    "duration": 63,
    "start_time": "2024-08-01T23:41:56.568Z"
   },
   {
    "duration": 621,
    "start_time": "2024-08-01T23:41:56.634Z"
   },
   {
    "duration": 7,
    "start_time": "2024-08-01T23:41:57.258Z"
   },
   {
    "duration": 8,
    "start_time": "2024-08-01T23:41:57.268Z"
   },
   {
    "duration": 9715,
    "start_time": "2024-08-01T23:41:57.279Z"
   },
   {
    "duration": 34,
    "start_time": "2024-08-01T23:42:06.997Z"
   },
   {
    "duration": 110,
    "start_time": "2024-08-01T23:42:07.035Z"
   },
   {
    "duration": 12,
    "start_time": "2024-08-01T23:42:07.148Z"
   },
   {
    "duration": 73,
    "start_time": "2024-08-01T23:42:07.163Z"
   },
   {
    "duration": 7,
    "start_time": "2024-08-01T23:42:07.238Z"
   },
   {
    "duration": 7,
    "start_time": "2024-08-01T23:42:07.248Z"
   },
   {
    "duration": 6,
    "start_time": "2024-08-01T23:42:07.258Z"
   },
   {
    "duration": 165,
    "start_time": "2024-08-01T23:42:07.267Z"
   },
   {
    "duration": 3,
    "start_time": "2024-08-01T23:42:07.435Z"
   },
   {
    "duration": 142,
    "start_time": "2024-08-01T23:42:07.441Z"
   },
   {
    "duration": 28,
    "start_time": "2024-08-01T23:42:07.586Z"
   },
   {
    "duration": 6,
    "start_time": "2024-08-01T23:42:07.636Z"
   },
   {
    "duration": 38,
    "start_time": "2024-08-01T23:42:07.645Z"
   },
   {
    "duration": 81,
    "start_time": "2024-08-01T23:42:07.685Z"
   },
   {
    "duration": 13,
    "start_time": "2024-08-01T23:42:07.769Z"
   },
   {
    "duration": 3,
    "start_time": "2024-08-01T23:42:07.785Z"
   },
   {
    "duration": 46,
    "start_time": "2024-08-01T23:42:07.792Z"
   },
   {
    "duration": 110,
    "start_time": "2024-08-01T23:42:07.841Z"
   },
   {
    "duration": 13,
    "start_time": "2024-08-01T23:42:07.954Z"
   },
   {
    "duration": 10,
    "start_time": "2024-08-01T23:42:07.971Z"
   },
   {
    "duration": 146,
    "start_time": "2024-08-01T23:42:07.984Z"
   },
   {
    "duration": 11,
    "start_time": "2024-08-01T23:42:08.133Z"
   },
   {
    "duration": 15,
    "start_time": "2024-08-01T23:42:08.148Z"
   },
   {
    "duration": 18,
    "start_time": "2024-08-01T23:42:08.167Z"
   },
   {
    "duration": 51,
    "start_time": "2024-08-01T23:42:08.188Z"
   },
   {
    "duration": 7,
    "start_time": "2024-08-01T23:42:08.243Z"
   },
   {
    "duration": 16,
    "start_time": "2024-08-01T23:42:08.253Z"
   },
   {
    "duration": 127,
    "start_time": "2024-08-01T23:42:08.272Z"
   },
   {
    "duration": 95,
    "start_time": "2024-08-01T23:42:08.402Z"
   },
   {
    "duration": 103,
    "start_time": "2024-08-01T23:42:08.500Z"
   },
   {
    "duration": 178,
    "start_time": "2024-08-01T23:42:08.606Z"
   },
   {
    "duration": 92,
    "start_time": "2024-08-01T23:42:08.787Z"
   },
   {
    "duration": 78,
    "start_time": "2024-08-01T23:42:08.882Z"
   },
   {
    "duration": 12,
    "start_time": "2024-08-01T23:42:08.962Z"
   },
   {
    "duration": 20,
    "start_time": "2024-08-01T23:42:08.978Z"
   },
   {
    "duration": 47,
    "start_time": "2024-08-01T23:42:09.001Z"
   },
   {
    "duration": 89,
    "start_time": "2024-08-01T23:42:09.051Z"
   },
   {
    "duration": 20,
    "start_time": "2024-08-01T23:42:09.143Z"
   },
   {
    "duration": 17,
    "start_time": "2024-08-01T23:42:09.167Z"
   },
   {
    "duration": 102,
    "start_time": "2024-08-01T23:42:09.187Z"
   },
   {
    "duration": 132,
    "start_time": "2024-08-01T23:42:09.292Z"
   },
   {
    "duration": 19,
    "start_time": "2024-08-01T23:42:09.431Z"
   },
   {
    "duration": 5,
    "start_time": "2024-08-01T23:42:09.453Z"
   },
   {
    "duration": 24,
    "start_time": "2024-08-01T23:43:15.655Z"
   },
   {
    "duration": 5055,
    "start_time": "2024-08-03T18:33:09.022Z"
   },
   {
    "duration": 214,
    "start_time": "2024-08-03T18:33:14.081Z"
   },
   {
    "duration": 14,
    "start_time": "2024-08-03T18:33:14.298Z"
   },
   {
    "duration": 25,
    "start_time": "2024-08-03T18:33:14.316Z"
   },
   {
    "duration": 27,
    "start_time": "2024-08-03T18:33:14.344Z"
   },
   {
    "duration": 10,
    "start_time": "2024-08-03T18:33:14.375Z"
   },
   {
    "duration": 18,
    "start_time": "2024-08-03T18:33:14.388Z"
   },
   {
    "duration": 109,
    "start_time": "2024-08-03T18:33:14.413Z"
   },
   {
    "duration": 85,
    "start_time": "2024-08-03T18:33:14.526Z"
   },
   {
    "duration": 26,
    "start_time": "2024-08-03T18:33:14.617Z"
   },
   {
    "duration": 24,
    "start_time": "2024-08-03T18:33:14.646Z"
   },
   {
    "duration": 542,
    "start_time": "2024-08-03T18:33:14.673Z"
   },
   {
    "duration": 12,
    "start_time": "2024-08-03T18:33:15.218Z"
   },
   {
    "duration": 160,
    "start_time": "2024-08-03T18:33:15.233Z"
   },
   {
    "duration": 24,
    "start_time": "2024-08-03T18:33:15.396Z"
   },
   {
    "duration": 84,
    "start_time": "2024-08-03T18:33:15.423Z"
   },
   {
    "duration": 3,
    "start_time": "2024-08-03T18:33:15.511Z"
   },
   {
    "duration": 4,
    "start_time": "2024-08-03T18:33:15.517Z"
   },
   {
    "duration": 143,
    "start_time": "2024-08-03T18:33:15.525Z"
   },
   {
    "duration": 47,
    "start_time": "2024-08-03T18:33:15.670Z"
   },
   {
    "duration": 117,
    "start_time": "2024-08-03T18:33:15.720Z"
   },
   {
    "duration": 4,
    "start_time": "2024-08-03T18:33:15.839Z"
   },
   {
    "duration": 22,
    "start_time": "2024-08-03T18:33:15.846Z"
   },
   {
    "duration": 55,
    "start_time": "2024-08-03T18:33:15.872Z"
   },
   {
    "duration": 79,
    "start_time": "2024-08-03T18:33:15.930Z"
   },
   {
    "duration": 661,
    "start_time": "2024-08-03T18:33:16.012Z"
   },
   {
    "duration": 8,
    "start_time": "2024-08-03T18:33:16.677Z"
   },
   {
    "duration": 9,
    "start_time": "2024-08-03T18:33:16.695Z"
   },
   {
    "duration": 9513,
    "start_time": "2024-08-03T18:33:16.707Z"
   },
   {
    "duration": 6,
    "start_time": "2024-08-03T18:33:26.224Z"
   },
   {
    "duration": 139,
    "start_time": "2024-08-03T18:33:26.234Z"
   },
   {
    "duration": 12,
    "start_time": "2024-08-03T18:33:26.376Z"
   },
   {
    "duration": 76,
    "start_time": "2024-08-03T18:33:26.391Z"
   },
   {
    "duration": 8,
    "start_time": "2024-08-03T18:33:26.471Z"
   },
   {
    "duration": 9,
    "start_time": "2024-08-03T18:33:26.482Z"
   },
   {
    "duration": 5,
    "start_time": "2024-08-03T18:33:26.494Z"
   },
   {
    "duration": 97,
    "start_time": "2024-08-03T18:33:26.502Z"
   },
   {
    "duration": 4,
    "start_time": "2024-08-03T18:33:26.605Z"
   },
   {
    "duration": 234,
    "start_time": "2024-08-03T18:33:26.612Z"
   },
   {
    "duration": 46,
    "start_time": "2024-08-03T18:33:26.849Z"
   },
   {
    "duration": 6,
    "start_time": "2024-08-03T18:33:26.898Z"
   },
   {
    "duration": 67,
    "start_time": "2024-08-03T18:33:26.908Z"
   },
   {
    "duration": 46,
    "start_time": "2024-08-03T18:33:26.977Z"
   },
   {
    "duration": 13,
    "start_time": "2024-08-03T18:33:27.026Z"
   },
   {
    "duration": 3,
    "start_time": "2024-08-03T18:33:27.067Z"
   },
   {
    "duration": 22,
    "start_time": "2024-08-03T18:33:27.074Z"
   },
   {
    "duration": 122,
    "start_time": "2024-08-03T18:33:27.099Z"
   },
   {
    "duration": 12,
    "start_time": "2024-08-03T18:33:27.224Z"
   },
   {
    "duration": 30,
    "start_time": "2024-08-03T18:33:27.239Z"
   },
   {
    "duration": 141,
    "start_time": "2024-08-03T18:33:27.272Z"
   },
   {
    "duration": 12,
    "start_time": "2024-08-03T18:33:27.416Z"
   },
   {
    "duration": 15,
    "start_time": "2024-08-03T18:33:27.431Z"
   },
   {
    "duration": 36,
    "start_time": "2024-08-03T18:33:27.448Z"
   },
   {
    "duration": 14,
    "start_time": "2024-08-03T18:33:27.487Z"
   },
   {
    "duration": 7,
    "start_time": "2024-08-03T18:33:27.505Z"
   },
   {
    "duration": 59,
    "start_time": "2024-08-03T18:33:27.514Z"
   },
   {
    "duration": 113,
    "start_time": "2024-08-03T18:33:27.576Z"
   },
   {
    "duration": 95,
    "start_time": "2024-08-03T18:33:27.692Z"
   },
   {
    "duration": 122,
    "start_time": "2024-08-03T18:33:27.790Z"
   },
   {
    "duration": 179,
    "start_time": "2024-08-03T18:33:27.916Z"
   },
   {
    "duration": 90,
    "start_time": "2024-08-03T18:33:28.098Z"
   },
   {
    "duration": 83,
    "start_time": "2024-08-03T18:33:28.192Z"
   },
   {
    "duration": 13,
    "start_time": "2024-08-03T18:33:28.279Z"
   },
   {
    "duration": 21,
    "start_time": "2024-08-03T18:33:28.296Z"
   },
   {
    "duration": 51,
    "start_time": "2024-08-03T18:33:28.321Z"
   },
   {
    "duration": 89,
    "start_time": "2024-08-03T18:33:28.379Z"
   },
   {
    "duration": 24,
    "start_time": "2024-08-03T18:33:28.472Z"
   },
   {
    "duration": 18,
    "start_time": "2024-08-03T18:33:28.499Z"
   },
   {
    "duration": 105,
    "start_time": "2024-08-03T18:33:28.520Z"
   },
   {
    "duration": 137,
    "start_time": "2024-08-03T18:33:28.628Z"
   },
   {
    "duration": 22,
    "start_time": "2024-08-03T18:33:28.768Z"
   },
   {
    "duration": 5,
    "start_time": "2024-08-03T18:33:28.794Z"
   },
   {
    "duration": 1502,
    "start_time": "2024-08-19T21:56:01.895Z"
   },
   {
    "duration": 210,
    "start_time": "2024-08-19T21:56:03.400Z"
   },
   {
    "duration": 15,
    "start_time": "2024-08-19T21:56:03.613Z"
   },
   {
    "duration": 33,
    "start_time": "2024-08-19T21:56:03.633Z"
   },
   {
    "duration": 8,
    "start_time": "2024-08-19T21:56:03.669Z"
   },
   {
    "duration": 42,
    "start_time": "2024-08-19T21:56:03.679Z"
   },
   {
    "duration": 29,
    "start_time": "2024-08-19T21:56:03.727Z"
   },
   {
    "duration": 94,
    "start_time": "2024-08-19T21:56:03.758Z"
   },
   {
    "duration": 92,
    "start_time": "2024-08-19T21:56:03.855Z"
   },
   {
    "duration": 24,
    "start_time": "2024-08-19T21:56:03.953Z"
   },
   {
    "duration": 7,
    "start_time": "2024-08-19T21:56:03.980Z"
   },
   {
    "duration": 550,
    "start_time": "2024-08-19T21:56:04.014Z"
   },
   {
    "duration": 12,
    "start_time": "2024-08-19T21:56:04.567Z"
   },
   {
    "duration": 155,
    "start_time": "2024-08-19T21:56:04.582Z"
   },
   {
    "duration": 24,
    "start_time": "2024-08-19T21:56:04.739Z"
   },
   {
    "duration": 84,
    "start_time": "2024-08-19T21:56:04.765Z"
   },
   {
    "duration": 3,
    "start_time": "2024-08-19T21:56:04.852Z"
   },
   {
    "duration": 4,
    "start_time": "2024-08-19T21:56:04.858Z"
   },
   {
    "duration": 140,
    "start_time": "2024-08-19T21:56:04.864Z"
   },
   {
    "duration": 45,
    "start_time": "2024-08-19T21:56:05.007Z"
   },
   {
    "duration": 114,
    "start_time": "2024-08-19T21:56:05.055Z"
   },
   {
    "duration": 4,
    "start_time": "2024-08-19T21:56:05.172Z"
   },
   {
    "duration": 3,
    "start_time": "2024-08-19T21:56:05.180Z"
   },
   {
    "duration": 78,
    "start_time": "2024-08-19T21:56:05.186Z"
   },
   {
    "duration": 71,
    "start_time": "2024-08-19T21:56:05.267Z"
   },
   {
    "duration": 622,
    "start_time": "2024-08-19T21:56:05.341Z"
   },
   {
    "duration": 8,
    "start_time": "2024-08-19T21:56:05.966Z"
   },
   {
    "duration": 30,
    "start_time": "2024-08-19T21:56:05.983Z"
   },
   {
    "duration": 9569,
    "start_time": "2024-08-19T21:56:06.017Z"
   },
   {
    "duration": 25,
    "start_time": "2024-08-19T21:56:15.590Z"
   },
   {
    "duration": 115,
    "start_time": "2024-08-19T21:56:15.618Z"
   },
   {
    "duration": 12,
    "start_time": "2024-08-19T21:56:15.736Z"
   },
   {
    "duration": 84,
    "start_time": "2024-08-19T21:56:15.750Z"
   },
   {
    "duration": 8,
    "start_time": "2024-08-19T21:56:15.837Z"
   },
   {
    "duration": 65,
    "start_time": "2024-08-19T21:56:15.849Z"
   },
   {
    "duration": 5,
    "start_time": "2024-08-19T21:56:15.916Z"
   },
   {
    "duration": 100,
    "start_time": "2024-08-19T21:56:15.924Z"
   },
   {
    "duration": 4,
    "start_time": "2024-08-19T21:56:16.027Z"
   },
   {
    "duration": 180,
    "start_time": "2024-08-19T21:56:16.034Z"
   },
   {
    "duration": 26,
    "start_time": "2024-08-19T21:56:16.217Z"
   },
   {
    "duration": 7,
    "start_time": "2024-08-19T21:56:16.246Z"
   },
   {
    "duration": 70,
    "start_time": "2024-08-19T21:56:16.256Z"
   },
   {
    "duration": 42,
    "start_time": "2024-08-19T21:56:16.329Z"
   },
   {
    "duration": 13,
    "start_time": "2024-08-19T21:56:16.374Z"
   },
   {
    "duration": 6,
    "start_time": "2024-08-19T21:56:16.414Z"
   },
   {
    "duration": 20,
    "start_time": "2024-08-19T21:56:16.424Z"
   },
   {
    "duration": 125,
    "start_time": "2024-08-19T21:56:16.447Z"
   },
   {
    "duration": 13,
    "start_time": "2024-08-19T21:56:16.575Z"
   },
   {
    "duration": 12,
    "start_time": "2024-08-19T21:56:16.611Z"
   },
   {
    "duration": 135,
    "start_time": "2024-08-19T21:56:16.626Z"
   },
   {
    "duration": 15,
    "start_time": "2024-08-19T21:56:16.764Z"
   },
   {
    "duration": 36,
    "start_time": "2024-08-19T21:56:16.782Z"
   },
   {
    "duration": 20,
    "start_time": "2024-08-19T21:56:16.820Z"
   },
   {
    "duration": 14,
    "start_time": "2024-08-19T21:56:16.843Z"
   },
   {
    "duration": 9,
    "start_time": "2024-08-19T21:56:16.860Z"
   },
   {
    "duration": 17,
    "start_time": "2024-08-19T21:56:16.912Z"
   },
   {
    "duration": 115,
    "start_time": "2024-08-19T21:56:16.935Z"
   },
   {
    "duration": 90,
    "start_time": "2024-08-19T21:56:17.053Z"
   },
   {
    "duration": 114,
    "start_time": "2024-08-19T21:56:17.146Z"
   },
   {
    "duration": 173,
    "start_time": "2024-08-19T21:56:17.263Z"
   },
   {
    "duration": 80,
    "start_time": "2024-08-19T21:56:17.439Z"
   },
   {
    "duration": 70,
    "start_time": "2024-08-19T21:56:17.522Z"
   },
   {
    "duration": 11,
    "start_time": "2024-08-19T21:56:17.612Z"
   },
   {
    "duration": 21,
    "start_time": "2024-08-19T21:56:17.627Z"
   },
   {
    "duration": 20,
    "start_time": "2024-08-19T21:56:17.650Z"
   },
   {
    "duration": 111,
    "start_time": "2024-08-19T21:56:17.673Z"
   },
   {
    "duration": 30,
    "start_time": "2024-08-19T21:56:17.787Z"
   },
   {
    "duration": 17,
    "start_time": "2024-08-19T21:56:17.820Z"
   },
   {
    "duration": 98,
    "start_time": "2024-08-19T21:56:17.840Z"
   },
   {
    "duration": 139,
    "start_time": "2024-08-19T21:56:17.941Z"
   },
   {
    "duration": 17,
    "start_time": "2024-08-19T21:56:18.083Z"
   },
   {
    "duration": 13,
    "start_time": "2024-08-19T21:56:18.103Z"
   },
   {
    "duration": 905,
    "start_time": "2024-09-19T21:31:07.165Z"
   },
   {
    "duration": 133,
    "start_time": "2024-09-19T21:31:08.072Z"
   },
   {
    "duration": 9,
    "start_time": "2024-09-19T21:31:08.207Z"
   },
   {
    "duration": 15,
    "start_time": "2024-09-19T21:31:08.218Z"
   },
   {
    "duration": 4,
    "start_time": "2024-09-19T21:31:08.236Z"
   },
   {
    "duration": 6,
    "start_time": "2024-09-19T21:31:08.242Z"
   },
   {
    "duration": 27,
    "start_time": "2024-09-19T21:31:08.250Z"
   },
   {
    "duration": 42,
    "start_time": "2024-09-19T21:31:08.279Z"
   },
   {
    "duration": 65,
    "start_time": "2024-09-19T21:31:08.323Z"
   },
   {
    "duration": 15,
    "start_time": "2024-09-19T21:31:08.392Z"
   },
   {
    "duration": 5,
    "start_time": "2024-09-19T21:31:08.409Z"
   },
   {
    "duration": 268,
    "start_time": "2024-09-19T21:31:08.415Z"
   },
   {
    "duration": 8,
    "start_time": "2024-09-19T21:31:08.684Z"
   },
   {
    "duration": 76,
    "start_time": "2024-09-19T21:31:08.694Z"
   },
   {
    "duration": 14,
    "start_time": "2024-09-19T21:31:08.772Z"
   },
   {
    "duration": 34,
    "start_time": "2024-09-19T21:31:08.787Z"
   },
   {
    "duration": 2,
    "start_time": "2024-09-19T21:31:08.823Z"
   },
   {
    "duration": 2,
    "start_time": "2024-09-19T21:31:08.828Z"
   },
   {
    "duration": 102,
    "start_time": "2024-09-19T21:31:08.831Z"
   },
   {
    "duration": 27,
    "start_time": "2024-09-19T21:31:08.934Z"
   },
   {
    "duration": 51,
    "start_time": "2024-09-19T21:31:08.971Z"
   },
   {
    "duration": 2,
    "start_time": "2024-09-19T21:31:09.024Z"
   },
   {
    "duration": 2,
    "start_time": "2024-09-19T21:31:09.028Z"
   },
   {
    "duration": 52,
    "start_time": "2024-09-19T21:31:09.032Z"
   },
   {
    "duration": 29,
    "start_time": "2024-09-19T21:31:09.086Z"
   },
   {
    "duration": 363,
    "start_time": "2024-09-19T21:31:09.117Z"
   },
   {
    "duration": 4,
    "start_time": "2024-09-19T21:31:09.482Z"
   },
   {
    "duration": 5,
    "start_time": "2024-09-19T21:31:09.491Z"
   },
   {
    "duration": 4399,
    "start_time": "2024-09-19T21:31:09.498Z"
   },
   {
    "duration": 3,
    "start_time": "2024-09-19T21:31:13.899Z"
   },
   {
    "duration": 79,
    "start_time": "2024-09-19T21:31:13.905Z"
   },
   {
    "duration": 8,
    "start_time": "2024-09-19T21:31:13.986Z"
   },
   {
    "duration": 13,
    "start_time": "2024-09-19T21:31:13.996Z"
   },
   {
    "duration": 60,
    "start_time": "2024-09-19T21:31:14.011Z"
   },
   {
    "duration": 6,
    "start_time": "2024-09-19T21:31:14.072Z"
   },
   {
    "duration": 3,
    "start_time": "2024-09-19T21:31:14.079Z"
   },
   {
    "duration": 30,
    "start_time": "2024-09-19T21:31:14.084Z"
   },
   {
    "duration": 3,
    "start_time": "2024-09-19T21:31:14.171Z"
   },
   {
    "duration": 107,
    "start_time": "2024-09-19T21:31:14.176Z"
   },
   {
    "duration": 14,
    "start_time": "2024-09-19T21:31:14.285Z"
   },
   {
    "duration": 4,
    "start_time": "2024-09-19T21:31:14.301Z"
   },
   {
    "duration": 22,
    "start_time": "2024-09-19T21:31:14.307Z"
   },
   {
    "duration": 55,
    "start_time": "2024-09-19T21:31:14.330Z"
   },
   {
    "duration": 8,
    "start_time": "2024-09-19T21:31:14.387Z"
   },
   {
    "duration": 2,
    "start_time": "2024-09-19T21:31:14.398Z"
   },
   {
    "duration": 11,
    "start_time": "2024-09-19T21:31:14.401Z"
   },
   {
    "duration": 77,
    "start_time": "2024-09-19T21:31:14.414Z"
   },
   {
    "duration": 7,
    "start_time": "2024-09-19T21:31:14.493Z"
   },
   {
    "duration": 6,
    "start_time": "2024-09-19T21:31:14.501Z"
   },
   {
    "duration": 80,
    "start_time": "2024-09-19T21:31:14.509Z"
   },
   {
    "duration": 6,
    "start_time": "2024-09-19T21:31:14.591Z"
   },
   {
    "duration": 8,
    "start_time": "2024-09-19T21:31:14.599Z"
   },
   {
    "duration": 10,
    "start_time": "2024-09-19T21:31:14.608Z"
   },
   {
    "duration": 8,
    "start_time": "2024-09-19T21:31:14.620Z"
   },
   {
    "duration": 4,
    "start_time": "2024-09-19T21:31:14.629Z"
   },
   {
    "duration": 9,
    "start_time": "2024-09-19T21:31:14.669Z"
   },
   {
    "duration": 50,
    "start_time": "2024-09-19T21:31:14.680Z"
   },
   {
    "duration": 61,
    "start_time": "2024-09-19T21:31:14.731Z"
   },
   {
    "duration": 52,
    "start_time": "2024-09-19T21:31:14.794Z"
   },
   {
    "duration": 102,
    "start_time": "2024-09-19T21:31:14.848Z"
   },
   {
    "duration": 46,
    "start_time": "2024-09-19T21:31:14.953Z"
   },
   {
    "duration": 40,
    "start_time": "2024-09-19T21:31:15.001Z"
   },
   {
    "duration": 7,
    "start_time": "2024-09-19T21:31:15.043Z"
   },
   {
    "duration": 28,
    "start_time": "2024-09-19T21:31:15.052Z"
   },
   {
    "duration": 11,
    "start_time": "2024-09-19T21:31:15.082Z"
   },
   {
    "duration": 38,
    "start_time": "2024-09-19T21:31:15.095Z"
   },
   {
    "duration": 12,
    "start_time": "2024-09-19T21:31:15.135Z"
   },
   {
    "duration": 9,
    "start_time": "2024-09-19T21:31:15.170Z"
   },
   {
    "duration": 39,
    "start_time": "2024-09-19T21:31:15.181Z"
   },
   {
    "duration": 86,
    "start_time": "2024-09-19T21:31:15.222Z"
   },
   {
    "duration": 9,
    "start_time": "2024-09-19T21:31:15.310Z"
   },
   {
    "duration": 4,
    "start_time": "2024-09-19T21:31:15.321Z"
   },
   {
    "duration": 6,
    "start_time": "2024-09-19T21:32:52.202Z"
   },
   {
    "duration": 22,
    "start_time": "2024-09-19T22:08:12.770Z"
   },
   {
    "duration": 15,
    "start_time": "2024-09-19T22:08:31.665Z"
   },
   {
    "duration": 845,
    "start_time": "2024-09-20T00:52:54.680Z"
   },
   {
    "duration": 141,
    "start_time": "2024-09-20T00:52:55.527Z"
   },
   {
    "duration": 8,
    "start_time": "2024-09-20T00:52:55.670Z"
   },
   {
    "duration": 15,
    "start_time": "2024-09-20T00:52:55.680Z"
   },
   {
    "duration": 8,
    "start_time": "2024-09-20T00:52:55.697Z"
   },
   {
    "duration": 6,
    "start_time": "2024-09-20T00:52:55.707Z"
   },
   {
    "duration": 11,
    "start_time": "2024-09-20T00:52:55.715Z"
   },
   {
    "duration": 46,
    "start_time": "2024-09-20T00:52:55.728Z"
   },
   {
    "duration": 76,
    "start_time": "2024-09-20T00:52:55.776Z"
   },
   {
    "duration": 16,
    "start_time": "2024-09-20T00:52:55.856Z"
   },
   {
    "duration": 5,
    "start_time": "2024-09-20T00:52:55.874Z"
   },
   {
    "duration": 251,
    "start_time": "2024-09-20T00:52:55.881Z"
   },
   {
    "duration": 7,
    "start_time": "2024-09-20T00:52:56.134Z"
   },
   {
    "duration": 74,
    "start_time": "2024-09-20T00:52:56.143Z"
   },
   {
    "duration": 14,
    "start_time": "2024-09-20T00:52:56.219Z"
   },
   {
    "duration": 35,
    "start_time": "2024-09-20T00:52:56.234Z"
   },
   {
    "duration": 2,
    "start_time": "2024-09-20T00:52:56.271Z"
   },
   {
    "duration": 3,
    "start_time": "2024-09-20T00:52:56.274Z"
   },
   {
    "duration": 95,
    "start_time": "2024-09-20T00:52:56.279Z"
   },
   {
    "duration": 39,
    "start_time": "2024-09-20T00:52:56.376Z"
   },
   {
    "duration": 52,
    "start_time": "2024-09-20T00:52:56.417Z"
   },
   {
    "duration": 2,
    "start_time": "2024-09-20T00:52:56.471Z"
   },
   {
    "duration": 3,
    "start_time": "2024-09-20T00:52:56.475Z"
   },
   {
    "duration": 51,
    "start_time": "2024-09-20T00:52:56.480Z"
   },
   {
    "duration": 31,
    "start_time": "2024-09-20T00:52:56.532Z"
   },
   {
    "duration": 443,
    "start_time": "2024-09-20T00:52:56.565Z"
   },
   {
    "duration": 5,
    "start_time": "2024-09-20T00:52:57.010Z"
   },
   {
    "duration": 6,
    "start_time": "2024-09-20T00:52:57.020Z"
   },
   {
    "duration": 4448,
    "start_time": "2024-09-20T00:52:57.028Z"
   },
   {
    "duration": 4,
    "start_time": "2024-09-20T00:53:01.478Z"
   },
   {
    "duration": 50,
    "start_time": "2024-09-20T00:53:01.484Z"
   },
   {
    "duration": 6,
    "start_time": "2024-09-20T00:53:01.536Z"
   },
   {
    "duration": 61,
    "start_time": "2024-09-20T00:53:01.544Z"
   },
   {
    "duration": 5,
    "start_time": "2024-09-20T00:53:01.607Z"
   },
   {
    "duration": 6,
    "start_time": "2024-09-20T00:53:01.613Z"
   },
   {
    "duration": 4,
    "start_time": "2024-09-20T00:53:01.620Z"
   },
   {
    "duration": 88,
    "start_time": "2024-09-20T00:53:01.625Z"
   },
   {
    "duration": 2,
    "start_time": "2024-09-20T00:53:01.715Z"
   },
   {
    "duration": 123,
    "start_time": "2024-09-20T00:53:01.719Z"
   },
   {
    "duration": 15,
    "start_time": "2024-09-20T00:53:01.843Z"
   },
   {
    "duration": 45,
    "start_time": "2024-09-20T00:53:01.860Z"
   },
   {
    "duration": 4,
    "start_time": "2024-09-20T00:53:01.907Z"
   },
   {
    "duration": 22,
    "start_time": "2024-09-20T00:53:01.913Z"
   },
   {
    "duration": 26,
    "start_time": "2024-09-20T00:53:01.936Z"
   },
   {
    "duration": 7,
    "start_time": "2024-09-20T00:53:01.964Z"
   },
   {
    "duration": 2,
    "start_time": "2024-09-20T00:53:01.973Z"
   },
   {
    "duration": 38,
    "start_time": "2024-09-20T00:53:01.976Z"
   },
   {
    "duration": 54,
    "start_time": "2024-09-20T00:53:02.015Z"
   },
   {
    "duration": 7,
    "start_time": "2024-09-20T00:53:02.071Z"
   },
   {
    "duration": 6,
    "start_time": "2024-09-20T00:53:02.105Z"
   },
   {
    "duration": 64,
    "start_time": "2024-09-20T00:53:02.113Z"
   },
   {
    "duration": 6,
    "start_time": "2024-09-20T00:53:02.179Z"
   },
   {
    "duration": 9,
    "start_time": "2024-09-20T00:53:02.205Z"
   },
   {
    "duration": 12,
    "start_time": "2024-09-20T00:53:02.216Z"
   },
   {
    "duration": 8,
    "start_time": "2024-09-20T00:53:02.230Z"
   },
   {
    "duration": 4,
    "start_time": "2024-09-20T00:53:02.240Z"
   },
   {
    "duration": 9,
    "start_time": "2024-09-20T00:53:02.246Z"
   },
   {
    "duration": 91,
    "start_time": "2024-09-20T00:53:02.257Z"
   },
   {
    "duration": 58,
    "start_time": "2024-09-20T00:53:02.350Z"
   },
   {
    "duration": 65,
    "start_time": "2024-09-20T00:53:02.411Z"
   },
   {
    "duration": 102,
    "start_time": "2024-09-20T00:53:02.477Z"
   },
   {
    "duration": 57,
    "start_time": "2024-09-20T00:53:02.581Z"
   },
   {
    "duration": 36,
    "start_time": "2024-09-20T00:53:02.640Z"
   },
   {
    "duration": 7,
    "start_time": "2024-09-20T00:53:02.678Z"
   },
   {
    "duration": 31,
    "start_time": "2024-09-20T00:53:02.687Z"
   },
   {
    "duration": 11,
    "start_time": "2024-09-20T00:53:02.720Z"
   },
   {
    "duration": 42,
    "start_time": "2024-09-20T00:53:02.733Z"
   },
   {
    "duration": 28,
    "start_time": "2024-09-20T00:53:02.777Z"
   },
   {
    "duration": 9,
    "start_time": "2024-09-20T00:53:02.807Z"
   },
   {
    "duration": 41,
    "start_time": "2024-09-20T00:53:02.818Z"
   },
   {
    "duration": 95,
    "start_time": "2024-09-20T00:53:02.861Z"
   },
   {
    "duration": 11,
    "start_time": "2024-09-20T00:53:02.958Z"
   },
   {
    "duration": 4,
    "start_time": "2024-09-20T00:53:02.970Z"
   },
   {
    "duration": 872,
    "start_time": "2024-09-20T19:10:52.659Z"
   },
   {
    "duration": 141,
    "start_time": "2024-09-20T19:10:53.534Z"
   },
   {
    "duration": 8,
    "start_time": "2024-09-20T19:10:53.677Z"
   },
   {
    "duration": 18,
    "start_time": "2024-09-20T19:10:53.687Z"
   },
   {
    "duration": 4,
    "start_time": "2024-09-20T19:10:53.707Z"
   },
   {
    "duration": 7,
    "start_time": "2024-09-20T19:10:53.713Z"
   },
   {
    "duration": 13,
    "start_time": "2024-09-20T19:10:53.721Z"
   },
   {
    "duration": 45,
    "start_time": "2024-09-20T19:10:53.735Z"
   },
   {
    "duration": 46,
    "start_time": "2024-09-20T19:10:53.806Z"
   },
   {
    "duration": 15,
    "start_time": "2024-09-20T19:10:53.854Z"
   },
   {
    "duration": 4,
    "start_time": "2024-09-20T19:10:53.871Z"
   },
   {
    "duration": 250,
    "start_time": "2024-09-20T19:10:53.877Z"
   },
   {
    "duration": 7,
    "start_time": "2024-09-20T19:10:54.129Z"
   },
   {
    "duration": 78,
    "start_time": "2024-09-20T19:10:54.141Z"
   },
   {
    "duration": 13,
    "start_time": "2024-09-20T19:10:54.220Z"
   },
   {
    "duration": 35,
    "start_time": "2024-09-20T19:10:54.235Z"
   },
   {
    "duration": 2,
    "start_time": "2024-09-20T19:10:54.272Z"
   },
   {
    "duration": 4,
    "start_time": "2024-09-20T19:10:54.275Z"
   },
   {
    "duration": 93,
    "start_time": "2024-09-20T19:10:54.281Z"
   },
   {
    "duration": 45,
    "start_time": "2024-09-20T19:10:54.376Z"
   },
   {
    "duration": 55,
    "start_time": "2024-09-20T19:10:54.423Z"
   },
   {
    "duration": 3,
    "start_time": "2024-09-20T19:10:54.480Z"
   },
   {
    "duration": 2,
    "start_time": "2024-09-20T19:10:54.485Z"
   },
   {
    "duration": 30,
    "start_time": "2024-09-20T19:10:54.506Z"
   },
   {
    "duration": 30,
    "start_time": "2024-09-20T19:10:54.538Z"
   },
   {
    "duration": 403,
    "start_time": "2024-09-20T19:10:54.569Z"
   },
   {
    "duration": 5,
    "start_time": "2024-09-20T19:10:54.974Z"
   },
   {
    "duration": 4,
    "start_time": "2024-09-20T19:10:54.981Z"
   },
   {
    "duration": 4432,
    "start_time": "2024-09-20T19:10:54.987Z"
   },
   {
    "duration": 4,
    "start_time": "2024-09-20T19:10:59.422Z"
   },
   {
    "duration": 80,
    "start_time": "2024-09-20T19:10:59.428Z"
   },
   {
    "duration": 8,
    "start_time": "2024-09-20T19:10:59.510Z"
   },
   {
    "duration": 12,
    "start_time": "2024-09-20T19:10:59.520Z"
   },
   {
    "duration": 4,
    "start_time": "2024-09-20T19:10:59.534Z"
   },
   {
    "duration": 5,
    "start_time": "2024-09-20T19:10:59.539Z"
   },
   {
    "duration": 59,
    "start_time": "2024-09-20T19:10:59.546Z"
   },
   {
    "duration": 32,
    "start_time": "2024-09-20T19:10:59.607Z"
   },
   {
    "duration": 2,
    "start_time": "2024-09-20T19:10:59.642Z"
   },
   {
    "duration": 170,
    "start_time": "2024-09-20T19:10:59.647Z"
   },
   {
    "duration": 15,
    "start_time": "2024-09-20T19:10:59.819Z"
   },
   {
    "duration": 5,
    "start_time": "2024-09-20T19:10:59.840Z"
   },
   {
    "duration": 5,
    "start_time": "2024-09-20T19:10:59.847Z"
   },
   {
    "duration": 21,
    "start_time": "2024-09-20T19:10:59.853Z"
   },
   {
    "duration": 53,
    "start_time": "2024-09-20T19:10:59.876Z"
   },
   {
    "duration": 8,
    "start_time": "2024-09-20T19:10:59.930Z"
   },
   {
    "duration": 3,
    "start_time": "2024-09-20T19:10:59.940Z"
   },
   {
    "duration": 11,
    "start_time": "2024-09-20T19:10:59.944Z"
   },
   {
    "duration": 87,
    "start_time": "2024-09-20T19:10:59.957Z"
   },
   {
    "duration": 6,
    "start_time": "2024-09-20T19:11:00.047Z"
   },
   {
    "duration": 6,
    "start_time": "2024-09-20T19:11:00.055Z"
   },
   {
    "duration": 80,
    "start_time": "2024-09-20T19:11:00.062Z"
   },
   {
    "duration": 6,
    "start_time": "2024-09-20T19:11:00.144Z"
   },
   {
    "duration": 9,
    "start_time": "2024-09-20T19:11:00.151Z"
   },
   {
    "duration": 10,
    "start_time": "2024-09-20T19:11:00.162Z"
   },
   {
    "duration": 32,
    "start_time": "2024-09-20T19:11:00.174Z"
   },
   {
    "duration": 4,
    "start_time": "2024-09-20T19:11:00.209Z"
   },
   {
    "duration": 9,
    "start_time": "2024-09-20T19:11:00.215Z"
   },
   {
    "duration": 55,
    "start_time": "2024-09-20T19:11:00.225Z"
   },
   {
    "duration": 52,
    "start_time": "2024-09-20T19:11:00.305Z"
   },
   {
    "duration": 71,
    "start_time": "2024-09-20T19:11:00.358Z"
   },
   {
    "duration": 99,
    "start_time": "2024-09-20T19:11:00.432Z"
   },
   {
    "duration": 38,
    "start_time": "2024-09-20T19:11:00.533Z"
   },
   {
    "duration": 56,
    "start_time": "2024-09-20T19:11:00.572Z"
   },
   {
    "duration": 7,
    "start_time": "2024-09-20T19:11:00.630Z"
   },
   {
    "duration": 11,
    "start_time": "2024-09-20T19:11:00.639Z"
   },
   {
    "duration": 11,
    "start_time": "2024-09-20T19:11:00.651Z"
   },
   {
    "duration": 64,
    "start_time": "2024-09-20T19:11:00.664Z"
   },
   {
    "duration": 12,
    "start_time": "2024-09-20T19:11:00.730Z"
   },
   {
    "duration": 10,
    "start_time": "2024-09-20T19:11:00.743Z"
   },
   {
    "duration": 61,
    "start_time": "2024-09-20T19:11:00.755Z"
   },
   {
    "duration": 68,
    "start_time": "2024-09-20T19:11:00.818Z"
   },
   {
    "duration": 21,
    "start_time": "2024-09-20T19:11:00.887Z"
   },
   {
    "duration": 4,
    "start_time": "2024-09-20T19:11:00.909Z"
   },
   {
    "duration": 882,
    "start_time": "2024-09-22T15:39:49.657Z"
   },
   {
    "duration": 134,
    "start_time": "2024-09-22T15:39:50.541Z"
   },
   {
    "duration": 10,
    "start_time": "2024-09-22T15:39:50.677Z"
   },
   {
    "duration": 15,
    "start_time": "2024-09-22T15:39:50.689Z"
   },
   {
    "duration": 3,
    "start_time": "2024-09-22T15:39:50.706Z"
   },
   {
    "duration": 21,
    "start_time": "2024-09-22T15:39:50.711Z"
   },
   {
    "duration": 12,
    "start_time": "2024-09-22T15:39:50.733Z"
   },
   {
    "duration": 42,
    "start_time": "2024-09-22T15:39:50.746Z"
   },
   {
    "duration": 68,
    "start_time": "2024-09-22T15:39:50.790Z"
   },
   {
    "duration": 15,
    "start_time": "2024-09-22T15:39:50.861Z"
   },
   {
    "duration": 4,
    "start_time": "2024-09-22T15:39:50.878Z"
   },
   {
    "duration": 241,
    "start_time": "2024-09-22T15:39:50.883Z"
   },
   {
    "duration": 10,
    "start_time": "2024-09-22T15:39:51.126Z"
   },
   {
    "duration": 61,
    "start_time": "2024-09-22T15:39:51.138Z"
   },
   {
    "duration": 12,
    "start_time": "2024-09-22T15:39:51.201Z"
   },
   {
    "duration": 35,
    "start_time": "2024-09-22T15:39:51.232Z"
   },
   {
    "duration": 2,
    "start_time": "2024-09-22T15:39:51.269Z"
   },
   {
    "duration": 2,
    "start_time": "2024-09-22T15:39:51.274Z"
   },
   {
    "duration": 86,
    "start_time": "2024-09-22T15:39:51.278Z"
   },
   {
    "duration": 27,
    "start_time": "2024-09-22T15:39:51.366Z"
   },
   {
    "duration": 69,
    "start_time": "2024-09-22T15:39:51.394Z"
   },
   {
    "duration": 3,
    "start_time": "2024-09-22T15:39:51.464Z"
   },
   {
    "duration": 2,
    "start_time": "2024-09-22T15:39:51.469Z"
   },
   {
    "duration": 32,
    "start_time": "2024-09-22T15:39:51.473Z"
   },
   {
    "duration": 50,
    "start_time": "2024-09-22T15:39:51.507Z"
   },
   {
    "duration": 368,
    "start_time": "2024-09-22T15:39:51.558Z"
   },
   {
    "duration": 5,
    "start_time": "2024-09-22T15:39:51.928Z"
   },
   {
    "duration": 4,
    "start_time": "2024-09-22T15:39:51.939Z"
   },
   {
    "duration": 4237,
    "start_time": "2024-09-22T15:39:51.945Z"
   },
   {
    "duration": 3,
    "start_time": "2024-09-22T15:39:56.185Z"
   },
   {
    "duration": 62,
    "start_time": "2024-09-22T15:39:56.190Z"
   },
   {
    "duration": 7,
    "start_time": "2024-09-22T15:39:56.253Z"
   },
   {
    "duration": 11,
    "start_time": "2024-09-22T15:39:56.262Z"
   },
   {
    "duration": 57,
    "start_time": "2024-09-22T15:39:56.275Z"
   },
   {
    "duration": 5,
    "start_time": "2024-09-22T15:39:56.334Z"
   },
   {
    "duration": 3,
    "start_time": "2024-09-22T15:39:56.340Z"
   },
   {
    "duration": 88,
    "start_time": "2024-09-22T15:39:56.344Z"
   },
   {
    "duration": 2,
    "start_time": "2024-09-22T15:39:56.434Z"
   },
   {
    "duration": 116,
    "start_time": "2024-09-22T15:39:56.438Z"
   },
   {
    "duration": 14,
    "start_time": "2024-09-22T15:39:56.556Z"
   },
   {
    "duration": 6,
    "start_time": "2024-09-22T15:39:56.572Z"
   },
   {
    "duration": 4,
    "start_time": "2024-09-22T15:39:56.579Z"
   },
   {
    "duration": 61,
    "start_time": "2024-09-22T15:39:56.584Z"
   },
   {
    "duration": 24,
    "start_time": "2024-09-22T15:39:56.647Z"
   },
   {
    "duration": 8,
    "start_time": "2024-09-22T15:39:56.673Z"
   },
   {
    "duration": 2,
    "start_time": "2024-09-22T15:39:56.683Z"
   },
   {
    "duration": 11,
    "start_time": "2024-09-22T15:39:56.687Z"
   },
   {
    "duration": 83,
    "start_time": "2024-09-22T15:39:56.699Z"
   },
   {
    "duration": 7,
    "start_time": "2024-09-22T15:39:56.783Z"
   },
   {
    "duration": 8,
    "start_time": "2024-09-22T15:39:56.792Z"
   },
   {
    "duration": 75,
    "start_time": "2024-09-22T15:39:56.801Z"
   },
   {
    "duration": 6,
    "start_time": "2024-09-22T15:39:56.878Z"
   },
   {
    "duration": 9,
    "start_time": "2024-09-22T15:39:56.885Z"
   },
   {
    "duration": 9,
    "start_time": "2024-09-22T15:39:56.895Z"
   },
   {
    "duration": 32,
    "start_time": "2024-09-22T15:39:56.906Z"
   },
   {
    "duration": 4,
    "start_time": "2024-09-22T15:39:56.939Z"
   },
   {
    "duration": 8,
    "start_time": "2024-09-22T15:39:56.944Z"
   },
   {
    "duration": 50,
    "start_time": "2024-09-22T15:39:56.954Z"
   },
   {
    "duration": 64,
    "start_time": "2024-09-22T15:39:57.006Z"
   },
   {
    "duration": 67,
    "start_time": "2024-09-22T15:39:57.072Z"
   },
   {
    "duration": 91,
    "start_time": "2024-09-22T15:39:57.141Z"
   },
   {
    "duration": 38,
    "start_time": "2024-09-22T15:39:57.234Z"
   },
   {
    "duration": 35,
    "start_time": "2024-09-22T15:39:57.274Z"
   },
   {
    "duration": 23,
    "start_time": "2024-09-22T15:39:57.311Z"
   },
   {
    "duration": 12,
    "start_time": "2024-09-22T15:39:57.336Z"
   },
   {
    "duration": 12,
    "start_time": "2024-09-22T15:39:57.349Z"
   },
   {
    "duration": 39,
    "start_time": "2024-09-22T15:39:57.362Z"
   },
   {
    "duration": 32,
    "start_time": "2024-09-22T15:39:57.405Z"
   },
   {
    "duration": 9,
    "start_time": "2024-09-22T15:39:57.439Z"
   },
   {
    "duration": 40,
    "start_time": "2024-09-22T15:39:57.450Z"
   },
   {
    "duration": 93,
    "start_time": "2024-09-22T15:39:57.491Z"
   },
   {
    "duration": 10,
    "start_time": "2024-09-22T15:39:57.587Z"
   },
   {
    "duration": 4,
    "start_time": "2024-09-22T15:39:57.598Z"
   },
   {
    "duration": 11,
    "start_time": "2024-09-22T21:30:06.245Z"
   },
   {
    "duration": 15,
    "start_time": "2024-09-23T01:13:03.383Z"
   },
   {
    "duration": 828,
    "start_time": "2024-09-28T20:07:04.796Z"
   },
   {
    "duration": 124,
    "start_time": "2024-09-28T20:07:05.626Z"
   },
   {
    "duration": 8,
    "start_time": "2024-09-28T20:07:05.752Z"
   },
   {
    "duration": 14,
    "start_time": "2024-09-28T20:07:05.761Z"
   },
   {
    "duration": 3,
    "start_time": "2024-09-28T20:07:05.778Z"
   },
   {
    "duration": 23,
    "start_time": "2024-09-28T20:07:05.783Z"
   },
   {
    "duration": 11,
    "start_time": "2024-09-28T20:07:05.808Z"
   },
   {
    "duration": 41,
    "start_time": "2024-09-28T20:07:05.820Z"
   },
   {
    "duration": 64,
    "start_time": "2024-09-28T20:07:05.863Z"
   },
   {
    "duration": 16,
    "start_time": "2024-09-28T20:07:05.929Z"
   },
   {
    "duration": 4,
    "start_time": "2024-09-28T20:07:05.947Z"
   },
   {
    "duration": 247,
    "start_time": "2024-09-28T20:07:05.953Z"
   },
   {
    "duration": 8,
    "start_time": "2024-09-28T20:07:06.202Z"
   },
   {
    "duration": 60,
    "start_time": "2024-09-28T20:07:06.214Z"
   },
   {
    "duration": 12,
    "start_time": "2024-09-28T20:07:06.275Z"
   },
   {
    "duration": 36,
    "start_time": "2024-09-28T20:07:06.305Z"
   },
   {
    "duration": 2,
    "start_time": "2024-09-28T20:07:06.343Z"
   },
   {
    "duration": 3,
    "start_time": "2024-09-28T20:07:06.346Z"
   },
   {
    "duration": 85,
    "start_time": "2024-09-28T20:07:06.350Z"
   },
   {
    "duration": 28,
    "start_time": "2024-09-28T20:07:06.437Z"
   },
   {
    "duration": 75,
    "start_time": "2024-09-28T20:07:06.467Z"
   },
   {
    "duration": 2,
    "start_time": "2024-09-28T20:07:06.544Z"
   },
   {
    "duration": 3,
    "start_time": "2024-09-28T20:07:06.548Z"
   },
   {
    "duration": 30,
    "start_time": "2024-09-28T20:07:06.552Z"
   },
   {
    "duration": 45,
    "start_time": "2024-09-28T20:07:06.584Z"
   },
   {
    "duration": 389,
    "start_time": "2024-09-28T20:07:06.631Z"
   },
   {
    "duration": 4,
    "start_time": "2024-09-28T20:07:07.022Z"
   },
   {
    "duration": 4,
    "start_time": "2024-09-28T20:07:07.028Z"
   },
   {
    "duration": 4429,
    "start_time": "2024-09-28T20:07:07.034Z"
   },
   {
    "duration": 4,
    "start_time": "2024-09-28T20:07:11.465Z"
   },
   {
    "duration": 55,
    "start_time": "2024-09-28T20:07:11.474Z"
   },
   {
    "duration": 7,
    "start_time": "2024-09-28T20:07:11.531Z"
   },
   {
    "duration": 67,
    "start_time": "2024-09-28T20:07:11.539Z"
   },
   {
    "duration": 4,
    "start_time": "2024-09-28T20:07:11.608Z"
   },
   {
    "duration": 5,
    "start_time": "2024-09-28T20:07:11.614Z"
   },
   {
    "duration": 3,
    "start_time": "2024-09-28T20:07:11.621Z"
   },
   {
    "duration": 91,
    "start_time": "2024-09-28T20:07:11.625Z"
   },
   {
    "duration": 4,
    "start_time": "2024-09-28T20:07:11.722Z"
   },
   {
    "duration": 117,
    "start_time": "2024-09-28T20:07:11.729Z"
   },
   {
    "duration": 16,
    "start_time": "2024-09-28T20:07:11.847Z"
   },
   {
    "duration": 5,
    "start_time": "2024-09-28T20:07:11.867Z"
   },
   {
    "duration": 4,
    "start_time": "2024-09-28T20:07:11.874Z"
   },
   {
    "duration": 46,
    "start_time": "2024-09-28T20:07:11.880Z"
   },
   {
    "duration": 26,
    "start_time": "2024-09-28T20:07:11.927Z"
   },
   {
    "duration": 8,
    "start_time": "2024-09-28T20:07:11.955Z"
   },
   {
    "duration": 2,
    "start_time": "2024-09-28T20:07:11.965Z"
   },
   {
    "duration": 10,
    "start_time": "2024-09-28T20:07:11.970Z"
   },
   {
    "duration": 54,
    "start_time": "2024-09-28T20:07:12.006Z"
   },
   {
    "duration": 7,
    "start_time": "2024-09-28T20:07:12.061Z"
   },
   {
    "duration": 6,
    "start_time": "2024-09-28T20:07:12.070Z"
   },
   {
    "duration": 85,
    "start_time": "2024-09-28T20:07:12.077Z"
   },
   {
    "duration": 7,
    "start_time": "2024-09-28T20:07:12.163Z"
   },
   {
    "duration": 8,
    "start_time": "2024-09-28T20:07:12.172Z"
   },
   {
    "duration": 27,
    "start_time": "2024-09-28T20:07:12.182Z"
   },
   {
    "duration": 7,
    "start_time": "2024-09-28T20:07:12.210Z"
   },
   {
    "duration": 6,
    "start_time": "2024-09-28T20:07:12.218Z"
   },
   {
    "duration": 7,
    "start_time": "2024-09-28T20:07:12.226Z"
   },
   {
    "duration": 77,
    "start_time": "2024-09-28T20:07:12.235Z"
   },
   {
    "duration": 45,
    "start_time": "2024-09-28T20:07:12.314Z"
   },
   {
    "duration": 72,
    "start_time": "2024-09-28T20:07:12.361Z"
   },
   {
    "duration": 95,
    "start_time": "2024-09-28T20:07:12.436Z"
   },
   {
    "duration": 35,
    "start_time": "2024-09-28T20:07:12.533Z"
   },
   {
    "duration": 52,
    "start_time": "2024-09-28T20:07:12.570Z"
   },
   {
    "duration": 7,
    "start_time": "2024-09-28T20:07:12.624Z"
   },
   {
    "duration": 18,
    "start_time": "2024-09-28T20:07:12.633Z"
   },
   {
    "duration": 62,
    "start_time": "2024-09-28T20:07:12.652Z"
   },
   {
    "duration": 12,
    "start_time": "2024-09-28T20:07:12.716Z"
   },
   {
    "duration": 8,
    "start_time": "2024-09-28T20:07:12.730Z"
   },
   {
    "duration": 38,
    "start_time": "2024-09-28T20:07:12.741Z"
   },
   {
    "duration": 90,
    "start_time": "2024-09-28T20:07:12.781Z"
   },
   {
    "duration": 9,
    "start_time": "2024-09-28T20:07:12.873Z"
   },
   {
    "duration": 21,
    "start_time": "2024-09-28T20:07:12.885Z"
   },
   {
    "duration": 847,
    "start_time": "2024-10-21T20:28:50.458Z"
   },
   {
    "duration": 139,
    "start_time": "2024-10-21T20:28:51.307Z"
   },
   {
    "duration": 10,
    "start_time": "2024-10-21T20:28:51.447Z"
   },
   {
    "duration": 15,
    "start_time": "2024-10-21T20:28:51.459Z"
   },
   {
    "duration": 5,
    "start_time": "2024-10-21T20:28:51.475Z"
   },
   {
    "duration": 7,
    "start_time": "2024-10-21T20:28:51.481Z"
   },
   {
    "duration": 26,
    "start_time": "2024-10-21T20:28:51.489Z"
   },
   {
    "duration": 40,
    "start_time": "2024-10-21T20:28:51.516Z"
   },
   {
    "duration": 62,
    "start_time": "2024-10-21T20:28:51.558Z"
   },
   {
    "duration": 14,
    "start_time": "2024-10-21T20:28:51.625Z"
   },
   {
    "duration": 5,
    "start_time": "2024-10-21T20:28:51.641Z"
   },
   {
    "duration": 251,
    "start_time": "2024-10-21T20:28:51.647Z"
   },
   {
    "duration": 10,
    "start_time": "2024-10-21T20:28:51.899Z"
   },
   {
    "duration": 61,
    "start_time": "2024-10-21T20:28:51.911Z"
   },
   {
    "duration": 12,
    "start_time": "2024-10-21T20:28:51.974Z"
   },
   {
    "duration": 34,
    "start_time": "2024-10-21T20:28:52.005Z"
   },
   {
    "duration": 3,
    "start_time": "2024-10-21T20:28:52.040Z"
   },
   {
    "duration": 3,
    "start_time": "2024-10-21T20:28:52.044Z"
   },
   {
    "duration": 87,
    "start_time": "2024-10-21T20:28:52.048Z"
   },
   {
    "duration": 25,
    "start_time": "2024-10-21T20:28:52.137Z"
   },
   {
    "duration": 63,
    "start_time": "2024-10-21T20:28:52.164Z"
   },
   {
    "duration": 3,
    "start_time": "2024-10-21T20:28:52.228Z"
   },
   {
    "duration": 3,
    "start_time": "2024-10-21T20:28:52.232Z"
   },
   {
    "duration": 30,
    "start_time": "2024-10-21T20:28:52.237Z"
   },
   {
    "duration": 48,
    "start_time": "2024-10-21T20:28:52.268Z"
   },
   {
    "duration": 376,
    "start_time": "2024-10-21T20:28:52.319Z"
   },
   {
    "duration": 12,
    "start_time": "2024-10-21T20:28:52.696Z"
   },
   {
    "duration": 24,
    "start_time": "2024-10-21T20:28:52.714Z"
   },
   {
    "duration": 4316,
    "start_time": "2024-10-21T20:28:52.739Z"
   },
   {
    "duration": 5,
    "start_time": "2024-10-21T20:28:57.058Z"
   },
   {
    "duration": 62,
    "start_time": "2024-10-21T20:28:57.065Z"
   },
   {
    "duration": 7,
    "start_time": "2024-10-21T20:28:57.129Z"
   },
   {
    "duration": 70,
    "start_time": "2024-10-21T20:28:57.137Z"
   },
   {
    "duration": 4,
    "start_time": "2024-10-21T20:28:57.209Z"
   },
   {
    "duration": 5,
    "start_time": "2024-10-21T20:28:57.215Z"
   },
   {
    "duration": 3,
    "start_time": "2024-10-21T20:28:57.221Z"
   },
   {
    "duration": 92,
    "start_time": "2024-10-21T20:28:57.225Z"
   },
   {
    "duration": 2,
    "start_time": "2024-10-21T20:28:57.320Z"
   },
   {
    "duration": 117,
    "start_time": "2024-10-21T20:28:57.323Z"
   },
   {
    "duration": 15,
    "start_time": "2024-10-21T20:28:57.442Z"
   },
   {
    "duration": 6,
    "start_time": "2024-10-21T20:28:57.458Z"
   },
   {
    "duration": 4,
    "start_time": "2024-10-21T20:28:57.465Z"
   },
   {
    "duration": 44,
    "start_time": "2024-10-21T20:28:57.470Z"
   },
   {
    "duration": 23,
    "start_time": "2024-10-21T20:28:57.516Z"
   },
   {
    "duration": 8,
    "start_time": "2024-10-21T20:28:57.541Z"
   },
   {
    "duration": 2,
    "start_time": "2024-10-21T20:28:57.551Z"
   },
   {
    "duration": 11,
    "start_time": "2024-10-21T20:28:57.555Z"
   },
   {
    "duration": 81,
    "start_time": "2024-10-21T20:28:57.567Z"
   },
   {
    "duration": 8,
    "start_time": "2024-10-21T20:28:57.650Z"
   },
   {
    "duration": 5,
    "start_time": "2024-10-21T20:28:57.660Z"
   },
   {
    "duration": 78,
    "start_time": "2024-10-21T20:28:57.667Z"
   },
   {
    "duration": 6,
    "start_time": "2024-10-21T20:28:57.746Z"
   },
   {
    "duration": 8,
    "start_time": "2024-10-21T20:28:57.754Z"
   },
   {
    "duration": 9,
    "start_time": "2024-10-21T20:28:57.763Z"
   },
   {
    "duration": 31,
    "start_time": "2024-10-21T20:28:57.774Z"
   },
   {
    "duration": 4,
    "start_time": "2024-10-21T20:28:57.807Z"
   },
   {
    "duration": 10,
    "start_time": "2024-10-21T20:28:57.813Z"
   },
   {
    "duration": 56,
    "start_time": "2024-10-21T20:28:57.824Z"
   },
   {
    "duration": 63,
    "start_time": "2024-10-21T20:28:57.882Z"
   },
   {
    "duration": 62,
    "start_time": "2024-10-21T20:28:57.946Z"
   },
   {
    "duration": 95,
    "start_time": "2024-10-21T20:28:58.010Z"
   },
   {
    "duration": 37,
    "start_time": "2024-10-21T20:28:58.107Z"
   },
   {
    "duration": 39,
    "start_time": "2024-10-21T20:28:58.145Z"
   },
   {
    "duration": 23,
    "start_time": "2024-10-21T20:28:58.186Z"
   },
   {
    "duration": 11,
    "start_time": "2024-10-21T20:28:58.211Z"
   },
   {
    "duration": 38,
    "start_time": "2024-10-21T20:28:58.223Z"
   },
   {
    "duration": 10,
    "start_time": "2024-10-21T20:28:58.262Z"
   },
   {
    "duration": 36,
    "start_time": "2024-10-21T20:28:58.273Z"
   },
   {
    "duration": 39,
    "start_time": "2024-10-21T20:28:58.310Z"
   },
   {
    "duration": 72,
    "start_time": "2024-10-21T20:28:58.354Z"
   },
   {
    "duration": 10,
    "start_time": "2024-10-21T20:28:58.428Z"
   },
   {
    "duration": 7,
    "start_time": "2024-10-21T20:28:58.439Z"
   },
   {
    "duration": 902,
    "start_time": "2024-10-24T23:44:01.432Z"
   },
   {
    "duration": 132,
    "start_time": "2024-10-24T23:44:02.336Z"
   },
   {
    "duration": 9,
    "start_time": "2024-10-24T23:44:02.469Z"
   },
   {
    "duration": 15,
    "start_time": "2024-10-24T23:44:02.480Z"
   },
   {
    "duration": 12,
    "start_time": "2024-10-24T23:44:02.497Z"
   },
   {
    "duration": 5,
    "start_time": "2024-10-24T23:44:02.511Z"
   },
   {
    "duration": 11,
    "start_time": "2024-10-24T23:44:02.518Z"
   },
   {
    "duration": 43,
    "start_time": "2024-10-24T23:44:02.530Z"
   },
   {
    "duration": 71,
    "start_time": "2024-10-24T23:44:02.575Z"
   },
   {
    "duration": 16,
    "start_time": "2024-10-24T23:44:02.649Z"
   },
   {
    "duration": 5,
    "start_time": "2024-10-24T23:44:02.666Z"
   },
   {
    "duration": 249,
    "start_time": "2024-10-24T23:44:02.672Z"
   },
   {
    "duration": 7,
    "start_time": "2024-10-24T23:44:02.922Z"
   },
   {
    "duration": 78,
    "start_time": "2024-10-24T23:44:02.931Z"
   },
   {
    "duration": 15,
    "start_time": "2024-10-24T23:44:03.010Z"
   },
   {
    "duration": 34,
    "start_time": "2024-10-24T23:44:03.026Z"
   },
   {
    "duration": 2,
    "start_time": "2024-10-24T23:44:03.062Z"
   },
   {
    "duration": 2,
    "start_time": "2024-10-24T23:44:03.066Z"
   },
   {
    "duration": 96,
    "start_time": "2024-10-24T23:44:03.070Z"
   },
   {
    "duration": 27,
    "start_time": "2024-10-24T23:44:03.168Z"
   },
   {
    "duration": 60,
    "start_time": "2024-10-24T23:44:03.197Z"
   },
   {
    "duration": 3,
    "start_time": "2024-10-24T23:44:03.259Z"
   },
   {
    "duration": 2,
    "start_time": "2024-10-24T23:44:03.263Z"
   },
   {
    "duration": 51,
    "start_time": "2024-10-24T23:44:03.267Z"
   },
   {
    "duration": 30,
    "start_time": "2024-10-24T23:44:03.319Z"
   },
   {
    "duration": 394,
    "start_time": "2024-10-24T23:44:03.351Z"
   },
   {
    "duration": 5,
    "start_time": "2024-10-24T23:44:03.747Z"
   },
   {
    "duration": 5,
    "start_time": "2024-10-24T23:44:03.757Z"
   },
   {
    "duration": 4446,
    "start_time": "2024-10-24T23:44:03.763Z"
   },
   {
    "duration": 4,
    "start_time": "2024-10-24T23:44:08.211Z"
   },
   {
    "duration": 33,
    "start_time": "2024-10-24T23:44:08.217Z"
   },
   {
    "duration": 59,
    "start_time": "2024-10-24T23:44:08.252Z"
   },
   {
    "duration": 12,
    "start_time": "2024-10-24T23:44:08.313Z"
   },
   {
    "duration": 4,
    "start_time": "2024-10-24T23:44:08.327Z"
   },
   {
    "duration": 4,
    "start_time": "2024-10-24T23:44:08.333Z"
   },
   {
    "duration": 3,
    "start_time": "2024-10-24T23:44:08.339Z"
   },
   {
    "duration": 87,
    "start_time": "2024-10-24T23:44:08.343Z"
   },
   {
    "duration": 2,
    "start_time": "2024-10-24T23:44:08.432Z"
   },
   {
    "duration": 128,
    "start_time": "2024-10-24T23:44:08.436Z"
   },
   {
    "duration": 48,
    "start_time": "2024-10-24T23:44:08.567Z"
   },
   {
    "duration": 8,
    "start_time": "2024-10-24T23:44:08.617Z"
   },
   {
    "duration": 4,
    "start_time": "2024-10-24T23:44:08.627Z"
   },
   {
    "duration": 24,
    "start_time": "2024-10-24T23:44:08.633Z"
   },
   {
    "duration": 52,
    "start_time": "2024-10-24T23:44:08.658Z"
   },
   {
    "duration": 9,
    "start_time": "2024-10-24T23:44:08.712Z"
   },
   {
    "duration": 3,
    "start_time": "2024-10-24T23:44:08.722Z"
   },
   {
    "duration": 14,
    "start_time": "2024-10-24T23:44:08.726Z"
   },
   {
    "duration": 80,
    "start_time": "2024-10-24T23:44:08.742Z"
   },
   {
    "duration": 7,
    "start_time": "2024-10-24T23:44:08.824Z"
   },
   {
    "duration": 6,
    "start_time": "2024-10-24T23:44:08.833Z"
   },
   {
    "duration": 84,
    "start_time": "2024-10-24T23:44:08.840Z"
   },
   {
    "duration": 7,
    "start_time": "2024-10-24T23:44:08.926Z"
   },
   {
    "duration": 8,
    "start_time": "2024-10-24T23:44:08.934Z"
   },
   {
    "duration": 10,
    "start_time": "2024-10-24T23:44:08.944Z"
   },
   {
    "duration": 9,
    "start_time": "2024-10-24T23:44:08.956Z"
   },
   {
    "duration": 4,
    "start_time": "2024-10-24T23:44:08.968Z"
   },
   {
    "duration": 38,
    "start_time": "2024-10-24T23:44:08.973Z"
   },
   {
    "duration": 57,
    "start_time": "2024-10-24T23:44:09.013Z"
   },
   {
    "duration": 73,
    "start_time": "2024-10-24T23:44:09.072Z"
   },
   {
    "duration": 68,
    "start_time": "2024-10-24T23:44:09.147Z"
   },
   {
    "duration": 105,
    "start_time": "2024-10-24T23:44:09.217Z"
   },
   {
    "duration": 44,
    "start_time": "2024-10-24T23:44:09.324Z"
   },
   {
    "duration": 52,
    "start_time": "2024-10-24T23:44:09.370Z"
   },
   {
    "duration": 7,
    "start_time": "2024-10-24T23:44:09.423Z"
   },
   {
    "duration": 10,
    "start_time": "2024-10-24T23:44:09.432Z"
   },
   {
    "duration": 40,
    "start_time": "2024-10-24T23:44:09.444Z"
   },
   {
    "duration": 30,
    "start_time": "2024-10-24T23:44:09.486Z"
   },
   {
    "duration": 9,
    "start_time": "2024-10-24T23:44:09.518Z"
   },
   {
    "duration": 38,
    "start_time": "2024-10-24T23:44:09.528Z"
   },
   {
    "duration": 86,
    "start_time": "2024-10-24T23:44:09.568Z"
   },
   {
    "duration": 10,
    "start_time": "2024-10-24T23:44:09.655Z"
   },
   {
    "duration": 4,
    "start_time": "2024-10-24T23:44:09.667Z"
   }
  ],
  "kernelspec": {
   "display_name": "Python 3",
   "language": "python",
   "name": "python3"
  },
  "language_info": {
   "codemirror_mode": {
    "name": "ipython",
    "version": 3
   },
   "file_extension": ".py",
   "mimetype": "text/x-python",
   "name": "python",
   "nbconvert_exporter": "python",
   "pygments_lexer": "ipython3",
   "version": "3.12.2"
  },
  "toc": {
   "base_numbering": "",
   "nav_menu": {},
   "number_sections": false,
   "sideBar": true,
   "skip_h1_title": false,
   "title_cell": "Table of Contents",
   "title_sidebar": "Contents",
   "toc_cell": true,
   "toc_position": {
    "height": "calc(100% - 180px)",
    "left": "10px",
    "top": "150px",
    "width": "450.969px"
   },
   "toc_section_display": true,
   "toc_window_display": true
  }
 },
 "nbformat": 4,
 "nbformat_minor": 2
}
